{
 "cells": [
  {
   "cell_type": "code",
   "execution_count": null,
   "metadata": {},
   "outputs": [],
   "source": [
    "from gensim.models import KeyedVectors\n",
    "\n",
    "# Load pretrained model (since intermediate data is not included, the model cannot be refined with additional data)\n",
    "model = KeyedVectors.load_word2vec_format('../GoogleNews-vectors-negative300.bin', binary=True)"
   ]
  },
  {
   "cell_type": "code",
   "execution_count": null,
   "metadata": {
    "scrolled": true
   },
   "outputs": [],
   "source": [
    "dog = model['dog']\n",
    "print(dog.shape)\n",
    "print(dog)"
   ]
  },
  {
   "cell_type": "code",
   "execution_count": null,
   "metadata": {},
   "outputs": [],
   "source": [
    "import pickle\n",
    "\n",
    "def load_term(id_file):\n",
    "    pickle_in = open(\"Term/\"+ str(id_file) +\".pickle\", \"rb\")\n",
    "    return pickle.load(pickle_in)\n",
    "\n",
    "def save(name, model):\n",
    "    pickle_out = open(\"elmo_category/w2v/\" + name + \".pickle\",\"wb\")\n",
    "    pickle.dump(model, pickle_out)\n",
    "    pickle_out.close()\n",
    "\n",
    "def create_model(name):\n",
    "    xmodel = []\n",
    "    daftar = load_term(name)\n",
    "    for d in daftar:\n",
    "        xmodel.append(model[d])\n",
    "    return xmodel"
   ]
  },
  {
   "cell_type": "code",
   "execution_count": null,
   "metadata": {},
   "outputs": [],
   "source": [
    "save('food', create_model('food'))\n",
    "save('ambience', create_model('ambience'))\n",
    "save('price', create_model('price'))\n",
    "save('service', create_model('service'))"
   ]
  },
  {
   "cell_type": "code",
   "execution_count": null,
   "metadata": {},
   "outputs": [],
   "source": []
  }
 ],
 "metadata": {
  "kernelspec": {
   "display_name": "Python 3",
   "language": "python",
   "name": "python3"
  },
  "language_info": {
   "codemirror_mode": {
    "name": "ipython",
    "version": 3
   },
   "file_extension": ".py",
   "mimetype": "text/x-python",
   "name": "python",
   "nbconvert_exporter": "python",
   "pygments_lexer": "ipython3",
   "version": "3.6.4"
  }
 },
 "nbformat": 4,
 "nbformat_minor": 2
}
