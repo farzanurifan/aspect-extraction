{
 "cells": [
  {
   "cell_type": "code",
   "execution_count": 6,
   "metadata": {},
   "outputs": [],
   "source": [
    "import os\n",
    "os.environ[\"CORENLP_HOME\"] = r'C:\\stanford-corenlp-full-2018-10-05'\n",
    "\n",
    "import corenlp \n",
    "client = corenlp.CoreNLPClient()\n",
    "\n",
    "def get_nouns(sentence, chunk = False):\n",
    "    text = sentence.lower()\n",
    "    res = []\n",
    "    try:\n",
    "        pattern = '[{pos:NN}] | [{pos:NNS}] | [{pos:NNP}]'\n",
    "        matches = client.tokensregex(sentence, pattern)\n",
    "        response = matches['sentences'][0]\n",
    "        len_chunk = response['length']\n",
    "        if len_chunk > 0:\n",
    "            for index in range(0, len_chunk):\n",
    "                res.append(response[str(index)]['text'])\n",
    "    except:\n",
    "        print('err : ', sentence)\n",
    "        res = []\n",
    "    return res\n",
    "\n",
    "def get_adverbs(sentence, chunk = False):\n",
    "    text = sentence.lower()\n",
    "    res = []\n",
    "    try:\n",
    "        pattern = '[{pos:RB}]'\n",
    "        matches = client.tokensregex(sentence, pattern)\n",
    "        response = matches['sentences'][0]\n",
    "        len_chunk = response['length']\n",
    "        if len_chunk > 0:\n",
    "            for index in range(0, len_chunk):\n",
    "                res.append(response[str(index)]['text'])\n",
    "    except:\n",
    "        print('err')\n",
    "        res = []\n",
    "    return res"
   ]
  },
  {
   "cell_type": "code",
   "execution_count": 5,
   "metadata": {},
   "outputs": [],
   "source": [
    "import pandas as pd\n",
    "from tqdm import tqdm_notebook\n",
    "\n",
    "def run(tipe):\n",
    "    df = pd.read_csv(\"Results/Aspect Terms Extraction/\"+ tipe +\".csv\")\n",
    "    sf = pd.DataFrame(columns = ['id','review','category','term'])\n",
    "    count = 0\n",
    "    for index in tqdm_notebook(range(len(df))):\n",
    "        adverbs = []#get_adverbs(df['review'][index])\n",
    "        new_term = []\n",
    "        if type(df['term'][index]) != float:\n",
    "            terms = df['term'][index].split('|')\n",
    "            for term in terms:\n",
    "                if term not in adverbs:\n",
    "                    new_term.append(term)\n",
    "        \n",
    "#         for nn in get_nouns(df['review'][index]):\n",
    "#             new_term.append(nn)\n",
    "        if len(new_term) == 0:\n",
    "            new_term = '|'.join(get_nouns(df['review'][index]))\n",
    "            count += 1\n",
    "        \n",
    "        sf = sf.append({'id': df['id'][index], \n",
    "                    'review': df['review'][index],\n",
    "                    'category': df['category'][index],\n",
    "                    'term': '|'.join(new_term)\n",
    "                   }, ignore_index=True)\n",
    "    print(count)\n",
    "\n",
    "    sf.to_csv(\"Results/add_noun/\"+ tipe +\"-partial.csv\")\n",
    "    sf.to_excel(\"Results/add_noun/\"+ tipe +\"-partial.xlsx\")"
   ]
  },
  {
   "cell_type": "code",
   "execution_count": 6,
   "metadata": {},
   "outputs": [
    {
     "data": {
      "application/vnd.jupyter.widget-view+json": {
       "model_id": "10919a321338462eacf9cc4ee9a0e669",
       "version_major": 2,
       "version_minor": 0
      },
      "text/html": [
       "<p>Failed to display Jupyter Widget of type <code>HBox</code>.</p>\n",
       "<p>\n",
       "  If you're reading this message in the Jupyter Notebook or JupyterLab Notebook, it may mean\n",
       "  that the widgets JavaScript is still loading. If this message persists, it\n",
       "  likely means that the widgets JavaScript library is either not installed or\n",
       "  not enabled. See the <a href=\"https://ipywidgets.readthedocs.io/en/stable/user_install.html\">Jupyter\n",
       "  Widgets Documentation</a> for setup instructions.\n",
       "</p>\n",
       "<p>\n",
       "  If you're reading this message in another frontend (for example, a static\n",
       "  rendering on GitHub or <a href=\"https://nbviewer.jupyter.org/\">NBViewer</a>),\n",
       "  it may mean that your frontend doesn't currently support widgets.\n",
       "</p>\n"
      ],
      "text/plain": [
       "HBox(children=(IntProgress(value=0, max=699), HTML(value='')))"
      ]
     },
     "metadata": {},
     "output_type": "display_data"
    },
    {
     "name": "stdout",
     "output_type": "stream",
     "text": [
      "err\n",
      "err\n",
      "\n",
      "191\n"
     ]
    }
   ],
   "source": [
    "run(\"20\")"
   ]
  },
  {
   "cell_type": "code",
   "execution_count": null,
   "metadata": {},
   "outputs": [],
   "source": []
  },
  {
   "cell_type": "code",
   "execution_count": null,
   "metadata": {},
   "outputs": [],
   "source": []
  },
  {
   "cell_type": "code",
   "execution_count": null,
   "metadata": {},
   "outputs": [],
   "source": []
  },
  {
   "cell_type": "code",
   "execution_count": 4,
   "metadata": {},
   "outputs": [],
   "source": [
    "import pandas as pd\n",
    "from tqdm import tqdm_notebook\n",
    "\n",
    "def chunk(filename):\n",
    "    df = pd.read_csv(filename)\n",
    "    sf = pd.DataFrame(columns = ['id','review', 'target', 'category','term'])\n",
    "    for index in tqdm_notebook(range(len(df))):\n",
    "        new_term = []\n",
    "        nouns = get_nouns(df['review'][index])\n",
    "        for noun in nouns:\n",
    "            if len(noun) > 3 and 'thing' not in noun:\n",
    "                new_term.append(noun)\n",
    "        sf = sf.append({'id': df['sentenceID'][index], \n",
    "                    'target': df['target'][index],\n",
    "                    'review': df['review'][index],\n",
    "                    'category': df['category'][index],\n",
    "                    'term': '|'.join(new_term)\n",
    "                   }, ignore_index=True)\n",
    "\n",
    "    sf.to_csv(\"Results/Aspect Terms Extraction/16_nan.csv\")\n",
    "    sf.to_excel(\"Results/Aspect Terms Extraction/16_nan.xlsx\")"
   ]
  },
  {
   "cell_type": "code",
   "execution_count": 7,
   "metadata": {},
   "outputs": [
    {
     "data": {
      "application/vnd.jupyter.widget-view+json": {
       "model_id": "bfa7a2e74ae74bddb495a1fba1e7a80e",
       "version_major": 2,
       "version_minor": 0
      },
      "text/html": [
       "<p>Failed to display Jupyter Widget of type <code>HBox</code>.</p>\n",
       "<p>\n",
       "  If you're reading this message in the Jupyter Notebook or JupyterLab Notebook, it may mean\n",
       "  that the widgets JavaScript is still loading. If this message persists, it\n",
       "  likely means that the widgets JavaScript library is either not installed or\n",
       "  not enabled. See the <a href=\"https://ipywidgets.readthedocs.io/en/stable/user_install.html\">Jupyter\n",
       "  Widgets Documentation</a> for setup instructions.\n",
       "</p>\n",
       "<p>\n",
       "  If you're reading this message in another frontend (for example, a static\n",
       "  rendering on GitHub or <a href=\"https://nbviewer.jupyter.org/\">NBViewer</a>),\n",
       "  it may mean that your frontend doesn't currently support widgets.\n",
       "</p>\n"
      ],
      "text/plain": [
       "HBox(children=(IntProgress(value=0, max=1104), HTML(value='')))"
      ]
     },
     "metadata": {},
     "output_type": "display_data"
    },
    {
     "name": "stdout",
     "output_type": "stream",
     "text": [
      "err :  Not because you are \"The Four Seasons\"... – you are allowed to charge an arm and a leg for a romatic dinner.\n",
      "err :  Gross food – Wow-\n",
      "err :  short and sweet – seating is great:it's romantic,cozy and private.\n",
      "err :  i love margherita pizza – i looove east village pizza\n",
      "err :  This is undoubtedly my favorite modern Japanese brasserie (that don’t serve sushi), and in my opinion, one of the most romantic restaurants in the city!\n",
      "err :  Not only is it an adventure getting to this somewhat hidden spot, once you enter the unmarked wooden doors, the zen and intimate décor will make you feel like you’re no longer in the city.\n",
      "err :  If you’re planning to come here, make sure that your date is someone whom you really like since you’ll be ushered to private booths where there will be no people or food watching (choose the ones on the ground level that have glass ceilings so you may see the stars in the sky!).\n",
      "err :  It’s just you and your date and an occasional cute ‘excuse me’ before the waiter opens the little curtain to your booth!\n",
      "err :  The sake’s complimented the courses very well and is successfully easing me into the sake world.\n",
      "err :  Maybe it was the great company (I had friends visiting from Philly – yes, it was not a date this time) or the super reasonable price point, but I just can’t say enough good things about this brasserie.\n",
      "err :  I don’t usually visit the same establishment more than once, what more twice, but I’ll come to Zenkichi anytime for a quiet, unhurried and memorable dinner.\n",
      "err :  Fabulous food - if the front of house staff don't put you off – \n",
      "err :  Can’t believe how an expensive NYC restaurant can be so disrespectful to its clients.\n"
     ]
    }
   ],
   "source": [
    "chunk('dataset/res16_filter_nan.csv')"
   ]
  },
  {
   "cell_type": "code",
   "execution_count": null,
   "metadata": {},
   "outputs": [],
   "source": []
  }
 ],
 "metadata": {
  "kernelspec": {
   "display_name": "Python 3",
   "language": "python",
   "name": "python3"
  },
  "language_info": {
   "codemirror_mode": {
    "name": "ipython",
    "version": 3
   },
   "file_extension": ".py",
   "mimetype": "text/x-python",
   "name": "python",
   "nbconvert_exporter": "python",
   "pygments_lexer": "ipython3",
   "version": "3.6.4"
  }
 },
 "nbformat": 4,
 "nbformat_minor": 2
}
