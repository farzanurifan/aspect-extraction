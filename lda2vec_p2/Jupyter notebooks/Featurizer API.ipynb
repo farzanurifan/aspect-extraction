{
 "cells": [
  {
   "cell_type": "code",
   "execution_count": 1,
   "metadata": {
    "collapsed": true
   },
   "outputs": [],
   "source": [
    "\n",
    "\n",
    "from featurize import Lda2VecFeaturizer\n"
   ]
  },
  {
   "cell_type": "markdown",
   "metadata": {},
   "source": [
    "### Train docs"
   ]
  },
  {
   "cell_type": "code",
   "execution_count": 3,
   "metadata": {
    "collapsed": true
   },
   "outputs": [],
   "source": [
    "txt1 = unicode(\"cat dog animal pet lion tiger zebra monkey donkey cow buffalo pig goat sheep elephant fox horse bear \")\n",
    "txt2 = unicode(\"computer mobile electronics chip graphic display memory cpu desktop science technology silicon google\")\n",
    "txt3 = unicode(\"world president politics minister poverty trade business election vote republic bill petition\")\n",
    "\n",
    "\n",
    "docs = [txt1,txt2,txt3]"
   ]
  },
  {
   "cell_type": "markdown",
   "metadata": {},
   "source": [
    "## Create model"
   ]
  },
  {
   "cell_type": "code",
   "execution_count": 4,
   "metadata": {
    "collapsed": true
   },
   "outputs": [],
   "source": [
    "model = Lda2VecFeaturizer(word2vec_path=\"../lda2vec-tf/GoogleNews-vectors-negative300.bin\", n_topics=3)"
   ]
  },
  {
   "cell_type": "markdown",
   "metadata": {},
   "source": [
    "## Train"
   ]
  },
  {
   "cell_type": "code",
   "execution_count": 5,
   "metadata": {},
   "outputs": [
    {
     "name": "stdout",
     "output_type": "stream",
     "text": [
      "0 <SKIP>  -->  SKIP\n",
      "epoch :  0\n",
      "Top words in topic 0 graphic donkey desktop cpu electronics trade mobile cat election bill\n",
      "Top words in topic 1 vote minister election cat politics pet fox pig animal horse\n",
      "Top words in topic 2 poverty <SKIP> bill bear electronics minister display monkey politics pig\n",
      "J:00001 E:00000 L:6.365e+02 P:-7.298e+00 R:2.383e+04\n",
      "\n",
      " ================================= \n",
      "\n",
      "epoch :  1\n",
      "Top words in topic 0 graphic electronics mobile trade bill desktop donkey election minister display\n",
      "Top words in topic 1 vote minister election politics poverty world republic trade pet science\n",
      "Top words in topic 2 poverty <SKIP> bill electronics bear minister politics out_of_vocabulary display president\n",
      "J:00002 E:00001 L:5.526e+02 P:-7.300e+00 R:7.608e+04\n",
      "\n",
      " ================================= \n",
      "\n",
      "epoch :  2\n",
      "Top words in topic 0 graphic mobile bill electronics trade out_of_vocabulary display minister election desktop\n",
      "Top words in topic 1 vote minister election poverty politics out_of_vocabulary world trade science business\n",
      "Top words in topic 2 poverty <SKIP> bill electronics out_of_vocabulary president minister display politics bear\n",
      "J:00003 E:00002 L:5.668e+02 P:-7.303e+00 R:7.277e+04\n",
      "\n",
      " ================================= \n",
      "\n",
      "epoch :  3\n",
      "Top words in topic 0 graphic out_of_vocabulary bill mobile electronics trade display minister petition <SKIP>\n",
      "Top words in topic 1 minister vote out_of_vocabulary poverty world politics election trade science president\n",
      "Top words in topic 2 poverty <SKIP> bill out_of_vocabulary president electronics minister display politics trade\n",
      "J:00004 E:00003 L:6.030e+02 P:-7.305e+00 R:1.033e+05\n",
      "\n",
      " ================================= \n",
      "\n",
      "epoch :  4\n",
      "Top words in topic 0 out_of_vocabulary graphic bill mobile minister display trade electronics petition <SKIP>\n",
      "Top words in topic 1 out_of_vocabulary minister vote world poverty president science politics trade election\n",
      "Top words in topic 2 <SKIP> poverty out_of_vocabulary president bill minister electronics display trade politics\n",
      "J:00005 E:00004 L:5.898e+02 P:-7.307e+00 R:1.010e+05\n",
      "\n",
      " ================================= \n",
      "\n"
     ]
    }
   ],
   "source": [
    "dat, msgs = model.train(docs, epochs=5)"
   ]
  },
  {
   "cell_type": "markdown",
   "metadata": {},
   "source": [
    "# Test"
   ]
  },
  {
   "cell_type": "code",
   "execution_count": 6,
   "metadata": {},
   "outputs": [
    {
     "name": "stdout",
     "output_type": "stream",
     "text": [
      "0 <SKIP>  -->  SKIP\n",
      "epoch :  0\n",
      "Top words in topic 0 out_of_vocabulary this is <SKIP> that electronics bad good business money\n",
      "Top words in topic 1 out_of_vocabulary bad good this that science business is <SKIP> money\n",
      "Top words in topic 2 <SKIP> out_of_vocabulary this is that electronics good science bad money\n",
      "J:00001 E:00000 L:1.884e+01 P:-4.567e+00 R:1.941e+04\n",
      "\n",
      " ================================= \n",
      "\n",
      "epoch :  1\n",
      "Top words in topic 0 out_of_vocabulary this is <SKIP> that electronics bad good business money\n",
      "Top words in topic 1 out_of_vocabulary bad good this that science business is <SKIP> money\n",
      "Top words in topic 2 <SKIP> out_of_vocabulary this is that electronics good science bad money\n",
      "J:00002 E:00001 L:1.489e+01 P:-4.568e+00 R:1.153e+05\n",
      "\n",
      " ================================= \n",
      "\n",
      "epoch :  2\n",
      "Top words in topic 0 out_of_vocabulary this is <SKIP> that electronics bad good business money\n",
      "Top words in topic 1 out_of_vocabulary bad good this that science business is <SKIP> money\n",
      "Top words in topic 2 <SKIP> out_of_vocabulary this is that electronics good science bad money\n",
      "J:00003 E:00002 L:2.349e+01 P:-4.569e+00 R:1.013e+05\n",
      "\n",
      " ================================= \n",
      "\n",
      "epoch :  3\n",
      "Top words in topic 0 out_of_vocabulary this is <SKIP> that electronics bad good business money\n",
      "Top words in topic 1 out_of_vocabulary bad good this that science business is <SKIP> money\n",
      "Top words in topic 2 <SKIP> out_of_vocabulary this is that electronics good science bad money\n",
      "J:00004 E:00003 L:1.612e+01 P:-4.570e+00 R:1.481e+05\n",
      "\n",
      " ================================= \n",
      "\n",
      "epoch :  4\n",
      "Top words in topic 0 out_of_vocabulary this is <SKIP> that electronics bad good business money\n",
      "Top words in topic 1 out_of_vocabulary bad good this that science business is <SKIP> money\n",
      "Top words in topic 2 <SKIP> out_of_vocabulary this is that electronics good science bad money\n",
      "J:00005 E:00004 L:2.469e+01 P:-4.570e+00 R:9.259e+04\n",
      "\n",
      " ================================= \n",
      "\n"
     ]
    }
   ],
   "source": [
    "test = [unicode(\"science iphone electronics this and that is good\"),unicode(\"politician money business bad is this and that\")]\n",
    "\n",
    "d,m = model.infer(test, epochs=5)"
   ]
  }
 ],
 "metadata": {
  "anaconda-cloud": {},
  "kernelspec": {
   "display_name": "Python [conda env:dsci6007]",
   "language": "python",
   "name": "conda-env-dsci6007-py"
  },
  "language_info": {
   "codemirror_mode": {
    "name": "ipython",
    "version": 2
   },
   "file_extension": ".py",
   "mimetype": "text/x-python",
   "name": "python",
   "nbconvert_exporter": "python",
   "pygments_lexer": "ipython2",
   "version": "2.7.12"
  }
 },
 "nbformat": 4,
 "nbformat_minor": 2
}
