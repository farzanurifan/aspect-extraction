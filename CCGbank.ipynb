{
 "cells": [
  {
   "cell_type": "code",
   "execution_count": 1,
   "metadata": {},
   "outputs": [],
   "source": [
    " from nltk.ccg import chart, lexicon\n"
   ]
  },
  {
   "cell_type": "code",
   "execution_count": 2,
   "metadata": {},
   "outputs": [
    {
     "name": "stderr",
     "output_type": "stream",
     "text": [
      "/usr/local/lib/python3.7/site-packages/ipykernel_launcher.py:50: DeprecationWarning: \n",
      "  Function parseLexicon() has been deprecated.  Use fromstring()\n",
      "  instead.\n"
     ]
    }
   ],
   "source": [
    "lex = lexicon.parseLexicon('''\n",
    "...     :- S, NP, N, VP\n",
    "...\n",
    "...     Det :: NP/N\n",
    "...     Pro :: NP\n",
    "...     Modal :: S\\\\NP/VP\n",
    "...\n",
    "...     TV :: VP/NP\n",
    "...     DTV :: TV/NP\n",
    "...\n",
    "...     the => Det\n",
    "...\n",
    "...     that => Det\n",
    "...     that => NP\n",
    "...\n",
    "...     I => Pro\n",
    "...     you => Pro\n",
    "...     we => Pro\n",
    "...\n",
    "...     chef => N\n",
    "...     cake => N\n",
    "...     children => N\n",
    "...     dough => N\n",
    "...\n",
    "...     will => Modal\n",
    "...     should => Modal\n",
    "...     might => Modal\n",
    "...     must => Modal\n",
    "...\n",
    "...     and => var\\\\.,var/.,var\n",
    "...\n",
    "...     to => VP[to]/VP\n",
    "...\n",
    "...     without => (VP\\\\VP)/VP[ing]\n",
    "...\n",
    "...     be => TV\n",
    "...     cook => TV\n",
    "...     eat => TV\n",
    "...\n",
    "...     cooking => VP[ing]/NP\n",
    "...\n",
    "...     give => DTV\n",
    "...\n",
    "...     is => (S\\\\NP)/NP\n",
    "...     prefer => (S\\\\NP)/NP\n",
    "...\n",
    "...     which => (N\\\\N)/(S/NP)\n",
    "...\n",
    "...     persuade => (VP/VP[to])/NP\n",
    "...     ''')"
   ]
  },
  {
   "cell_type": "code",
   "execution_count": 3,
   "metadata": {},
   "outputs": [],
   "source": [
    "parser = chart.CCGChartParser(lex, chart.DefaultRuleSet)"
   ]
  },
  {
   "cell_type": "code",
   "execution_count": 5,
   "metadata": {},
   "outputs": [
    {
     "name": "stdout",
     "output_type": "stream",
     "text": [
      " you    prefer      that   cake\n",
      " NP   ((S\\NP)/NP)  (NP/N)   N\n",
      "                  -------------->\n",
      "                        NP\n",
      "     --------------------------->\n",
      "               (S\\NP)\n",
      "--------------------------------<\n",
      "               S\n",
      " you    prefer      that   cake\n",
      " NP   ((S\\NP)/NP)  (NP/N)   N\n",
      "     --------------------->B\n",
      "          ((S\\NP)/N)\n",
      "     --------------------------->\n",
      "               (S\\NP)\n",
      "--------------------------------<\n",
      "               S\n",
      " you    prefer      that   cake\n",
      " NP   ((S\\NP)/NP)  (NP/N)   N\n",
      "----->T\n",
      "(S/(S\\NP))\n",
      "                  -------------->\n",
      "                        NP\n",
      "     --------------------------->\n",
      "               (S\\NP)\n",
      "-------------------------------->\n",
      "               S\n",
      " you    prefer      that   cake\n",
      " NP   ((S\\NP)/NP)  (NP/N)   N\n",
      "----->T\n",
      "(S/(S\\NP))\n",
      "     --------------------->B\n",
      "          ((S\\NP)/N)\n",
      "     --------------------------->\n",
      "               (S\\NP)\n",
      "-------------------------------->\n",
      "               S\n",
      " you    prefer      that   cake\n",
      " NP   ((S\\NP)/NP)  (NP/N)   N\n",
      "----->T\n",
      "(S/(S\\NP))\n",
      "------------------>B\n",
      "      (S/NP)\n",
      "                  -------------->\n",
      "                        NP\n",
      "-------------------------------->\n",
      "               S\n",
      " you    prefer      that   cake\n",
      " NP   ((S\\NP)/NP)  (NP/N)   N\n",
      "----->T\n",
      "(S/(S\\NP))\n",
      "     --------------------->B\n",
      "          ((S\\NP)/N)\n",
      "-------------------------->B\n",
      "          (S/N)\n",
      "-------------------------------->\n",
      "               S\n",
      " you    prefer      that   cake\n",
      " NP   ((S\\NP)/NP)  (NP/N)   N\n",
      "----->T\n",
      "(S/(S\\NP))\n",
      "------------------>B\n",
      "      (S/NP)\n",
      "-------------------------->B\n",
      "          (S/N)\n",
      "-------------------------------->\n",
      "               S\n"
     ]
    }
   ],
   "source": [
    "for parse in parser.parse(\"you prefer that cake\".split()):\n",
    "    chart.printCCGDerivation(parse)"
   ]
  },
  {
   "cell_type": "code",
   "execution_count": null,
   "metadata": {},
   "outputs": [],
   "source": []
  }
 ],
 "metadata": {
  "kernelspec": {
   "display_name": "Python 3",
   "language": "python",
   "name": "python3"
  },
  "language_info": {
   "codemirror_mode": {
    "name": "ipython",
    "version": 3
   },
   "file_extension": ".py",
   "mimetype": "text/x-python",
   "name": "python",
   "nbconvert_exporter": "python",
   "pygments_lexer": "ipython3",
   "version": "3.6.4"
  }
 },
 "nbformat": 4,
 "nbformat_minor": 2
}
