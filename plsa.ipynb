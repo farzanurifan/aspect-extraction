{
 "cells": [
  {
   "cell_type": "code",
   "execution_count": 15,
   "metadata": {
    "scrolled": true
   },
   "outputs": [],
   "source": [
    "f = open('plsa-master/topics.txt')\n",
    "topics = []\n",
    "for words in f:\n",
    "#     print(words.split(' '))\n",
    "    for word in words.split(' '):\n",
    "#         print(word)\n",
    "        if word != '\\n':\n",
    "            topics.append(word)"
   ]
  },
  {
   "cell_type": "code",
   "execution_count": 16,
   "metadata": {},
   "outputs": [
    {
     "name": "stdout",
     "output_type": "stream",
     "text": [
      "['always', 'ambience', 'atmosphere', 'best', 'decor', 'delicious', 'dinner', 'even', 'excellent', 'food', 'fresh', 'friendly', 'good', 'great', 'like', 'make', 'meal', 'menu', 'nice', 'pizza', 'place', 'price', 'really', 'reasonable', 'restaurant', 'service', 'special', 'staff', 'sushi', 'though', 'time', 'wait', 'wine', 'worth', 'would']\n"
     ]
    }
   ],
   "source": [
    "all_topics = []\n",
    "for topic in topics:\n",
    "    all_topics.append(topic)\n",
    "print(sorted(list(dict.fromkeys(all_topics))))"
   ]
  },
  {
   "cell_type": "code",
   "execution_count": 19,
   "metadata": {},
   "outputs": [],
   "source": [
    "import pandas as pd\n",
    "\n",
    "df = pd.read_csv('dataset/res16_baru.csv')\n",
    "\n",
    "def aspect_topic(tipe, all_topics):\n",
    "    sf = pd.DataFrame(columns=['id','review','target', 'category','term','polarity'])\n",
    "    count = 0\n",
    "    index = 0\n",
    "    res = []\n",
    "    for sentence in df['review']:\n",
    "        lowercased = sentence.lower()\n",
    "        term = []\n",
    "        category = []\n",
    "        polarity = df['polarity'][index]\n",
    "        category = df['category'][index]\n",
    "        id_name = df['sentenceID'][index]\n",
    "        target = df['target'][index]\n",
    "        for topic in all_topics:\n",
    "            tokens = lowercased.split(' ')\n",
    "            for token in tokens:\n",
    "                if topic in token:\n",
    "                    term.append(topic)\n",
    "#         print(term)\n",
    "        if len(term) == 0:\n",
    "            print(lowercased)\n",
    "            count += 1\n",
    "        sf = sf.append({'id': id_name,\n",
    "                        'review': sentence.strip().lower().replace('  ', ' '),\n",
    "                        'target': target,\n",
    "                        'category': category,\n",
    "                        'term': '|'.join(term),\n",
    "                        'polarity': polarity}, ignore_index=True)\n",
    "        index += 1\n",
    "    print(count)\n",
    "    sf.to_csv(\"Results/Aspect Terms Extraction/\"+ tipe +\".csv\")\n",
    "    sf.to_excel(\"Results/Aspect Terms Extraction/\"+ tipe +\".xlsx\")"
   ]
  },
  {
   "cell_type": "code",
   "execution_count": 20,
   "metadata": {
    "scrolled": true
   },
   "outputs": [
    {
     "name": "stdout",
     "output_type": "stream",
     "text": [
      "ive asked a cart attendant for a lotus leaf wrapped rice and she replied back rice and just walked away.\n",
      "chow fun was dry; pork shu mai was more than usually greasy and had to share a table with loud and rude family. \n",
      "their sake list was extensive, but we were looking for purple haze, which wasn't listed but made for us upon request!\n",
      "ambiance- relaxed and stylish.\n",
      "if you've ever been along the river in weehawken you have an idea of the top of view the chart house has to offer.\n",
      "the lava cake dessert was incredible and i recommend it.\n",
      "once you step into cosette, you're miraculously in a small, off-the-beaten path parisian bistro.\n",
      "my wife had the fried shrimp which are huge and loved it.\n",
      "the hostess is rude to the point of being offensive.\n",
      "a large is $20, and toppings are about $3 each.\n",
      "located at the end of a magnificent block.\n",
      "get the tuna of gari.\n",
      "try the crunchy tuna, it is to die for.\n",
      "first went here to enjoy their garden terrace.\n",
      "took my mom for mother's day, and the maitre d' was pretty rude.\n",
      "he served me an uni hand roll, which i never had before, and let me tell you...it was heaven!\n",
      "the bagel was huge.\n",
      "the workers there also absolutely load the bagel with cream cheese (gets a little messy).\n",
      "the scallion pancakes and fried dumplings were nothing out of the ordinary.\n",
      "hats off to the chef.\n",
      "salads were fantastic.\n",
      "ingredients are organic which is a real plus for me.\n",
      "i started out with a bombay beer which was big enough for two.\n",
      "the filet mignon dish was superb!\n",
      "fish was overdone.\n",
      "someone else recommended the dessert - we also left that.\n",
      "their tuna tartar appetizer is to die for.\n",
      "delivery is fast too.\n",
      "zero ambiance to boot.\n",
      "check out the secret back room.\n",
      "the seats are uncomfortable if you are sitting against the wall on wooden benches.\n",
      "a gentleman, maybe the manager, came to our table, and without so much as a smile or greeting asked for our order.\n",
      "the back garden sitting area is very pleasant, where you can see their personal herb garden.\n",
      "i asked for an open faced cheese sandwich and the manager basically told me to take my business elsewhere!\n",
      "the location is perfect.\n",
      "the setting is casual and romantic.\n",
      "terrible, terrible management - deserves to be shut-down.\n",
      "still, any quibbles about the bill were off-set by the pour-your-own measures of liquers which were courtesey of the house...\n",
      "cozy romantic atomosphere with only around 15 tables at most.\n",
      "when you're sitting in their main dining room (which has a spectacular, hand-painted high ceiling) you'd never know there was a world outside.\n",
      "the jukebox plays everything from italian opera to the strokes.\n",
      "the drinks are amazing and half off till 8pm.\n",
      "toons has recently been redone, so it's now a very attractive space.\n",
      "we recently decided to try this location, and to our delight, they have outdoor seating, perfect since i had my yorkie with me.\n",
      "indoor was very cozy and cute.\n",
      "whoever the jazz duo was, they were on point.\n",
      "and $11 for a plate of bland guacamole?\n",
      "we were offered water for the table but were not told the voss bottles of water were $8 a piece.\n",
      "oh, and there's hookah.\n",
      "oh speaking of bathroom , the mens bathroom was disgusting.\n",
      "we were drawn into the belly dancing show that captivated the crowd.\n",
      "mazing interior.\n",
      "what you are paying for is the environment and the name.\n",
      "the environment is very upscale and you will see a lot of rich guys with trophy wives or just highly paid escorts.\n",
      "however, our $14 drinks were were horrible!\n",
      "too bad i had paid an extra $2 for the stone bowl.\n",
      "56\n"
     ]
    }
   ],
   "source": [
    "aspect_topic('plsa',list(dict.fromkeys(all_topics)))"
   ]
  },
  {
   "cell_type": "code",
   "execution_count": null,
   "metadata": {},
   "outputs": [],
   "source": []
  }
 ],
 "metadata": {
  "kernelspec": {
   "display_name": "Python 3",
   "language": "python",
   "name": "python3"
  },
  "language_info": {
   "codemirror_mode": {
    "name": "ipython",
    "version": 3
   },
   "file_extension": ".py",
   "mimetype": "text/x-python",
   "name": "python",
   "nbconvert_exporter": "python",
   "pygments_lexer": "ipython3",
   "version": "3.6.4"
  }
 },
 "nbformat": 4,
 "nbformat_minor": 2
}
