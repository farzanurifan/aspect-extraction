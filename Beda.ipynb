{
 "cells": [
  {
   "cell_type": "code",
   "execution_count": 15,
   "metadata": {},
   "outputs": [],
   "source": [
    "import pandas as pd\n",
    "\n",
    "f1 = pd.read_csv('Results/Categorization/lda2vec-partial-ner-money.csv')\n",
    "f2 = pd.read_csv('Results/Categorization/lda2vec-partial-ner-w2v-money.csv')\n",
    "f3 = pd.read_csv('Results/Categorization/lda2vec-partial-ner-fasttext-money.csv')"
   ]
  },
  {
   "cell_type": "code",
   "execution_count": 16,
   "metadata": {},
   "outputs": [],
   "source": [
    "sf = pd.DataFrame(columns=['id', 'review', 'term', 'label', 'pred_1', 'pred_2', 'pred_3'])\n",
    "for index in range(len(f1)):\n",
    "    p1 = f1['predict'][index]\n",
    "    p2 = f2['predict'][index]\n",
    "    p3 = f3['predict'][index]\n",
    "    \n",
    "    if p1 != p2 or p1 != p3:\n",
    "        \n",
    "        sf = sf.append({'id': f1['id'][index],\n",
    "                    'review': f1['review'][index],\n",
    "                    'term': f1['term'][index],\n",
    "                    'label': f1['label'][index],\n",
    "                    'pred_1': p1,\n",
    "                    'pred_2': p2,\n",
    "                    'pred_3': p3}, ignore_index=True)\n",
    "\n",
    "sf.to_csv(\"Results/beda.csv\")\n",
    "sf.to_excel(\"Results/beda.xlsx\")"
   ]
  },
  {
   "cell_type": "code",
   "execution_count": null,
   "metadata": {},
   "outputs": [],
   "source": []
  }
 ],
 "metadata": {
  "kernelspec": {
   "display_name": "Python 3",
   "language": "python",
   "name": "python3"
  },
  "language_info": {
   "codemirror_mode": {
    "name": "ipython",
    "version": 3
   },
   "file_extension": ".py",
   "mimetype": "text/x-python",
   "name": "python",
   "nbconvert_exporter": "python",
   "pygments_lexer": "ipython3",
   "version": "3.6.4"
  }
 },
 "nbformat": 4,
 "nbformat_minor": 2
}
