{
 "cells": [
  {
   "cell_type": "code",
   "execution_count": 1,
   "metadata": {},
   "outputs": [],
   "source": [
    "def calculate_f1(p, r):\n",
    "    return 2*((p*r)/(p+r))"
   ]
  },
  {
   "cell_type": "code",
   "execution_count": 2,
   "metadata": {},
   "outputs": [],
   "source": [
    "def calculate(label, df):\n",
    "    tp = 0\n",
    "    tn = 0\n",
    "    fp = 0\n",
    "    fn = 0\n",
    "    kosong = 0\n",
    "    \n",
    "    for index in range(0, len(df)):\n",
    "        labels = df['label'][index].split(',')\n",
    "        \n",
    "        if type(df['predict'][index]) != float:\n",
    "            preds = df['predict'][index].split('|')\n",
    "\n",
    "            if label in labels and label in preds:\n",
    "                tp += 1\n",
    "            elif label not in labels and label not in preds:\n",
    "                tn += 1\n",
    "            elif label not in labels and label in preds:\n",
    "                fp += 1\n",
    "            elif label in labels and label not in preds:\n",
    "                fn += 1\n",
    "        elif label in labels:\n",
    "            fn += 1\n",
    "        else:\n",
    "            tn += 1\n",
    "    precision = round(tp / (tp + fp), 2)\n",
    "    recall = round(tp / (tp + fn), 2)\n",
    "    f1 = calculate_f1(precision, recall)\n",
    "    accuracy = round((tp+tn)/(tp+tn+fp+fn), 2)\n",
    "    p = tp / (tp + fp)\n",
    "    r = tp / (tp + fn)\n",
    "    f = 2 * ((p * r) / (p + r))\n",
    "    \n",
    "    \n",
    "    print(tp, '\\t', tn, '\\t', fp, '\\t', fn, '\\t', '\\t', precision, '\\t', recall, '\\t', f1, '\\t', '\\t', accuracy)\n",
    "    return tp, tn, fp, fn, p, r, f, accuracy"
   ]
  },
  {
   "cell_type": "code",
   "execution_count": 3,
   "metadata": {},
   "outputs": [],
   "source": [
    "import pandas as pd\n",
    "import numpy as np\n",
    "\n",
    "def run(tipe):\n",
    "    df = pd.read_csv('Results/Categorization/'+ tipe +'.csv')\n",
    "    sf = pd.DataFrame(columns=['TP', 'TN', 'FP', 'FN', 'precision', 'recall', 'f1', 'accuracy'])\n",
    "    print('tp', '\\t', 'tn', '\\t', 'fp', '\\t', 'fn', '\\t', '\\t', 'prec', '\\t', 'rec', '\\t', 'f1', '\\t', '\\t', 'accuracy')\n",
    "    precision = []\n",
    "    recall = []\n",
    "    f1 = []\n",
    "    cat = ['AMBIENCE', 'FOOD', 'SERVICE', 'PRICES']\n",
    "    for c in cat:\n",
    "        a, b, c, d, e, f, g, h = calculate(c, df)\n",
    "        precision.append(e)\n",
    "        recall.append(f)\n",
    "        f1.append(g)\n",
    "        sf = sf.append({'TP':a, 'TN':b, 'FP':c, 'FN':d, 'precision':e, 'recall':f, 'f1':g, 'accuracy': h}, ignore_index=True)\n",
    "    sf.to_excel(\"Results/Calculation/\"+ tipe +\".xlsx\")\n",
    "#     print(precision)\n",
    "    print('', '\\t', '', '\\t', '', '\\t', '', '\\t', '\\t', round(np.mean(precision),2), '\\t', round(np.mean(recall),2), '\\t', calculate_f1(round(np.mean(precision),2), round(np.mean(recall),2)), '\\t', '\\t')\n",
    "    return np.mean(precision), np.mean(recall), calculate_f1(np.mean(precision), np.mean(recall))\n"
   ]
  },
  {
   "cell_type": "code",
   "execution_count": 60,
   "metadata": {
    "scrolled": true
   },
   "outputs": [
    {
     "name": "stdout",
     "output_type": "stream",
     "text": [
      "tp \t tn \t fp \t fn \t \t prec \t rec \t f1 \t \t accuracy\n",
      "105 \t 237 \t 74 \t 46 \t \t 0.59 \t 0.7 \t 0.64 \t \t 0.74\n",
      "183 \t 169 \t 76 \t 34 \t \t 0.71 \t 0.84 \t 0.77 \t \t 0.76\n",
      "126 \t 303 \t 5 \t 28 \t \t 0.96 \t 0.82 \t 0.88 \t \t 0.93\n",
      "92 \t 322 \t 10 \t 38 \t \t 0.9 \t 0.71 \t 0.79 \t \t 0.9\n",
      " \t  \t  \t  \t \t 0.79 \t 0.77 \t 0.78 \t \t\n"
     ]
    },
    {
     "data": {
      "text/plain": [
       "(0.79, 0.77, 0.78)"
      ]
     },
     "execution_count": 60,
     "metadata": {},
     "output_type": "execute_result"
    }
   ],
   "source": [
    "run(\"lda2vec-elmo-money\")"
   ]
  },
  {
   "cell_type": "code",
   "execution_count": 21,
   "metadata": {},
   "outputs": [
    {
     "name": "stdout",
     "output_type": "stream",
     "text": [
      "tp \t tn \t fp \t fn \t \t prec \t rec \t f1 \t \t accuracy\n",
      "110 \t 259 \t 52 \t 41 \t \t 0.68 \t 0.73 \t 0.7041134751773049 \t \t 0.8\n",
      "201 \t 130 \t 115 \t 16 \t \t 0.64 \t 0.93 \t 0.7582165605095542 \t \t 0.72\n",
      "130 \t 294 \t 14 \t 24 \t \t 0.9 \t 0.84 \t 0.8689655172413793 \t \t 0.92\n",
      "89 \t 324 \t 8 \t 41 \t \t 0.92 \t 0.68 \t 0.782 \t \t 0.89\n",
      " \t  \t  \t  \t \t 0.78 \t 0.8 \t 0.7898734177215191 \t \t\n"
     ]
    },
    {
     "data": {
      "text/plain": [
       "(0.7838479615049387, 0.7958788327673181, 0.7898175848273619)"
      ]
     },
     "execution_count": 21,
     "metadata": {},
     "output_type": "execute_result"
    }
   ],
   "source": [
    "run(\"lda2vec-partial-ner-elmo_ori-money\")"
   ]
  },
  {
   "cell_type": "code",
   "execution_count": 65,
   "metadata": {
    "scrolled": true
   },
   "outputs": [
    {
     "name": "stdout",
     "output_type": "stream",
     "text": [
      "tp \t tn \t fp \t fn \t \t prec \t rec \t f1 \t \t accuracy\n",
      "115 \t 245 \t 66 \t 36 \t \t 0.64 \t 0.76 \t 0.695 \t \t 0.78\n",
      "200 \t 159 \t 86 \t 17 \t \t 0.7 \t 0.92 \t 0.795 \t \t 0.78\n",
      "130 \t 300 \t 8 \t 24 \t \t 0.94 \t 0.84 \t 0.887 \t \t 0.93\n",
      "93 \t 319 \t 13 \t 37 \t \t 0.88 \t 0.72 \t 0.792 \t \t 0.89\n",
      " \t  \t  \t  \t \t 0.79 \t 0.81 \t 0.8 \t \t\n"
     ]
    },
    {
     "data": {
      "text/plain": [
       "(0.79, 0.81, 0.8)"
      ]
     },
     "execution_count": 65,
     "metadata": {},
     "output_type": "execute_result"
    }
   ],
   "source": [
    "run(\"plsa-partial-ner-elmo-money\")"
   ]
  },
  {
   "cell_type": "code",
   "execution_count": 33,
   "metadata": {},
   "outputs": [
    {
     "name": "stdout",
     "output_type": "stream",
     "text": [
      "tp \t tn \t fp \t fn \t \t prec \t rec \t f1 \t \t accuracy\n",
      "105 \t 237 \t 74 \t 46 \t \t 0.59 \t 0.7 \t 0.64 \t \t 0.74\n",
      "183 \t 169 \t 76 \t 34 \t \t 0.71 \t 0.84 \t 0.77 \t \t 0.76\n",
      "126 \t 303 \t 5 \t 28 \t \t 0.96 \t 0.82 \t 0.88 \t \t 0.93\n",
      "92 \t 322 \t 10 \t 38 \t \t 0.9 \t 0.71 \t 0.79 \t \t 0.9\n",
      " \t  \t  \t  \t \t 0.79 \t 0.77 \t 0.78 \t \t\n"
     ]
    },
    {
     "data": {
      "text/plain": [
       "(0.79, 0.77, 0.78)"
      ]
     },
     "execution_count": 33,
     "metadata": {},
     "output_type": "execute_result"
    }
   ],
   "source": [
    "run(\"lda2vec-elmo-money\")"
   ]
  },
  {
   "cell_type": "code",
   "execution_count": 4,
   "metadata": {
    "scrolled": true
   },
   "outputs": [
    {
     "name": "stdout",
     "output_type": "stream",
     "text": [
      "lda glove\n",
      "tp \t tn \t fp \t fn \t \t prec \t rec \t f1 \t \t accuracy\n",
      "100 \t 203 \t 108 \t 51 \t \t 0.48 \t 0.66 \t 0.5557894736842105 \t \t 0.66\n",
      "179 \t 198 \t 47 \t 38 \t \t 0.79 \t 0.82 \t 0.80472049689441 \t \t 0.82\n",
      "103 \t 232 \t 76 \t 51 \t \t 0.58 \t 0.67 \t 0.62176 \t \t 0.73\n",
      "111 \t 238 \t 94 \t 19 \t \t 0.54 \t 0.85 \t 0.660431654676259 \t \t 0.76\n",
      " \t  \t  \t  \t \t 0.6 \t 0.75 \t 0.6666666666666665 \t \t\n",
      "tp \t tn \t fp \t fn \t \t prec \t rec \t f1 \t \t accuracy\n",
      "115 \t 201 \t 110 \t 36 \t \t 0.51 \t 0.76 \t 0.6103937007874015 \t \t 0.68\n",
      "190 \t 189 \t 56 \t 27 \t \t 0.77 \t 0.88 \t 0.8213333333333334 \t \t 0.82\n",
      "113 \t 234 \t 74 \t 41 \t \t 0.6 \t 0.73 \t 0.6586466165413534 \t \t 0.75\n",
      "114 \t 232 \t 100 \t 16 \t \t 0.53 \t 0.88 \t 0.6615602836879433 \t \t 0.75\n",
      " \t  \t  \t  \t \t 0.61 \t 0.81 \t 0.6959154929577466 \t \t\n",
      "lda w2v\n",
      "tp \t tn \t fp \t fn \t \t prec \t rec \t f1 \t \t accuracy\n",
      "95 \t 201 \t 110 \t 56 \t \t 0.46 \t 0.63 \t 0.531743119266055 \t \t 0.64\n",
      "186 \t 148 \t 97 \t 31 \t \t 0.66 \t 0.86 \t 0.7468421052631579 \t \t 0.72\n",
      "104 \t 262 \t 46 \t 50 \t \t 0.69 \t 0.68 \t 0.684963503649635 \t \t 0.79\n",
      "103 \t 267 \t 65 \t 27 \t \t 0.61 \t 0.79 \t 0.6884285714285715 \t \t 0.8\n",
      " \t  \t  \t  \t \t 0.61 \t 0.74 \t 0.6687407407407406 \t \t\n",
      "tp \t tn \t fp \t fn \t \t prec \t rec \t f1 \t \t accuracy\n",
      "110 \t 201 \t 110 \t 41 \t \t 0.5 \t 0.73 \t 0.5934959349593496 \t \t 0.67\n",
      "197 \t 135 \t 110 \t 20 \t \t 0.64 \t 0.91 \t 0.7514838709677419 \t \t 0.72\n",
      "114 \t 261 \t 47 \t 40 \t \t 0.71 \t 0.74 \t 0.7246896551724138 \t \t 0.81\n",
      "105 \t 260 \t 72 \t 25 \t \t 0.59 \t 0.81 \t 0.6827142857142857 \t \t 0.79\n",
      " \t  \t  \t  \t \t 0.61 \t 0.8 \t 0.6921985815602836 \t \t\n",
      "lda fasttext\n",
      "tp \t tn \t fp \t fn \t \t prec \t rec \t f1 \t \t accuracy\n",
      "105 \t 171 \t 140 \t 46 \t \t 0.43 \t 0.7 \t 0.5327433628318584 \t \t 0.6\n",
      "182 \t 185 \t 60 \t 35 \t \t 0.75 \t 0.84 \t 0.7924528301886793 \t \t 0.79\n",
      "114 \t 230 \t 78 \t 40 \t \t 0.59 \t 0.74 \t 0.6565413533834586 \t \t 0.74\n",
      "100 \t 304 \t 28 \t 30 \t \t 0.78 \t 0.77 \t 0.7749677419354839 \t \t 0.87\n",
      " \t  \t  \t  \t \t 0.64 \t 0.76 \t 0.694857142857143 \t \t\n",
      "tp \t tn \t fp \t fn \t \t prec \t rec \t f1 \t \t accuracy\n",
      "115 \t 181 \t 130 \t 36 \t \t 0.47 \t 0.76 \t 0.5808130081300813 \t \t 0.64\n",
      "195 \t 176 \t 69 \t 22 \t \t 0.74 \t 0.9 \t 0.8121951219512195 \t \t 0.8\n",
      "127 \t 225 \t 83 \t 27 \t \t 0.6 \t 0.82 \t 0.6929577464788732 \t \t 0.76\n",
      "102 \t 297 \t 35 \t 28 \t \t 0.74 \t 0.78 \t 0.7594736842105264 \t \t 0.86\n",
      " \t  \t  \t  \t \t 0.64 \t 0.82 \t 0.718904109589041 \t \t\n",
      "lda elmo\n",
      "tp \t tn \t fp \t fn \t \t prec \t rec \t f1 \t \t accuracy\n",
      "111 \t 218 \t 93 \t 40 \t \t 0.54 \t 0.74 \t 0.624375 \t \t 0.71\n",
      "197 \t 169 \t 76 \t 20 \t \t 0.72 \t 0.91 \t 0.8039263803680983 \t \t 0.79\n",
      "107 \t 288 \t 20 \t 47 \t \t 0.84 \t 0.69 \t 0.7576470588235293 \t \t 0.85\n",
      "92 \t 320 \t 12 \t 38 \t \t 0.88 \t 0.71 \t 0.7859119496855347 \t \t 0.89\n",
      " \t  \t  \t  \t \t 0.75 \t 0.76 \t 0.7549668874172186 \t \t\n",
      "tp \t tn \t fp \t fn \t \t prec \t rec \t f1 \t \t accuracy\n",
      "124 \t 221 \t 90 \t 27 \t \t 0.58 \t 0.82 \t 0.6794285714285714 \t \t 0.75\n",
      "209 \t 158 \t 87 \t 8 \t \t 0.71 \t 0.96 \t 0.8162874251497007 \t \t 0.79\n",
      "120 \t 286 \t 22 \t 34 \t \t 0.85 \t 0.78 \t 0.8134969325153375 \t \t 0.88\n",
      "94 \t 317 \t 15 \t 36 \t \t 0.86 \t 0.72 \t 0.7837974683544303 \t \t 0.89\n",
      " \t  \t  \t  \t \t 0.75 \t 0.82 \t 0.7834394904458599 \t \t\n",
      "lda elmo_ori\n",
      "tp \t tn \t fp \t fn \t \t prec \t rec \t f1 \t \t accuracy\n",
      "107 \t 144 \t 167 \t 44 \t \t 0.39 \t 0.71 \t 0.5034545454545454 \t \t 0.54\n",
      "184 \t 164 \t 81 \t 33 \t \t 0.69 \t 0.85 \t 0.7616883116883115 \t \t 0.75\n",
      "103 \t 283 \t 25 \t 51 \t \t 0.8 \t 0.67 \t 0.729251700680272 \t \t 0.84\n",
      "108 \t 266 \t 66 \t 22 \t \t 0.62 \t 0.83 \t 0.7097931034482758 \t \t 0.81\n",
      " \t  \t  \t  \t \t 0.63 \t 0.76 \t 0.6889208633093524 \t \t\n",
      "tp \t tn \t fp \t fn \t \t prec \t rec \t f1 \t \t accuracy\n",
      "121 \t 142 \t 169 \t 30 \t \t 0.42 \t 0.8 \t 0.5508196721311476 \t \t 0.57\n",
      "197 \t 151 \t 94 \t 20 \t \t 0.68 \t 0.91 \t 0.7783647798742138 \t \t 0.75\n",
      "116 \t 280 \t 28 \t 38 \t \t 0.81 \t 0.75 \t 0.7788461538461539 \t \t 0.86\n",
      "107 \t 277 \t 55 \t 23 \t \t 0.66 \t 0.82 \t 0.7313513513513514 \t \t 0.83\n",
      " \t  \t  \t  \t \t 0.64 \t 0.82 \t 0.718904109589041 \t \t\n",
      "lda2vec glove\n",
      "tp \t tn \t fp \t fn \t \t prec \t rec \t f1 \t \t accuracy\n",
      "101 \t 221 \t 90 \t 50 \t \t 0.53 \t 0.67 \t 0.5918333333333333 \t \t 0.7\n",
      "151 \t 214 \t 31 \t 66 \t \t 0.83 \t 0.7 \t 0.7594771241830066 \t \t 0.79\n",
      "130 \t 247 \t 61 \t 24 \t \t 0.68 \t 0.84 \t 0.7515789473684211 \t \t 0.82\n",
      "108 \t 242 \t 90 \t 22 \t \t 0.55 \t 0.83 \t 0.6615942028985508 \t \t 0.76\n",
      " \t  \t  \t  \t \t 0.65 \t 0.76 \t 0.700709219858156 \t \t\n",
      "tp \t tn \t fp \t fn \t \t prec \t rec \t f1 \t \t accuracy\n",
      "115 \t 219 \t 92 \t 36 \t \t 0.56 \t 0.76 \t 0.6448484848484849 \t \t 0.72\n",
      "167 \t 205 \t 40 \t 50 \t \t 0.81 \t 0.77 \t 0.7894936708860759 \t \t 0.81\n",
      "132 \t 243 \t 65 \t 22 \t \t 0.67 \t 0.86 \t 0.753202614379085 \t \t 0.81\n",
      "110 \t 242 \t 90 \t 20 \t \t 0.55 \t 0.85 \t 0.6678571428571429 \t \t 0.76\n",
      " \t  \t  \t  \t \t 0.65 \t 0.81 \t 0.7212328767123289 \t \t\n",
      "lda2vec w2v\n",
      "tp \t tn \t fp \t fn \t \t prec \t rec \t f1 \t \t accuracy\n",
      "99 \t 212 \t 99 \t 52 \t \t 0.5 \t 0.66 \t 0.5689655172413792 \t \t 0.67\n",
      "166 \t 165 \t 80 \t 51 \t \t 0.67 \t 0.76 \t 0.7121678321678321 \t \t 0.72\n",
      "129 \t 286 \t 22 \t 25 \t \t 0.85 \t 0.84 \t 0.8449704142011835 \t \t 0.9\n",
      "97 \t 283 \t 49 \t 33 \t \t 0.66 \t 0.75 \t 0.702127659574468 \t \t 0.82\n",
      " \t  \t  \t  \t \t 0.67 \t 0.75 \t 0.7077464788732396 \t \t\n",
      "tp \t tn \t fp \t fn \t \t prec \t rec \t f1 \t \t accuracy\n",
      "112 \t 217 \t 94 \t 39 \t \t 0.54 \t 0.74 \t 0.624375 \t \t 0.71\n",
      "180 \t 157 \t 88 \t 37 \t \t 0.67 \t 0.83 \t 0.7414666666666667 \t \t 0.73\n",
      "132 \t 285 \t 23 \t 22 \t \t 0.85 \t 0.86 \t 0.8549707602339182 \t \t 0.9\n",
      "99 \t 276 \t 56 \t 31 \t \t 0.64 \t 0.76 \t 0.694857142857143 \t \t 0.81\n",
      " \t  \t  \t  \t \t 0.68 \t 0.8 \t 0.7351351351351352 \t \t\n",
      "lda2vec fasttext\n",
      "tp \t tn \t fp \t fn \t \t prec \t rec \t f1 \t \t accuracy\n",
      "115 \t 175 \t 136 \t 36 \t \t 0.46 \t 0.76 \t 0.5731147540983607 \t \t 0.63\n",
      "157 \t 202 \t 43 \t 60 \t \t 0.79 \t 0.72 \t 0.7533774834437086 \t \t 0.78\n",
      "135 \t 263 \t 45 \t 19 \t \t 0.75 \t 0.88 \t 0.8098159509202455 \t \t 0.86\n",
      "93 \t 322 \t 10 \t 37 \t \t 0.9 \t 0.72 \t 0.7999999999999999 \t \t 0.9\n",
      " \t  \t  \t  \t \t 0.72 \t 0.77 \t 0.7441610738255033 \t \t\n",
      "tp \t tn \t fp \t fn \t \t prec \t rec \t f1 \t \t accuracy\n",
      "126 \t 193 \t 118 \t 25 \t \t 0.52 \t 0.83 \t 0.6394074074074073 \t \t 0.69\n",
      "174 \t 191 \t 54 \t 43 \t \t 0.76 \t 0.8 \t 0.7794871794871796 \t \t 0.79\n",
      "138 \t 254 \t 54 \t 16 \t \t 0.72 \t 0.9 \t 0.7999999999999999 \t \t 0.85\n",
      "95 \t 313 \t 19 \t 35 \t \t 0.83 \t 0.73 \t 0.7767948717948717 \t \t 0.88\n",
      " \t  \t  \t  \t \t 0.71 \t 0.82 \t 0.7610457516339869 \t \t\n",
      "lda2vec elmo\n",
      "tp \t tn \t fp \t fn \t \t prec \t rec \t f1 \t \t accuracy\n",
      "105 \t 237 \t 74 \t 46 \t \t 0.59 \t 0.7 \t 0.6403100775193797 \t \t 0.74\n",
      "183 \t 169 \t 76 \t 34 \t \t 0.71 \t 0.84 \t 0.7695483870967742 \t \t 0.76\n",
      "126 \t 303 \t 5 \t 28 \t \t 0.96 \t 0.82 \t 0.8844943820224719 \t \t 0.93\n",
      "92 \t 322 \t 10 \t 38 \t \t 0.9 \t 0.71 \t 0.7937888198757764 \t \t 0.9\n",
      " \t  \t  \t  \t \t 0.79 \t 0.77 \t 0.7798717948717949 \t \t\n",
      "tp \t tn \t fp \t fn \t \t prec \t rec \t f1 \t \t accuracy\n",
      "118 \t 241 \t 70 \t 33 \t \t 0.63 \t 0.78 \t 0.6970212765957446 \t \t 0.78\n",
      "199 \t 157 \t 88 \t 18 \t \t 0.69 \t 0.92 \t 0.7885714285714287 \t \t 0.77\n",
      "129 \t 299 \t 9 \t 25 \t \t 0.93 \t 0.84 \t 0.8827118644067796 \t \t 0.93\n",
      "93 \t 318 \t 14 \t 37 \t \t 0.87 \t 0.72 \t 0.7879245283018869 \t \t 0.89\n",
      " \t  \t  \t  \t \t 0.78 \t 0.81 \t 0.7947169811320755 \t \t\n",
      "lda2vec elmo_ori\n",
      "tp \t tn \t fp \t fn \t \t prec \t rec \t f1 \t \t accuracy\n",
      "112 \t 150 \t 161 \t 39 \t \t 0.41 \t 0.74 \t 0.5276521739130435 \t \t 0.57\n",
      "148 \t 192 \t 53 \t 69 \t \t 0.74 \t 0.68 \t 0.7087323943661972 \t \t 0.74\n",
      "130 \t 304 \t 4 \t 24 \t \t 0.97 \t 0.84 \t 0.9003314917127071 \t \t 0.94\n",
      "100 \t 291 \t 41 \t 30 \t \t 0.71 \t 0.77 \t 0.7387837837837837 \t \t 0.85\n",
      " \t  \t  \t  \t \t 0.71 \t 0.76 \t 0.7341496598639455 \t \t\n",
      "tp \t tn \t fp \t fn \t \t prec \t rec \t f1 \t \t accuracy\n",
      "125 \t 156 \t 155 \t 26 \t \t 0.45 \t 0.83 \t 0.58359375 \t \t 0.61\n",
      "166 \t 178 \t 67 \t 51 \t \t 0.71 \t 0.76 \t 0.7341496598639455 \t \t 0.74\n",
      "132 \t 296 \t 12 \t 22 \t \t 0.92 \t 0.86 \t 0.8889887640449439 \t \t 0.93\n",
      "99 \t 301 \t 31 \t 31 \t \t 0.76 \t 0.76 \t 0.76 \t \t 0.87\n",
      " \t  \t  \t  \t \t 0.71 \t 0.8 \t 0.752317880794702 \t \t\n",
      "plsa glove\n",
      "tp \t tn \t fp \t fn \t \t prec \t rec \t f1 \t \t accuracy\n",
      "90 \t 225 \t 86 \t 61 \t \t 0.51 \t 0.6 \t 0.5513513513513514 \t \t 0.68\n",
      "139 \t 219 \t 26 \t 78 \t \t 0.84 \t 0.64 \t 0.7264864864864865 \t \t 0.77\n",
      "129 \t 257 \t 51 \t 25 \t \t 0.72 \t 0.84 \t 0.7753846153846153 \t \t 0.84\n",
      "108 \t 248 \t 84 \t 22 \t \t 0.56 \t 0.83 \t 0.6687769784172662 \t \t 0.77\n",
      " \t  \t  \t  \t \t 0.66 \t 0.73 \t 0.6932374100719424 \t \t\n",
      "tp \t tn \t fp \t fn \t \t prec \t rec \t f1 \t \t accuracy\n",
      "110 \t 221 \t 90 \t 41 \t \t 0.55 \t 0.73 \t 0.62734375 \t \t 0.72\n",
      "164 \t 203 \t 42 \t 53 \t \t 0.8 \t 0.76 \t 0.7794871794871796 \t \t 0.79\n",
      "132 \t 253 \t 55 \t 22 \t \t 0.71 \t 0.86 \t 0.7778343949044586 \t \t 0.83\n",
      "110 \t 238 \t 94 \t 20 \t \t 0.54 \t 0.85 \t 0.660431654676259 \t \t 0.75\n",
      " \t  \t  \t  \t \t 0.65 \t 0.8 \t 0.7172413793103448 \t \t\n",
      "plsa w2v\n",
      "tp \t tn \t fp \t fn \t \t prec \t rec \t f1 \t \t accuracy\n",
      "93 \t 220 \t 91 \t 58 \t \t 0.51 \t 0.62 \t 0.559646017699115 \t \t 0.68\n",
      "158 \t 171 \t 74 \t 59 \t \t 0.68 \t 0.73 \t 0.7041134751773049 \t \t 0.71\n",
      "128 \t 299 \t 9 \t 26 \t \t 0.93 \t 0.83 \t 0.8771590909090909 \t \t 0.92\n",
      "97 \t 284 \t 48 \t 33 \t \t 0.67 \t 0.75 \t 0.7077464788732396 \t \t 0.82\n",
      " \t  \t  \t  \t \t 0.7 \t 0.73 \t 0.7146853146853147 \t \t\n",
      "tp \t tn \t fp \t fn \t \t prec \t rec \t f1 \t \t accuracy\n",
      "114 \t 219 \t 92 \t 37 \t \t 0.55 \t 0.75 \t 0.6346153846153847 \t \t 0.72\n",
      "182 \t 153 \t 92 \t 35 \t \t 0.66 \t 0.84 \t 0.7392 \t \t 0.73\n",
      "132 \t 296 \t 12 \t 22 \t \t 0.92 \t 0.86 \t 0.8889887640449439 \t \t 0.93\n",
      "99 \t 275 \t 57 \t 31 \t \t 0.63 \t 0.76 \t 0.6889208633093524 \t \t 0.81\n"
     ]
    },
    {
     "name": "stdout",
     "output_type": "stream",
     "text": [
      " \t  \t  \t  \t \t 0.69 \t 0.8 \t 0.7409395973154361 \t \t\n",
      "plsa fasttext\n",
      "tp \t tn \t fp \t fn \t \t prec \t rec \t f1 \t \t accuracy\n",
      "99 \t 191 \t 120 \t 52 \t \t 0.45 \t 0.66 \t 0.5351351351351351 \t \t 0.63\n",
      "151 \t 202 \t 43 \t 66 \t \t 0.78 \t 0.7 \t 0.7378378378378377 \t \t 0.76\n",
      "135 \t 263 \t 45 \t 19 \t \t 0.75 \t 0.88 \t 0.8098159509202455 \t \t 0.86\n",
      "93 \t 323 \t 9 \t 37 \t \t 0.91 \t 0.72 \t 0.8039263803680983 \t \t 0.9\n",
      " \t  \t  \t  \t \t 0.72 \t 0.74 \t 0.72986301369863 \t \t\n",
      "tp \t tn \t fp \t fn \t \t prec \t rec \t f1 \t \t accuracy\n",
      "118 \t 201 \t 110 \t 33 \t \t 0.52 \t 0.78 \t 0.624 \t \t 0.69\n",
      "175 \t 188 \t 57 \t 42 \t \t 0.75 \t 0.81 \t 0.7788461538461539 \t \t 0.79\n",
      "138 \t 252 \t 56 \t 16 \t \t 0.71 \t 0.9 \t 0.7937888198757764 \t \t 0.84\n",
      "95 \t 311 \t 21 \t 35 \t \t 0.82 \t 0.73 \t 0.7723870967741935 \t \t 0.88\n",
      " \t  \t  \t  \t \t 0.7 \t 0.8 \t 0.7466666666666666 \t \t\n",
      "plsa elmo\n",
      "tp \t tn \t fp \t fn \t \t prec \t rec \t f1 \t \t accuracy\n",
      "94 \t 242 \t 69 \t 57 \t \t 0.58 \t 0.62 \t 0.5993333333333333 \t \t 0.73\n",
      "175 \t 176 \t 69 \t 42 \t \t 0.72 \t 0.81 \t 0.7623529411764707 \t \t 0.76\n",
      "126 \t 305 \t 3 \t 28 \t \t 0.98 \t 0.82 \t 0.892888888888889 \t \t 0.93\n",
      "92 \t 323 \t 9 \t 38 \t \t 0.91 \t 0.71 \t 0.7976543209876543 \t \t 0.9\n",
      " \t  \t  \t  \t \t 0.8 \t 0.74 \t 0.7688311688311688 \t \t\n",
      "tp \t tn \t fp \t fn \t \t prec \t rec \t f1 \t \t accuracy\n",
      "115 \t 245 \t 66 \t 36 \t \t 0.64 \t 0.76 \t 0.694857142857143 \t \t 0.78\n",
      "200 \t 159 \t 86 \t 17 \t \t 0.7 \t 0.92 \t 0.7950617283950617 \t \t 0.78\n",
      "130 \t 300 \t 8 \t 24 \t \t 0.94 \t 0.84 \t 0.8871910112359551 \t \t 0.93\n",
      "93 \t 319 \t 13 \t 37 \t \t 0.88 \t 0.72 \t 0.7919999999999999 \t \t 0.89\n",
      " \t  \t  \t  \t \t 0.79 \t 0.81 \t 0.799875 \t \t\n",
      "plsa elmo_ori\n",
      "tp \t tn \t fp \t fn \t \t prec \t rec \t f1 \t \t accuracy\n",
      "104 \t 167 \t 144 \t 47 \t \t 0.42 \t 0.69 \t 0.5221621621621622 \t \t 0.59\n",
      "139 \t 200 \t 45 \t 78 \t \t 0.76 \t 0.64 \t 0.694857142857143 \t \t 0.73\n",
      "130 \t 304 \t 4 \t 24 \t \t 0.97 \t 0.84 \t 0.9003314917127071 \t \t 0.94\n",
      "100 \t 291 \t 41 \t 30 \t \t 0.71 \t 0.77 \t 0.7387837837837837 \t \t 0.85\n",
      " \t  \t  \t  \t \t 0.71 \t 0.74 \t 0.7246896551724138 \t \t\n",
      "tp \t tn \t fp \t fn \t \t prec \t rec \t f1 \t \t accuracy\n",
      "125 \t 162 \t 149 \t 26 \t \t 0.46 \t 0.83 \t 0.591937984496124 \t \t 0.62\n",
      "164 \t 181 \t 64 \t 53 \t \t 0.72 \t 0.76 \t 0.7394594594594595 \t \t 0.75\n",
      "133 \t 295 \t 13 \t 21 \t \t 0.91 \t 0.86 \t 0.8842937853107344 \t \t 0.93\n",
      "99 \t 300 \t 32 \t 31 \t \t 0.76 \t 0.76 \t 0.76 \t \t 0.86\n",
      " \t  \t  \t  \t \t 0.71 \t 0.8 \t 0.752317880794702 \t \t\n",
      "dp glove\n",
      "tp \t tn \t fp \t fn \t \t prec \t rec \t f1 \t \t accuracy\n",
      "106 \t 261 \t 50 \t 45 \t \t 0.68 \t 0.7 \t 0.6898550724637681 \t \t 0.79\n",
      "171 \t 192 \t 53 \t 46 \t \t 0.76 \t 0.79 \t 0.7747096774193549 \t \t 0.79\n",
      "109 \t 258 \t 50 \t 45 \t \t 0.69 \t 0.71 \t 0.6998571428571428 \t \t 0.79\n",
      "84 \t 274 \t 58 \t 46 \t \t 0.59 \t 0.65 \t 0.6185483870967742 \t \t 0.77\n",
      " \t  \t  \t  \t \t 0.68 \t 0.71 \t 0.6946762589928057 \t \t\n",
      "tp \t tn \t fp \t fn \t \t prec \t rec \t f1 \t \t accuracy\n",
      "117 \t 249 \t 62 \t 34 \t \t 0.65 \t 0.77 \t 0.7049295774647888 \t \t 0.79\n",
      "202 \t 177 \t 68 \t 15 \t \t 0.75 \t 0.93 \t 0.8303571428571428 \t \t 0.82\n",
      "122 \t 250 \t 58 \t 32 \t \t 0.68 \t 0.79 \t 0.7308843537414965 \t \t 0.81\n",
      "87 \t 270 \t 62 \t 43 \t \t 0.58 \t 0.67 \t 0.62176 \t \t 0.77\n",
      " \t  \t  \t  \t \t 0.67 \t 0.79 \t 0.7250684931506851 \t \t\n",
      "dp w2v\n",
      "tp \t tn \t fp \t fn \t \t prec \t rec \t f1 \t \t accuracy\n",
      "107 \t 261 \t 50 \t 44 \t \t 0.68 \t 0.71 \t 0.6946762589928057 \t \t 0.8\n",
      "172 \t 153 \t 92 \t 45 \t \t 0.65 \t 0.79 \t 0.7131944444444446 \t \t 0.7\n",
      "110 \t 273 \t 35 \t 44 \t \t 0.76 \t 0.71 \t 0.7341496598639455 \t \t 0.83\n",
      "80 \t 298 \t 34 \t 50 \t \t 0.7 \t 0.62 \t 0.6575757575757577 \t \t 0.82\n",
      " \t  \t  \t  \t \t 0.7 \t 0.71 \t 0.7049645390070921 \t \t\n",
      "tp \t tn \t fp \t fn \t \t prec \t rec \t f1 \t \t accuracy\n",
      "118 \t 256 \t 55 \t 33 \t \t 0.68 \t 0.78 \t 0.7265753424657536 \t \t 0.81\n",
      "203 \t 137 \t 108 \t 14 \t \t 0.65 \t 0.94 \t 0.7685534591194969 \t \t 0.74\n",
      "125 \t 271 \t 37 \t 29 \t \t 0.77 \t 0.81 \t 0.7894936708860759 \t \t 0.86\n",
      "83 \t 287 \t 45 \t 47 \t \t 0.65 \t 0.64 \t 0.6449612403100775 \t \t 0.8\n",
      " \t  \t  \t  \t \t 0.69 \t 0.79 \t 0.7366216216216217 \t \t\n",
      "dp fasttext\n",
      "tp \t tn \t fp \t fn \t \t prec \t rec \t f1 \t \t accuracy\n",
      "102 \t 255 \t 56 \t 49 \t \t 0.65 \t 0.68 \t 0.6646616541353384 \t \t 0.77\n",
      "171 \t 189 \t 56 \t 46 \t \t 0.75 \t 0.79 \t 0.7694805194805195 \t \t 0.78\n",
      "115 \t 256 \t 52 \t 39 \t \t 0.69 \t 0.75 \t 0.71875 \t \t 0.8\n",
      "80 \t 287 \t 45 \t 50 \t \t 0.64 \t 0.62 \t 0.6298412698412699 \t \t 0.79\n",
      " \t  \t  \t  \t \t 0.68 \t 0.71 \t 0.6946762589928057 \t \t\n",
      "tp \t tn \t fp \t fn \t \t prec \t rec \t f1 \t \t accuracy\n",
      "111 \t 250 \t 61 \t 40 \t \t 0.65 \t 0.74 \t 0.6920863309352517 \t \t 0.78\n",
      "202 \t 175 \t 70 \t 15 \t \t 0.74 \t 0.93 \t 0.8241916167664671 \t \t 0.82\n",
      "130 \t 246 \t 62 \t 24 \t \t 0.68 \t 0.84 \t 0.7515789473684211 \t \t 0.81\n",
      "83 \t 274 \t 58 \t 47 \t \t 0.59 \t 0.64 \t 0.6139837398373984 \t \t 0.77\n",
      " \t  \t  \t  \t \t 0.66 \t 0.79 \t 0.7191724137931035 \t \t\n",
      "dp elmo\n",
      "tp \t tn \t fp \t fn \t \t prec \t rec \t f1 \t \t accuracy\n",
      "120 \t 254 \t 57 \t 31 \t \t 0.68 \t 0.79 \t 0.7308843537414965 \t \t 0.81\n",
      "175 \t 183 \t 62 \t 42 \t \t 0.74 \t 0.81 \t 0.7734193548387097 \t \t 0.77\n",
      "109 \t 288 \t 20 \t 45 \t \t 0.84 \t 0.71 \t 0.7695483870967742 \t \t 0.86\n",
      "75 \t 318 \t 14 \t 55 \t \t 0.84 \t 0.58 \t 0.6861971830985916 \t \t 0.85\n",
      " \t  \t  \t  \t \t 0.78 \t 0.72 \t 0.7488 \t \t\n",
      "tp \t tn \t fp \t fn \t \t prec \t rec \t f1 \t \t accuracy\n",
      "131 \t 247 \t 64 \t 20 \t \t 0.67 \t 0.87 \t 0.7570129870129871 \t \t 0.82\n",
      "205 \t 167 \t 78 \t 12 \t \t 0.72 \t 0.94 \t 0.8154216867469879 \t \t 0.81\n",
      "125 \t 283 \t 25 \t 29 \t \t 0.83 \t 0.81 \t 0.8198780487804878 \t \t 0.88\n",
      "78 \t 313 \t 19 \t 52 \t \t 0.8 \t 0.6 \t 0.6857142857142857 \t \t 0.85\n",
      " \t  \t  \t  \t \t 0.76 \t 0.81 \t 0.784203821656051 \t \t\n",
      "dp elmo_ori\n",
      "tp \t tn \t fp \t fn \t \t prec \t rec \t f1 \t \t accuracy\n",
      "114 \t 245 \t 66 \t 37 \t \t 0.63 \t 0.75 \t 0.6847826086956522 \t \t 0.78\n",
      "173 \t 170 \t 75 \t 44 \t \t 0.7 \t 0.8 \t 0.7466666666666666 \t \t 0.74\n",
      "110 \t 288 \t 20 \t 44 \t \t 0.85 \t 0.71 \t 0.7737179487179486 \t \t 0.86\n",
      "82 \t 297 \t 35 \t 48 \t \t 0.7 \t 0.63 \t 0.663157894736842 \t \t 0.82\n",
      " \t  \t  \t  \t \t 0.72 \t 0.72 \t 0.72 \t \t\n",
      "tp \t tn \t fp \t fn \t \t prec \t rec \t f1 \t \t accuracy\n",
      "126 \t 241 \t 70 \t 25 \t \t 0.64 \t 0.83 \t 0.7227210884353742 \t \t 0.79\n",
      "204 \t 154 \t 91 \t 13 \t \t 0.69 \t 0.94 \t 0.7958282208588957 \t \t 0.77\n",
      "126 \t 281 \t 27 \t 28 \t \t 0.82 \t 0.82 \t 0.82 \t \t 0.88\n",
      "84 \t 288 \t 44 \t 46 \t \t 0.66 \t 0.65 \t 0.6549618320610687 \t \t 0.81\n",
      " \t  \t  \t  \t \t 0.7 \t 0.81 \t 0.7509933774834436 \t \t\n"
     ]
    }
   ],
   "source": [
    "ate = ['lda', 'lda2vec', 'plsa', 'dp']\n",
    "sim = ['glove', 'w2v', 'fasttext', 'elmo', 'elmo_ori']\n",
    "\n",
    "rf = pd.DataFrame(columns=['sim', 'ate', 'ac', 'precision', 'recall', 'f1'])\n",
    "for a in ate:\n",
    "    for s in sim:\n",
    "        print(a, s)\n",
    "        p, r, f = run(a + '-' + s + '-money')\n",
    "        rf = rf.append({'sim': s, 'ate': a, 'ac': 'AC1', 'precision': p, 'recall': r, 'f1': f}, ignore_index=True)\n",
    "        \n",
    "#         p, r, f = run(a + '-partial-' + s)\n",
    "#         rf = rf.append({'sim': s, 'ate': a, 'ac': 'AC2', 'precision': p, 'recall': r, 'f1': f}, ignore_index=True)\n",
    "        \n",
    "        p, r, f = run(a + '-partial-ner-' + s + '-money')\n",
    "        rf = rf.append({'sim': s, 'ate': a, 'ac': 'AC3', 'precision': p, 'recall': r, 'f1': f}, ignore_index=True)\n",
    "\n",
    "rf.to_excel(\"Results/all_method.xlsx\")"
   ]
  },
  {
   "cell_type": "code",
   "execution_count": null,
   "metadata": {
    "scrolled": true
   },
   "outputs": [],
   "source": [
    "run(\"plsa-partial-ner-money\") # PLSA"
   ]
  },
  {
   "cell_type": "code",
   "execution_count": null,
   "metadata": {},
   "outputs": [],
   "source": [
    "run(\"lda-partial-ner-money\") # LDA"
   ]
  },
  {
   "cell_type": "code",
   "execution_count": null,
   "metadata": {},
   "outputs": [],
   "source": [
    "run(\"dp-partial-ner-money\") # DP"
   ]
  },
  {
   "cell_type": "code",
   "execution_count": 5,
   "metadata": {},
   "outputs": [
    {
     "name": "stdout",
     "output_type": "stream",
     "text": [
      "tp \t tn \t fp \t fn \t \t prec \t rec \t f1 \t \t accuracy\n",
      "126 \t 145 \t 166 \t 25 \t \t 0.43 \t 0.83 \t 0.57 \t \t 0.59\n",
      "166 \t 178 \t 67 \t 51 \t \t 0.71 \t 0.76 \t 0.73 \t \t 0.74\n",
      "132 \t 296 \t 12 \t 22 \t \t 0.92 \t 0.86 \t 0.89 \t \t 0.93\n",
      "80 \t 286 \t 46 \t 50 \t \t 0.63 \t 0.62 \t 0.62 \t \t 0.79\n",
      " \t  \t  \t  \t \t 0.67 \t 0.77 \t 0.72 \t \t\n"
     ]
    }
   ],
   "source": [
    "run(\"lda2vec-partial-elmo_ori\") # LDA2VEC ELMO"
   ]
  },
  {
   "cell_type": "code",
   "execution_count": null,
   "metadata": {},
   "outputs": [],
   "source": [
    "run(\"lda2vec-partial-ner-money\") # LDA2VEC ELMO"
   ]
  },
  {
   "cell_type": "code",
   "execution_count": null,
   "metadata": {},
   "outputs": [],
   "source": [
    "run(\"lda2vec-partial-ner-fasttext-money\") # FASTTEXT"
   ]
  },
  {
   "cell_type": "code",
   "execution_count": null,
   "metadata": {},
   "outputs": [],
   "source": [
    "run(\"lda2vec-partial-ner-w2v-money\") # WORD2VEC"
   ]
  },
  {
   "cell_type": "code",
   "execution_count": null,
   "metadata": {},
   "outputs": [],
   "source": [
    "run(\"lda2vec-partial-ner-glove-money\") # GLOVE"
   ]
  },
  {
   "cell_type": "code",
   "execution_count": 66,
   "metadata": {},
   "outputs": [
    {
     "data": {
      "text/plain": [
       "0.8"
      ]
     },
     "execution_count": 66,
     "metadata": {},
     "output_type": "execute_result"
    }
   ],
   "source": [
    "p = 0.81\n",
    "r = 0.79\n",
    "round(2*((p*r)/(p+r)),3)"
   ]
  },
  {
   "cell_type": "code",
   "execution_count": null,
   "metadata": {},
   "outputs": [],
   "source": [
    "round(0.555, 2)"
   ]
  }
 ],
 "metadata": {
  "kernelspec": {
   "display_name": "Python 3",
   "language": "python",
   "name": "python3"
  },
  "language_info": {
   "codemirror_mode": {
    "name": "ipython",
    "version": 3
   },
   "file_extension": ".py",
   "mimetype": "text/x-python",
   "name": "python",
   "nbconvert_exporter": "python",
   "pygments_lexer": "ipython3",
   "version": "3.6.4"
  }
 },
 "nbformat": 4,
 "nbformat_minor": 2
}
