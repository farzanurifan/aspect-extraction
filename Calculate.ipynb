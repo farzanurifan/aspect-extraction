{
 "cells": [
  {
   "cell_type": "code",
   "execution_count": 54,
   "metadata": {},
   "outputs": [],
   "source": [
    "def calculate(label, is_multi, df):\n",
    "    tp = 0\n",
    "    tn = 0\n",
    "    fp = 0\n",
    "    fn = 0\n",
    "    kosong = 0\n",
    "    \n",
    "    for index in range(0, len(df)):\n",
    "        labels = df['label'][index].split('|')\n",
    "        \n",
    "        if type(df['pred_multiple'][index]) != float:\n",
    "            preds = df['pred_multiple'][index].split('|')\n",
    "\n",
    "            if label in labels and label in preds:\n",
    "                tp += 1\n",
    "            elif label not in labels and label not in preds:\n",
    "                tn += 1\n",
    "            elif label not in labels and label in preds:\n",
    "                fp += 1\n",
    "            elif label in labels and label not in preds:\n",
    "                fn += 1\n",
    "        elif label in labels:\n",
    "            fn += 1\n",
    "        else:\n",
    "            tn += 1\n",
    "    precision = tp / (tp + fp)\n",
    "    recall = tp / (tp + fn)\n",
    "    f1 = 2 * ((precision * recall) / (precision + recall))\n",
    "    print(tp, tn, fp, fn, precision, recall, f1)\n",
    "    return tp, tn, fp, fn, precision, recall, f1"
   ]
  },
  {
   "cell_type": "code",
   "execution_count": 55,
   "metadata": {},
   "outputs": [],
   "source": [
    "import pandas as pd\n",
    "\n",
    "def run(tipe):\n",
    "    df = pd.read_csv('lda2vec works/hasil_kategori_lda2vec'+ tipe +'.csv')\n",
    "    sf = pd.DataFrame(columns=['TP', 'TN', 'FP', 'FN', 'precision', 'recall', 'f1'])\n",
    "\n",
    "    cat = ['AMBIENCE', 'FOOD', 'SERVICE', 'VALUE']\n",
    "    for c in cat:\n",
    "        a, b, c, d, e, f, g = calculate(c, True, df)\n",
    "        sf = sf.append({'TP':a, 'TN':b, 'FP':c, 'FN':d, 'precision':e, 'recall':f, 'f1':g}, ignore_index=True)\n",
    "    sf.to_excel(\"lda2vec works/hasil\"+ tipe +\".xlsx\")"
   ]
  },
  {
   "cell_type": "code",
   "execution_count": 57,
   "metadata": {},
   "outputs": [
    {
     "name": "stdout",
     "output_type": "stream",
     "text": [
      "121 432 61 85 0.6648351648351648 0.587378640776699 0.6237113402061856\n",
      "314 254 33 98 0.9048991354466859 0.7621359223300971 0.8274044795783926\n",
      "120 525 3 51 0.975609756097561 0.7017543859649122 0.8163265306122448\n",
      "127 396 161 15 0.4409722222222222 0.8943661971830986 0.5906976744186047\n"
     ]
    }
   ],
   "source": [
    "run(\"-bagus-filtered\")"
   ]
  },
  {
   "cell_type": "code",
   "execution_count": 58,
   "metadata": {},
   "outputs": [
    {
     "name": "stdout",
     "output_type": "stream",
     "text": [
      "136 401 92 70 0.5964912280701754 0.6601941747572816 0.6267281105990783\n",
      "331 253 34 81 0.9068493150684932 0.8033980582524272 0.851994851994852\n",
      "122 524 4 49 0.9682539682539683 0.7134502923976608 0.8215488215488215\n",
      "135 311 246 7 0.3543307086614173 0.9507042253521126 0.5162523900573613\n"
     ]
    }
   ],
   "source": [
    "run(\"-bagus\")"
   ]
  }
 ],
 "metadata": {
  "kernelspec": {
   "display_name": "Python 3",
   "language": "python",
   "name": "python3"
  },
  "language_info": {
   "codemirror_mode": {
    "name": "ipython",
    "version": 3
   },
   "file_extension": ".py",
   "mimetype": "text/x-python",
   "name": "python",
   "nbconvert_exporter": "python",
   "pygments_lexer": "ipython3",
   "version": "3.6.4"
  }
 },
 "nbformat": 4,
 "nbformat_minor": 2
}
