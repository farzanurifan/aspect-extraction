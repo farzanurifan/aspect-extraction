{
 "cells": [
  {
   "cell_type": "code",
   "execution_count": 133,
   "metadata": {},
   "outputs": [],
   "source": [
    "def calculate(label, df):\n",
    "    tp = 0\n",
    "    tn = 0\n",
    "    fp = 0\n",
    "    fn = 0\n",
    "    kosong = 0\n",
    "    \n",
    "    for index in range(0, len(df)):\n",
    "        labels = df['label'][index].split('|')\n",
    "        \n",
    "        if type(df['pred_multiple'][index]) != float:\n",
    "            preds = df['pred_multiple'][index].split('|')\n",
    "\n",
    "            if label in labels and label in preds:\n",
    "                tp += 1\n",
    "            elif label not in labels and label not in preds:\n",
    "                tn += 1\n",
    "            elif label not in labels and label in preds:\n",
    "                fp += 1\n",
    "            elif label in labels and label not in preds:\n",
    "                fn += 1\n",
    "        elif label in labels:\n",
    "            fn += 1\n",
    "        else:\n",
    "            tn += 1\n",
    "    precision = round(tp / (tp + fp), 2)\n",
    "    recall = round(tp / (tp + fn), 2)\n",
    "    f1 = round(2 * ((precision * recall) / (precision + recall)), 2)\n",
    "    accuracy = round((tp+tn)/(tp+tn+fp+fn), 2)\n",
    "    print(tp, '\\t', tn, '\\t', fp, '\\t', fn, '\\t', '\\t', precision, '\\t', recall, '\\t', f1, '\\t', '\\t', accuracy)\n",
    "    return tp, tn, fp, fn, precision, recall, f1, accuracy"
   ]
  },
  {
   "cell_type": "code",
   "execution_count": 158,
   "metadata": {},
   "outputs": [],
   "source": [
    "import pandas as pd\n",
    "import numpy as np\n",
    "\n",
    "def run(tipe):\n",
    "    df = pd.read_csv('Results/Categorization/'+ tipe +'.csv')\n",
    "    sf = pd.DataFrame(columns=['TP', 'TN', 'FP', 'FN', 'precision', 'recall', 'f1', 'accuracy'])\n",
    "    print('tp', '\\t', 'tn', '\\t', 'fp', '\\t', 'fn', '\\t', '\\t', 'prec', '\\t', 'rec', '\\t', 'f1', '\\t', '\\t', 'accuracy')\n",
    "    precision = []\n",
    "    recall = []\n",
    "    f1 = []\n",
    "    cat = ['AMBIENCE', 'FOOD', 'SERVICE', 'VALUE']\n",
    "    for c in cat:\n",
    "        a, b, c, d, e, f, g, h = calculate(c, df)\n",
    "        precision.append(e)\n",
    "        recall.append(f)\n",
    "        f1.append(g)\n",
    "        sf = sf.append({'TP':a, 'TN':b, 'FP':c, 'FN':d, 'precision':e, 'recall':f, 'f1':g, 'accuracy': h}, ignore_index=True)\n",
    "#     sf.to_excel(\"Results/Calculation/\"+ tipe +\".xlsx\")\n",
    "    print('tp', '\\t', 'tn', '\\t', 'fp', '\\t', 'fn', '\\t', '\\t', round(np.mean(precision),2), '\\t', round(np.mean(recall),2), '\\t', round(np.mean(f1),2), '\\t', '\\t')\n"
   ]
  },
  {
   "cell_type": "code",
   "execution_count": 11,
   "metadata": {
    "scrolled": false
   },
   "outputs": [
    {
     "name": "stdout",
     "output_type": "stream",
     "text": [
      "tp \t tn \t fp \t fn \t \t prec \t rec \t f1 \t \t accuracy\n",
      "102 \t 475 \t 18 \t 104 \t \t 0.85 \t 0.5 \t 0.63 \t \t 0.83\n",
      "265 \t 259 \t 28 \t 147 \t \t 0.9 \t 0.64 \t 0.75 \t \t 0.75\n",
      "106 \t 521 \t 7 \t 65 \t \t 0.94 \t 0.62 \t 0.75 \t \t 0.9\n",
      "122 \t 502 \t 55 \t 20 \t \t 0.69 \t 0.86 \t 0.77 \t \t 0.89\n"
     ]
    }
   ],
   "source": [
    "run(\"20\")"
   ]
  },
  {
   "cell_type": "code",
   "execution_count": 24,
   "metadata": {},
   "outputs": [
    {
     "name": "stdout",
     "output_type": "stream",
     "text": [
      "tp \t tn \t fp \t fn \t \t prec \t rec \t f1 \t \t accuracy\n",
      "167 \t 398 \t 95 \t 39 \t \t 0.64 \t 0.81 \t 0.72 \t \t 0.81\n",
      "396 \t 213 \t 74 \t 16 \t \t 0.84 \t 0.96 \t 0.9 \t \t 0.87\n",
      "145 \t 483 \t 45 \t 26 \t \t 0.76 \t 0.85 \t 0.8 \t \t 0.9\n",
      "128 \t 416 \t 141 \t 14 \t \t 0.48 \t 0.9 \t 0.63 \t \t 0.78\n"
     ]
    }
   ],
   "source": [
    "run(\"20-noun\")"
   ]
  },
  {
   "cell_type": "code",
   "execution_count": null,
   "metadata": {},
   "outputs": [],
   "source": []
  },
  {
   "cell_type": "code",
   "execution_count": 156,
   "metadata": {},
   "outputs": [],
   "source": [
    "# run(\"20-noun-filter\")"
   ]
  },
  {
   "cell_type": "code",
   "execution_count": 143,
   "metadata": {},
   "outputs": [
    {
     "name": "stdout",
     "output_type": "stream",
     "text": [
      "tp \t tn \t fp \t fn \t \t prec \t rec \t f1 \t \t accuracy\n",
      "74 \t 487 \t 6 \t 132 \t \t 0.93 \t 0.36 \t 0.52 \t \t 0.8\n",
      "247 \t 263 \t 24 \t 165 \t \t 0.91 \t 0.6 \t 0.72 \t \t 0.73\n",
      "75 \t 526 \t 2 \t 96 \t \t 0.97 \t 0.44 \t 0.61 \t \t 0.86\n",
      "129 \t 402 \t 155 \t 13 \t \t 0.45 \t 0.91 \t 0.6 \t \t 0.76\n",
      "tp \t tn \t fp \t fn \t \t 0.82 \t 0.58 \t 0.61 \t \t\n"
     ]
    }
   ],
   "source": [
    "run(\"20-beda\")"
   ]
  },
  {
   "cell_type": "code",
   "execution_count": 144,
   "metadata": {},
   "outputs": [
    {
     "name": "stdout",
     "output_type": "stream",
     "text": [
      "tp \t tn \t fp \t fn \t \t prec \t rec \t f1 \t \t accuracy\n",
      "166 \t 399 \t 94 \t 40 \t \t 0.64 \t 0.81 \t 0.72 \t \t 0.81\n",
      "397 \t 213 \t 74 \t 15 \t \t 0.84 \t 0.96 \t 0.9 \t \t 0.87\n",
      "144 \t 479 \t 49 \t 27 \t \t 0.75 \t 0.84 \t 0.79 \t \t 0.89\n",
      "128 \t 419 \t 138 \t 14 \t \t 0.48 \t 0.9 \t 0.63 \t \t 0.78\n",
      "tp \t tn \t fp \t fn \t \t 0.68 \t 0.88 \t 0.76 \t \t\n"
     ]
    }
   ],
   "source": [
    "run(\"20-noun-beda\")"
   ]
  },
  {
   "cell_type": "code",
   "execution_count": 145,
   "metadata": {},
   "outputs": [
    {
     "name": "stdout",
     "output_type": "stream",
     "text": [
      "tp \t tn \t fp \t fn \t \t prec \t rec \t f1 \t \t accuracy\n",
      "164 \t 407 \t 86 \t 42 \t \t 0.66 \t 0.8 \t 0.72 \t \t 0.82\n",
      "396 \t 218 \t 69 \t 16 \t \t 0.85 \t 0.96 \t 0.9 \t \t 0.88\n",
      "144 \t 488 \t 40 \t 27 \t \t 0.78 \t 0.84 \t 0.81 \t \t 0.9\n",
      "126 \t 448 \t 109 \t 16 \t \t 0.54 \t 0.89 \t 0.67 \t \t 0.82\n",
      "tp \t tn \t fp \t fn \t \t 0.71 \t 0.87 \t 0.78 \t \t\n"
     ]
    }
   ],
   "source": [
    "run(\"20-noun-filter-beda\")"
   ]
  },
  {
   "cell_type": "code",
   "execution_count": 160,
   "metadata": {},
   "outputs": [
    {
     "name": "stdout",
     "output_type": "stream",
     "text": [
      "tp \t tn \t fp \t fn \t \t prec \t rec \t f1 \t \t accuracy\n",
      "161 \t 426 \t 67 \t 45 \t \t 0.71 \t 0.78 \t 0.74 \t \t 0.84\n",
      "393 \t 225 \t 62 \t 19 \t \t 0.86 \t 0.95 \t 0.9 \t \t 0.88\n",
      "139 \t 495 \t 33 \t 32 \t \t 0.81 \t 0.81 \t 0.81 \t \t 0.91\n",
      "124 \t 463 \t 94 \t 18 \t \t 0.57 \t 0.87 \t 0.69 \t \t 0.84\n",
      "tp \t tn \t fp \t fn \t \t 0.74 \t 0.85 \t 0.78 \t \t\n"
     ]
    }
   ],
   "source": [
    "run(\"20-ner\")"
   ]
  },
  {
   "cell_type": "code",
   "execution_count": 161,
   "metadata": {},
   "outputs": [
    {
     "name": "stdout",
     "output_type": "stream",
     "text": [
      "tp \t tn \t fp \t fn \t \t prec \t rec \t f1 \t \t accuracy\n",
      "161 \t 427 \t 66 \t 45 \t \t 0.71 \t 0.78 \t 0.74 \t \t 0.84\n",
      "392 \t 226 \t 61 \t 20 \t \t 0.87 \t 0.95 \t 0.91 \t \t 0.88\n",
      "139 \t 495 \t 33 \t 32 \t \t 0.81 \t 0.81 \t 0.81 \t \t 0.91\n",
      "124 \t 475 \t 82 \t 18 \t \t 0.6 \t 0.87 \t 0.71 \t \t 0.86\n",
      "tp \t tn \t fp \t fn \t \t 0.75 \t 0.85 \t 0.79 \t \t\n"
     ]
    }
   ],
   "source": [
    "run(\"20-ner-ex\")"
   ]
  }
 ],
 "metadata": {
  "kernelspec": {
   "display_name": "Python 3",
   "language": "python",
   "name": "python3"
  },
  "language_info": {
   "codemirror_mode": {
    "name": "ipython",
    "version": 3
   },
   "file_extension": ".py",
   "mimetype": "text/x-python",
   "name": "python",
   "nbconvert_exporter": "python",
   "pygments_lexer": "ipython3",
   "version": "3.6.4"
  }
 },
 "nbformat": 4,
 "nbformat_minor": 2
}
