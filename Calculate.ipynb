{
 "cells": [
  {
   "cell_type": "code",
   "execution_count": 1,
   "metadata": {},
   "outputs": [],
   "source": [
    "def calculate(label, df):\n",
    "    tp = 0\n",
    "    tn = 0\n",
    "    fp = 0\n",
    "    fn = 0\n",
    "    kosong = 0\n",
    "    \n",
    "    for index in range(0, len(df)):\n",
    "        labels = df['label'][index].split(',')\n",
    "        \n",
    "        if type(df['predict'][index]) != float:\n",
    "            preds = df['predict'][index].split('|')\n",
    "\n",
    "            if label in labels and label in preds:\n",
    "                tp += 1\n",
    "            elif label not in labels and label not in preds:\n",
    "                tn += 1\n",
    "            elif label not in labels and label in preds:\n",
    "                fp += 1\n",
    "            elif label in labels and label not in preds:\n",
    "                fn += 1\n",
    "        elif label in labels:\n",
    "            fn += 1\n",
    "        else:\n",
    "            tn += 1\n",
    "    precision = round(tp / (tp + fp), 2)\n",
    "    recall = round(tp / (tp + fn), 2)\n",
    "    f1 = round(2 * ((precision * recall) / (precision + recall)), 2)\n",
    "    accuracy = round((tp+tn)/(tp+tn+fp+fn), 2)\n",
    "    print(tp, '\\t', tn, '\\t', fp, '\\t', fn, '\\t', '\\t', precision, '\\t', recall, '\\t', f1, '\\t', '\\t', accuracy)\n",
    "    return tp, tn, fp, fn, precision, recall, f1, accuracy"
   ]
  },
  {
   "cell_type": "code",
   "execution_count": 2,
   "metadata": {},
   "outputs": [],
   "source": [
    "import pandas as pd\n",
    "import numpy as np\n",
    "\n",
    "def run(tipe):\n",
    "    df = pd.read_csv('Results/Categorization/'+ tipe +'.csv')\n",
    "    sf = pd.DataFrame(columns=['TP', 'TN', 'FP', 'FN', 'precision', 'recall', 'f1', 'accuracy'])\n",
    "    print('tp', '\\t', 'tn', '\\t', 'fp', '\\t', 'fn', '\\t', '\\t', 'prec', '\\t', 'rec', '\\t', 'f1', '\\t', '\\t', 'accuracy')\n",
    "    precision = []\n",
    "    recall = []\n",
    "    f1 = []\n",
    "    cat = ['AMBIENCE', 'FOOD', 'SERVICE', 'PRICES']\n",
    "    for c in cat:\n",
    "        a, b, c, d, e, f, g, h = calculate(c, df)\n",
    "        precision.append(e)\n",
    "        recall.append(f)\n",
    "        f1.append(g)\n",
    "        sf = sf.append({'TP':a, 'TN':b, 'FP':c, 'FN':d, 'precision':e, 'recall':f, 'f1':g, 'accuracy': h}, ignore_index=True)\n",
    "    sf.to_excel(\"Results/Calculation/\"+ tipe +\".xlsx\")\n",
    "    print('', '\\t', '', '\\t', '', '\\t', '', '\\t', '\\t', round(np.mean(precision),2), '\\t', round(np.mean(recall),2), '\\t', round(np.mean(f1),2), '\\t', '\\t')\n"
   ]
  },
  {
   "cell_type": "code",
   "execution_count": 5,
   "metadata": {
    "scrolled": false
   },
   "outputs": [
    {
     "name": "stdout",
     "output_type": "stream",
     "text": [
      "tp \t tn \t fp \t fn \t \t prec \t rec \t f1 \t \t accuracy\n",
      "118 \t 258 \t 55 \t 33 \t \t 0.68 \t 0.78 \t 0.73 \t \t 0.81\n",
      "201 \t 167 \t 80 \t 16 \t \t 0.72 \t 0.93 \t 0.81 \t \t 0.79\n",
      "124 \t 301 \t 9 \t 30 \t \t 0.93 \t 0.81 \t 0.87 \t \t 0.92\n",
      "90 \t 320 \t 14 \t 40 \t \t 0.87 \t 0.69 \t 0.77 \t \t 0.88\n",
      " \t  \t  \t  \t \t 0.8 \t 0.8 \t 0.8 \t \t\n"
     ]
    }
   ],
   "source": [
    "run(\"lda-partial-ner-money\")"
   ]
  },
  {
   "cell_type": "code",
   "execution_count": 6,
   "metadata": {},
   "outputs": [
    {
     "name": "stdout",
     "output_type": "stream",
     "text": [
      "tp \t tn \t fp \t fn \t \t prec \t rec \t f1 \t \t accuracy\n",
      "114 \t 268 \t 45 \t 37 \t \t 0.72 \t 0.75 \t 0.73 \t \t 0.82\n",
      "197 \t 170 \t 77 \t 20 \t \t 0.72 \t 0.91 \t 0.8 \t \t 0.79\n",
      "129 \t 295 \t 15 \t 25 \t \t 0.9 \t 0.84 \t 0.87 \t \t 0.91\n",
      "91 \t 320 \t 14 \t 39 \t \t 0.87 \t 0.7 \t 0.78 \t \t 0.89\n",
      " \t  \t  \t  \t \t 0.8 \t 0.8 \t 0.8 \t \t\n"
     ]
    }
   ],
   "source": [
    "run(\"16_lda2vec-partial-ner-money\")"
   ]
  },
  {
   "cell_type": "code",
   "execution_count": 50,
   "metadata": {},
   "outputs": [],
   "source": [
    "# run(\"16_lda2vec-partial-ner\")"
   ]
  },
  {
   "cell_type": "code",
   "execution_count": 4,
   "metadata": {
    "scrolled": true
   },
   "outputs": [
    {
     "name": "stdout",
     "output_type": "stream",
     "text": [
      "tp \t tn \t fp \t fn \t \t prec \t rec \t f1 \t \t accuracy\n",
      "114 \t 268 \t 45 \t 37 \t \t 0.72 \t 0.75 \t 0.73 \t \t 0.82\n",
      "197 \t 170 \t 77 \t 20 \t \t 0.72 \t 0.91 \t 0.8 \t \t 0.79\n",
      "129 \t 295 \t 15 \t 25 \t \t 0.9 \t 0.84 \t 0.87 \t \t 0.91\n",
      "91 \t 320 \t 14 \t 39 \t \t 0.87 \t 0.7 \t 0.78 \t \t 0.89\n",
      " \t  \t  \t  \t \t 0.8 \t 0.8 \t 0.8 \t \t\n"
     ]
    }
   ],
   "source": [
    "run(\"16_lda2vec-partial-ner-money\")"
   ]
  },
  {
   "cell_type": "code",
   "execution_count": 14,
   "metadata": {
    "scrolled": true
   },
   "outputs": [
    {
     "name": "stdout",
     "output_type": "stream",
     "text": [
      "tp \t tn \t fp \t fn \t \t prec \t rec \t f1 \t \t accuracy\n",
      "109 \t 267 \t 46 \t 42 \t \t 0.7 \t 0.72 \t 0.71 \t \t 0.81\n",
      "193 \t 171 \t 76 \t 24 \t \t 0.72 \t 0.89 \t 0.8 \t \t 0.78\n",
      "133 \t 288 \t 22 \t 21 \t \t 0.86 \t 0.86 \t 0.86 \t \t 0.91\n",
      "67 \t 321 \t 13 \t 63 \t \t 0.84 \t 0.52 \t 0.64 \t \t 0.84\n",
      " \t  \t  \t  \t \t 0.78 \t 0.75 \t 0.75 \t \t\n"
     ]
    }
   ],
   "source": [
    "run(\"16_lda2vec-op-partial\")"
   ]
  },
  {
   "cell_type": "code",
   "execution_count": 43,
   "metadata": {},
   "outputs": [
    {
     "name": "stdout",
     "output_type": "stream",
     "text": [
      "tp \t tn \t fp \t fn \t \t prec \t rec \t f1 \t \t accuracy\n",
      "107 \t 275 \t 38 \t 44 \t \t 0.74 \t 0.71 \t 0.72 \t \t 0.82\n",
      "193 \t 173 \t 74 \t 24 \t \t 0.72 \t 0.89 \t 0.8 \t \t 0.79\n",
      "133 \t 289 \t 21 \t 21 \t \t 0.86 \t 0.86 \t 0.86 \t \t 0.91\n",
      "67 \t 321 \t 13 \t 63 \t \t 0.84 \t 0.52 \t 0.64 \t \t 0.84\n",
      " \t  \t  \t  \t \t 0.79 \t 0.74 \t 0.76 \t \t\n"
     ]
    }
   ],
   "source": [
    "run(\"16_lda2vec-op-partial-ner\")"
   ]
  },
  {
   "cell_type": "code",
   "execution_count": 8,
   "metadata": {},
   "outputs": [
    {
     "name": "stdout",
     "output_type": "stream",
     "text": [
      "tp \t tn \t fp \t fn \t \t prec \t rec \t f1 \t \t accuracy\n",
      "134 \t 248 \t 65 \t 17 \t \t 0.67 \t 0.89 \t 0.76 \t \t 0.82\n",
      "213 \t 147 \t 100 \t 4 \t \t 0.68 \t 0.98 \t 0.8 \t \t 0.78\n",
      "139 \t 277 \t 33 \t 15 \t \t 0.81 \t 0.9 \t 0.85 \t \t 0.9\n",
      "66 \t 306 \t 28 \t 64 \t \t 0.7 \t 0.51 \t 0.59 \t \t 0.8\n",
      " \t  \t  \t  \t \t 0.72 \t 0.82 \t 0.75 \t \t\n"
     ]
    }
   ],
   "source": [
    "run(\"16_baru_nan\")"
   ]
  },
  {
   "cell_type": "code",
   "execution_count": null,
   "metadata": {},
   "outputs": [],
   "source": []
  }
 ],
 "metadata": {
  "kernelspec": {
   "display_name": "Python 3",
   "language": "python",
   "name": "python3"
  },
  "language_info": {
   "codemirror_mode": {
    "name": "ipython",
    "version": 3
   },
   "file_extension": ".py",
   "mimetype": "text/x-python",
   "name": "python",
   "nbconvert_exporter": "python",
   "pygments_lexer": "ipython3",
   "version": "3.6.4"
  }
 },
 "nbformat": 4,
 "nbformat_minor": 2
}
