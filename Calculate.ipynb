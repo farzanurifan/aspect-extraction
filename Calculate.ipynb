{
 "cells": [
  {
   "cell_type": "code",
   "execution_count": 81,
   "metadata": {},
   "outputs": [
    {
     "data": {
      "text/html": [
       "<div>\n",
       "<style scoped>\n",
       "    .dataframe tbody tr th:only-of-type {\n",
       "        vertical-align: middle;\n",
       "    }\n",
       "\n",
       "    .dataframe tbody tr th {\n",
       "        vertical-align: top;\n",
       "    }\n",
       "\n",
       "    .dataframe thead th {\n",
       "        text-align: right;\n",
       "    }\n",
       "</style>\n",
       "<table border=\"1\" class=\"dataframe\">\n",
       "  <thead>\n",
       "    <tr style=\"text-align: right;\">\n",
       "      <th></th>\n",
       "      <th>Unnamed: 0</th>\n",
       "      <th>id</th>\n",
       "      <th>review</th>\n",
       "      <th>label</th>\n",
       "      <th>pred_single</th>\n",
       "      <th>pred_multiple</th>\n",
       "      <th>terms</th>\n",
       "    </tr>\n",
       "  </thead>\n",
       "  <tbody>\n",
       "    <tr>\n",
       "      <th>0</th>\n",
       "      <td>0</td>\n",
       "      <td>0</td>\n",
       "      <td>i am not necessarily fanatical about this plac...</td>\n",
       "      <td>VALUE</td>\n",
       "      <td>VALUE</td>\n",
       "      <td>VALUE|VALUE</td>\n",
       "      <td>price|place</td>\n",
       "    </tr>\n",
       "    <tr>\n",
       "      <th>1</th>\n",
       "      <td>1</td>\n",
       "      <td>2</td>\n",
       "      <td>the high prices you're going to pay is for the...</td>\n",
       "      <td>VALUE</td>\n",
       "      <td>VALUE</td>\n",
       "      <td>FOOD|VALUE|VALUE|VALUE|VALUE|VALUE|VALUE|VALUE</td>\n",
       "      <td>food|price|high|pay|view|going|'re|go</td>\n",
       "    </tr>\n",
       "    <tr>\n",
       "      <th>2</th>\n",
       "      <td>2</td>\n",
       "      <td>3</td>\n",
       "      <td>the high prices you're going to pay is for the...</td>\n",
       "      <td>VALUE</td>\n",
       "      <td>VALUE</td>\n",
       "      <td>FOOD|VALUE|VALUE|VALUE|VALUE|VALUE|VALUE|VALUE</td>\n",
       "      <td>food|price|high|pay|view|going|'re|go</td>\n",
       "    </tr>\n",
       "    <tr>\n",
       "      <th>3</th>\n",
       "      <td>3</td>\n",
       "      <td>4</td>\n",
       "      <td>the high prices you're going to pay is for the...</td>\n",
       "      <td>VALUE</td>\n",
       "      <td>VALUE</td>\n",
       "      <td>FOOD|VALUE|VALUE|VALUE|VALUE|VALUE|VALUE|VALUE</td>\n",
       "      <td>food|price|high|pay|view|going|'re|go</td>\n",
       "    </tr>\n",
       "    <tr>\n",
       "      <th>4</th>\n",
       "      <td>4</td>\n",
       "      <td>5</td>\n",
       "      <td>the high prices you're going to pay is for the...</td>\n",
       "      <td>VALUE</td>\n",
       "      <td>VALUE</td>\n",
       "      <td>FOOD|VALUE|VALUE|VALUE|VALUE|VALUE|VALUE|VALUE</td>\n",
       "      <td>food|price|high|pay|view|going|'re|go</td>\n",
       "    </tr>\n",
       "  </tbody>\n",
       "</table>\n",
       "</div>"
      ],
      "text/plain": [
       "   Unnamed: 0  id                                             review  label  \\\n",
       "0           0   0  i am not necessarily fanatical about this plac...  VALUE   \n",
       "1           1   2  the high prices you're going to pay is for the...  VALUE   \n",
       "2           2   3  the high prices you're going to pay is for the...  VALUE   \n",
       "3           3   4  the high prices you're going to pay is for the...  VALUE   \n",
       "4           4   5  the high prices you're going to pay is for the...  VALUE   \n",
       "\n",
       "  pred_single                                   pred_multiple  \\\n",
       "0       VALUE                                     VALUE|VALUE   \n",
       "1       VALUE  FOOD|VALUE|VALUE|VALUE|VALUE|VALUE|VALUE|VALUE   \n",
       "2       VALUE  FOOD|VALUE|VALUE|VALUE|VALUE|VALUE|VALUE|VALUE   \n",
       "3       VALUE  FOOD|VALUE|VALUE|VALUE|VALUE|VALUE|VALUE|VALUE   \n",
       "4       VALUE  FOOD|VALUE|VALUE|VALUE|VALUE|VALUE|VALUE|VALUE   \n",
       "\n",
       "                                   terms  \n",
       "0                            price|place  \n",
       "1  food|price|high|pay|view|going|'re|go  \n",
       "2  food|price|high|pay|view|going|'re|go  \n",
       "3  food|price|high|pay|view|going|'re|go  \n",
       "4  food|price|high|pay|view|going|'re|go  "
      ]
     },
     "execution_count": 81,
     "metadata": {},
     "output_type": "execute_result"
    }
   ],
   "source": [
    "import pandas as pd\n",
    "\n",
    "df = pd.read_csv('hasil_kategori_lda.csv')\n",
    "df.head()"
   ]
  },
  {
   "cell_type": "code",
   "execution_count": 99,
   "metadata": {},
   "outputs": [],
   "source": [
    "def calculate(label, is_multi):\n",
    "    tp = 0\n",
    "    tn = 0\n",
    "    fp = 0\n",
    "    fn = 0\n",
    "    kosong = 0\n",
    "    \n",
    "    for index in range(0, len(df)):\n",
    "        labels = df['label'][index].split('|')\n",
    "        if is_multi:\n",
    "            if type(df['pred_multiple'][index]) != float:\n",
    "                preds = df['pred_multiple'][index].split('|')\n",
    "\n",
    "                if label in labels and label in preds:\n",
    "                    tp += 1\n",
    "                elif label not in labels and label not in preds:\n",
    "                    tn += 1\n",
    "                elif label not in labels and label in preds:\n",
    "                    fp += 1\n",
    "                elif label in labels and label not in preds:\n",
    "                    fn += 1\n",
    "            elif label in labels:\n",
    "                fn += 1\n",
    "            else:\n",
    "                fp += 1\n",
    "        else:\n",
    "            if type(df['pred_single'][index]) != float:\n",
    "                preds = [df['pred_single'][index]]\n",
    "\n",
    "                if label in labels and label in preds:\n",
    "                    tp += 1\n",
    "                elif label not in labels and label not in preds:\n",
    "                    tn += 1\n",
    "                elif label not in labels and label in preds:\n",
    "                    fp += 1\n",
    "                elif label in labels and label not in preds:\n",
    "                    fn += 1\n",
    "            elif label in labels:\n",
    "                fn += 1\n",
    "            else:\n",
    "                fp += 1\n",
    "    precision = tp / (tp + fp)\n",
    "    recall = tp / (tp + fn)\n",
    "    f1 = 2 * ((precision * recall) / (precision + recall))\n",
    "    print(tp, tn, fp, fn, precision, recall, f1)\n",
    "    return tp, tn, fp, fn, precision, recall, f1"
   ]
  },
  {
   "cell_type": "code",
   "execution_count": 102,
   "metadata": {},
   "outputs": [
    {
     "name": "stdout",
     "output_type": "stream",
     "text": [
      "104 427 66 102 0.611764705882353 0.5048543689320388 0.5531914893617021\n",
      "273 263 19 144 0.934931506849315 0.6546762589928058 0.770098730606488\n",
      "29 508 20 142 0.5918367346938775 0.1695906432748538 0.2636363636363636\n",
      "65 422 169 43 0.2777777777777778 0.6018518518518519 0.38011695906432746\n"
     ]
    }
   ],
   "source": [
    "import pandas as pd\n",
    "\n",
    "sf = pd.DataFrame(columns=['TP', 'TN', 'FP', 'FN', 'precision', 'recall', 'f1'])\n",
    "\n",
    "cat = ['AMBIENCE', 'FOOD', 'SERVICE', 'VALUE']\n",
    "for c in cat:\n",
    "    a, b, c, d, e, f, g = calculate(c, False)\n",
    "    sf = sf.append({'TP':a, 'TN':b, 'FP':c, 'FN':d, 'precision':e, 'recall':f, 'f1':g}, ignore_index=True)\n",
    "sf.to_excel(\"nikon-false.xlsx\")"
   ]
  },
  {
   "cell_type": "code",
   "execution_count": 103,
   "metadata": {},
   "outputs": [
    {
     "name": "stdout",
     "output_type": "stream",
     "text": [
      "144 352 141 62 0.5052631578947369 0.6990291262135923 0.5865580448065174\n",
      "334 241 41 83 0.8906666666666667 0.8009592326139089 0.8434343434343434\n",
      "121 500 28 50 0.8120805369127517 0.7076023391812866 0.7562500000000001\n",
      "108 262 329 0 0.2471395881006865 1.0 0.39633027522935776\n"
     ]
    }
   ],
   "source": [
    "import pandas as pd\n",
    "\n",
    "sf = pd.DataFrame(columns=['TP', 'TN', 'FP', 'FN', 'precision', 'recall', 'f1'])\n",
    "\n",
    "cat = ['AMBIENCE', 'FOOD', 'SERVICE', 'VALUE']\n",
    "for c in cat:\n",
    "    a, b, c, d, e, f, g = calculate(c, True)\n",
    "    sf = sf.append({'TP':a, 'TN':b, 'FP':c, 'FN':d, 'precision':e, 'recall':f, 'f1':g}, ignore_index=True)\n",
    "sf.to_excel(\"nikon-true.xlsx\")"
   ]
  },
  {
   "cell_type": "code",
   "execution_count": null,
   "metadata": {},
   "outputs": [],
   "source": []
  },
  {
   "cell_type": "code",
   "execution_count": null,
   "metadata": {},
   "outputs": [],
   "source": []
  }
 ],
 "metadata": {
  "kernelspec": {
   "display_name": "Python 3",
   "language": "python",
   "name": "python3"
  },
  "language_info": {
   "codemirror_mode": {
    "name": "ipython",
    "version": 3
   },
   "file_extension": ".py",
   "mimetype": "text/x-python",
   "name": "python",
   "nbconvert_exporter": "python",
   "pygments_lexer": "ipython3",
   "version": "3.6.4"
  }
 },
 "nbformat": 4,
 "nbformat_minor": 2
}
