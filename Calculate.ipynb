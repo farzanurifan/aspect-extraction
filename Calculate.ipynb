{
 "cells": [
  {
   "cell_type": "code",
   "execution_count": 2,
   "metadata": {},
   "outputs": [],
   "source": [
    "def calculate(label, df):\n",
    "    tp = 0\n",
    "    tn = 0\n",
    "    fp = 0\n",
    "    fn = 0\n",
    "    kosong = 0\n",
    "    \n",
    "    for index in range(0, len(df)):\n",
    "        labels = df['label'][index].split(',')\n",
    "        \n",
    "        if type(df['predict'][index]) != float:\n",
    "            preds = df['predict'][index].split('|')\n",
    "\n",
    "            if label in labels and label in preds:\n",
    "                tp += 1\n",
    "            elif label not in labels and label not in preds:\n",
    "                tn += 1\n",
    "            elif label not in labels and label in preds:\n",
    "                fp += 1\n",
    "            elif label in labels and label not in preds:\n",
    "                fn += 1\n",
    "        elif label in labels:\n",
    "            fn += 1\n",
    "        else:\n",
    "            tn += 1\n",
    "    precision = round(tp / (tp + fp), 2)\n",
    "    recall = round(tp / (tp + fn), 2)\n",
    "    f1 = round(2 * ((precision * recall) / (precision + recall)), 2)\n",
    "    accuracy = round((tp+tn)/(tp+tn+fp+fn), 2)\n",
    "    print(tp, '\\t', tn, '\\t', fp, '\\t', fn, '\\t', '\\t', precision, '\\t', recall, '\\t', f1, '\\t', '\\t', accuracy)\n",
    "    return tp, tn, fp, fn, precision, recall, f1, accuracy"
   ]
  },
  {
   "cell_type": "code",
   "execution_count": 3,
   "metadata": {},
   "outputs": [],
   "source": [
    "import pandas as pd\n",
    "import numpy as np\n",
    "\n",
    "def run(tipe):\n",
    "    df = pd.read_csv('Results/Categorization/'+ tipe +'.csv')\n",
    "    sf = pd.DataFrame(columns=['TP', 'TN', 'FP', 'FN', 'precision', 'recall', 'f1', 'accuracy'])\n",
    "    print('tp', '\\t', 'tn', '\\t', 'fp', '\\t', 'fn', '\\t', '\\t', 'prec', '\\t', 'rec', '\\t', 'f1', '\\t', '\\t', 'accuracy')\n",
    "    precision = []\n",
    "    recall = []\n",
    "    f1 = []\n",
    "    cat = ['AMBIENCE', 'FOOD', 'SERVICE', 'PRICES']\n",
    "    for c in cat:\n",
    "        a, b, c, d, e, f, g, h = calculate(c, df)\n",
    "        precision.append(e)\n",
    "        recall.append(f)\n",
    "        f1.append(g)\n",
    "        sf = sf.append({'TP':a, 'TN':b, 'FP':c, 'FN':d, 'precision':e, 'recall':f, 'f1':g, 'accuracy': h}, ignore_index=True)\n",
    "    sf.to_excel(\"Results/Calculation/\"+ tipe +\".xlsx\")\n",
    "    print('', '\\t', '', '\\t', '', '\\t', '', '\\t', '\\t', round(np.mean(precision),2), '\\t', round(np.mean(recall),2), '\\t', round(np.mean(f1),2), '\\t', '\\t')\n"
   ]
  },
  {
   "cell_type": "code",
   "execution_count": 1,
   "metadata": {
    "scrolled": false
   },
   "outputs": [],
   "source": [
    "# run(\"lda\")"
   ]
  },
  {
   "cell_type": "code",
   "execution_count": 2,
   "metadata": {},
   "outputs": [],
   "source": [
    "# run(\"plsa\")"
   ]
  },
  {
   "cell_type": "code",
   "execution_count": 3,
   "metadata": {
    "scrolled": true
   },
   "outputs": [],
   "source": [
    "# run(\"dp\")"
   ]
  },
  {
   "cell_type": "code",
   "execution_count": 41,
   "metadata": {
    "scrolled": true
   },
   "outputs": [
    {
     "name": "stdout",
     "output_type": "stream",
     "text": [
      "tp \t tn \t fp \t fn \t \t prec \t rec \t f1 \t \t accuracy\n",
      "120 \t 239 \t 74 \t 31 \t \t 0.62 \t 0.79 \t 0.69 \t \t 0.77\n",
      "200 \t 164 \t 83 \t 17 \t \t 0.71 \t 0.92 \t 0.8 \t \t 0.78\n",
      "132 \t 301 \t 9 \t 22 \t \t 0.94 \t 0.86 \t 0.9 \t \t 0.93\n",
      "92 \t 319 \t 15 \t 38 \t \t 0.86 \t 0.71 \t 0.78 \t \t 0.89\n",
      " \t  \t  \t  \t \t 0.78 \t 0.82 \t 0.79 \t \t\n"
     ]
    }
   ],
   "source": [
    "run(\"plsa-partial-ner-money\") # PLSA"
   ]
  },
  {
   "cell_type": "code",
   "execution_count": 42,
   "metadata": {},
   "outputs": [
    {
     "name": "stdout",
     "output_type": "stream",
     "text": [
      "tp \t tn \t fp \t fn \t \t prec \t rec \t f1 \t \t accuracy\n",
      "124 \t 231 \t 82 \t 27 \t \t 0.6 \t 0.82 \t 0.69 \t \t 0.77\n",
      "203 \t 163 \t 84 \t 14 \t \t 0.71 \t 0.94 \t 0.81 \t \t 0.79\n",
      "126 \t 278 \t 32 \t 28 \t \t 0.8 \t 0.82 \t 0.81 \t \t 0.87\n",
      "95 \t 314 \t 20 \t 35 \t \t 0.83 \t 0.73 \t 0.78 \t \t 0.88\n",
      " \t  \t  \t  \t \t 0.74 \t 0.83 \t 0.77 \t \t\n"
     ]
    }
   ],
   "source": [
    "run(\"lda-partial-ner-money\") # LDA"
   ]
  },
  {
   "cell_type": "code",
   "execution_count": 43,
   "metadata": {},
   "outputs": [
    {
     "name": "stdout",
     "output_type": "stream",
     "text": [
      "tp \t tn \t fp \t fn \t \t prec \t rec \t f1 \t \t accuracy\n",
      "129 \t 255 \t 58 \t 22 \t \t 0.69 \t 0.85 \t 0.76 \t \t 0.83\n",
      "204 \t 170 \t 77 \t 13 \t \t 0.73 \t 0.94 \t 0.82 \t \t 0.81\n",
      "124 \t 287 \t 23 \t 30 \t \t 0.84 \t 0.81 \t 0.82 \t \t 0.89\n",
      "77 \t 315 \t 19 \t 53 \t \t 0.8 \t 0.59 \t 0.68 \t \t 0.84\n",
      " \t  \t  \t  \t \t 0.76 \t 0.8 \t 0.77 \t \t\n"
     ]
    }
   ],
   "source": [
    "run(\"dp-partial-ner-money\") # DP"
   ]
  },
  {
   "cell_type": "code",
   "execution_count": 44,
   "metadata": {},
   "outputs": [
    {
     "name": "stdout",
     "output_type": "stream",
     "text": [
      "tp \t tn \t fp \t fn \t \t prec \t rec \t f1 \t \t accuracy\n",
      "121 \t 236 \t 77 \t 30 \t \t 0.61 \t 0.8 \t 0.69 \t \t 0.77\n",
      "199 \t 163 \t 84 \t 18 \t \t 0.7 \t 0.92 \t 0.8 \t \t 0.78\n",
      "129 \t 299 \t 11 \t 25 \t \t 0.92 \t 0.84 \t 0.88 \t \t 0.92\n",
      "92 \t 318 \t 16 \t 38 \t \t 0.85 \t 0.71 \t 0.77 \t \t 0.88\n",
      " \t  \t  \t  \t \t 0.77 \t 0.82 \t 0.78 \t \t\n"
     ]
    }
   ],
   "source": [
    "run(\"lda2vec-partial-ner-money\") # LDA2VEC ELMO"
   ]
  },
  {
   "cell_type": "code",
   "execution_count": 35,
   "metadata": {},
   "outputs": [
    {
     "name": "stdout",
     "output_type": "stream",
     "text": [
      "tp \t tn \t fp \t fn \t \t prec \t rec \t f1 \t \t accuracy\n",
      "124 \t 182 \t 131 \t 27 \t \t 0.49 \t 0.82 \t 0.61 \t \t 0.66\n",
      "176 \t 192 \t 55 \t 41 \t \t 0.76 \t 0.81 \t 0.78 \t \t 0.79\n",
      "136 \t 256 \t 54 \t 18 \t \t 0.72 \t 0.88 \t 0.79 \t \t 0.84\n",
      "94 \t 314 \t 20 \t 36 \t \t 0.82 \t 0.72 \t 0.77 \t \t 0.88\n",
      " \t  \t  \t  \t \t 0.7 \t 0.81 \t 0.74 \t \t\n"
     ]
    }
   ],
   "source": [
    "run(\"lda2vec-partial-ner-fasttext-money\") # FASTTEXT"
   ]
  },
  {
   "cell_type": "code",
   "execution_count": 34,
   "metadata": {},
   "outputs": [
    {
     "name": "stdout",
     "output_type": "stream",
     "text": [
      "tp \t tn \t fp \t fn \t \t prec \t rec \t f1 \t \t accuracy\n",
      "116 \t 213 \t 100 \t 35 \t \t 0.54 \t 0.77 \t 0.63 \t \t 0.71\n",
      "182 \t 159 \t 88 \t 35 \t \t 0.67 \t 0.84 \t 0.75 \t \t 0.73\n",
      "128 \t 282 \t 28 \t 26 \t \t 0.82 \t 0.83 \t 0.82 \t \t 0.88\n",
      "98 \t 277 \t 57 \t 32 \t \t 0.63 \t 0.75 \t 0.68 \t \t 0.81\n",
      " \t  \t  \t  \t \t 0.66 \t 0.8 \t 0.72 \t \t\n"
     ]
    }
   ],
   "source": [
    "run(\"lda2vec-partial-ner-w2v-money\") # WORD2VEC"
   ]
  },
  {
   "cell_type": "code",
   "execution_count": 46,
   "metadata": {},
   "outputs": [
    {
     "name": "stdout",
     "output_type": "stream",
     "text": [
      "tp \t tn \t fp \t fn \t \t prec \t rec \t f1 \t \t accuracy\n",
      "112 \t 219 \t 94 \t 39 \t \t 0.54 \t 0.74 \t 0.62 \t \t 0.71\n",
      "169 \t 206 \t 41 \t 48 \t \t 0.8 \t 0.78 \t 0.79 \t \t 0.81\n",
      "130 \t 240 \t 70 \t 24 \t \t 0.65 \t 0.84 \t 0.73 \t \t 0.8\n",
      "109 \t 242 \t 92 \t 21 \t \t 0.54 \t 0.84 \t 0.66 \t \t 0.76\n",
      " \t  \t  \t  \t \t 0.63 \t 0.8 \t 0.7 \t \t\n"
     ]
    }
   ],
   "source": [
    "run(\"lda2vec-partial-ner-glove-money\") # GLOVE"
   ]
  }
 ],
 "metadata": {
  "kernelspec": {
   "display_name": "Python 3",
   "language": "python",
   "name": "python3"
  },
  "language_info": {
   "codemirror_mode": {
    "name": "ipython",
    "version": 3
   },
   "file_extension": ".py",
   "mimetype": "text/x-python",
   "name": "python",
   "nbconvert_exporter": "python",
   "pygments_lexer": "ipython3",
   "version": "3.6.4"
  }
 },
 "nbformat": 4,
 "nbformat_minor": 2
}
