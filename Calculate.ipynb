{
 "cells": [
  {
   "cell_type": "code",
   "execution_count": 67,
   "metadata": {},
   "outputs": [],
   "source": [
    "def calculate_f1(p, r):\n",
    "    return round(2*((p*r)/(p+r)),3)"
   ]
  },
  {
   "cell_type": "code",
   "execution_count": 68,
   "metadata": {},
   "outputs": [],
   "source": [
    "def calculate(label, df):\n",
    "    tp = 0\n",
    "    tn = 0\n",
    "    fp = 0\n",
    "    fn = 0\n",
    "    kosong = 0\n",
    "    \n",
    "    for index in range(0, len(df)):\n",
    "        labels = df['label'][index].split(',')\n",
    "        \n",
    "        if type(df['predict'][index]) != float:\n",
    "            preds = df['predict'][index].split('|')\n",
    "\n",
    "            if label in labels and label in preds:\n",
    "                tp += 1\n",
    "            elif label not in labels and label not in preds:\n",
    "                tn += 1\n",
    "            elif label not in labels and label in preds:\n",
    "                fp += 1\n",
    "            elif label in labels and label not in preds:\n",
    "                fn += 1\n",
    "        elif label in labels:\n",
    "            fn += 1\n",
    "        else:\n",
    "            tn += 1\n",
    "    precision = round(tp / (tp + fp), 2)\n",
    "    recall = round(tp / (tp + fn), 2)\n",
    "    f1 = calculate_f1(precision, recall)\n",
    "    accuracy = round((tp+tn)/(tp+tn+fp+fn), 2)\n",
    "    p = tp / (tp + fp)\n",
    "    r = tp / (tp + fn)\n",
    "    f = 2 * ((p * r) / (p + r))\n",
    "    \n",
    "    \n",
    "    print(tp, '\\t', tn, '\\t', fp, '\\t', fn, '\\t', '\\t', precision, '\\t', recall, '\\t', f1, '\\t', '\\t', accuracy)\n",
    "    return tp, tn, fp, fn, p, r, f, accuracy"
   ]
  },
  {
   "cell_type": "code",
   "execution_count": 71,
   "metadata": {},
   "outputs": [],
   "source": [
    "import pandas as pd\n",
    "import numpy as np\n",
    "\n",
    "def run(tipe):\n",
    "    df = pd.read_csv('Results/Categorization/'+ tipe +'.csv')\n",
    "    sf = pd.DataFrame(columns=['TP', 'TN', 'FP', 'FN', 'precision', 'recall', 'f1', 'accuracy'])\n",
    "    print('tp', '\\t', 'tn', '\\t', 'fp', '\\t', 'fn', '\\t', '\\t', 'prec', '\\t', 'rec', '\\t', 'f1', '\\t', '\\t', 'accuracy')\n",
    "    precision = []\n",
    "    recall = []\n",
    "    f1 = []\n",
    "    cat = ['AMBIENCE', 'FOOD', 'SERVICE', 'PRICES']\n",
    "    for c in cat:\n",
    "        a, b, c, d, e, f, g, h = calculate(c, df)\n",
    "        precision.append(e)\n",
    "        recall.append(f)\n",
    "        f1.append(g)\n",
    "        sf = sf.append({'TP':a, 'TN':b, 'FP':c, 'FN':d, 'precision':e, 'recall':f, 'f1':g, 'accuracy': h}, ignore_index=True)\n",
    "    sf.to_excel(\"Results/Calculation/\"+ tipe +\".xlsx\")\n",
    "#     print(precision)\n",
    "    print('', '\\t', '', '\\t', '', '\\t', '', '\\t', '\\t', round(np.mean(precision),2), '\\t', round(np.mean(recall),2), '\\t', calculate_f1(round(np.mean(precision),2), round(np.mean(recall),2)), '\\t', '\\t')\n",
    "    return np.mean(precision), np.mean(recall), calculate_f1(np.mean(precision), np.mean(recall))\n"
   ]
  },
  {
   "cell_type": "code",
   "execution_count": 60,
   "metadata": {
    "scrolled": true
   },
   "outputs": [
    {
     "name": "stdout",
     "output_type": "stream",
     "text": [
      "tp \t tn \t fp \t fn \t \t prec \t rec \t f1 \t \t accuracy\n",
      "105 \t 237 \t 74 \t 46 \t \t 0.59 \t 0.7 \t 0.64 \t \t 0.74\n",
      "183 \t 169 \t 76 \t 34 \t \t 0.71 \t 0.84 \t 0.77 \t \t 0.76\n",
      "126 \t 303 \t 5 \t 28 \t \t 0.96 \t 0.82 \t 0.88 \t \t 0.93\n",
      "92 \t 322 \t 10 \t 38 \t \t 0.9 \t 0.71 \t 0.79 \t \t 0.9\n",
      " \t  \t  \t  \t \t 0.79 \t 0.77 \t 0.78 \t \t\n"
     ]
    },
    {
     "data": {
      "text/plain": [
       "(0.79, 0.77, 0.78)"
      ]
     },
     "execution_count": 60,
     "metadata": {},
     "output_type": "execute_result"
    }
   ],
   "source": [
    "run(\"lda2vec-elmo-money\")"
   ]
  },
  {
   "cell_type": "code",
   "execution_count": 64,
   "metadata": {},
   "outputs": [
    {
     "name": "stdout",
     "output_type": "stream",
     "text": [
      "tp \t tn \t fp \t fn \t \t prec \t rec \t f1 \t \t accuracy\n",
      "118 \t 241 \t 70 \t 33 \t \t 0.63 \t 0.78 \t 0.697 \t \t 0.78\n",
      "199 \t 157 \t 88 \t 18 \t \t 0.69 \t 0.92 \t 0.789 \t \t 0.77\n",
      "129 \t 299 \t 9 \t 25 \t \t 0.93 \t 0.84 \t 0.883 \t \t 0.93\n",
      "93 \t 318 \t 14 \t 37 \t \t 0.87 \t 0.72 \t 0.788 \t \t 0.89\n",
      " \t  \t  \t  \t \t 0.78 \t 0.82 \t 0.799 \t \t\n"
     ]
    },
    {
     "data": {
      "text/plain": [
       "(0.78, 0.82, 0.799)"
      ]
     },
     "execution_count": 64,
     "metadata": {},
     "output_type": "execute_result"
    }
   ],
   "source": [
    "run(\"lda2vec-partial-ner-elmo-money\")"
   ]
  },
  {
   "cell_type": "code",
   "execution_count": 65,
   "metadata": {
    "scrolled": true
   },
   "outputs": [
    {
     "name": "stdout",
     "output_type": "stream",
     "text": [
      "tp \t tn \t fp \t fn \t \t prec \t rec \t f1 \t \t accuracy\n",
      "115 \t 245 \t 66 \t 36 \t \t 0.64 \t 0.76 \t 0.695 \t \t 0.78\n",
      "200 \t 159 \t 86 \t 17 \t \t 0.7 \t 0.92 \t 0.795 \t \t 0.78\n",
      "130 \t 300 \t 8 \t 24 \t \t 0.94 \t 0.84 \t 0.887 \t \t 0.93\n",
      "93 \t 319 \t 13 \t 37 \t \t 0.88 \t 0.72 \t 0.792 \t \t 0.89\n",
      " \t  \t  \t  \t \t 0.79 \t 0.81 \t 0.8 \t \t\n"
     ]
    },
    {
     "data": {
      "text/plain": [
       "(0.79, 0.81, 0.8)"
      ]
     },
     "execution_count": 65,
     "metadata": {},
     "output_type": "execute_result"
    }
   ],
   "source": [
    "run(\"plsa-partial-ner-elmo-money\")"
   ]
  },
  {
   "cell_type": "code",
   "execution_count": 33,
   "metadata": {},
   "outputs": [
    {
     "name": "stdout",
     "output_type": "stream",
     "text": [
      "tp \t tn \t fp \t fn \t \t prec \t rec \t f1 \t \t accuracy\n",
      "105 \t 237 \t 74 \t 46 \t \t 0.59 \t 0.7 \t 0.64 \t \t 0.74\n",
      "183 \t 169 \t 76 \t 34 \t \t 0.71 \t 0.84 \t 0.77 \t \t 0.76\n",
      "126 \t 303 \t 5 \t 28 \t \t 0.96 \t 0.82 \t 0.88 \t \t 0.93\n",
      "92 \t 322 \t 10 \t 38 \t \t 0.9 \t 0.71 \t 0.79 \t \t 0.9\n",
      " \t  \t  \t  \t \t 0.79 \t 0.77 \t 0.78 \t \t\n"
     ]
    },
    {
     "data": {
      "text/plain": [
       "(0.79, 0.77, 0.78)"
      ]
     },
     "execution_count": 33,
     "metadata": {},
     "output_type": "execute_result"
    }
   ],
   "source": [
    "run(\"lda2vec-elmo-money\")"
   ]
  },
  {
   "cell_type": "code",
   "execution_count": 72,
   "metadata": {
    "scrolled": true
   },
   "outputs": [
    {
     "name": "stdout",
     "output_type": "stream",
     "text": [
      "lda glove\n",
      "tp \t tn \t fp \t fn \t \t prec \t rec \t f1 \t \t accuracy\n",
      "100 \t 203 \t 108 \t 51 \t \t 0.48 \t 0.66 \t 0.556 \t \t 0.66\n",
      "179 \t 198 \t 47 \t 38 \t \t 0.79 \t 0.82 \t 0.805 \t \t 0.82\n",
      "103 \t 232 \t 76 \t 51 \t \t 0.58 \t 0.67 \t 0.622 \t \t 0.73\n",
      "111 \t 238 \t 94 \t 19 \t \t 0.54 \t 0.85 \t 0.66 \t \t 0.76\n",
      " \t  \t  \t  \t \t 0.6 \t 0.75 \t 0.667 \t \t\n",
      "tp \t tn \t fp \t fn \t \t prec \t rec \t f1 \t \t accuracy\n",
      "115 \t 201 \t 110 \t 36 \t \t 0.51 \t 0.76 \t 0.61 \t \t 0.68\n",
      "190 \t 189 \t 56 \t 27 \t \t 0.77 \t 0.88 \t 0.821 \t \t 0.82\n",
      "113 \t 234 \t 74 \t 41 \t \t 0.6 \t 0.73 \t 0.659 \t \t 0.75\n",
      "114 \t 232 \t 100 \t 16 \t \t 0.53 \t 0.88 \t 0.662 \t \t 0.75\n",
      " \t  \t  \t  \t \t 0.61 \t 0.81 \t 0.696 \t \t\n",
      "lda w2v\n",
      "tp \t tn \t fp \t fn \t \t prec \t rec \t f1 \t \t accuracy\n",
      "95 \t 201 \t 110 \t 56 \t \t 0.46 \t 0.63 \t 0.532 \t \t 0.64\n",
      "186 \t 148 \t 97 \t 31 \t \t 0.66 \t 0.86 \t 0.747 \t \t 0.72\n",
      "104 \t 262 \t 46 \t 50 \t \t 0.69 \t 0.68 \t 0.685 \t \t 0.79\n",
      "103 \t 267 \t 65 \t 27 \t \t 0.61 \t 0.79 \t 0.688 \t \t 0.8\n",
      " \t  \t  \t  \t \t 0.61 \t 0.74 \t 0.669 \t \t\n",
      "tp \t tn \t fp \t fn \t \t prec \t rec \t f1 \t \t accuracy\n",
      "110 \t 201 \t 110 \t 41 \t \t 0.5 \t 0.73 \t 0.593 \t \t 0.67\n",
      "197 \t 135 \t 110 \t 20 \t \t 0.64 \t 0.91 \t 0.751 \t \t 0.72\n",
      "114 \t 261 \t 47 \t 40 \t \t 0.71 \t 0.74 \t 0.725 \t \t 0.81\n",
      "105 \t 260 \t 72 \t 25 \t \t 0.59 \t 0.81 \t 0.683 \t \t 0.79\n",
      " \t  \t  \t  \t \t 0.61 \t 0.8 \t 0.692 \t \t\n",
      "lda fasttext\n",
      "tp \t tn \t fp \t fn \t \t prec \t rec \t f1 \t \t accuracy\n",
      "105 \t 171 \t 140 \t 46 \t \t 0.43 \t 0.7 \t 0.533 \t \t 0.6\n",
      "182 \t 185 \t 60 \t 35 \t \t 0.75 \t 0.84 \t 0.792 \t \t 0.79\n",
      "114 \t 230 \t 78 \t 40 \t \t 0.59 \t 0.74 \t 0.657 \t \t 0.74\n",
      "100 \t 304 \t 28 \t 30 \t \t 0.78 \t 0.77 \t 0.775 \t \t 0.87\n",
      " \t  \t  \t  \t \t 0.64 \t 0.76 \t 0.695 \t \t\n",
      "tp \t tn \t fp \t fn \t \t prec \t rec \t f1 \t \t accuracy\n",
      "115 \t 181 \t 130 \t 36 \t \t 0.47 \t 0.76 \t 0.581 \t \t 0.64\n",
      "195 \t 176 \t 69 \t 22 \t \t 0.74 \t 0.9 \t 0.812 \t \t 0.8\n",
      "127 \t 225 \t 83 \t 27 \t \t 0.6 \t 0.82 \t 0.693 \t \t 0.76\n",
      "102 \t 297 \t 35 \t 28 \t \t 0.74 \t 0.78 \t 0.759 \t \t 0.86\n",
      " \t  \t  \t  \t \t 0.64 \t 0.82 \t 0.719 \t \t\n",
      "lda elmo\n",
      "tp \t tn \t fp \t fn \t \t prec \t rec \t f1 \t \t accuracy\n",
      "111 \t 218 \t 93 \t 40 \t \t 0.54 \t 0.74 \t 0.624 \t \t 0.71\n",
      "197 \t 169 \t 76 \t 20 \t \t 0.72 \t 0.91 \t 0.804 \t \t 0.79\n",
      "107 \t 288 \t 20 \t 47 \t \t 0.84 \t 0.69 \t 0.758 \t \t 0.85\n",
      "92 \t 320 \t 12 \t 38 \t \t 0.88 \t 0.71 \t 0.786 \t \t 0.89\n",
      " \t  \t  \t  \t \t 0.75 \t 0.76 \t 0.755 \t \t\n",
      "tp \t tn \t fp \t fn \t \t prec \t rec \t f1 \t \t accuracy\n",
      "124 \t 221 \t 90 \t 27 \t \t 0.58 \t 0.82 \t 0.679 \t \t 0.75\n",
      "209 \t 158 \t 87 \t 8 \t \t 0.71 \t 0.96 \t 0.816 \t \t 0.79\n",
      "120 \t 286 \t 22 \t 34 \t \t 0.85 \t 0.78 \t 0.813 \t \t 0.88\n",
      "94 \t 317 \t 15 \t 36 \t \t 0.86 \t 0.72 \t 0.784 \t \t 0.89\n",
      " \t  \t  \t  \t \t 0.75 \t 0.82 \t 0.783 \t \t\n",
      "lda elmo_ori\n",
      "tp \t tn \t fp \t fn \t \t prec \t rec \t f1 \t \t accuracy\n",
      "107 \t 144 \t 167 \t 44 \t \t 0.39 \t 0.71 \t 0.503 \t \t 0.54\n",
      "184 \t 164 \t 81 \t 33 \t \t 0.69 \t 0.85 \t 0.762 \t \t 0.75\n",
      "103 \t 283 \t 25 \t 51 \t \t 0.8 \t 0.67 \t 0.729 \t \t 0.84\n",
      "108 \t 266 \t 66 \t 22 \t \t 0.62 \t 0.83 \t 0.71 \t \t 0.81\n",
      " \t  \t  \t  \t \t 0.63 \t 0.76 \t 0.689 \t \t\n",
      "tp \t tn \t fp \t fn \t \t prec \t rec \t f1 \t \t accuracy\n",
      "121 \t 142 \t 169 \t 30 \t \t 0.42 \t 0.8 \t 0.551 \t \t 0.57\n",
      "197 \t 151 \t 94 \t 20 \t \t 0.68 \t 0.91 \t 0.778 \t \t 0.75\n",
      "116 \t 280 \t 28 \t 38 \t \t 0.81 \t 0.75 \t 0.779 \t \t 0.86\n",
      "107 \t 277 \t 55 \t 23 \t \t 0.66 \t 0.82 \t 0.731 \t \t 0.83\n",
      " \t  \t  \t  \t \t 0.64 \t 0.82 \t 0.719 \t \t\n",
      "lda2vec glove\n",
      "tp \t tn \t fp \t fn \t \t prec \t rec \t f1 \t \t accuracy\n",
      "101 \t 221 \t 90 \t 50 \t \t 0.53 \t 0.67 \t 0.592 \t \t 0.7\n",
      "151 \t 214 \t 31 \t 66 \t \t 0.83 \t 0.7 \t 0.759 \t \t 0.79\n",
      "130 \t 247 \t 61 \t 24 \t \t 0.68 \t 0.84 \t 0.752 \t \t 0.82\n",
      "108 \t 242 \t 90 \t 22 \t \t 0.55 \t 0.83 \t 0.662 \t \t 0.76\n",
      " \t  \t  \t  \t \t 0.65 \t 0.76 \t 0.701 \t \t\n",
      "tp \t tn \t fp \t fn \t \t prec \t rec \t f1 \t \t accuracy\n",
      "115 \t 219 \t 92 \t 36 \t \t 0.56 \t 0.76 \t 0.645 \t \t 0.72\n",
      "167 \t 205 \t 40 \t 50 \t \t 0.81 \t 0.77 \t 0.789 \t \t 0.81\n",
      "132 \t 243 \t 65 \t 22 \t \t 0.67 \t 0.86 \t 0.753 \t \t 0.81\n",
      "110 \t 242 \t 90 \t 20 \t \t 0.55 \t 0.85 \t 0.668 \t \t 0.76\n",
      " \t  \t  \t  \t \t 0.65 \t 0.81 \t 0.721 \t \t\n",
      "lda2vec w2v\n",
      "tp \t tn \t fp \t fn \t \t prec \t rec \t f1 \t \t accuracy\n",
      "99 \t 212 \t 99 \t 52 \t \t 0.5 \t 0.66 \t 0.569 \t \t 0.67\n",
      "166 \t 165 \t 80 \t 51 \t \t 0.67 \t 0.76 \t 0.712 \t \t 0.72\n",
      "129 \t 286 \t 22 \t 25 \t \t 0.85 \t 0.84 \t 0.845 \t \t 0.9\n",
      "97 \t 283 \t 49 \t 33 \t \t 0.66 \t 0.75 \t 0.702 \t \t 0.82\n",
      " \t  \t  \t  \t \t 0.67 \t 0.75 \t 0.708 \t \t\n",
      "tp \t tn \t fp \t fn \t \t prec \t rec \t f1 \t \t accuracy\n",
      "112 \t 217 \t 94 \t 39 \t \t 0.54 \t 0.74 \t 0.624 \t \t 0.71\n",
      "180 \t 157 \t 88 \t 37 \t \t 0.67 \t 0.83 \t 0.741 \t \t 0.73\n",
      "132 \t 285 \t 23 \t 22 \t \t 0.85 \t 0.86 \t 0.855 \t \t 0.9\n",
      "99 \t 276 \t 56 \t 31 \t \t 0.64 \t 0.76 \t 0.695 \t \t 0.81\n",
      " \t  \t  \t  \t \t 0.68 \t 0.8 \t 0.735 \t \t\n",
      "lda2vec fasttext\n",
      "tp \t tn \t fp \t fn \t \t prec \t rec \t f1 \t \t accuracy\n",
      "115 \t 175 \t 136 \t 36 \t \t 0.46 \t 0.76 \t 0.573 \t \t 0.63\n",
      "157 \t 202 \t 43 \t 60 \t \t 0.79 \t 0.72 \t 0.753 \t \t 0.78\n",
      "135 \t 263 \t 45 \t 19 \t \t 0.75 \t 0.88 \t 0.81 \t \t 0.86\n",
      "93 \t 322 \t 10 \t 37 \t \t 0.9 \t 0.72 \t 0.8 \t \t 0.9\n",
      " \t  \t  \t  \t \t 0.72 \t 0.77 \t 0.744 \t \t\n",
      "tp \t tn \t fp \t fn \t \t prec \t rec \t f1 \t \t accuracy\n",
      "126 \t 193 \t 118 \t 25 \t \t 0.52 \t 0.83 \t 0.639 \t \t 0.69\n",
      "174 \t 191 \t 54 \t 43 \t \t 0.76 \t 0.8 \t 0.779 \t \t 0.79\n",
      "138 \t 254 \t 54 \t 16 \t \t 0.72 \t 0.9 \t 0.8 \t \t 0.85\n",
      "95 \t 313 \t 19 \t 35 \t \t 0.83 \t 0.73 \t 0.777 \t \t 0.88\n",
      " \t  \t  \t  \t \t 0.71 \t 0.82 \t 0.761 \t \t\n",
      "lda2vec elmo\n",
      "tp \t tn \t fp \t fn \t \t prec \t rec \t f1 \t \t accuracy\n",
      "105 \t 237 \t 74 \t 46 \t \t 0.59 \t 0.7 \t 0.64 \t \t 0.74\n",
      "183 \t 169 \t 76 \t 34 \t \t 0.71 \t 0.84 \t 0.77 \t \t 0.76\n",
      "126 \t 303 \t 5 \t 28 \t \t 0.96 \t 0.82 \t 0.884 \t \t 0.93\n",
      "92 \t 322 \t 10 \t 38 \t \t 0.9 \t 0.71 \t 0.794 \t \t 0.9\n",
      " \t  \t  \t  \t \t 0.79 \t 0.77 \t 0.78 \t \t\n",
      "tp \t tn \t fp \t fn \t \t prec \t rec \t f1 \t \t accuracy\n",
      "118 \t 241 \t 70 \t 33 \t \t 0.63 \t 0.78 \t 0.697 \t \t 0.78\n",
      "199 \t 157 \t 88 \t 18 \t \t 0.69 \t 0.92 \t 0.789 \t \t 0.77\n",
      "129 \t 299 \t 9 \t 25 \t \t 0.93 \t 0.84 \t 0.883 \t \t 0.93\n",
      "93 \t 318 \t 14 \t 37 \t \t 0.87 \t 0.72 \t 0.788 \t \t 0.89\n",
      " \t  \t  \t  \t \t 0.78 \t 0.81 \t 0.795 \t \t\n",
      "lda2vec elmo_ori\n",
      "tp \t tn \t fp \t fn \t \t prec \t rec \t f1 \t \t accuracy\n",
      "112 \t 150 \t 161 \t 39 \t \t 0.41 \t 0.74 \t 0.528 \t \t 0.57\n",
      "148 \t 192 \t 53 \t 69 \t \t 0.74 \t 0.68 \t 0.709 \t \t 0.74\n",
      "130 \t 304 \t 4 \t 24 \t \t 0.97 \t 0.84 \t 0.9 \t \t 0.94\n",
      "100 \t 291 \t 41 \t 30 \t \t 0.71 \t 0.77 \t 0.739 \t \t 0.85\n",
      " \t  \t  \t  \t \t 0.71 \t 0.76 \t 0.734 \t \t\n",
      "tp \t tn \t fp \t fn \t \t prec \t rec \t f1 \t \t accuracy\n",
      "125 \t 156 \t 155 \t 26 \t \t 0.45 \t 0.83 \t 0.584 \t \t 0.61\n",
      "166 \t 178 \t 67 \t 51 \t \t 0.71 \t 0.76 \t 0.734 \t \t 0.74\n",
      "132 \t 296 \t 12 \t 22 \t \t 0.92 \t 0.86 \t 0.889 \t \t 0.93\n",
      "99 \t 301 \t 31 \t 31 \t \t 0.76 \t 0.76 \t 0.76 \t \t 0.87\n",
      " \t  \t  \t  \t \t 0.71 \t 0.8 \t 0.752 \t \t\n",
      "plsa glove\n",
      "tp \t tn \t fp \t fn \t \t prec \t rec \t f1 \t \t accuracy\n",
      "90 \t 225 \t 86 \t 61 \t \t 0.51 \t 0.6 \t 0.551 \t \t 0.68\n",
      "139 \t 219 \t 26 \t 78 \t \t 0.84 \t 0.64 \t 0.726 \t \t 0.77\n",
      "129 \t 257 \t 51 \t 25 \t \t 0.72 \t 0.84 \t 0.775 \t \t 0.84\n",
      "108 \t 248 \t 84 \t 22 \t \t 0.56 \t 0.83 \t 0.669 \t \t 0.77\n",
      " \t  \t  \t  \t \t 0.66 \t 0.73 \t 0.693 \t \t\n",
      "tp \t tn \t fp \t fn \t \t prec \t rec \t f1 \t \t accuracy\n",
      "110 \t 221 \t 90 \t 41 \t \t 0.55 \t 0.73 \t 0.627 \t \t 0.72\n",
      "164 \t 203 \t 42 \t 53 \t \t 0.8 \t 0.76 \t 0.779 \t \t 0.79\n",
      "132 \t 253 \t 55 \t 22 \t \t 0.71 \t 0.86 \t 0.778 \t \t 0.83\n",
      "110 \t 238 \t 94 \t 20 \t \t 0.54 \t 0.85 \t 0.66 \t \t 0.75\n",
      " \t  \t  \t  \t \t 0.65 \t 0.8 \t 0.717 \t \t\n",
      "plsa w2v\n",
      "tp \t tn \t fp \t fn \t \t prec \t rec \t f1 \t \t accuracy\n",
      "93 \t 220 \t 91 \t 58 \t \t 0.51 \t 0.62 \t 0.56 \t \t 0.68\n",
      "158 \t 171 \t 74 \t 59 \t \t 0.68 \t 0.73 \t 0.704 \t \t 0.71\n",
      "128 \t 299 \t 9 \t 26 \t \t 0.93 \t 0.83 \t 0.877 \t \t 0.92\n",
      "97 \t 284 \t 48 \t 33 \t \t 0.67 \t 0.75 \t 0.708 \t \t 0.82\n",
      " \t  \t  \t  \t \t 0.7 \t 0.73 \t 0.715 \t \t\n",
      "tp \t tn \t fp \t fn \t \t prec \t rec \t f1 \t \t accuracy\n",
      "114 \t 219 \t 92 \t 37 \t \t 0.55 \t 0.75 \t 0.635 \t \t 0.72\n",
      "182 \t 153 \t 92 \t 35 \t \t 0.66 \t 0.84 \t 0.739 \t \t 0.73\n",
      "132 \t 296 \t 12 \t 22 \t \t 0.92 \t 0.86 \t 0.889 \t \t 0.93\n",
      "99 \t 275 \t 57 \t 31 \t \t 0.63 \t 0.76 \t 0.689 \t \t 0.81\n",
      " \t  \t  \t  \t \t 0.69 \t 0.8 \t 0.741 \t \t\n",
      "plsa fasttext\n",
      "tp \t tn \t fp \t fn \t \t prec \t rec \t f1 \t \t accuracy\n",
      "99 \t 191 \t 120 \t 52 \t \t 0.45 \t 0.66 \t 0.535 \t \t 0.63\n",
      "151 \t 202 \t 43 \t 66 \t \t 0.78 \t 0.7 \t 0.738 \t \t 0.76\n",
      "135 \t 263 \t 45 \t 19 \t \t 0.75 \t 0.88 \t 0.81 \t \t 0.86\n",
      "93 \t 323 \t 9 \t 37 \t \t 0.91 \t 0.72 \t 0.804 \t \t 0.9\n",
      " \t  \t  \t  \t \t 0.72 \t 0.74 \t 0.73 \t \t\n",
      "tp \t tn \t fp \t fn \t \t prec \t rec \t f1 \t \t accuracy\n",
      "118 \t 201 \t 110 \t 33 \t \t 0.52 \t 0.78 \t 0.624 \t \t 0.69\n",
      "175 \t 188 \t 57 \t 42 \t \t 0.75 \t 0.81 \t 0.779 \t \t 0.79\n",
      "138 \t 252 \t 56 \t 16 \t \t 0.71 \t 0.9 \t 0.794 \t \t 0.84\n",
      "95 \t 311 \t 21 \t 35 \t \t 0.82 \t 0.73 \t 0.772 \t \t 0.88\n",
      " \t  \t  \t  \t \t 0.7 \t 0.8 \t 0.747 \t \t\n",
      "plsa elmo\n",
      "tp \t tn \t fp \t fn \t \t prec \t rec \t f1 \t \t accuracy\n",
      "94 \t 242 \t 69 \t 57 \t \t 0.58 \t 0.62 \t 0.599 \t \t 0.73\n",
      "175 \t 176 \t 69 \t 42 \t \t 0.72 \t 0.81 \t 0.762 \t \t 0.76\n",
      "126 \t 305 \t 3 \t 28 \t \t 0.98 \t 0.82 \t 0.893 \t \t 0.93\n",
      "92 \t 323 \t 9 \t 38 \t \t 0.91 \t 0.71 \t 0.798 \t \t 0.9\n",
      " \t  \t  \t  \t \t 0.8 \t 0.74 \t 0.769 \t \t\n",
      "tp \t tn \t fp \t fn \t \t prec \t rec \t f1 \t \t accuracy\n",
      "115 \t 245 \t 66 \t 36 \t \t 0.64 \t 0.76 \t 0.695 \t \t 0.78\n",
      "200 \t 159 \t 86 \t 17 \t \t 0.7 \t 0.92 \t 0.795 \t \t 0.78\n",
      "130 \t 300 \t 8 \t 24 \t \t 0.94 \t 0.84 \t 0.887 \t \t 0.93\n",
      "93 \t 319 \t 13 \t 37 \t \t 0.88 \t 0.72 \t 0.792 \t \t 0.89\n"
     ]
    },
    {
     "name": "stdout",
     "output_type": "stream",
     "text": [
      " \t  \t  \t  \t \t 0.79 \t 0.81 \t 0.8 \t \t\n",
      "plsa elmo_ori\n",
      "tp \t tn \t fp \t fn \t \t prec \t rec \t f1 \t \t accuracy\n",
      "104 \t 167 \t 144 \t 47 \t \t 0.42 \t 0.69 \t 0.522 \t \t 0.59\n",
      "139 \t 200 \t 45 \t 78 \t \t 0.76 \t 0.64 \t 0.695 \t \t 0.73\n",
      "130 \t 304 \t 4 \t 24 \t \t 0.97 \t 0.84 \t 0.9 \t \t 0.94\n",
      "100 \t 291 \t 41 \t 30 \t \t 0.71 \t 0.77 \t 0.739 \t \t 0.85\n",
      " \t  \t  \t  \t \t 0.71 \t 0.74 \t 0.725 \t \t\n",
      "tp \t tn \t fp \t fn \t \t prec \t rec \t f1 \t \t accuracy\n",
      "125 \t 162 \t 149 \t 26 \t \t 0.46 \t 0.83 \t 0.592 \t \t 0.62\n",
      "164 \t 181 \t 64 \t 53 \t \t 0.72 \t 0.76 \t 0.739 \t \t 0.75\n",
      "133 \t 295 \t 13 \t 21 \t \t 0.91 \t 0.86 \t 0.884 \t \t 0.93\n",
      "99 \t 300 \t 32 \t 31 \t \t 0.76 \t 0.76 \t 0.76 \t \t 0.86\n",
      " \t  \t  \t  \t \t 0.71 \t 0.8 \t 0.752 \t \t\n",
      "dp glove\n",
      "tp \t tn \t fp \t fn \t \t prec \t rec \t f1 \t \t accuracy\n",
      "106 \t 261 \t 50 \t 45 \t \t 0.68 \t 0.7 \t 0.69 \t \t 0.79\n",
      "171 \t 192 \t 53 \t 46 \t \t 0.76 \t 0.79 \t 0.775 \t \t 0.79\n",
      "109 \t 258 \t 50 \t 45 \t \t 0.69 \t 0.71 \t 0.7 \t \t 0.79\n",
      "84 \t 274 \t 58 \t 46 \t \t 0.59 \t 0.65 \t 0.619 \t \t 0.77\n",
      " \t  \t  \t  \t \t 0.68 \t 0.71 \t 0.695 \t \t\n",
      "tp \t tn \t fp \t fn \t \t prec \t rec \t f1 \t \t accuracy\n",
      "117 \t 249 \t 62 \t 34 \t \t 0.65 \t 0.77 \t 0.705 \t \t 0.79\n",
      "202 \t 177 \t 68 \t 15 \t \t 0.75 \t 0.93 \t 0.83 \t \t 0.82\n",
      "122 \t 250 \t 58 \t 32 \t \t 0.68 \t 0.79 \t 0.731 \t \t 0.81\n",
      "87 \t 270 \t 62 \t 43 \t \t 0.58 \t 0.67 \t 0.622 \t \t 0.77\n",
      " \t  \t  \t  \t \t 0.67 \t 0.79 \t 0.725 \t \t\n",
      "dp w2v\n",
      "tp \t tn \t fp \t fn \t \t prec \t rec \t f1 \t \t accuracy\n",
      "107 \t 261 \t 50 \t 44 \t \t 0.68 \t 0.71 \t 0.695 \t \t 0.8\n",
      "172 \t 153 \t 92 \t 45 \t \t 0.65 \t 0.79 \t 0.713 \t \t 0.7\n",
      "110 \t 273 \t 35 \t 44 \t \t 0.76 \t 0.71 \t 0.734 \t \t 0.83\n",
      "80 \t 298 \t 34 \t 50 \t \t 0.7 \t 0.62 \t 0.658 \t \t 0.82\n",
      " \t  \t  \t  \t \t 0.7 \t 0.71 \t 0.705 \t \t\n",
      "tp \t tn \t fp \t fn \t \t prec \t rec \t f1 \t \t accuracy\n",
      "118 \t 256 \t 55 \t 33 \t \t 0.68 \t 0.78 \t 0.727 \t \t 0.81\n",
      "203 \t 137 \t 108 \t 14 \t \t 0.65 \t 0.94 \t 0.769 \t \t 0.74\n",
      "125 \t 271 \t 37 \t 29 \t \t 0.77 \t 0.81 \t 0.789 \t \t 0.86\n",
      "83 \t 287 \t 45 \t 47 \t \t 0.65 \t 0.64 \t 0.645 \t \t 0.8\n",
      " \t  \t  \t  \t \t 0.69 \t 0.79 \t 0.737 \t \t\n",
      "dp fasttext\n",
      "tp \t tn \t fp \t fn \t \t prec \t rec \t f1 \t \t accuracy\n",
      "102 \t 255 \t 56 \t 49 \t \t 0.65 \t 0.68 \t 0.665 \t \t 0.77\n",
      "171 \t 189 \t 56 \t 46 \t \t 0.75 \t 0.79 \t 0.769 \t \t 0.78\n",
      "115 \t 256 \t 52 \t 39 \t \t 0.69 \t 0.75 \t 0.719 \t \t 0.8\n",
      "80 \t 287 \t 45 \t 50 \t \t 0.64 \t 0.62 \t 0.63 \t \t 0.79\n",
      " \t  \t  \t  \t \t 0.68 \t 0.71 \t 0.695 \t \t\n",
      "tp \t tn \t fp \t fn \t \t prec \t rec \t f1 \t \t accuracy\n",
      "111 \t 250 \t 61 \t 40 \t \t 0.65 \t 0.74 \t 0.692 \t \t 0.78\n",
      "202 \t 175 \t 70 \t 15 \t \t 0.74 \t 0.93 \t 0.824 \t \t 0.82\n",
      "130 \t 246 \t 62 \t 24 \t \t 0.68 \t 0.84 \t 0.752 \t \t 0.81\n",
      "83 \t 274 \t 58 \t 47 \t \t 0.59 \t 0.64 \t 0.614 \t \t 0.77\n",
      " \t  \t  \t  \t \t 0.66 \t 0.79 \t 0.719 \t \t\n",
      "dp elmo\n",
      "tp \t tn \t fp \t fn \t \t prec \t rec \t f1 \t \t accuracy\n",
      "120 \t 254 \t 57 \t 31 \t \t 0.68 \t 0.79 \t 0.731 \t \t 0.81\n",
      "175 \t 183 \t 62 \t 42 \t \t 0.74 \t 0.81 \t 0.773 \t \t 0.77\n",
      "109 \t 288 \t 20 \t 45 \t \t 0.84 \t 0.71 \t 0.77 \t \t 0.86\n",
      "75 \t 318 \t 14 \t 55 \t \t 0.84 \t 0.58 \t 0.686 \t \t 0.85\n",
      " \t  \t  \t  \t \t 0.78 \t 0.72 \t 0.749 \t \t\n",
      "tp \t tn \t fp \t fn \t \t prec \t rec \t f1 \t \t accuracy\n",
      "131 \t 247 \t 64 \t 20 \t \t 0.67 \t 0.87 \t 0.757 \t \t 0.82\n",
      "205 \t 167 \t 78 \t 12 \t \t 0.72 \t 0.94 \t 0.815 \t \t 0.81\n",
      "125 \t 283 \t 25 \t 29 \t \t 0.83 \t 0.81 \t 0.82 \t \t 0.88\n",
      "78 \t 313 \t 19 \t 52 \t \t 0.8 \t 0.6 \t 0.686 \t \t 0.85\n",
      " \t  \t  \t  \t \t 0.76 \t 0.81 \t 0.784 \t \t\n",
      "dp elmo_ori\n",
      "tp \t tn \t fp \t fn \t \t prec \t rec \t f1 \t \t accuracy\n",
      "114 \t 245 \t 66 \t 37 \t \t 0.63 \t 0.75 \t 0.685 \t \t 0.78\n",
      "173 \t 170 \t 75 \t 44 \t \t 0.7 \t 0.8 \t 0.747 \t \t 0.74\n",
      "110 \t 288 \t 20 \t 44 \t \t 0.85 \t 0.71 \t 0.774 \t \t 0.86\n",
      "82 \t 297 \t 35 \t 48 \t \t 0.7 \t 0.63 \t 0.663 \t \t 0.82\n",
      " \t  \t  \t  \t \t 0.72 \t 0.72 \t 0.72 \t \t\n",
      "tp \t tn \t fp \t fn \t \t prec \t rec \t f1 \t \t accuracy\n",
      "126 \t 241 \t 70 \t 25 \t \t 0.64 \t 0.83 \t 0.723 \t \t 0.79\n",
      "204 \t 154 \t 91 \t 13 \t \t 0.69 \t 0.94 \t 0.796 \t \t 0.77\n",
      "126 \t 281 \t 27 \t 28 \t \t 0.82 \t 0.82 \t 0.82 \t \t 0.88\n",
      "84 \t 288 \t 44 \t 46 \t \t 0.66 \t 0.65 \t 0.655 \t \t 0.81\n",
      " \t  \t  \t  \t \t 0.7 \t 0.81 \t 0.751 \t \t\n"
     ]
    }
   ],
   "source": [
    "ate = ['lda', 'lda2vec', 'plsa', 'dp']\n",
    "sim = ['glove', 'w2v', 'fasttext', 'elmo', 'elmo_ori']\n",
    "\n",
    "rf = pd.DataFrame(columns=['sim', 'ate', 'ac', 'precision', 'recall', 'f1'])\n",
    "for a in ate:\n",
    "    for s in sim:\n",
    "        print(a, s)\n",
    "        p, r, f = run(a + '-' + s + '-money')\n",
    "        rf = rf.append({'sim': s, 'ate': a, 'ac': 'AC1', 'precision': p, 'recall': r, 'f1': f}, ignore_index=True)\n",
    "        \n",
    "#         p, r, f = run(a + '-partial-' + s)\n",
    "#         rf = rf.append({'sim': s, 'ate': a, 'ac': 'AC2', 'precision': p, 'recall': r, 'f1': f}, ignore_index=True)\n",
    "        \n",
    "        p, r, f = run(a + '-partial-ner-' + s + '-money')\n",
    "        rf = rf.append({'sim': s, 'ate': a, 'ac': 'AC3', 'precision': p, 'recall': r, 'f1': f}, ignore_index=True)\n",
    "\n",
    "rf.to_excel(\"Results/all_method.xlsx\")"
   ]
  },
  {
   "cell_type": "code",
   "execution_count": null,
   "metadata": {
    "scrolled": true
   },
   "outputs": [],
   "source": [
    "run(\"plsa-partial-ner-money\") # PLSA"
   ]
  },
  {
   "cell_type": "code",
   "execution_count": null,
   "metadata": {},
   "outputs": [],
   "source": [
    "run(\"lda-partial-ner-money\") # LDA"
   ]
  },
  {
   "cell_type": "code",
   "execution_count": null,
   "metadata": {},
   "outputs": [],
   "source": [
    "run(\"dp-partial-ner-money\") # DP"
   ]
  },
  {
   "cell_type": "code",
   "execution_count": 5,
   "metadata": {},
   "outputs": [
    {
     "name": "stdout",
     "output_type": "stream",
     "text": [
      "tp \t tn \t fp \t fn \t \t prec \t rec \t f1 \t \t accuracy\n",
      "126 \t 145 \t 166 \t 25 \t \t 0.43 \t 0.83 \t 0.57 \t \t 0.59\n",
      "166 \t 178 \t 67 \t 51 \t \t 0.71 \t 0.76 \t 0.73 \t \t 0.74\n",
      "132 \t 296 \t 12 \t 22 \t \t 0.92 \t 0.86 \t 0.89 \t \t 0.93\n",
      "80 \t 286 \t 46 \t 50 \t \t 0.63 \t 0.62 \t 0.62 \t \t 0.79\n",
      " \t  \t  \t  \t \t 0.67 \t 0.77 \t 0.72 \t \t\n"
     ]
    }
   ],
   "source": [
    "run(\"lda2vec-partial-elmo_ori\") # LDA2VEC ELMO"
   ]
  },
  {
   "cell_type": "code",
   "execution_count": null,
   "metadata": {},
   "outputs": [],
   "source": [
    "run(\"lda2vec-partial-ner-money\") # LDA2VEC ELMO"
   ]
  },
  {
   "cell_type": "code",
   "execution_count": null,
   "metadata": {},
   "outputs": [],
   "source": [
    "run(\"lda2vec-partial-ner-fasttext-money\") # FASTTEXT"
   ]
  },
  {
   "cell_type": "code",
   "execution_count": null,
   "metadata": {},
   "outputs": [],
   "source": [
    "run(\"lda2vec-partial-ner-w2v-money\") # WORD2VEC"
   ]
  },
  {
   "cell_type": "code",
   "execution_count": null,
   "metadata": {},
   "outputs": [],
   "source": [
    "run(\"lda2vec-partial-ner-glove-money\") # GLOVE"
   ]
  },
  {
   "cell_type": "code",
   "execution_count": 66,
   "metadata": {},
   "outputs": [
    {
     "data": {
      "text/plain": [
       "0.8"
      ]
     },
     "execution_count": 66,
     "metadata": {},
     "output_type": "execute_result"
    }
   ],
   "source": [
    "p = 0.81\n",
    "r = 0.79\n",
    "round(2*((p*r)/(p+r)),3)"
   ]
  },
  {
   "cell_type": "code",
   "execution_count": null,
   "metadata": {},
   "outputs": [],
   "source": [
    "round(0.555, 2)"
   ]
  }
 ],
 "metadata": {
  "kernelspec": {
   "display_name": "Python 3",
   "language": "python",
   "name": "python3"
  },
  "language_info": {
   "codemirror_mode": {
    "name": "ipython",
    "version": 3
   },
   "file_extension": ".py",
   "mimetype": "text/x-python",
   "name": "python",
   "nbconvert_exporter": "python",
   "pygments_lexer": "ipython3",
   "version": "3.6.4"
  }
 },
 "nbformat": 4,
 "nbformat_minor": 2
}
