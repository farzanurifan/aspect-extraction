{
 "cells": [
  {
   "cell_type": "code",
   "execution_count": 1,
   "metadata": {},
   "outputs": [],
   "source": [
    "def calculate(label, is_multi, df):\n",
    "    tp = 0\n",
    "    tn = 0\n",
    "    fp = 0\n",
    "    fn = 0\n",
    "    kosong = 0\n",
    "    \n",
    "    for index in range(0, len(df)):\n",
    "        labels = df['label'][index].split('|')\n",
    "        \n",
    "        if type(df['pred_multiple'][index]) != float:\n",
    "            preds = df['pred_multiple'][index].split('|')\n",
    "\n",
    "            if label in labels and label in preds:\n",
    "                tp += 1\n",
    "            elif label not in labels and label not in preds:\n",
    "                tn += 1\n",
    "            elif label not in labels and label in preds:\n",
    "                fp += 1\n",
    "            elif label in labels and label not in preds:\n",
    "                fn += 1\n",
    "        elif label in labels:\n",
    "            fn += 1\n",
    "        else:\n",
    "            tn += 1\n",
    "    precision = round(tp / (tp + fp), 2)\n",
    "    recall = round(tp / (tp + fn), 2)\n",
    "    f1 = round(2 * ((precision * recall) / (precision + recall)), 2)\n",
    "    accuracy = round((tp+tn)/(tp+tn+fp+fn), 2)\n",
    "    print(tp, '\\t', tn, '\\t', fp, '\\t', fn, '\\t', '\\t', precision, '\\t', recall, '\\t', f1, '\\t', '\\t', accuracy)\n",
    "    return tp, tn, fp, fn, precision, recall, f1, accuracy"
   ]
  },
  {
   "cell_type": "code",
   "execution_count": 2,
   "metadata": {},
   "outputs": [],
   "source": [
    "import pandas as pd\n",
    "\n",
    "def run(tipe):\n",
    "    df = pd.read_csv('Results/Categorization/'+ tipe +'.csv')\n",
    "    sf = pd.DataFrame(columns=['TP', 'TN', 'FP', 'FN', 'precision', 'recall', 'f1', 'accuracy'])\n",
    "    print('tp', '\\t', 'tn', '\\t', 'fp', '\\t', 'fn', '\\t', '\\t', 'prec', '\\t', 'rec', '\\t', 'f1', '\\t', '\\t', 'accuracy')\n",
    "\n",
    "    cat = ['AMBIENCE', 'FOOD', 'SERVICE', 'VALUE']\n",
    "    for c in cat:\n",
    "        a, b, c, d, e, f, g, h = calculate(c, True, df)\n",
    "        sf = sf.append({'TP':a, 'TN':b, 'FP':c, 'FN':d, 'precision':e, 'recall':f, 'f1':g, 'accuracy': h}, ignore_index=True)\n",
    "    sf.to_excel(\"Results/Calculation/\"+ tipe +\".xlsx\")"
   ]
  },
  {
   "cell_type": "code",
   "execution_count": 5,
   "metadata": {
    "scrolled": false
   },
   "outputs": [
    {
     "name": "stdout",
     "output_type": "stream",
     "text": [
      "tp \t tn \t fp \t fn \t \t prec \t rec \t f1 \t \t accuracy\n",
      "109 \t 482 \t 11 \t 97 \t \t 0.91 \t 0.53 \t 0.67 \t \t 0.85\n",
      "363 \t 214 \t 73 \t 49 \t \t 0.83 \t 0.88 \t 0.85 \t \t 0.83\n",
      "140 \t 476 \t 52 \t 31 \t \t 0.73 \t 0.82 \t 0.77 \t \t 0.88\n",
      "124 \t 408 \t 149 \t 18 \t \t 0.45 \t 0.87 \t 0.59 \t \t 0.76\n"
     ]
    }
   ],
   "source": [
    "run(\"lda\")"
   ]
  },
  {
   "cell_type": "code",
   "execution_count": null,
   "metadata": {},
   "outputs": [],
   "source": []
  }
 ],
 "metadata": {
  "kernelspec": {
   "display_name": "Python 3",
   "language": "python",
   "name": "python3"
  },
  "language_info": {
   "codemirror_mode": {
    "name": "ipython",
    "version": 3
   },
   "file_extension": ".py",
   "mimetype": "text/x-python",
   "name": "python",
   "nbconvert_exporter": "python",
   "pygments_lexer": "ipython3",
   "version": "3.6.4"
  }
 },
 "nbformat": 4,
 "nbformat_minor": 2
}
