{
 "cells": [
  {
   "cell_type": "code",
   "execution_count": 45,
   "metadata": {},
   "outputs": [
    {
     "data": {
      "text/html": [
       "<div>\n",
       "<style scoped>\n",
       "    .dataframe tbody tr th:only-of-type {\n",
       "        vertical-align: middle;\n",
       "    }\n",
       "\n",
       "    .dataframe tbody tr th {\n",
       "        vertical-align: top;\n",
       "    }\n",
       "\n",
       "    .dataframe thead th {\n",
       "        text-align: right;\n",
       "    }\n",
       "</style>\n",
       "<table border=\"1\" class=\"dataframe\">\n",
       "  <thead>\n",
       "    <tr style=\"text-align: right;\">\n",
       "      <th></th>\n",
       "      <th>Unnamed: 0</th>\n",
       "      <th>id</th>\n",
       "      <th>review</th>\n",
       "      <th>label</th>\n",
       "      <th>pred_single</th>\n",
       "      <th>pred_multiple</th>\n",
       "      <th>terms</th>\n",
       "    </tr>\n",
       "  </thead>\n",
       "  <tbody>\n",
       "    <tr>\n",
       "      <th>0</th>\n",
       "      <td>0</td>\n",
       "      <td>0</td>\n",
       "      <td>i am not necessarily fanatical about this plac...</td>\n",
       "      <td>VALUE</td>\n",
       "      <td>VALUE</td>\n",
       "      <td>VALUE|VALUE</td>\n",
       "      <td>place|price</td>\n",
       "    </tr>\n",
       "    <tr>\n",
       "      <th>1</th>\n",
       "      <td>1</td>\n",
       "      <td>2</td>\n",
       "      <td>the high prices you're going to pay is for the...</td>\n",
       "      <td>VALUE</td>\n",
       "      <td>VALUE</td>\n",
       "      <td>VALUE|VALUE</td>\n",
       "      <td>price|going</td>\n",
       "    </tr>\n",
       "    <tr>\n",
       "      <th>2</th>\n",
       "      <td>2</td>\n",
       "      <td>3</td>\n",
       "      <td>the high prices you're going to pay is for the...</td>\n",
       "      <td>VALUE</td>\n",
       "      <td>VALUE</td>\n",
       "      <td>VALUE|VALUE</td>\n",
       "      <td>price|going</td>\n",
       "    </tr>\n",
       "    <tr>\n",
       "      <th>3</th>\n",
       "      <td>3</td>\n",
       "      <td>4</td>\n",
       "      <td>the high prices you're going to pay is for the...</td>\n",
       "      <td>VALUE</td>\n",
       "      <td>VALUE</td>\n",
       "      <td>VALUE|VALUE</td>\n",
       "      <td>price|going</td>\n",
       "    </tr>\n",
       "    <tr>\n",
       "      <th>4</th>\n",
       "      <td>4</td>\n",
       "      <td>5</td>\n",
       "      <td>the high prices you're going to pay is for the...</td>\n",
       "      <td>VALUE</td>\n",
       "      <td>VALUE</td>\n",
       "      <td>VALUE|VALUE</td>\n",
       "      <td>price|going</td>\n",
       "    </tr>\n",
       "  </tbody>\n",
       "</table>\n",
       "</div>"
      ],
      "text/plain": [
       "   Unnamed: 0  id                                             review  label  \\\n",
       "0           0   0  i am not necessarily fanatical about this plac...  VALUE   \n",
       "1           1   2  the high prices you're going to pay is for the...  VALUE   \n",
       "2           2   3  the high prices you're going to pay is for the...  VALUE   \n",
       "3           3   4  the high prices you're going to pay is for the...  VALUE   \n",
       "4           4   5  the high prices you're going to pay is for the...  VALUE   \n",
       "\n",
       "  pred_single pred_multiple        terms  \n",
       "0       VALUE   VALUE|VALUE  place|price  \n",
       "1       VALUE   VALUE|VALUE  price|going  \n",
       "2       VALUE   VALUE|VALUE  price|going  \n",
       "3       VALUE   VALUE|VALUE  price|going  \n",
       "4       VALUE   VALUE|VALUE  price|going  "
      ]
     },
     "execution_count": 45,
     "metadata": {},
     "output_type": "execute_result"
    }
   ],
   "source": [
    "import pandas as pd\n",
    "\n",
    "df = pd.read_csv('hasil_kategori_lda.csv')\n",
    "df.head()"
   ]
  },
  {
   "cell_type": "code",
   "execution_count": 46,
   "metadata": {},
   "outputs": [],
   "source": [
    "def calculate(label, is_multi):\n",
    "    tp = 0\n",
    "    tn = 0\n",
    "    fp = 0\n",
    "    fn = 0\n",
    "    kosong = 0\n",
    "    \n",
    "    for index in range(0, len(df)):\n",
    "        labels = df['label'][index].split('|')\n",
    "        if is_multi:\n",
    "            if type(df['pred_multiple'][index]) != float:\n",
    "                preds = df['pred_multiple'][index].split('|')\n",
    "\n",
    "                if label in labels and label in preds:\n",
    "                    tp += 1\n",
    "                elif label not in labels and label not in preds:\n",
    "                    tn += 1\n",
    "                elif label not in labels and label in preds:\n",
    "                    fp += 1\n",
    "                elif label in labels and label not in preds:\n",
    "                    fn += 1\n",
    "            else:\n",
    "                fn += 1\n",
    "                kosong += 1\n",
    "        else:\n",
    "            if type(df['pred_single'][index]) != float:\n",
    "                preds = df['pred_single'][index]\n",
    "\n",
    "                if label in labels and label in preds:\n",
    "                    tp += 1\n",
    "                elif label not in labels and label not in preds:\n",
    "                    tn += 1\n",
    "                elif label not in labels and label in preds:\n",
    "                    fp += 1\n",
    "                elif label in labels and label not in preds:\n",
    "                    fn += 1\n",
    "            else:\n",
    "                fn += 1\n",
    "                kosong += 1\n",
    "                \n",
    "    precision = tp / (tp + fp)\n",
    "    recall = tp / (tp + fn)\n",
    "    f1 = 2 * ((precision * recall) / (precision + recall))\n",
    "    print('kosong: ', kosong)\n",
    "    return precision, recall, f1"
   ]
  },
  {
   "cell_type": "code",
   "execution_count": 48,
   "metadata": {},
   "outputs": [
    {
     "name": "stdout",
     "output_type": "stream",
     "text": [
      "kosong:  79\n",
      "(0.7483443708609272, 0.40942028985507245, 0.5292740046838408)\n",
      "kosong:  79\n",
      "(0.956989247311828, 0.413953488372093, 0.577922077922078)\n",
      "kosong:  79\n",
      "(0.9818181818181818, 0.22131147540983606, 0.3612040133779264)\n",
      "kosong:  79\n",
      "(0.42543859649122806, 0.5187165775401069, 0.4674698795180723)\n"
     ]
    }
   ],
   "source": [
    "cat = ['AMBIENCE', 'FOOD', 'SERVICE', 'VALUE']\n",
    "for c in cat:\n",
    "    print(calculate(c, False))"
   ]
  },
  {
   "cell_type": "code",
   "execution_count": 44,
   "metadata": {},
   "outputs": [
    {
     "name": "stdout",
     "output_type": "stream",
     "text": [
      "kosong:  79\n",
      "(0.6572769953051644, 0.5072463768115942, 0.5725971370143149)\n",
      "kosong:  79\n",
      "(0.9467213114754098, 0.5372093023255814, 0.6854599406528189)\n",
      "kosong:  79\n",
      "(0.9307692307692308, 0.4959016393442623, 0.6470588235294118)\n",
      "kosong:  79\n",
      "(0.32628398791540786, 0.5775401069518716, 0.41698841698841693)\n"
     ]
    }
   ],
   "source": [
    "cat = ['AMBIENCE', 'FOOD', 'SERVICE', 'VALUE']\n",
    "for c in cat:\n",
    "    print(calculate(c, True))"
   ]
  },
  {
   "cell_type": "code",
   "execution_count": null,
   "metadata": {},
   "outputs": [],
   "source": []
  }
 ],
 "metadata": {
  "kernelspec": {
   "display_name": "Python 3",
   "language": "python",
   "name": "python3"
  },
  "language_info": {
   "codemirror_mode": {
    "name": "ipython",
    "version": 3
   },
   "file_extension": ".py",
   "mimetype": "text/x-python",
   "name": "python",
   "nbconvert_exporter": "python",
   "pygments_lexer": "ipython3",
   "version": "3.6.4"
  }
 },
 "nbformat": 4,
 "nbformat_minor": 2
}
