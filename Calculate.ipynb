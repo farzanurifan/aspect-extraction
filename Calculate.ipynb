{
 "cells": [
  {
   "cell_type": "code",
   "execution_count": 1,
   "metadata": {},
   "outputs": [],
   "source": [
    "def calculate(label, is_multi, df):\n",
    "    tp = 0\n",
    "    tn = 0\n",
    "    fp = 0\n",
    "    fn = 0\n",
    "    kosong = 0\n",
    "    \n",
    "    for index in range(0, len(df)):\n",
    "        labels = df['label'][index].split('|')\n",
    "        \n",
    "        if type(df['pred_multiple'][index]) != float:\n",
    "            preds = df['pred_multiple'][index].split('|')\n",
    "\n",
    "            if label in labels and label in preds:\n",
    "                tp += 1\n",
    "            elif label not in labels and label not in preds:\n",
    "                tn += 1\n",
    "            elif label not in labels and label in preds:\n",
    "                fp += 1\n",
    "            elif label in labels and label not in preds:\n",
    "                fn += 1\n",
    "        elif label in labels:\n",
    "            fn += 1\n",
    "        else:\n",
    "            tn += 1\n",
    "    precision = round(tp / (tp + fp), 2)\n",
    "    recall = round(tp / (tp + fn), 2)\n",
    "    f1 = round(2 * ((precision * recall) / (precision + recall)), 2)\n",
    "    accuracy = round((tp+tn)/(tp+tn+fp+fn), 2)\n",
    "    print(tp, '\\t', tn, '\\t', fp, '\\t', fn, '\\t', '\\t', precision, '\\t', recall, '\\t', f1, '\\t', '\\t', accuracy)\n",
    "    return tp, tn, fp, fn, precision, recall, f1, accuracy"
   ]
  },
  {
   "cell_type": "code",
   "execution_count": 2,
   "metadata": {},
   "outputs": [],
   "source": [
    "import pandas as pd\n",
    "\n",
    "def run(tipe):\n",
    "    df = pd.read_csv('Results/Categorization/'+ tipe +'.csv')\n",
    "    sf = pd.DataFrame(columns=['TP', 'TN', 'FP', 'FN', 'precision', 'recall', 'f1', 'accuracy'])\n",
    "    print('tp', '\\t', 'tn', '\\t', 'fp', '\\t', 'fn', '\\t', '\\t', 'prec', '\\t', 'rec', '\\t', 'f1', '\\t', '\\t', 'accuracy')\n",
    "\n",
    "    cat = ['AMBIENCE', 'FOOD', 'SERVICE', 'VALUE']\n",
    "    for c in cat:\n",
    "        a, b, c, d, e, f, g, h = calculate(c, True, df)\n",
    "        sf = sf.append({'TP':a, 'TN':b, 'FP':c, 'FN':d, 'precision':e, 'recall':f, 'f1':g, 'accuracy': h}, ignore_index=True)\n",
    "    sf.to_excel(\"Results/Calculation/\"+ tipe +\".xlsx\")"
   ]
  },
  {
   "cell_type": "code",
   "execution_count": 4,
   "metadata": {
    "scrolled": false
   },
   "outputs": [
    {
     "name": "stdout",
     "output_type": "stream",
     "text": [
      "tp \t tn \t fp \t fn \t \t prec \t rec \t f1 \t \t accuracy\n",
      "166 \t 402 \t 91 \t 40 \t \t 0.65 \t 0.81 \t 0.72 \t \t 0.81\n",
      "395 \t 216 \t 71 \t 17 \t \t 0.85 \t 0.96 \t 0.9 \t \t 0.87\n",
      "145 \t 487 \t 41 \t 26 \t \t 0.78 \t 0.85 \t 0.81 \t \t 0.9\n",
      "125 \t 443 \t 114 \t 17 \t \t 0.52 \t 0.88 \t 0.65 \t \t 0.81\n"
     ]
    }
   ],
   "source": [
    "run(\"chunk\")"
   ]
  },
  {
   "cell_type": "code",
   "execution_count": 6,
   "metadata": {},
   "outputs": [
    {
     "name": "stdout",
     "output_type": "stream",
     "text": [
      "tp \t tn \t fp \t fn \t \t prec \t rec \t f1 \t \t accuracy\n",
      "203 \t 324 \t 169 \t 3 \t \t 0.55 \t 0.99 \t 0.71 \t \t 0.75\n",
      "392 \t 237 \t 50 \t 20 \t \t 0.89 \t 0.95 \t 0.92 \t \t 0.9\n",
      "154 \t 473 \t 55 \t 17 \t \t 0.74 \t 0.9 \t 0.81 \t \t 0.9\n",
      "93 \t 520 \t 37 \t 49 \t \t 0.72 \t 0.65 \t 0.68 \t \t 0.88\n"
     ]
    }
   ],
   "source": [
    "run(\"chunk\")"
   ]
  },
  {
   "cell_type": "code",
   "execution_count": 5,
   "metadata": {},
   "outputs": [
    {
     "name": "stdout",
     "output_type": "stream",
     "text": [
      "tp \t tn \t fp \t fn \t \t prec \t rec \t f1 \t \t accuracy\n",
      "102 \t 475 \t 18 \t 104 \t \t 0.85 \t 0.5 \t 0.63 \t \t 0.83\n",
      "265 \t 259 \t 28 \t 147 \t \t 0.9 \t 0.64 \t 0.75 \t \t 0.75\n",
      "106 \t 521 \t 7 \t 65 \t \t 0.94 \t 0.62 \t 0.75 \t \t 0.9\n",
      "122 \t 502 \t 55 \t 20 \t \t 0.69 \t 0.86 \t 0.77 \t \t 0.89\n"
     ]
    }
   ],
   "source": [
    "run(\"20\")"
   ]
  },
  {
   "cell_type": "code",
   "execution_count": 7,
   "metadata": {},
   "outputs": [
    {
     "name": "stdout",
     "output_type": "stream",
     "text": [
      "tp \t tn \t fp \t fn \t \t prec \t rec \t f1 \t \t accuracy\n",
      "148 \t 428 \t 65 \t 58 \t \t 0.69 \t 0.72 \t 0.7 \t \t 0.82\n",
      "252 \t 263 \t 24 \t 160 \t \t 0.91 \t 0.61 \t 0.73 \t \t 0.74\n",
      "108 \t 494 \t 34 \t 63 \t \t 0.76 \t 0.63 \t 0.69 \t \t 0.86\n",
      "90 \t 538 \t 19 \t 52 \t \t 0.83 \t 0.63 \t 0.72 \t \t 0.9\n"
     ]
    }
   ],
   "source": [
    "run(\"20\")"
   ]
  },
  {
   "cell_type": "code",
   "execution_count": null,
   "metadata": {},
   "outputs": [],
   "source": []
  }
 ],
 "metadata": {
  "kernelspec": {
   "display_name": "Python 3",
   "language": "python",
   "name": "python3"
  },
  "language_info": {
   "codemirror_mode": {
    "name": "ipython",
    "version": 3
   },
   "file_extension": ".py",
   "mimetype": "text/x-python",
   "name": "python",
   "nbconvert_exporter": "python",
   "pygments_lexer": "ipython3",
   "version": "3.7.3"
  }
 },
 "nbformat": 4,
 "nbformat_minor": 2
}
