{
 "cells": [
  {
   "cell_type": "code",
   "execution_count": 3,
   "metadata": {},
   "outputs": [],
   "source": [
    "def calculate(label, df):\n",
    "    tp = 0\n",
    "    tn = 0\n",
    "    fp = 0\n",
    "    fn = 0\n",
    "    kosong = 0\n",
    "    \n",
    "    for index in range(0, len(df)):\n",
    "        labels = df['label'][index].split(',')\n",
    "        \n",
    "        if type(df['predict'][index]) != float:\n",
    "            preds = df['predict'][index].split('|')\n",
    "\n",
    "            if label in labels and label in preds:\n",
    "                tp += 1\n",
    "            elif label not in labels and label not in preds:\n",
    "                tn += 1\n",
    "            elif label not in labels and label in preds:\n",
    "                fp += 1\n",
    "            elif label in labels and label not in preds:\n",
    "                fn += 1\n",
    "        elif label in labels:\n",
    "            fn += 1\n",
    "        else:\n",
    "            tn += 1\n",
    "    precision = round(tp / (tp + fp), 2)\n",
    "    recall = round(tp / (tp + fn), 2)\n",
    "    f1 = round(2 * ((precision * recall) / (precision + recall)), 2)\n",
    "    accuracy = round((tp+tn)/(tp+tn+fp+fn), 2)\n",
    "    print(tp, '\\t', tn, '\\t', fp, '\\t', fn, '\\t', '\\t', precision, '\\t', recall, '\\t', f1, '\\t', '\\t', accuracy)\n",
    "    return tp, tn, fp, fn, precision, recall, f1, accuracy"
   ]
  },
  {
   "cell_type": "code",
   "execution_count": 4,
   "metadata": {},
   "outputs": [],
   "source": [
    "import pandas as pd\n",
    "import numpy as np\n",
    "\n",
    "def run(tipe):\n",
    "    df = pd.read_csv('Results/Categorization/'+ tipe +'.csv')\n",
    "    sf = pd.DataFrame(columns=['TP', 'TN', 'FP', 'FN', 'precision', 'recall', 'f1', 'accuracy'])\n",
    "    print('tp', '\\t', 'tn', '\\t', 'fp', '\\t', 'fn', '\\t', '\\t', 'prec', '\\t', 'rec', '\\t', 'f1', '\\t', '\\t', 'accuracy')\n",
    "    precision = []\n",
    "    recall = []\n",
    "    f1 = []\n",
    "    cat = ['AMBIENCE', 'FOOD', 'SERVICE', 'PRICES']\n",
    "    for c in cat:\n",
    "        a, b, c, d, e, f, g, h = calculate(c, df)\n",
    "        precision.append(e)\n",
    "        recall.append(f)\n",
    "        f1.append(g)\n",
    "        sf = sf.append({'TP':a, 'TN':b, 'FP':c, 'FN':d, 'precision':e, 'recall':f, 'f1':g, 'accuracy': h}, ignore_index=True)\n",
    "    sf.to_excel(\"Results/Calculation/\"+ tipe +\".xlsx\")\n",
    "    print('', '\\t', '', '\\t', '', '\\t', '', '\\t', '\\t', round(np.mean(precision),2), '\\t', round(np.mean(recall),2), '\\t', round(np.mean(f1),2), '\\t', '\\t')\n"
   ]
  },
  {
   "cell_type": "code",
   "execution_count": 23,
   "metadata": {
    "scrolled": false
   },
   "outputs": [
    {
     "name": "stdout",
     "output_type": "stream",
     "text": [
      "tp \t tn \t fp \t fn \t \t prec \t rec \t f1 \t \t accuracy\n",
      "112 \t 255 \t 58 \t 39 \t \t 0.66 \t 0.74 \t 0.7 \t \t 0.79\n",
      "188 \t 162 \t 85 \t 29 \t \t 0.69 \t 0.87 \t 0.77 \t \t 0.75\n",
      "114 \t 282 \t 28 \t 40 \t \t 0.8 \t 0.74 \t 0.77 \t \t 0.85\n",
      "74 \t 317 \t 17 \t 56 \t \t 0.81 \t 0.57 \t 0.67 \t \t 0.84\n",
      " \t  \t  \t  \t \t 0.74 \t 0.73 \t 0.73 \t \t\n"
     ]
    }
   ],
   "source": [
    "run(\"lda\")"
   ]
  },
  {
   "cell_type": "code",
   "execution_count": 22,
   "metadata": {},
   "outputs": [
    {
     "name": "stdout",
     "output_type": "stream",
     "text": [
      "tp \t tn \t fp \t fn \t \t prec \t rec \t f1 \t \t accuracy\n",
      "103 \t 256 \t 57 \t 48 \t \t 0.64 \t 0.68 \t 0.66 \t \t 0.77\n",
      "178 \t 179 \t 68 \t 39 \t \t 0.72 \t 0.82 \t 0.77 \t \t 0.77\n",
      "126 \t 307 \t 3 \t 28 \t \t 0.98 \t 0.82 \t 0.89 \t \t 0.93\n",
      "68 \t 325 \t 9 \t 62 \t \t 0.88 \t 0.52 \t 0.65 \t \t 0.85\n",
      " \t  \t  \t  \t \t 0.8 \t 0.71 \t 0.74 \t \t\n"
     ]
    }
   ],
   "source": [
    "run(\"plsa\")"
   ]
  },
  {
   "cell_type": "code",
   "execution_count": 21,
   "metadata": {
    "scrolled": true
   },
   "outputs": [
    {
     "name": "stdout",
     "output_type": "stream",
     "text": [
      "tp \t tn \t fp \t fn \t \t prec \t rec \t f1 \t \t accuracy\n",
      "120 \t 254 \t 59 \t 31 \t \t 0.67 \t 0.79 \t 0.73 \t \t 0.81\n",
      "178 \t 184 \t 63 \t 39 \t \t 0.74 \t 0.82 \t 0.78 \t \t 0.78\n",
      "111 \t 288 \t 22 \t 43 \t \t 0.83 \t 0.72 \t 0.77 \t \t 0.86\n",
      "53 \t 321 \t 13 \t 77 \t \t 0.8 \t 0.41 \t 0.54 \t \t 0.81\n",
      " \t  \t  \t  \t \t 0.76 \t 0.68 \t 0.7 \t \t\n"
     ]
    }
   ],
   "source": [
    "run(\"dp\")"
   ]
  },
  {
   "cell_type": "code",
   "execution_count": 7,
   "metadata": {
    "scrolled": true
   },
   "outputs": [
    {
     "name": "stdout",
     "output_type": "stream",
     "text": [
      "tp \t tn \t fp \t fn \t \t prec \t rec \t f1 \t \t accuracy\n",
      "108 \t 253 \t 60 \t 43 \t \t 0.64 \t 0.72 \t 0.68 \t \t 0.78\n",
      "180 \t 176 \t 71 \t 37 \t \t 0.72 \t 0.83 \t 0.77 \t \t 0.77\n",
      "126 \t 304 \t 6 \t 28 \t \t 0.95 \t 0.82 \t 0.88 \t \t 0.93\n",
      "69 \t 323 \t 11 \t 61 \t \t 0.86 \t 0.53 \t 0.66 \t \t 0.84\n",
      " \t  \t  \t  \t \t 0.79 \t 0.72 \t 0.75 \t \t\n"
     ]
    }
   ],
   "source": [
    "run(\"lda2vec\")"
   ]
  },
  {
   "cell_type": "code",
   "execution_count": 8,
   "metadata": {},
   "outputs": [
    {
     "name": "stdout",
     "output_type": "stream",
     "text": [
      "tp \t tn \t fp \t fn \t \t prec \t rec \t f1 \t \t accuracy\n",
      "126 \t 247 \t 66 \t 25 \t \t 0.66 \t 0.83 \t 0.74 \t \t 0.8\n",
      "200 \t 161 \t 86 \t 17 \t \t 0.7 \t 0.92 \t 0.8 \t \t 0.78\n",
      "131 \t 297 \t 13 \t 23 \t \t 0.91 \t 0.85 \t 0.88 \t \t 0.92\n",
      "70 \t 319 \t 15 \t 60 \t \t 0.82 \t 0.54 \t 0.65 \t \t 0.84\n",
      " \t  \t  \t  \t \t 0.77 \t 0.78 \t 0.77 \t \t\n"
     ]
    }
   ],
   "source": [
    "run(\"lda2vec-partial\")"
   ]
  },
  {
   "cell_type": "code",
   "execution_count": 42,
   "metadata": {},
   "outputs": [
    {
     "name": "stdout",
     "output_type": "stream",
     "text": [
      "tp \t tn \t fp \t fn \t \t prec \t rec \t f1 \t \t accuracy\n",
      "126 \t 248 \t 65 \t 25 \t \t 0.66 \t 0.83 \t 0.74 \t \t 0.81\n",
      "199 \t 161 \t 86 \t 18 \t \t 0.7 \t 0.92 \t 0.8 \t \t 0.78\n",
      "129 \t 297 \t 13 \t 25 \t \t 0.91 \t 0.84 \t 0.87 \t \t 0.92\n",
      "70 \t 319 \t 15 \t 60 \t \t 0.82 \t 0.54 \t 0.65 \t \t 0.84\n",
      " \t  \t  \t  \t \t 0.77 \t 0.78 \t 0.76 \t \t\n"
     ]
    }
   ],
   "source": [
    "run(\"lda2vec-partial-ner\")"
   ]
  },
  {
   "cell_type": "code",
   "execution_count": 43,
   "metadata": {},
   "outputs": [
    {
     "name": "stdout",
     "output_type": "stream",
     "text": [
      "tp \t tn \t fp \t fn \t \t prec \t rec \t f1 \t \t accuracy\n",
      "126 \t 248 \t 65 \t 25 \t \t 0.66 \t 0.83 \t 0.74 \t \t 0.81\n",
      "199 \t 161 \t 86 \t 18 \t \t 0.7 \t 0.92 \t 0.8 \t \t 0.78\n",
      "129 \t 297 \t 13 \t 25 \t \t 0.91 \t 0.84 \t 0.87 \t \t 0.92\n",
      "93 \t 318 \t 16 \t 37 \t \t 0.85 \t 0.72 \t 0.78 \t \t 0.89\n",
      " \t  \t  \t  \t \t 0.78 \t 0.83 \t 0.8 \t \t\n"
     ]
    }
   ],
   "source": [
    "run(\"lda2vec-partial-ner-money\")"
   ]
  }
 ],
 "metadata": {
  "kernelspec": {
   "display_name": "Python 3",
   "language": "python",
   "name": "python3"
  },
  "language_info": {
   "codemirror_mode": {
    "name": "ipython",
    "version": 3
   },
   "file_extension": ".py",
   "mimetype": "text/x-python",
   "name": "python",
   "nbconvert_exporter": "python",
   "pygments_lexer": "ipython3",
   "version": "3.6.4"
  }
 },
 "nbformat": 4,
 "nbformat_minor": 2
}
