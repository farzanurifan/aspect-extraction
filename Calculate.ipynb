{
 "cells": [
  {
   "cell_type": "code",
   "execution_count": 1,
   "metadata": {},
   "outputs": [
    {
     "data": {
      "text/html": [
       "<div>\n",
       "<style scoped>\n",
       "    .dataframe tbody tr th:only-of-type {\n",
       "        vertical-align: middle;\n",
       "    }\n",
       "\n",
       "    .dataframe tbody tr th {\n",
       "        vertical-align: top;\n",
       "    }\n",
       "\n",
       "    .dataframe thead th {\n",
       "        text-align: right;\n",
       "    }\n",
       "</style>\n",
       "<table border=\"1\" class=\"dataframe\">\n",
       "  <thead>\n",
       "    <tr style=\"text-align: right;\">\n",
       "      <th></th>\n",
       "      <th>Unnamed: 0</th>\n",
       "      <th>id</th>\n",
       "      <th>review</th>\n",
       "      <th>label</th>\n",
       "      <th>pred_single</th>\n",
       "      <th>pred_multiple</th>\n",
       "      <th>terms</th>\n",
       "    </tr>\n",
       "  </thead>\n",
       "  <tbody>\n",
       "    <tr>\n",
       "      <th>0</th>\n",
       "      <td>0</td>\n",
       "      <td>0</td>\n",
       "      <td>i am not necessarily fanatical about this plac...</td>\n",
       "      <td>VALUE</td>\n",
       "      <td>VALUE</td>\n",
       "      <td>VALUE|VALUE|VALUE|VALUE|VALUE|VALUE|VALUE|VALU...</td>\n",
       "      <td>price|place|time|u|rice|</td>\n",
       "    </tr>\n",
       "    <tr>\n",
       "      <th>1</th>\n",
       "      <td>1</td>\n",
       "      <td>2</td>\n",
       "      <td>the high prices you're going to pay is for the...</td>\n",
       "      <td>VALUE</td>\n",
       "      <td>VALUE</td>\n",
       "      <td>FOOD|VALUE|VALUE|VALUE|VALUE|VALUE|VALUE|VALUE...</td>\n",
       "      <td>food|high|price|pay|going|view|u|rice|</td>\n",
       "    </tr>\n",
       "    <tr>\n",
       "      <th>2</th>\n",
       "      <td>2</td>\n",
       "      <td>3</td>\n",
       "      <td>the high prices you're going to pay is for the...</td>\n",
       "      <td>VALUE</td>\n",
       "      <td>VALUE</td>\n",
       "      <td>FOOD|VALUE|VALUE|VALUE|VALUE|VALUE|VALUE|VALUE...</td>\n",
       "      <td>food|high|price|pay|going|view|u|rice|</td>\n",
       "    </tr>\n",
       "    <tr>\n",
       "      <th>3</th>\n",
       "      <td>3</td>\n",
       "      <td>4</td>\n",
       "      <td>the high prices you're going to pay is for the...</td>\n",
       "      <td>VALUE</td>\n",
       "      <td>VALUE</td>\n",
       "      <td>FOOD|VALUE|VALUE|VALUE|VALUE|VALUE|VALUE|VALUE...</td>\n",
       "      <td>food|high|price|pay|going|view|u|rice|</td>\n",
       "    </tr>\n",
       "    <tr>\n",
       "      <th>4</th>\n",
       "      <td>4</td>\n",
       "      <td>5</td>\n",
       "      <td>the high prices you're going to pay is for the...</td>\n",
       "      <td>VALUE</td>\n",
       "      <td>VALUE</td>\n",
       "      <td>FOOD|VALUE|VALUE|VALUE|VALUE|VALUE|VALUE|VALUE...</td>\n",
       "      <td>food|high|price|pay|going|view|u|rice|</td>\n",
       "    </tr>\n",
       "  </tbody>\n",
       "</table>\n",
       "</div>"
      ],
      "text/plain": [
       "   Unnamed: 0  id                                             review  label  \\\n",
       "0           0   0  i am not necessarily fanatical about this plac...  VALUE   \n",
       "1           1   2  the high prices you're going to pay is for the...  VALUE   \n",
       "2           2   3  the high prices you're going to pay is for the...  VALUE   \n",
       "3           3   4  the high prices you're going to pay is for the...  VALUE   \n",
       "4           4   5  the high prices you're going to pay is for the...  VALUE   \n",
       "\n",
       "  pred_single                                      pred_multiple  \\\n",
       "0       VALUE  VALUE|VALUE|VALUE|VALUE|VALUE|VALUE|VALUE|VALU...   \n",
       "1       VALUE  FOOD|VALUE|VALUE|VALUE|VALUE|VALUE|VALUE|VALUE...   \n",
       "2       VALUE  FOOD|VALUE|VALUE|VALUE|VALUE|VALUE|VALUE|VALUE...   \n",
       "3       VALUE  FOOD|VALUE|VALUE|VALUE|VALUE|VALUE|VALUE|VALUE...   \n",
       "4       VALUE  FOOD|VALUE|VALUE|VALUE|VALUE|VALUE|VALUE|VALUE...   \n",
       "\n",
       "                                    terms  \n",
       "0                price|place|time|u|rice|  \n",
       "1  food|high|price|pay|going|view|u|rice|  \n",
       "2  food|high|price|pay|going|view|u|rice|  \n",
       "3  food|high|price|pay|going|view|u|rice|  \n",
       "4  food|high|price|pay|going|view|u|rice|  "
      ]
     },
     "execution_count": 1,
     "metadata": {},
     "output_type": "execute_result"
    }
   ],
   "source": [
    "import pandas as pd\n",
    "\n",
    "df = pd.read_csv('hasil_kategori_lda.csv')\n",
    "df.head()"
   ]
  },
  {
   "cell_type": "code",
   "execution_count": 2,
   "metadata": {},
   "outputs": [],
   "source": [
    "def calculate(label, is_multi):\n",
    "    tp = 0\n",
    "    tn = 0\n",
    "    fp = 0\n",
    "    fn = 0\n",
    "    kosong = 0\n",
    "    \n",
    "    for index in range(0, len(df)):\n",
    "        labels = df['label'][index].split('|')\n",
    "        if is_multi:\n",
    "            if type(df['pred_multiple'][index]) != float:\n",
    "                preds = df['pred_multiple'][index].split('|')\n",
    "\n",
    "                if label in labels and label in preds:\n",
    "                    tp += 1\n",
    "                elif label not in labels and label not in preds:\n",
    "                    tn += 1\n",
    "                elif label not in labels and label in preds:\n",
    "                    fp += 1\n",
    "                elif label in labels and label not in preds:\n",
    "                    fn += 1\n",
    "            elif label in labels:\n",
    "                fn += 1\n",
    "            else:\n",
    "                fp += 1\n",
    "        else:\n",
    "            if type(df['pred_single'][index]) != float:\n",
    "                preds = [df['pred_single'][index]]\n",
    "\n",
    "                if label in labels and label in preds:\n",
    "                    tp += 1\n",
    "                elif label not in labels and label not in preds:\n",
    "                    tn += 1\n",
    "                elif label not in labels and label in preds:\n",
    "                    fp += 1\n",
    "                elif label in labels and label not in preds:\n",
    "                    fn += 1\n",
    "            elif label in labels:\n",
    "                fn += 1\n",
    "            else:\n",
    "                fp += 1\n",
    "    precision = tp / (tp + fp)\n",
    "    recall = tp / (tp + fn)\n",
    "    f1 = 2 * ((precision * recall) / (precision + recall))\n",
    "    print(tp, tn, fp, fn, precision, recall, f1)\n",
    "    return tp, tn, fp, fn, precision, recall, f1"
   ]
  },
  {
   "cell_type": "code",
   "execution_count": 5,
   "metadata": {},
   "outputs": [
    {
     "name": "stdout",
     "output_type": "stream",
     "text": [
      "98 454 39 108 0.7153284671532847 0.47572815533980584 0.5714285714285715\n",
      "262 272 10 155 0.9632352941176471 0.6282973621103117 0.7605224963715529\n",
      "11 517 11 160 0.5 0.06432748538011696 0.11398963730569947\n",
      "81 382 209 27 0.2793103448275862 0.75 0.40703517587939697\n"
     ]
    }
   ],
   "source": [
    "import pandas as pd\n",
    "\n",
    "sf = pd.DataFrame(columns=['TP', 'TN', 'FP', 'FN', 'precision', 'recall', 'f1'])\n",
    "\n",
    "cat = ['AMBIENCE', 'FOOD', 'SERVICE', 'VALUE']\n",
    "for c in cat:\n",
    "    a, b, c, d, e, f, g = calculate(c, False)\n",
    "    sf = sf.append({'TP':a, 'TN':b, 'FP':c, 'FN':d, 'precision':e, 'recall':f, 'f1':g}, ignore_index=True)\n",
    "sf.to_excel(\"nikon-false.xlsx\")"
   ]
  },
  {
   "cell_type": "code",
   "execution_count": 6,
   "metadata": {},
   "outputs": [
    {
     "name": "stdout",
     "output_type": "stream",
     "text": [
      "169 219 274 37 0.38148984198645597 0.8203883495145631 0.5208012326656395\n",
      "388 187 95 29 0.8033126293995859 0.9304556354916067 0.8622222222222222\n",
      "128 499 29 43 0.8152866242038217 0.7485380116959064 0.7804878048780487\n",
      "108 109 482 0 0.18305084745762712 1.0 0.30945558739255014\n"
     ]
    }
   ],
   "source": [
    "import pandas as pd\n",
    "\n",
    "sf = pd.DataFrame(columns=['TP', 'TN', 'FP', 'FN', 'precision', 'recall', 'f1'])\n",
    "\n",
    "cat = ['AMBIENCE', 'FOOD', 'SERVICE', 'VALUE']\n",
    "for c in cat:\n",
    "    a, b, c, d, e, f, g = calculate(c, True)\n",
    "    sf = sf.append({'TP':a, 'TN':b, 'FP':c, 'FN':d, 'precision':e, 'recall':f, 'f1':g}, ignore_index=True)\n",
    "sf.to_excel(\"nikon-true.xlsx\")"
   ]
  },
  {
   "cell_type": "code",
   "execution_count": null,
   "metadata": {},
   "outputs": [],
   "source": []
  },
  {
   "cell_type": "code",
   "execution_count": null,
   "metadata": {},
   "outputs": [],
   "source": []
  }
 ],
 "metadata": {
  "kernelspec": {
   "display_name": "Python 3",
   "language": "python",
   "name": "python3"
  },
  "language_info": {
   "codemirror_mode": {
    "name": "ipython",
    "version": 3
   },
   "file_extension": ".py",
   "mimetype": "text/x-python",
   "name": "python",
   "nbconvert_exporter": "python",
   "pygments_lexer": "ipython3",
   "version": "3.6.4"
  }
 },
 "nbformat": 4,
 "nbformat_minor": 2
}
