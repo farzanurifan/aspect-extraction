{
 "cells": [
  {
   "cell_type": "code",
   "execution_count": 8,
   "metadata": {},
   "outputs": [],
   "source": [
    "def calculate(label, is_multi, df):\n",
    "    tp = 0\n",
    "    tn = 0\n",
    "    fp = 0\n",
    "    fn = 0\n",
    "    kosong = 0\n",
    "    \n",
    "    for index in range(0, len(df)):\n",
    "        labels = df['label'][index].split('|')\n",
    "        \n",
    "        if type(df['pred_multiple'][index]) != float:\n",
    "            preds = df['pred_multiple'][index].split('|')\n",
    "\n",
    "            if label in labels and label in preds:\n",
    "                tp += 1\n",
    "            elif label not in labels and label not in preds:\n",
    "                tn += 1\n",
    "            elif label not in labels and label in preds:\n",
    "                fp += 1\n",
    "            elif label in labels and label not in preds:\n",
    "                fn += 1\n",
    "        elif label in labels:\n",
    "            fn += 1\n",
    "        else:\n",
    "            tn += 1\n",
    "    precision = tp / (tp + fp)\n",
    "    recall = tp / (tp + fn)\n",
    "    f1 = 2 * ((precision * recall) / (precision + recall))\n",
    "    print(tp, tn, fp, fn, precision, recall, f1)\n",
    "    return tp, tn, fp, fn, precision, recall, f1"
   ]
  },
  {
   "cell_type": "code",
   "execution_count": 9,
   "metadata": {},
   "outputs": [],
   "source": [
    "import pandas as pd\n",
    "\n",
    "def run(tipe):\n",
    "    df = pd.read_csv('lda2vec works/hasil_kategori_lda2vec'+ tipe +'.csv')\n",
    "    sf = pd.DataFrame(columns=['TP', 'TN', 'FP', 'FN', 'precision', 'recall', 'f1'])\n",
    "\n",
    "    cat = ['AMBIENCE', 'FOOD', 'SERVICE', 'VALUE']\n",
    "    for c in cat:\n",
    "        a, b, c, d, e, f, g = calculate(c, True, df)\n",
    "        sf = sf.append({'TP':a, 'TN':b, 'FP':c, 'FN':d, 'precision':e, 'recall':f, 'f1':g}, ignore_index=True)\n",
    "    sf.to_excel(\"lda2vec works/hasil\"+ tipe +\".xlsx\")"
   ]
  },
  {
   "cell_type": "code",
   "execution_count": 10,
   "metadata": {},
   "outputs": [
    {
     "name": "stdout",
     "output_type": "stream",
     "text": [
      "122 424 69 84 0.6387434554973822 0.5922330097087378 0.6146095717884131\n",
      "298 257 30 114 0.9085365853658537 0.7233009708737864 0.8054054054054054\n",
      "119 525 3 52 0.9754098360655737 0.695906432748538 0.8122866894197952\n",
      "133 377 180 9 0.4249201277955272 0.9366197183098591 0.5846153846153846\n"
     ]
    }
   ],
   "source": [
    "run(\"-20\")"
   ]
  },
  {
   "cell_type": "code",
   "execution_count": 11,
   "metadata": {},
   "outputs": [
    {
     "name": "stdout",
     "output_type": "stream",
     "text": [
      "122 426 67 84 0.6455026455026455 0.5922330097087378 0.6177215189873417\n",
      "298 257 30 114 0.9085365853658537 0.7233009708737864 0.8054054054054054\n",
      "128 527 1 43 0.9922480620155039 0.7485380116959064 0.8533333333333334\n",
      "133 378 179 9 0.42628205128205127 0.9366197183098591 0.5859030837004405\n"
     ]
    }
   ],
   "source": [
    "run(\"-20\")"
   ]
  },
  {
   "cell_type": "code",
   "execution_count": 7,
   "metadata": {},
   "outputs": [
    {
     "name": "stdout",
     "output_type": "stream",
     "text": [
      "101 456 37 105 0.7318840579710145 0.49029126213592233 0.5872093023255813\n",
      "267 258 29 145 0.902027027027027 0.6480582524271845 0.7542372881355932\n",
      "118 526 2 53 0.9833333333333333 0.6900584795321637 0.8109965635738831\n",
      "124 480 77 18 0.6169154228855721 0.8732394366197183 0.7230320699708455\n"
     ]
    }
   ],
   "source": [
    "run(\"-20-filtered\")"
   ]
  },
  {
   "cell_type": "code",
   "execution_count": 13,
   "metadata": {},
   "outputs": [
    {
     "name": "stdout",
     "output_type": "stream",
     "text": [
      "100 457 36 106 0.7352941176470589 0.4854368932038835 0.5847953216374269\n",
      "267 258 29 145 0.902027027027027 0.6480582524271845 0.7542372881355932\n",
      "126 527 1 45 0.9921259842519685 0.7368421052631579 0.8456375838926173\n",
      "124 485 72 18 0.6326530612244898 0.8732394366197183 0.7337278106508875\n"
     ]
    }
   ],
   "source": [
    "run(\"-20-filtered\")"
   ]
  }
 ],
 "metadata": {
  "kernelspec": {
   "display_name": "Python 3",
   "language": "python",
   "name": "python3"
  },
  "language_info": {
   "codemirror_mode": {
    "name": "ipython",
    "version": 3
   },
   "file_extension": ".py",
   "mimetype": "text/x-python",
   "name": "python",
   "nbconvert_exporter": "python",
   "pygments_lexer": "ipython3",
   "version": "3.6.4"
  }
 },
 "nbformat": 4,
 "nbformat_minor": 2
}
