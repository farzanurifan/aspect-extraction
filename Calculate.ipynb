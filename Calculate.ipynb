{
 "cells": [
  {
   "cell_type": "code",
   "execution_count": 20,
   "metadata": {},
   "outputs": [],
   "source": [
    "def calculate(label, is_multi, df):\n",
    "    tp = 0\n",
    "    tn = 0\n",
    "    fp = 0\n",
    "    fn = 0\n",
    "    kosong = 0\n",
    "    \n",
    "    for index in range(0, len(df)):\n",
    "        labels = df['label'][index].split('|')\n",
    "        \n",
    "        if type(df['pred_multiple'][index]) != float:\n",
    "            preds = df['pred_multiple'][index].split('|')\n",
    "\n",
    "            if label in labels and label in preds:\n",
    "                tp += 1\n",
    "            elif label not in labels and label not in preds:\n",
    "                tn += 1\n",
    "            elif label not in labels and label in preds:\n",
    "                fp += 1\n",
    "            elif label in labels and label not in preds:\n",
    "                fn += 1\n",
    "        elif label in labels:\n",
    "            fn += 1\n",
    "        else:\n",
    "            tn += 1\n",
    "    precision = tp / (tp + fp)\n",
    "    recall = tp / (tp + fn)\n",
    "    f1 = 2 * ((precision * recall) / (precision + recall))\n",
    "    accuracy = (tp+tn)/(tp+tn+fp+fn)\n",
    "    print(tp, tn, fp, fn, precision, recall, f1, accuracy)\n",
    "    return tp, tn, fp, fn, precision, recall, f1, accuracy"
   ]
  },
  {
   "cell_type": "code",
   "execution_count": 21,
   "metadata": {},
   "outputs": [],
   "source": [
    "import pandas as pd\n",
    "\n",
    "def run(tipe):\n",
    "    df = pd.read_csv('lda2vec works/hasil_kategori_lda2vec'+ tipe +'.csv')\n",
    "    sf = pd.DataFrame(columns=['TP', 'TN', 'FP', 'FN', 'precision', 'recall', 'f1', 'accuracy'])\n",
    "\n",
    "    cat = ['AMBIENCE', 'FOOD', 'SERVICE', 'VALUE']\n",
    "    for c in cat:\n",
    "        a, b, c, d, e, f, g, h = calculate(c, True, df)\n",
    "        sf = sf.append({'TP':a, 'TN':b, 'FP':c, 'FN':d, 'precision':e, 'recall':f, 'f1':g, 'accuracy': h}, ignore_index=True)\n",
    "    sf.to_excel(\"lda2vec works/hasil\"+ tipe +\".xlsx\")"
   ]
  },
  {
   "cell_type": "code",
   "execution_count": 23,
   "metadata": {},
   "outputs": [
    {
     "name": "stdout",
     "output_type": "stream",
     "text": [
      "174 371 122 32 0.5878378378378378 0.8446601941747572 0.6932270916334662 0.7796852646638054\n",
      "355 239 48 57 0.8808933002481389 0.8616504854368932 0.8711656441717791 0.8497854077253219\n",
      "137 519 9 34 0.9383561643835616 0.8011695906432749 0.8643533123028391 0.9384835479256081\n",
      "124 416 141 18 0.4679245283018868 0.8732394366197183 0.6093366093366093 0.7725321888412017\n"
     ]
    }
   ],
   "source": [
    "run(\"-nice\")"
   ]
  },
  {
   "cell_type": "code",
   "execution_count": 16,
   "metadata": {},
   "outputs": [
    {
     "name": "stdout",
     "output_type": "stream",
     "text": [
      "175 408 85 31 0.6730769230769231 0.8495145631067961 0.7510729613733904 0.8340486409155937\n",
      "353 239 48 59 0.8802992518703242 0.8567961165048543 0.8683886838868389 0.8469241773962805\n",
      "132 519 9 39 0.9361702127659575 0.7719298245614035 0.8461538461538461 0.9313304721030042\n",
      "129 469 88 13 0.5944700460829493 0.9084507042253521 0.7186629526462396 0.8555078683834049\n"
     ]
    }
   ],
   "source": [
    "run(\"-nice-filtered\")"
   ]
  },
  {
   "cell_type": "code",
   "execution_count": 24,
   "metadata": {},
   "outputs": [
    {
     "name": "stdout",
     "output_type": "stream",
     "text": [
      "186 355 138 20 0.5740740740740741 0.9029126213592233 0.7018867924528301 0.7739628040057225\n",
      "372 237 50 40 0.8815165876777251 0.9029126213592233 0.8920863309352518 0.871244635193133\n",
      "140 517 11 31 0.9271523178807947 0.8187134502923976 0.8695652173913042 0.9399141630901288\n",
      "124 413 144 18 0.4626865671641791 0.8732394366197183 0.6048780487804878 0.7682403433476395\n"
     ]
    }
   ],
   "source": [
    "run(\"-nice-noun\")"
   ]
  },
  {
   "cell_type": "code",
   "execution_count": 25,
   "metadata": {},
   "outputs": [
    {
     "name": "stdout",
     "output_type": "stream",
     "text": [
      "169 405 88 37 0.6575875486381323 0.8203883495145631 0.7300215982721382 0.821173104434907\n",
      "340 245 42 72 0.8900523560209425 0.8252427184466019 0.8564231738035265 0.8369098712446352\n",
      "133 520 8 38 0.9432624113475178 0.7777777777777778 0.8525641025641026 0.9341917024320457\n",
      "123 459 98 19 0.5565610859728507 0.8661971830985915 0.6776859504132232 0.8326180257510729\n"
     ]
    }
   ],
   "source": [
    "run(\"-nice-noun-filtered\")"
   ]
  },
  {
   "cell_type": "code",
   "execution_count": 19,
   "metadata": {},
   "outputs": [
    {
     "name": "stdout",
     "output_type": "stream",
     "text": [
      "181 400 93 25 0.6605839416058394 0.8786407766990292 0.7541666666666668 0.8311874105865522\n",
      "364 236 51 48 0.8771084337349397 0.883495145631068 0.8802902055622733 0.8583690987124464\n",
      "132 519 9 39 0.9361702127659575 0.7719298245614035 0.8461538461538461 0.9313304721030042\n",
      "129 465 92 13 0.583710407239819 0.9084507042253521 0.7107438016528925 0.8497854077253219\n"
     ]
    }
   ],
   "source": [
    "run(\"-nice-noun-filtered\")"
   ]
  },
  {
   "cell_type": "code",
   "execution_count": null,
   "metadata": {},
   "outputs": [],
   "source": []
  }
 ],
 "metadata": {
  "kernelspec": {
   "display_name": "Python 3",
   "language": "python",
   "name": "python3"
  },
  "language_info": {
   "codemirror_mode": {
    "name": "ipython",
    "version": 3
   },
   "file_extension": ".py",
   "mimetype": "text/x-python",
   "name": "python",
   "nbconvert_exporter": "python",
   "pygments_lexer": "ipython3",
   "version": "3.6.4"
  }
 },
 "nbformat": 4,
 "nbformat_minor": 2
}
