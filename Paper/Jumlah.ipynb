{
 "cells": [
  {
   "cell_type": "code",
   "execution_count": 4,
   "metadata": {},
   "outputs": [],
   "source": [
    "import pandas as pd\n",
    "\n",
    "def run(name):\n",
    "    df = pd.read_csv('Results/Sentiwordnet/hasil_cir_'+ name +'.csv')\n",
    "    sf = pd.DataFrame(columns = ['id','review', 'opinion', 'label', 'predict','predict2'])\n",
    "    \n",
    "    p = 0\n",
    "    n = 0\n",
    "    for index in range(0, len(df)):\n",
    "        pred = df['predict'][index]\n",
    "        if pred == 'positive':\n",
    "            p += 1\n",
    "        elif pred == 'negative':\n",
    "            n += 1\n",
    "        else:\n",
    "            print('ddd')\n",
    "\n",
    "    print(p, n)\n",
    "\n",
    "#         if h1 != h2:\n",
    "#             sf = sf.append({'id': df['id'][index], \n",
    "#                     'review': df['review'][index],\n",
    "#                     'opinion': df['opinion'][index],\n",
    "#                     'label': df['label'][index],\n",
    "#                     'predict': df['predict'][index],\n",
    "#                     'predict2': beda_df['predict'][index]\n",
    "#                    }, ignore_index=True)\n",
    "\n",
    "#     sf.to_csv('Results/Sentiwordnet/beda-' + name + '.csv')\n",
    "#     sf.to_excel('Results/Sentiwordnet/beda-' + name + '.xlsx')"
   ]
  },
  {
   "cell_type": "code",
   "execution_count": 6,
   "metadata": {},
   "outputs": [
    {
     "name": "stdout",
     "output_type": "stream",
     "text": [
      "78 29\n",
      "132 45\n",
      "89 33\n",
      "45 35\n"
     ]
    }
   ],
   "source": [
    "run('AMBIENCE')\n",
    "run('FOOD')\n",
    "run('SERVICE')\n",
    "run('PRICES')"
   ]
  },
  {
   "cell_type": "code",
   "execution_count": null,
   "metadata": {},
   "outputs": [],
   "source": []
  }
 ],
 "metadata": {
  "kernelspec": {
   "display_name": "Python 3",
   "language": "python",
   "name": "python3"
  },
  "language_info": {
   "codemirror_mode": {
    "name": "ipython",
    "version": 3
   },
   "file_extension": ".py",
   "mimetype": "text/x-python",
   "name": "python",
   "nbconvert_exporter": "python",
   "pygments_lexer": "ipython3",
   "version": "3.6.4"
  }
 },
 "nbformat": 4,
 "nbformat_minor": 2
}
