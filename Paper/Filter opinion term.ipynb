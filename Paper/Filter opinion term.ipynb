{
 "cells": [
  {
   "cell_type": "code",
   "execution_count": 1,
   "metadata": {},
   "outputs": [],
   "source": [
    "import sys, os\n",
    "import re\n",
    "import pandas as pd\n",
    "import itertools, nltk, string \n",
    "\n",
    "positive_lexicon = []\n",
    "negative_lexicon = []\n",
    "\n",
    "def read_lexicon():\n",
    "    global positive_lexicon;\n",
    "    global negative_lexicon;\n",
    "    \n",
    "    with open(os.path.join(os.path.abspath('opinion-lexicon-English/') , 'positive-words.txt'), 'r') as file:\n",
    "        line = file.readline();\n",
    "        while \";\" in line:\n",
    "            line = file.readline();\n",
    "         \n",
    "        positive_lexicon = file.readlines()\n",
    "    \n",
    "    with open(os.path.join(os.path.abspath('opinion-lexicon-English/') , 'negative-words.txt'), 'r', encoding = \"ISO-8859-1\") as file:\n",
    "        line = file.readline();\n",
    "        while \";\" in line:\n",
    "            line = file.readline();\n",
    "        \n",
    "        negative_lexicon = file.readlines()\n",
    "        \n",
    "    positive_lexicon = list(map(lambda word: word.rstrip(\"\\n\\r\"), positive_lexicon))\n",
    "    negative_lexicon = list(map(lambda word: word.rstrip(\"\\n\\r\"), negative_lexicon))    \n",
    "        \n",
    "read_lexicon()\n",
    "opinion_lexicon = positive_lexicon + negative_lexicon"
   ]
  },
  {
   "cell_type": "code",
   "execution_count": null,
   "metadata": {},
   "outputs": [],
   "source": []
  },
  {
   "cell_type": "code",
   "execution_count": 6,
   "metadata": {},
   "outputs": [],
   "source": [
    "import pandas as pd\n",
    "\n",
    "def run(tipe, where):\n",
    "    df = pd.read_csv(\"Results/\" + where + tipe +\".csv\")\n",
    "    sf = pd.DataFrame(columns = ['id','review','target', 'category','term', 'polarity'])\n",
    "    for index, concat_terms in enumerate(df['term']):\n",
    "        new_terms = []\n",
    "        try:\n",
    "            terms = concat_terms.split('|')\n",
    "        except:\n",
    "            terms = []\n",
    "        for term in terms:\n",
    "            if term not in opinion_lexicon or len(terms) > 1:\n",
    "                new_terms.append(term)\n",
    "            else:\n",
    "                print(term, ' : ', df['review'][index])\n",
    "                print()\n",
    "        sf = sf.append({'id': df['id'][index], \n",
    "                        'review': df['review'][index],\n",
    "                        'target': df['target'][index],\n",
    "                        'category': df['category'][index],\n",
    "                        'term': '|'.join(new_terms),\n",
    "                        'polarity': df['polarity'][index]\n",
    "                       }, ignore_index=True)\n",
    "\n",
    "    sf.to_csv(\"Results/Filter/\"+ tipe +\"-op.csv\")\n",
    "    sf.to_excel(\"Results/Filter/\"+ tipe +\"-op.xlsx\")"
   ]
  },
  {
   "cell_type": "code",
   "execution_count": 7,
   "metadata": {
    "scrolled": true
   },
   "outputs": [
    {
     "name": "stdout",
     "output_type": "stream",
     "text": [
      "good  :  the rice to fish ration was also good--they didn't try to overpack the rice.\n",
      "\n",
      "great  :  i am not a vegetarian but, almost all the dishes were great.\n",
      "\n",
      "like  :  i like the somosas, chai, and the chole, but the dhosas and dhal were kinda dissapointing.\n",
      "\n",
      "good  :  i went there for lunch and it was not as good as i expected from the reviews i read.\n",
      "\n",
      "great  :  the steak tartare is a great bet, they fix it for you at the table.\n",
      "\n",
      "excellent  :  moules were excellent, lobster ravioli was very salty!\n",
      "\n",
      "friendly  :  our server was very helpful and friendly.\n",
      "\n",
      "excellent  :  the tuna and wasabe potatoes are excellent.\n",
      "\n",
      "fresh  :  i have to highly recommend the lobster roll - not to much mayo; you can tell it was a fresh lobster.\n",
      "\n",
      "delicious  :  their pad penang is delicious and everything else is fantastic.\n",
      "\n",
      "great  :  great vibe, lots of people.\n",
      "\n",
      "good  :  the yellowtail was particularly good as well.\n",
      "\n",
      "great  :  the takeout is great too since they give high quality tupperware as well.\n",
      "\n",
      "nice  :  enjoyed a very nice caesar salad while my wife had arugula and goat cheese....both very tasty.\n",
      "\n",
      "delicious  :  we concluded with tiramisu chocolate cake, both were delicious.\n",
      "\n",
      "good  :  the sangria was pretty tasty and good on a hot muggy day.\n",
      "\n",
      "excellent  :  very affordable and excellent ambient!\n",
      "\n",
      "like  :  one of us actually liked the expresso - that's it.\n",
      "\n",
      "fresh  :  the dining room is quietly elegant with no music to shout over -- how refreshing!\n",
      "\n",
      "best  :  i ate here a week ago and found most dishes average at best and too expensive.\n",
      "\n",
      "like  :  also, the sandwiches (nearing $7) didn't come with anything like chips or a side.\n",
      "\n",
      "great  :  cheese plate is a varied delight and great bargain at $10.\n",
      "\n",
      "like  :  i like cafe noir dont get me wrong, it is jsut that the people who work there are evil and incompetent!!\n",
      "\n",
      "nice  :  if the weather is nice, try to snag an outside table.\n",
      "\n",
      "worth  :  we ate out in the back patio, which is worth it as it's cool and the music is hear well there.\n",
      "\n",
      "good  :  the in-house lady dj on saturday nights has outrageously good taste in music, and moreover, takes requests.\n",
      "\n",
      "great  :  in summer-eat outside on a terrace (another great feature of suan)!!!\n",
      "\n",
      "friendly  :  warm and friendly in the winter and terrific outdoor seating in the warmer months.\n",
      "\n",
      "like  :  the space kind of feels like an alice in wonderland setting, without it trying to be that.\n",
      "\n",
      "nice  :  nice view of river and nyc.\n",
      "\n",
      "like  :  most of the booths allow you to sit next to eachother without looking like 'that' couple.\n",
      "\n",
      "great  :  short and sweet – seating is great:it's romantic,cozy and private.\n",
      "\n",
      "worth  :  the lunch buffet is expensive but is deff worth it.\n",
      "\n"
     ]
    }
   ],
   "source": [
    "run('plsa', 'Aspect Terms Extraction/')"
   ]
  },
  {
   "cell_type": "code",
   "execution_count": 16,
   "metadata": {},
   "outputs": [
    {
     "data": {
      "text/plain": [
       "b'just can\\xe2\\x80\\x99t say'"
      ]
     },
     "execution_count": 16,
     "metadata": {},
     "output_type": "execute_result"
    }
   ],
   "source": [
    "\"just can’t say\".encode('utf-8')"
   ]
  }
 ],
 "metadata": {
  "kernelspec": {
   "display_name": "Python 3",
   "language": "python",
   "name": "python3"
  },
  "language_info": {
   "codemirror_mode": {
    "name": "ipython",
    "version": 3
   },
   "file_extension": ".py",
   "mimetype": "text/x-python",
   "name": "python",
   "nbconvert_exporter": "python",
   "pygments_lexer": "ipython3",
   "version": "3.6.4"
  }
 },
 "nbformat": 4,
 "nbformat_minor": 2
}
