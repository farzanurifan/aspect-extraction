{
 "cells": [
  {
   "cell_type": "code",
   "execution_count": 1,
   "metadata": {},
   "outputs": [],
   "source": [
    "import spacy\n",
    "from gensim.models import KeyedVectors\n",
    "\n",
    "# glove = KeyedVectors.load_word2vec_format('../glove.6B.300d.w2vformat.txt')\n",
    "# w2v = KeyedVectors.load_word2vec_format('../GoogleNews-vectors-negative300.bin', binary=True)\n",
    "# nlp = spacy.load(\"../model_wiki\")\n",
    "sim = 'elmo-ori/'\n",
    "t = '-elmo_ori'"
   ]
  },
  {
   "cell_type": "code",
   "execution_count": 2,
   "metadata": {},
   "outputs": [],
   "source": [
    "from scipy import spatial\n",
    "\n",
    "def cosine(x, y):\n",
    "    dataSetI = x\n",
    "    dataSetII = y\n",
    "    return 1 - spatial.distance.cosine(dataSetI, dataSetII)\n",
    "\n",
    "import string\n",
    "def rem_punct(word):\n",
    "    return word.translate(str.maketrans('', '', string.punctuation))"
   ]
  },
  {
   "cell_type": "code",
   "execution_count": 3,
   "metadata": {},
   "outputs": [],
   "source": [
    "import pickle\n",
    "\n",
    "def load_category(category):\n",
    "    pickle_in = open(\"elmo_category/\"+ sim + category +\".pickle\", \"rb\")\n",
    "    return pickle.load(pickle_in)\n",
    "\n",
    "def load_data(id_file):\n",
    "    pickle_in = open(\"elmo_restaurant/absa16/\"+ str(id_file).replace(':','_') +\".pickle\", \"rb\")\n",
    "    return pickle.load(pickle_in)[0]\n",
    "\n",
    "def load_kata(id_file):\n",
    "    pickle_in = open(\"elmo_restaurant/all_terms/\"+ str(id_file).replace('/','_').replace('.', '_') +\".pickle\", \"rb\")\n",
    "    return pickle.load(pickle_in)"
   ]
  },
  {
   "cell_type": "code",
   "execution_count": 4,
   "metadata": {},
   "outputs": [],
   "source": [
    "import numpy as np\n",
    "\n",
    "def similarity(category, word):\n",
    "    res = []\n",
    "    for cat in category:\n",
    "        res.append(cosine(cat, word))\n",
    "    return np.mean(res)"
   ]
  },
  {
   "cell_type": "code",
   "execution_count": 5,
   "metadata": {},
   "outputs": [],
   "source": [
    "def sim_result(word):\n",
    "    c1 = similarity(ambience, word)\n",
    "    c2 = similarity(food, word)\n",
    "    c3 = similarity(service, word)\n",
    "    c4 = similarity(value, word)\n",
    "    return c1, c2, c3, c4"
   ]
  },
  {
   "cell_type": "code",
   "execution_count": 6,
   "metadata": {},
   "outputs": [],
   "source": [
    "def cat_str(a, b, c, d):\n",
    "    if a > b and a > c and a > d:\n",
    "        return 1\n",
    "    elif b > a and b > c and b > d:\n",
    "        return 2\n",
    "    elif c > b and c > a and c > d:\n",
    "        return 3\n",
    "    elif d > b and d > c and d > a:\n",
    "        return 4\n",
    "    else:\n",
    "        return 5"
   ]
  },
  {
   "cell_type": "code",
   "execution_count": 7,
   "metadata": {},
   "outputs": [],
   "source": [
    "def str_cat(num):\n",
    "    pred =''\n",
    "    if num == 1:\n",
    "        pred = 'AMBIENCE'\n",
    "    elif num == 2:\n",
    "        pred = 'FOOD'\n",
    "    elif num == 3:\n",
    "        pred = 'SERVICE'\n",
    "    elif num == 4:\n",
    "        pred = 'PRICES'\n",
    "    return pred"
   ]
  },
  {
   "cell_type": "code",
   "execution_count": 8,
   "metadata": {},
   "outputs": [],
   "source": [
    "# service"
   ]
  },
  {
   "cell_type": "code",
   "execution_count": 9,
   "metadata": {
    "scrolled": true
   },
   "outputs": [],
   "source": [
    "ambience = load_category('ambience')\n",
    "food = load_category('food')\n",
    "service = load_category('service')\n",
    "value = load_category('price')\n",
    "\n",
    "import pandas as pd\n",
    "from tqdm import tqdm_notebook\n",
    "\n",
    "def run(tipe, tipe_keluar, where):\n",
    "    ambience = load_category('ambience')\n",
    "    food = load_category('food')\n",
    "    service = load_category('service')\n",
    "    value = load_category('price')\n",
    "    \n",
    "    df = pd.read_csv('Results/' + where + tipe +'.csv')\n",
    "    sf = pd.DataFrame(columns=['id', 'review', 'target', 'label', 'predict', 'term', 'polarity'])\n",
    "    for index in tqdm_notebook(range(len(df))):\n",
    "        pred= ''\n",
    "        pred_mult=[]\n",
    "        if type(df['term'][index]) != float:\n",
    "            terms = df['term'][index].lower().split('|')\n",
    "            target = df['target'][index]\n",
    "            id_file = df['id'][index]\n",
    "            label = df['category'][index]\n",
    "            review = df['review'][index]\n",
    "            polarity = df['polarity'][index]\n",
    "\n",
    "            vector = load_data(id_file)\n",
    "            tokenized = df['review'][index].lower().replace('  ', ' ').strip().split(' ')\n",
    "\n",
    "            for term in terms:\n",
    "                if term == '':\n",
    "                    continue\n",
    "                i = 0\n",
    "                for token in tokenized:\n",
    "                    if term in token:\n",
    "                        if sim == 'elmo-ori/':\n",
    "                            a, b, c, d = sim_result(vector[i])\n",
    "#                         elif sim == 'elmo-ori/':\n",
    "#                             a, b, c, d = sim_result(load_kata(term))\n",
    "                        elif sim == 'fasttext/':\n",
    "                            a, b, c, d = sim_result(nlp(rem_punct(token)).vector)\n",
    "                        elif sim == 'w2v/':\n",
    "                            try:\n",
    "                                a, b, c, d = sim_result(w2v[rem_punct(token)])\n",
    "                            except:\n",
    "                                a, b, c, d = 0, 0, 0, 0\n",
    "                        elif sim == 'glove/':\n",
    "                            try:\n",
    "                                a, b, c, d = sim_result(glove[rem_punct(token)])\n",
    "                            except:\n",
    "                                a, b, c, d = 0, 0, 0, 0\n",
    "\n",
    "                        x = cat_str(a, b, c, d)\n",
    "                        pred_mult.append(str_cat(x))\n",
    "                        break\n",
    "                    i += 1\n",
    "        else:\n",
    "            terms = ''\n",
    "            target = df['target'][index]\n",
    "            id_file = df['id'][index]\n",
    "            label = df['category'][index]\n",
    "            polarity = df['polarity'][index]\n",
    "            review = df['review'][index]\n",
    "            \n",
    "        sf = sf.append({'id': id_file,\n",
    "                        'review': review,\n",
    "                        'target': target,\n",
    "                        'label': label,\n",
    "                        'predict': '|'.join(pred_mult),\n",
    "                        'term': '|'.join(terms),\n",
    "                        'polarity': polarity\n",
    "                       }, ignore_index=True)\n",
    "\n",
    "        sf.to_csv(\"Results/Categorization/\"+ tipe +tipe_keluar+\".csv\")\n",
    "        sf.to_excel(\"Results/Categorization/\"+ tipe +tipe_keluar+\".xlsx\")"
   ]
  },
  {
   "cell_type": "code",
   "execution_count": null,
   "metadata": {
    "scrolled": true
   },
   "outputs": [],
   "source": [
    "# run('plsa-partial', '-elmo_ori', 'add_noun/')"
   ]
  },
  {
   "cell_type": "code",
   "execution_count": null,
   "metadata": {},
   "outputs": [],
   "source": [
    "# run('lda2vec-partial', '-elmo_ori', 'add_noun/')"
   ]
  },
  {
   "cell_type": "code",
   "execution_count": null,
   "metadata": {},
   "outputs": [],
   "source": [
    "# run('lda-partial', '-elmo_ori', 'add_noun/')"
   ]
  },
  {
   "cell_type": "code",
   "execution_count": null,
   "metadata": {},
   "outputs": [],
   "source": [
    "# run('dp-partial', '-elmo_ori', 'add_noun/')"
   ]
  },
  {
   "cell_type": "code",
   "execution_count": null,
   "metadata": {},
   "outputs": [],
   "source": [
    "# run('plsa', '-elmo_ori', 'Aspect Terms Extraction/')"
   ]
  },
  {
   "cell_type": "code",
   "execution_count": null,
   "metadata": {},
   "outputs": [],
   "source": [
    "# run('lda2vec', '-elmo_ori', 'Aspect Terms Extraction/')"
   ]
  },
  {
   "cell_type": "code",
   "execution_count": null,
   "metadata": {},
   "outputs": [],
   "source": [
    "# run('lda', '-elmo_ori', 'Aspect Terms Extraction/')"
   ]
  },
  {
   "cell_type": "code",
   "execution_count": null,
   "metadata": {},
   "outputs": [],
   "source": [
    "# run('dp', '-elmo_ori', 'Aspect Terms Extraction/')"
   ]
  },
  {
   "cell_type": "code",
   "execution_count": null,
   "metadata": {},
   "outputs": [],
   "source": []
  },
  {
   "cell_type": "code",
   "execution_count": 10,
   "metadata": {},
   "outputs": [
    {
     "data": {
      "application/vnd.jupyter.widget-view+json": {
       "model_id": "cfac6a2958e04323995d6b4c95f142a3",
       "version_major": 2,
       "version_minor": 0
      },
      "text/html": [
       "<p>Failed to display Jupyter Widget of type <code>HBox</code>.</p>\n",
       "<p>\n",
       "  If you're reading this message in the Jupyter Notebook or JupyterLab Notebook, it may mean\n",
       "  that the widgets JavaScript is still loading. If this message persists, it\n",
       "  likely means that the widgets JavaScript library is either not installed or\n",
       "  not enabled. See the <a href=\"https://ipywidgets.readthedocs.io/en/stable/user_install.html\">Jupyter\n",
       "  Widgets Documentation</a> for setup instructions.\n",
       "</p>\n",
       "<p>\n",
       "  If you're reading this message in another frontend (for example, a static\n",
       "  rendering on GitHub or <a href=\"https://nbviewer.jupyter.org/\">NBViewer</a>),\n",
       "  it may mean that your frontend doesn't currently support widgets.\n",
       "</p>\n"
      ],
      "text/plain": [
       "HBox(children=(IntProgress(value=0, max=462), HTML(value='')))"
      ]
     },
     "metadata": {},
     "output_type": "display_data"
    },
    {
     "name": "stdout",
     "output_type": "stream",
     "text": [
      "\n"
     ]
    }
   ],
   "source": [
    "run('plsa-partial-ner', t, 'Filter/')"
   ]
  },
  {
   "cell_type": "code",
   "execution_count": 11,
   "metadata": {},
   "outputs": [
    {
     "data": {
      "application/vnd.jupyter.widget-view+json": {
       "model_id": "26e77b16188d44a4a4924c8959604fc1",
       "version_major": 2,
       "version_minor": 0
      },
      "text/html": [
       "<p>Failed to display Jupyter Widget of type <code>HBox</code>.</p>\n",
       "<p>\n",
       "  If you're reading this message in the Jupyter Notebook or JupyterLab Notebook, it may mean\n",
       "  that the widgets JavaScript is still loading. If this message persists, it\n",
       "  likely means that the widgets JavaScript library is either not installed or\n",
       "  not enabled. See the <a href=\"https://ipywidgets.readthedocs.io/en/stable/user_install.html\">Jupyter\n",
       "  Widgets Documentation</a> for setup instructions.\n",
       "</p>\n",
       "<p>\n",
       "  If you're reading this message in another frontend (for example, a static\n",
       "  rendering on GitHub or <a href=\"https://nbviewer.jupyter.org/\">NBViewer</a>),\n",
       "  it may mean that your frontend doesn't currently support widgets.\n",
       "</p>\n"
      ],
      "text/plain": [
       "HBox(children=(IntProgress(value=0, max=462), HTML(value='')))"
      ]
     },
     "metadata": {},
     "output_type": "display_data"
    },
    {
     "name": "stdout",
     "output_type": "stream",
     "text": [
      "\n"
     ]
    }
   ],
   "source": [
    "run('lda2vec-partial-ner', t, 'Filter/')"
   ]
  },
  {
   "cell_type": "code",
   "execution_count": 12,
   "metadata": {},
   "outputs": [
    {
     "data": {
      "application/vnd.jupyter.widget-view+json": {
       "model_id": "628a5aff2bbf474f82b357e160252dca",
       "version_major": 2,
       "version_minor": 0
      },
      "text/html": [
       "<p>Failed to display Jupyter Widget of type <code>HBox</code>.</p>\n",
       "<p>\n",
       "  If you're reading this message in the Jupyter Notebook or JupyterLab Notebook, it may mean\n",
       "  that the widgets JavaScript is still loading. If this message persists, it\n",
       "  likely means that the widgets JavaScript library is either not installed or\n",
       "  not enabled. See the <a href=\"https://ipywidgets.readthedocs.io/en/stable/user_install.html\">Jupyter\n",
       "  Widgets Documentation</a> for setup instructions.\n",
       "</p>\n",
       "<p>\n",
       "  If you're reading this message in another frontend (for example, a static\n",
       "  rendering on GitHub or <a href=\"https://nbviewer.jupyter.org/\">NBViewer</a>),\n",
       "  it may mean that your frontend doesn't currently support widgets.\n",
       "</p>\n"
      ],
      "text/plain": [
       "HBox(children=(IntProgress(value=0, max=462), HTML(value='')))"
      ]
     },
     "metadata": {},
     "output_type": "display_data"
    },
    {
     "name": "stdout",
     "output_type": "stream",
     "text": [
      "\n"
     ]
    }
   ],
   "source": [
    "run('lda-partial-ner', t, 'Filter/')"
   ]
  },
  {
   "cell_type": "code",
   "execution_count": 13,
   "metadata": {},
   "outputs": [
    {
     "data": {
      "application/vnd.jupyter.widget-view+json": {
       "model_id": "a3c78d2ef88149708c1329907fe27463",
       "version_major": 2,
       "version_minor": 0
      },
      "text/html": [
       "<p>Failed to display Jupyter Widget of type <code>HBox</code>.</p>\n",
       "<p>\n",
       "  If you're reading this message in the Jupyter Notebook or JupyterLab Notebook, it may mean\n",
       "  that the widgets JavaScript is still loading. If this message persists, it\n",
       "  likely means that the widgets JavaScript library is either not installed or\n",
       "  not enabled. See the <a href=\"https://ipywidgets.readthedocs.io/en/stable/user_install.html\">Jupyter\n",
       "  Widgets Documentation</a> for setup instructions.\n",
       "</p>\n",
       "<p>\n",
       "  If you're reading this message in another frontend (for example, a static\n",
       "  rendering on GitHub or <a href=\"https://nbviewer.jupyter.org/\">NBViewer</a>),\n",
       "  it may mean that your frontend doesn't currently support widgets.\n",
       "</p>\n"
      ],
      "text/plain": [
       "HBox(children=(IntProgress(value=0, max=462), HTML(value='')))"
      ]
     },
     "metadata": {},
     "output_type": "display_data"
    },
    {
     "name": "stdout",
     "output_type": "stream",
     "text": [
      "\n"
     ]
    }
   ],
   "source": [
    "run('dp-partial-ner', t, 'Filter/')"
   ]
  },
  {
   "cell_type": "code",
   "execution_count": null,
   "metadata": {},
   "outputs": [],
   "source": []
  },
  {
   "cell_type": "code",
   "execution_count": null,
   "metadata": {},
   "outputs": [],
   "source": []
  }
 ],
 "metadata": {
  "kernelspec": {
   "display_name": "Python 3",
   "language": "python",
   "name": "python3"
  },
  "language_info": {
   "codemirror_mode": {
    "name": "ipython",
    "version": 3
   },
   "file_extension": ".py",
   "mimetype": "text/x-python",
   "name": "python",
   "nbconvert_exporter": "python",
   "pygments_lexer": "ipython3",
   "version": "3.6.4"
  }
 },
 "nbformat": 4,
 "nbformat_minor": 2
}
