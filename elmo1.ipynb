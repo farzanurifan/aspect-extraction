{
 "cells": [
  {
   "cell_type": "code",
   "execution_count": 1,
   "metadata": {},
   "outputs": [],
   "source": [
    "import tensorflow_hub as hub\n",
    "import tensorflow as tf\n",
    "\n",
    "def embed_elmo(word_to_embed):\n",
    "    elmo = hub.Module(\"https://tfhub.dev/google/elmo/2\")\n",
    "    embedding_tensor = elmo(word_to_embed, as_dict=True)[\"elmo\"]\n",
    "\n",
    "    with tf.Session() as sess:\n",
    "        sess.run(tf.global_variables_initializer())\n",
    "        embedding = sess.run(embedding_tensor)\n",
    "        return embedding\n",
    "\n",
    "import pickle\n",
    "\n",
    "def save(name, embedding):\n",
    "    pickle_out = open(\"elmo_restaurant/\" + name + \".pickle\",\"wb\")\n",
    "    pickle.dump(embedding, pickle_out)\n",
    "    pickle_out.close()\n",
    "\n",
    "import pandas as pd\n",
    "\n",
    "df = pd.read_csv('res_mul_all.csv')\n",
    "\n",
    "def run(start, end):\n",
    "    for index in range(start, end):\n",
    "        id_name = df['id'][index]\n",
    "        sentence = df['review'][index]\n",
    "        try:\n",
    "            save(str(id_name), embed_elmo([sentence]))\n",
    "            print(id_name, index)\n",
    "        except:\n",
    "            print(\"error on :\", id_name, index)"
   ]
  },
  {
   "cell_type": "code",
   "execution_count": 2,
   "metadata": {},
   "outputs": [
    {
     "name": "stdout",
     "output_type": "stream",
     "text": [
      "548 540\n",
      "549 541\n",
      "550 542\n",
      "551 543\n",
      "552 544\n",
      "553 545\n",
      "554 546\n",
      "555 547\n",
      "557 548\n",
      "558 549\n",
      "560 550\n",
      "561 551\n",
      "562 552\n",
      "563 553\n",
      "564 554\n",
      "565 555\n",
      "566 556\n",
      "567 557\n",
      "568 558\n",
      "570 559\n"
     ]
    }
   ],
   "source": [
    "run(540, 560)"
   ]
  },
  {
   "cell_type": "code",
   "execution_count": 3,
   "metadata": {},
   "outputs": [
    {
     "name": "stdout",
     "output_type": "stream",
     "text": [
      "699\n"
     ]
    }
   ],
   "source": [
    "print(len(df['id']))"
   ]
  },
  {
   "cell_type": "code",
   "execution_count": null,
   "metadata": {},
   "outputs": [],
   "source": []
  }
 ],
 "metadata": {
  "kernelspec": {
   "display_name": "Python 3",
   "language": "python",
   "name": "python3"
  },
  "language_info": {
   "codemirror_mode": {
    "name": "ipython",
    "version": 3
   },
   "file_extension": ".py",
   "mimetype": "text/x-python",
   "name": "python",
   "nbconvert_exporter": "python",
   "pygments_lexer": "ipython3",
   "version": "3.7.3"
  }
 },
 "nbformat": 4,
 "nbformat_minor": 2
}
