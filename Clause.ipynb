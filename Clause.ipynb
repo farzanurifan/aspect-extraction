{
 "cells": [
  {
   "cell_type": "code",
   "execution_count": 1,
   "metadata": {},
   "outputs": [],
   "source": [
    "import requests\n",
    "\n",
    "def get_tregex(text):\n",
    "    url = \"http://localhost:9000/tregex\"\n",
    "    request_params = {\"pattern\": \"S < (NP $ VP)\"}\n",
    "    r = requests.post(url, data=text, params=request_params)\n",
    "    return r.json()['sentences'][0]"
   ]
  },
  {
   "cell_type": "code",
   "execution_count": 9,
   "metadata": {},
   "outputs": [],
   "source": [
    "import re\n",
    "\n",
    "def sentence_from_tree(s):\n",
    "    pattern = r'(?<= )[a-zA-Z].*?(?=\\))'\n",
    "    replaced = s.replace('\\r\\n', '')\n",
    "    res = re.findall(pattern, replaced)\n",
    "    return ' '.join(res)"
   ]
  },
  {
   "cell_type": "code",
   "execution_count": 10,
   "metadata": {},
   "outputs": [],
   "source": [
    "def get_clause(sentences):\n",
    "    clauses = []\n",
    "    res = get_tregex(sentences)\n",
    "    length = len(res)\n",
    "    for x in range(0, length):\n",
    "        clauses.append(sentence_from_tree(res[str(x)]['match']))\n",
    "    if length > 1:\n",
    "        for x in range(0, length - 1):\n",
    "            clauses[x] = clauses[x].replace(clauses[x+1], '')\n",
    "    return clauses"
   ]
  },
  {
   "cell_type": "code",
   "execution_count": 13,
   "metadata": {},
   "outputs": [
    {
     "data": {
      "text/plain": [
       "['i bought my canon g3 about a month ago',\n",
       " 'i have to say ',\n",
       " 'i am very satisfied']"
      ]
     },
     "execution_count": 13,
     "metadata": {},
     "output_type": "execute_result"
    }
   ],
   "source": [
    "get_clause('i bought my canon g3 about a month ago and i have to say i am very satisfied .')"
   ]
  }
 ],
 "metadata": {
  "kernelspec": {
   "display_name": "Python 3",
   "language": "python",
   "name": "python3"
  },
  "language_info": {
   "codemirror_mode": {
    "name": "ipython",
    "version": 3
   },
   "file_extension": ".py",
   "mimetype": "text/x-python",
   "name": "python",
   "nbconvert_exporter": "python",
   "pygments_lexer": "ipython3",
   "version": "3.6.4"
  }
 },
 "nbformat": 4,
 "nbformat_minor": 2
}
