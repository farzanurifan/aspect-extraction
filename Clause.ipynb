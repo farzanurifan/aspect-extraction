{
 "cells": [
  {
   "cell_type": "code",
   "execution_count": 56,
   "metadata": {},
   "outputs": [],
   "source": [
    "import requests\n",
    "\n",
    "def get_tregex(text):\n",
    "    url = \"http://localhost:9000/tregex\"\n",
    "    request_params = {\"pattern\": \"S < (NP $ VP)\"}\n",
    "    r = requests.post(url, data=text, params=request_params)\n",
    "    return r.json()['sentences'][0]"
   ]
  },
  {
   "cell_type": "code",
   "execution_count": 57,
   "metadata": {},
   "outputs": [],
   "source": [
    "import re\n",
    "\n",
    "def sentence_from_tree(s):\n",
    "    p_wh = r'(?<=WHADVP).*?(?=\\))'\n",
    "    pattern = r'(?<= )[a-zA-Z].*?(?=\\))'\n",
    "    replaced = s.replace('\\r\\n', '')\n",
    "    wh = re.findall(p_wh, replaced)\n",
    "    for x in wh:\n",
    "        replaced = replaced.replace(x, '')\n",
    "        \n",
    "    res = ' '.join(re.findall(pattern, replaced))\n",
    "    return res"
   ]
  },
  {
   "cell_type": "code",
   "execution_count": 58,
   "metadata": {},
   "outputs": [],
   "source": [
    "def get_clause(sentences):\n",
    "    clauses = []\n",
    "    res = get_tregex(sentences)\n",
    "    length = len(res)\n",
    "    for x in range(0, length):\n",
    "        clauses.append(sentence_from_tree(res[str(x)]['match']))\n",
    "    if length > 1:\n",
    "        for x in range(0, length - 1):\n",
    "            clauses[x] = clauses[x].replace(clauses[x+1], '')\n",
    "    return clauses"
   ]
  },
  {
   "cell_type": "code",
   "execution_count": 60,
   "metadata": {},
   "outputs": [
    {
     "data": {
      "text/plain": [
       "['This is the farm house ', 'they live']"
      ]
     },
     "execution_count": 60,
     "metadata": {},
     "output_type": "execute_result"
    }
   ],
   "source": [
    "get_clause('This is the farm house where they live')"
   ]
  },
  {
   "cell_type": "code",
   "execution_count": null,
   "metadata": {},
   "outputs": [],
   "source": []
  }
 ],
 "metadata": {
  "kernelspec": {
   "display_name": "Python 3",
   "language": "python",
   "name": "python3"
  },
  "language_info": {
   "codemirror_mode": {
    "name": "ipython",
    "version": 3
   },
   "file_extension": ".py",
   "mimetype": "text/x-python",
   "name": "python",
   "nbconvert_exporter": "python",
   "pygments_lexer": "ipython3",
   "version": "3.6.4"
  }
 },
 "nbformat": 4,
 "nbformat_minor": 2
}
