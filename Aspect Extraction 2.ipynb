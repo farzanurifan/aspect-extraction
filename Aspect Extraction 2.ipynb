{
 "cells": [
  {
   "cell_type": "markdown",
   "metadata": {},
   "source": [
    "Read dataset"
   ]
  },
  {
   "cell_type": "code",
   "execution_count": 17,
   "metadata": {},
   "outputs": [],
   "source": [
    "import sys, os\n",
    "import re\n",
    "import pandas as pd\n",
    "import itertools, nltk, string \n",
    "#from transforms import flatten_deeptree\n",
    "\n",
    "rx_dict = {\n",
    "    'title': re.compile(r'\\[t\\](?P<title>.*)'),\n",
    "    'review': re.compile(r'(?P<aspect>.*)##(?P<review>.*)')\n",
    "}\n",
    "\n",
    "def parse_data(file, data, reviews=[], aspects=[]):\n",
    "    line = file.readline();\n",
    "    if(line):\n",
    "        match_title = rx_dict['title'].search(line);\n",
    "        if match_title:\n",
    "            data['title'].append(match_title.group('title'))\n",
    "            data['domain'].append('canon g3')\n",
    "            if(len(reviews) > 0 or len(aspects) > 0):\n",
    "                data['review'].append(\"\".join(reviews))\n",
    "                data['aspect'].append(\", \".join(aspects))\n",
    "                reviews = []                \n",
    "        \n",
    "        match_review = rx_dict['review'].search(line)\n",
    "        if match_review:\n",
    "            review_text = match_review.group('review');\n",
    "            aspect_text = match_review.group('aspect');\n",
    "            \n",
    "            if(review_text):\n",
    "                reviews.append(review_text);\n",
    "            \n",
    "            if(aspect_text):\n",
    "                aspects.append(aspect_text);\n",
    "                \n",
    "        parse_data(file, data, reviews, aspects)\n",
    "    else:\n",
    "        if(len(reviews) > 0 or len(aspects) > 0):\n",
    "            data['review'].append(\"\".join(reviews))\n",
    "            data['aspect'].append(\", \".join(aspects))\n",
    "    \n",
    "data = {\n",
    "    'title': [],\n",
    "    'review': [],\n",
    "    'aspect': [],\n",
    "    'domain': []\n",
    "}\n",
    "    \n",
    "def read_file():\n",
    "    with open(os.path.join(os.path.abspath('dataset/bing_liu/') , 'Apex AD2600 Progressive-scan DVD player.txt'), 'r') as file:\n",
    "        parse_data(file, data);\n",
    "        \n",
    "positive_lexicon = []\n",
    "negative_lexicon = []\n",
    "\n",
    "def read_lexicon():\n",
    "    global positive_lexicon;\n",
    "    global negative_lexicon;\n",
    "    \n",
    "    with open(os.path.join(os.path.abspath('opinion-lexicon-English/') , 'positive-words.txt'), 'r') as file:\n",
    "        line = file.readline();\n",
    "        while \";\" in line:\n",
    "            line = file.readline();\n",
    "         \n",
    "        positive_lexicon = file.readlines()\n",
    "    \n",
    "    with open(os.path.join(os.path.abspath('opinion-lexicon-English/') , 'negative-words.txt'), 'r', encoding = \"ISO-8859-1\") as file:\n",
    "        line = file.readline();\n",
    "        while \";\" in line:\n",
    "            line = file.readline();\n",
    "        \n",
    "        negative_lexicon = file.readlines()\n",
    "        \n",
    "    positive_lexicon = list(map(lambda word: word.rstrip(\"\\n\\r\"), positive_lexicon))\n",
    "    negative_lexicon = list(map(lambda word: word.rstrip(\"\\n\\r\"), negative_lexicon))\n",
    "    \n",
    "        \n",
    "read_file()\n",
    "read_lexicon()"
   ]
  },
  {
   "cell_type": "markdown",
   "metadata": {},
   "source": [
    "Print dataset with pandas"
   ]
  },
  {
   "cell_type": "code",
   "execution_count": 18,
   "metadata": {},
   "outputs": [
    {
     "data": {
      "text/html": [
       "<div>\n",
       "<style scoped>\n",
       "    .dataframe tbody tr th:only-of-type {\n",
       "        vertical-align: middle;\n",
       "    }\n",
       "\n",
       "    .dataframe tbody tr th {\n",
       "        vertical-align: top;\n",
       "    }\n",
       "\n",
       "    .dataframe thead th {\n",
       "        text-align: right;\n",
       "    }\n",
       "</style>\n",
       "<table border=\"1\" class=\"dataframe\">\n",
       "  <thead>\n",
       "    <tr style=\"text-align: right;\">\n",
       "      <th></th>\n",
       "      <th>aspect</th>\n",
       "      <th>domain</th>\n",
       "      <th>review</th>\n",
       "      <th>title</th>\n",
       "    </tr>\n",
       "  </thead>\n",
       "  <tbody>\n",
       "    <tr>\n",
       "      <th>0</th>\n",
       "      <td>i/p button[+2], dvd player[+2], dvd player[+1]...</td>\n",
       "      <td>canon g3</td>\n",
       "      <td>repost from january 13 , 2004 with a better fi...</td>\n",
       "      <td>troubleshooting ad-2500 and ad-2600 no pictur...</td>\n",
       "    </tr>\n",
       "    <tr>\n",
       "      <th>1</th>\n",
       "      <td>i/p button[+2], dvd player[+2], dvd player[+1]...</td>\n",
       "      <td>canon g3</td>\n",
       "      <td>i 've owned 6 or 7 dvd players since 1998 . th...</td>\n",
       "      <td>incredibe price / performance .</td>\n",
       "    </tr>\n",
       "    <tr>\n",
       "      <th>2</th>\n",
       "      <td>i/p button[+2], dvd player[+2], dvd player[+1]...</td>\n",
       "      <td>canon g3</td>\n",
       "      <td>many of our disney movies do n't play on this ...</td>\n",
       "      <td>doesnt play new disney movies .</td>\n",
       "    </tr>\n",
       "    <tr>\n",
       "      <th>3</th>\n",
       "      <td>i/p button[+2], dvd player[+2], dvd player[+1]...</td>\n",
       "      <td>canon g3</td>\n",
       "      <td>player has a problem with dual-layer dvd 's su...</td>\n",
       "      <td>poor quality - problem with dual-layer dvd 's .</td>\n",
       "    </tr>\n",
       "    <tr>\n",
       "      <th>4</th>\n",
       "      <td>i/p button[+2], dvd player[+2], dvd player[+1]...</td>\n",
       "      <td>canon g3</td>\n",
       "      <td>for the first few weeks , this player was ever...</td>\n",
       "      <td>has destroyed several of my dvds and cds .</td>\n",
       "    </tr>\n",
       "  </tbody>\n",
       "</table>\n",
       "</div>"
      ],
      "text/plain": [
       "                                              aspect    domain  \\\n",
       "0  i/p button[+2], dvd player[+2], dvd player[+1]...  canon g3   \n",
       "1  i/p button[+2], dvd player[+2], dvd player[+1]...  canon g3   \n",
       "2  i/p button[+2], dvd player[+2], dvd player[+1]...  canon g3   \n",
       "3  i/p button[+2], dvd player[+2], dvd player[+1]...  canon g3   \n",
       "4  i/p button[+2], dvd player[+2], dvd player[+1]...  canon g3   \n",
       "\n",
       "                                              review  \\\n",
       "0  repost from january 13 , 2004 with a better fi...   \n",
       "1  i 've owned 6 or 7 dvd players since 1998 . th...   \n",
       "2  many of our disney movies do n't play on this ...   \n",
       "3  player has a problem with dual-layer dvd 's su...   \n",
       "4  for the first few weeks , this player was ever...   \n",
       "\n",
       "                                               title  \n",
       "0   troubleshooting ad-2500 and ad-2600 no pictur...  \n",
       "1                   incredibe price / performance .   \n",
       "2                   doesnt play new disney movies .   \n",
       "3   poor quality - problem with dual-layer dvd 's .   \n",
       "4        has destroyed several of my dvds and cds .   "
      ]
     },
     "execution_count": 18,
     "metadata": {},
     "output_type": "execute_result"
    }
   ],
   "source": [
    "xdata = pd.DataFrame(data)\n",
    "xdata.head()"
   ]
  },
  {
   "cell_type": "markdown",
   "metadata": {},
   "source": [
    "Loading Stanford CoreNLP"
   ]
  },
  {
   "cell_type": "code",
   "execution_count": 19,
   "metadata": {},
   "outputs": [],
   "source": [
    "from nltk.parse.corenlp import CoreNLPDependencyParser\n",
    "\n",
    "parser = CoreNLPDependencyParser()\n",
    "parse = next(parser.raw_parse(\"my name is khan\"))"
   ]
  },
  {
   "cell_type": "code",
   "execution_count": 20,
   "metadata": {},
   "outputs": [
    {
     "data": {
      "text/plain": [
       "[(('khan', 'JJ'), 'nsubj', ('name', 'NN')),\n",
       " (('name', 'NN'), 'nmod:poss', ('my', 'PRP$')),\n",
       " (('khan', 'JJ'), 'cop', ('is', 'VBZ'))]"
      ]
     },
     "execution_count": 20,
     "metadata": {},
     "output_type": "execute_result"
    }
   ],
   "source": [
    "list(parse.triples())"
   ]
  },
  {
   "cell_type": "code",
   "execution_count": 21,
   "metadata": {},
   "outputs": [
    {
     "name": "stdout",
     "output_type": "stream",
     "text": [
      "my\tPRP$\t2\tnmod:poss\n",
      "name\tNN\t4\tnsubj\n",
      "is\tVBZ\t4\tcop\n",
      "khan\tJJ\t0\tROOT\n",
      "\n"
     ]
    }
   ],
   "source": [
    "print(parse.to_conll(4))"
   ]
  },
  {
   "cell_type": "code",
   "execution_count": 22,
   "metadata": {
    "scrolled": true
   },
   "outputs": [
    {
     "data": {
      "text/plain": [
       "\"repost from january 13 , 2004 with a better fit title . does your apex dvd player only play dvd audio without video ? or does it play audio and video but scrolling in black and white ? before you try to return the player or waste hours calling apex tech support , or run the player over with your car , try these simple troubleshooting ideas first . no picture : hopefully you still have the remote control . if you tossed it out the window , you need to fetch it . using the remote control , press the i/p button located on the bottom right corner of the remote . the i/p button switches the tv display between interlace and progressive . if this doesnt bring back the picture , try pressing this button without playing a dvd . if you dont get video back , now you can run the player over with your car ! picture scrolling in b/w : you need the remote control for this so you better get it from your dog before he burries it in the backyard . press the p/n button located on the bottom right corner of the remote . the p/n button switches your dvd players video output signal between pal and ntsc . by pressing p/n , you should be able to get a good picture on the screen . for other problems go to http://www.apexdigitalinc.com/support.asp i hope i have helped you continue to enjoy the apex dvd player with these troubleshooting tips . i have done some research and experimenting with the remote when my apex ad-2500 seemed to have lost its video signal . im a more happier person after discovering the i/p button ! the button was probably accidentally pushed to cause the black screen in the first place . but , if you 're looking for my opinion of the apex dvd player , i love it ! it practically plays almost everything you give it . i 've had the player for about 2 years now and it still performs nicely with the exception of an occasional wwhhhrrr sound from the motor . for the price it is a well spent investment ! i would recommend buying one . \""
      ]
     },
     "execution_count": 22,
     "metadata": {},
     "output_type": "execute_result"
    }
   ],
   "source": [
    "xdata.iloc[0]['review']"
   ]
  },
  {
   "cell_type": "code",
   "execution_count": 23,
   "metadata": {},
   "outputs": [
    {
     "name": "stdout",
     "output_type": "stream",
     "text": [
      "['apex dvd player', 'dvd audio', 'apex tech support', 'tv display', 'output signal', 'apex dvd player', 'apex dvd player', 'wwhhhrrr sound']\n",
      "['i/p button located', 'i/p button switches', 'better get', 'p/n button located', 'p/n button switches', 'able to get', 'other problems go', 'apex ad-2500 seemed', 'i love']\n",
      "[(('player', 'NN'), 'compound', ('apex', 'NN')), (('player', 'NN'), 'compound', ('dvd', 'NN'))]\n",
      "[(('audio', 'NN'), 'compound', ('dvd', 'NN'))]\n",
      "[(('support', 'NN'), 'compound', ('apex', 'NN')), (('support', 'NN'), 'compound', ('tech', 'NN'))]\n",
      "[(('display', 'NN'), 'compound', ('tv', 'NN'))]\n",
      "[(('signal', 'NN'), 'compound', ('output', 'NN'))]\n",
      "[(('player', 'NN'), 'compound', ('apex', 'NN')), (('player', 'NN'), 'compound', ('dvd', 'NN'))]\n",
      "[(('player', 'NN'), 'compound', ('apex', 'NN')), (('player', 'NN'), 'compound', ('dvd', 'NN'))]\n",
      "[(('sound', 'NN'), 'compound', ('wwhhhrrr', 'NN'))]\n"
     ]
    }
   ],
   "source": [
    "def extract_candidate_chunks(text, grammar=r'''NP: {<NN.*><JJ.*>?<PRP.*>?<NN>+} \n",
    "                                            ...AP: {<JJ.*><.*>?<VB.*>+}'''):\n",
    "    # exclude candidates that are stop words or entirely punctuation\n",
    "    punct = set(string.punctuation)\n",
    "    stop_words = set(nltk.corpus.stopwords.words('english'))\n",
    "    # tokenize, POS-tag, and chunk using regular expressions\n",
    "    chunker = nltk.chunk.regexp.RegexpParser(grammar)\n",
    "    tagged_sents=[]\n",
    "    for sent in nltk.sent_tokenize(text):\n",
    "        tagged_sents.append(nltk.pos_tag(nltk.word_tokenize(sent)))\n",
    "    \n",
    "    #print(tagged_sents)\n",
    "    all_chunks = list(itertools.chain.from_iterable(nltk.chunk.tree2conlltags(chunker.parse(tagged_sent)) for tagged_sent in tagged_sents))\n",
    "    # join constituent chunk words into a single chunked phrase\n",
    "    candidates = [' '.join(word for word, pos, chunk in group).lower()\n",
    "                  for key, group in itertools.groupby(all_chunks, lambda chunk: chunk[2] != 'O') if key]\n",
    "\n",
    "    return [cand for cand in candidates\n",
    "            if cand not in stop_words and not all(char in punct for char in cand)]\n",
    "\n",
    "print(extract_candidate_chunks(xdata.iloc[0]['review'], r'''NP: {<NN.*><JJ.*>?<PRP.*>?<NN>+}'''))\n",
    "print(extract_candidate_chunks(xdata.iloc[0]['review'], r'''AP: {<JJ.*><.*>?<VB.*>+}'''))\n",
    "\n",
    "for c in extract_candidate_chunks(xdata.iloc[0]['review'], r'''NP: {<NN.*><JJ.*>?<PRP.*>?<NN>+}'''):\n",
    "        parse = next(parser.raw_parse(c))\n",
    "        print(list(parse.triples()))"
   ]
  },
  {
   "cell_type": "markdown",
   "metadata": {},
   "source": [
    "## Double Propagation\n",
    "\n",
    "### Rule 1.1 if a word A, whose POS is NN, is depended by an opinion word O through Dep, where Dep is one of the dependency relations amod, prep, nsubj, csubj, xsubj, dobj, and iobj, then A is an aspect.\n",
    "\n",
    "### Rule 1.2 if an opinion word O and a word A, whose POS is NN, depend on a third word H through dependency relations Depi and Depj respectively, where Depi and Dep j are one of the relations amod, prep, nsubj, csubj, xsubj, dobj, and iobj, then A is an aspect.\n",
    "\n",
    "### Rule 3.1 if a word Aj, whose POS is NN, directly depends on an aspect Ai through conj, then A j is an aspect\n",
    "\n",
    "### Rule 3.2 if a word Aj, whose POS is NN, and an aspect Ai, directly depend on a third word H through the dependency relations De pi and De p j , where De pi and Depj are one of the relations in amod, prep, nsubj, csubj, xsubj, dobj, and conj, then A j is an aspect\n",
    "\n",
    "\n",
    "### Rule 4.1 if a word Oj, whose POS is JJ, directly depends on an opinion word Oi through conj, then O j is an opinion word. \n",
    "\n",
    "### Rule 4.2 if a word Oj, whose POS is JJ, and an opinion word Oi, directly depend on a third word H through the dependance relations De pi and De p j , where Dep1 and Dep2 are one of the relations in amod, prep, nsubj, csubj, xsubj, dobj, and conj, then O j is an opinion word"
   ]
  },
  {
   "cell_type": "code",
   "execution_count": 24,
   "metadata": {},
   "outputs": [],
   "source": [
    "# adding new dependencies for DP 'nmod' and'advmod'\n",
    "dep_DP = ['amod', 'prep', 'nsubj', 'csubj', 'xsubj', 'dobj', 'iobj', 'advmod']\n",
    "conj_DP = ['conj']"
   ]
  },
  {
   "cell_type": "code",
   "execution_count": 25,
   "metadata": {},
   "outputs": [],
   "source": [
    "candidate_aspect = []\n",
    "new_opinion = []\n",
    "op_set = positive_lexicon + negative_lexicon\n",
    "\n",
    "\n",
    "for text in xdata['review']:\n",
    "    chunking_noun = extract_candidate_chunks(text, r'NP: {<NN.*><JJ.*>?<PRP.*>?<NN>+}') \n",
    "    chunking_adj = extract_candidate_chunks(text, r'AP: {<JJ.*><.*>?<VB.*>+}') \n",
    "   \n",
    "    new_chunking = []\n",
    "    for c in chunking_noun:\n",
    "        parse = next(parser.raw_parse(c))\n",
    "        for (w1, dep, w2) in list(parse.triples()):\n",
    "            if(dep == 'compound'):\n",
    "                new_chunking.append(c)\n",
    "    \n",
    "    for c in chunking_adj:\n",
    "        new_chunking.append(c)\n",
    "    \n",
    "    for chunk in new_chunking:\n",
    "        text = text.replace(chunk, '-'.join(chunk.split(' ')))\n",
    "\n",
    "    for r in nltk.sent_tokenize(text):\n",
    "        parse = next(parser.raw_parse(r))\n",
    "        #Rule 1.1\n",
    "        for (w1, dep, w2) in list(parse.triples()):\n",
    "            if(dep in dep_DP):\n",
    "                # Rule 1.1\n",
    "                if(w1[0] in op_set): \n",
    "                    if w2[1] == 'NN':\n",
    "                        candidate_aspect.append(w2[0])\n",
    "                elif(w2[0] in op_set):          \n",
    "                    if w1[1] == 'NN':\n",
    "                        candidate_aspect.append(w1[0])\n",
    "\n",
    "\n",
    "        # Rule 1.2\n",
    "        for (w1, dep, w2) in parse.triples():\n",
    "            if(dep in dep_DP):\n",
    "                H = ''\n",
    "                O = ''\n",
    "                if w1[0] in op_set:\n",
    "                    H = w2[0]\n",
    "                    O = w1\n",
    "                elif w2[0] in op_set:\n",
    "                    H = w1[0]\n",
    "                    O = w2\n",
    "\n",
    "                if H:\n",
    "                    for (w1, dep, w2) in list(parse.triples()):\n",
    "                        if w1[0] == H and w2[0] != O[0]:\n",
    "                            if w2[1] == 'NN':                  \n",
    "                                candidate_aspect.append(w2[0])\n",
    "                        elif w2[0] == H  and w1[0] != O[0]:\n",
    "                            if w1[1] == 'NN':\n",
    "                                candidate_aspect.append(w1[0])\n",
    "\n",
    "\n",
    "        # Rule 4.1\n",
    "        for (w1, dep, w2) in list(parse.triples()):\n",
    "            if(dep in conj_DP):\n",
    "                if w1[0] in op_set:\n",
    "                    if w2[1] == 'JJ':\n",
    "                        new_opinion.append((w2, w1))\n",
    "                        op_set.append(w2[0])\n",
    "\n",
    "                elif w2[0] in op_set:\n",
    "                    if w1[1] == 'JJ':\n",
    "                        new_opinion.append((w1, w2))\n",
    "                        op_set.append(w1[0])\n",
    "\n",
    "\n",
    "        # Rule 4.2\n",
    "        for (w1, dep, w2) in parse.triples():\n",
    "            if(dep in dep_DP or dep in conj_DP):\n",
    "                H = ''\n",
    "                O = ''\n",
    "                if w1[0] in op_set:\n",
    "                    H = w2[0]\n",
    "                    O = w1\n",
    "                elif w2[0] in op_set:\n",
    "                    H = w1[0]\n",
    "                    O = w2\n",
    "\n",
    "                if H:\n",
    "                    for (w1, dep, w2) in list(parse.triples()):\n",
    "                        if w1[0] == H and w2[0] != O[0]:\n",
    "                            if w2[1] == 'JJ':                  \n",
    "                                new_opinion.append((w2, w1))\n",
    "                                op_set.append(w2[0])\n",
    "                        elif w2[0] == H  and w1[0] != O[0]:\n",
    "                            if w1[1] == 'JJ':\n",
    "                                new_opinion.append((w2, w1))\n",
    "                                op_set.append(w1[0])\n",
    "\n",
    "\n",
    "    for r in nltk.sent_tokenize(text):\n",
    "        parse = next(parser.raw_parse(r))\n",
    "        #Rule 3.1\n",
    "        for (w1, dep, w2) in list(parse.triples()):\n",
    "            if(dep in conj_DP):\n",
    "                if(w1[0] in candidate_aspect): \n",
    "                    if w2[1] == 'NN':\n",
    "                        candidate_aspect.append(w2[0])\n",
    "                elif(w2[0] in candidate_aspect):          \n",
    "                    if w1[1] == 'NN':\n",
    "                        candidate_aspect.append(w1[0])\n",
    "\n",
    "\n",
    "        # Rule 3.2\n",
    "        for (w1, dep, w2) in parse.triples():\n",
    "            if(dep in dep_DP or dep in conj_DP):\n",
    "                H = ''\n",
    "                O = ''\n",
    "                if w1[0] in candidate_aspect:\n",
    "                    H = w2[0]\n",
    "                    O = w1\n",
    "                elif w2[0] in candidate_aspect:\n",
    "                    H = w1[0]\n",
    "                    O = w2\n",
    "\n",
    "                if H:\n",
    "                    for (w1, dep, w2) in list(parse.triples()):\n",
    "                        if w1[0] == H and w2[0] != O[0]:\n",
    "                            if w2[1] == 'NN':                  \n",
    "                                candidate_aspect.append(w2[0])\n",
    "                        elif w2[0] == H  and w1[0] != O[0]:\n",
    "                            if w1[1] == 'NN':\n",
    "                                candidate_aspect.append(w1[0])\n",
    "\n",
    "\n",
    "        # Rule 4.1\n",
    "        for (w1, dep, w2) in list(parse.triples()):\n",
    "            if(dep in conj_DP):\n",
    "                if w1[0] in op_set:\n",
    "                    if w2[1] == 'JJ':\n",
    "                        new_opinion.append((w2, w1))\n",
    "                        op_set.append(w2[0])\n",
    "\n",
    "                elif w2[0] in op_set:\n",
    "                    if w1[1] == 'JJ':\n",
    "                        new_opinion.append((w1, w2))\n",
    "                        op_set.append(w1[0])\n",
    "\n",
    "\n",
    "        # Rule 4.2\n",
    "        for (w1, dep, w2) in parse.triples():\n",
    "            if(dep in dep_DP or dep in conj_DP):\n",
    "                H = ''\n",
    "                O = ''\n",
    "                if w1[0] in op_set:\n",
    "                    H = w2[0]\n",
    "                    O = w1\n",
    "                elif w2[0] in op_set:\n",
    "                    H = w1[0]\n",
    "                    O = w2\n",
    "\n",
    "                if H:\n",
    "                    for (w1, dep, w2) in list(parse.triples()):\n",
    "                        if w1[0] == H and w2[0] != O[0]:\n",
    "                            if w2[1] == 'JJ':                  \n",
    "                                new_opinion.append((w2, w1))\n",
    "                                op_set.append(w2[0])\n",
    "                        elif w2[0] == H  and w1[0] != O[0]:\n",
    "                            if w1[1] == 'JJ':\n",
    "                                new_opinion.append((w2, w1))\n",
    "                                op_set.append(w1[0])"
   ]
  },
  {
   "cell_type": "code",
   "execution_count": 26,
   "metadata": {},
   "outputs": [],
   "source": [
    "def calculate_precision_recall(aspect, target):\n",
    "    tp = 0\n",
    "    for a in aspect: \n",
    "        if a in target:\n",
    "            tp += 1\n",
    "            \n",
    "    P = (tp * 1.0) / (len(aspect) * 1.0)\n",
    "    R = (tp * 1.0) / (len(target) * 1.0)\n",
    "    \n",
    "    f1 = 2.0 * P * R / (P+R)\n",
    "    \n",
    "    return P, R, f1"
   ]
  },
  {
   "cell_type": "code",
   "execution_count": 27,
   "metadata": {},
   "outputs": [],
   "source": [
    "import re\n",
    "\n",
    "target = []\n",
    "for t in xdata['aspect']:\n",
    "    for s in t.split(', '):\n",
    "        for x in s.split(','):\n",
    "            jj = re.sub(r'\\[[+|-]\\d\\]', '',x)\n",
    "            jjs = re.sub(r'\\[\\w\\]', '',jj)\n",
    "            if(jjs):\n",
    "                target.append(jjs);\n",
    "candidate_aspect = list(map(lambda aspect: ' '.join(aspect.split('-')), candidate_aspect))"
   ]
  },
  {
   "cell_type": "code",
   "execution_count": 28,
   "metadata": {},
   "outputs": [
    {
     "data": {
      "text/plain": [
       "(0.16723549488054607, 0.4224137931034483, 0.23960880195599024)"
      ]
     },
     "execution_count": 28,
     "metadata": {},
     "output_type": "execute_result"
    }
   ],
   "source": [
    "calculate_precision_recall(list(dict.fromkeys(candidate_aspect)), list(dict.fromkeys(target)))"
   ]
  },
  {
   "cell_type": "code",
   "execution_count": 29,
   "metadata": {},
   "outputs": [
    {
     "data": {
      "text/plain": [
       "(0.36657303370786515, 0.011832441744491794, 0.02292490118577075)"
      ]
     },
     "execution_count": 29,
     "metadata": {},
     "output_type": "execute_result"
    }
   ],
   "source": [
    "calculate_precision_recall(candidate_aspect, target)"
   ]
  }
 ],
 "metadata": {
  "kernelspec": {
   "display_name": "Python 3",
   "language": "python",
   "name": "python3"
  },
  "language_info": {
   "codemirror_mode": {
    "name": "ipython",
    "version": 3
   },
   "file_extension": ".py",
   "mimetype": "text/x-python",
   "name": "python",
   "nbconvert_exporter": "python",
   "pygments_lexer": "ipython3",
   "version": "3.6.4"
  }
 },
 "nbformat": 4,
 "nbformat_minor": 2
}
