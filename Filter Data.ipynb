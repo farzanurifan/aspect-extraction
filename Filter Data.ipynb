{
 "cells": [
  {
   "cell_type": "code",
   "execution_count": null,
   "metadata": {
    "scrolled": true
   },
   "outputs": [],
   "source": []
  },
  {
   "cell_type": "code",
   "execution_count": 1,
   "metadata": {
    "scrolled": false
   },
   "outputs": [
    {
     "name": "stdout",
     "output_type": "stream",
     "text": [
      "['FOOD#QUALITY', 'FOOD#STYLE_OPTIONS'] NULL,NULL\n",
      "['FOOD#QUALITY', 'AMBIENCE#GENERAL'] NULL,NULL\n",
      "['AMBIENCE#GENERAL', 'RESTAURANT#MISCELLANEOUS'] NULL,NULL\n",
      "['FOOD#STYLE_OPTIONS', 'FOOD#QUALITY'] NULL,NULL\n",
      "['FOOD#QUALITY', 'FOOD#QUALITY'] NULL,NULL\n",
      "['FOOD#STYLE_OPTIONS', 'FOOD#QUALITY'] NULL,NULL\n",
      "['SERVICE#GENERAL', 'RESTAURANT#MISCELLANEOUS'] NULL,NULL\n",
      "['AMBIENCE#GENERAL', 'RESTAURANT#MISCELLANEOUS'] NULL,NULL\n",
      "['LOCATION#GENERAL', 'RESTAURANT#GENERAL'] NULL,NULL\n",
      "['FOOD#QUALITY', 'FOOD#STYLE_OPTIONS'] NULL,NULL\n",
      "['FOOD#QUALITY', 'FOOD#STYLE_OPTIONS'] NULL,NULL\n",
      "['RESTAURANT#GENERAL', 'RESTAURANT#GENERAL'] NULL,NULL\n",
      "['FOOD#STYLE_OPTIONS', 'FOOD#QUALITY'] NULL,NULL\n",
      "['SERVICE#GENERAL', 'RESTAURANT#MISCELLANEOUS'] NULL,NULL\n",
      "['FOOD#STYLE_OPTIONS', 'FOOD#QUALITY'] NULL,NULL\n",
      "1104\n"
     ]
    }
   ],
   "source": [
    "import pandas as pd\n",
    "\n",
    "df = pd.read_csv('dataset/res16.csv')\n",
    "\n",
    "count = 0\n",
    "sf = pd.DataFrame(columns=['reviewID', 'sentenceID', 'review', 'target', 'category', 'polarity'])\n",
    "\n",
    "for index, cat in enumerate(df['category']):\n",
    "    category = cat.split(',')\n",
    "    ncat = []\n",
    "    sent_temp = []\n",
    "    target = df['target'][index]\n",
    "    if type(target) == float and category[0].split('#')[1] != \"PRICES\" and len(category) == 1:\n",
    "        continue\n",
    "    if (target == \"NULL,NULL,NULL\" or target == \"NULL,NULL\") and \"PRICES\" not in df['category'][index]:\n",
    "        print(category, target)\n",
    "        continue\n",
    "    for c in category:\n",
    "        x = c.split('#')\n",
    "        if x[1] == \"PRICES\":\n",
    "            ncat.append(\"PRICES\")\n",
    "        elif x[0] == \"AMBIENCE\" or x[0] == \"LOCATION\":\n",
    "            ncat.append(\"AMBIENCE\")\n",
    "        elif x[0] == \"DRINKS\" or x[0] == \"FOOD\":\n",
    "            ncat.append(\"FOOD\")\n",
    "        elif x[0] == \"SERVICE\":\n",
    "            ncat.append(\"SERVICE\")\n",
    "        else:\n",
    "            continue\n",
    "    if len(ncat) != 0:\n",
    "        count += 1\n",
    "        sf = sf.append({'reviewID': df['reviewID'][index],\n",
    "                        'sentenceID': df['sentenceID'][index],\n",
    "                        'review': df['review'][index],\n",
    "                        'target': df['target'][index],\n",
    "                        'category': ','.join(ncat),\n",
    "                        'polarity': df['polarity'][index]}, ignore_index=True)\n",
    "sf.to_csv(\"dataset/res16_filter_nan.csv\")\n",
    "sf.to_excel(\"dataset/res16_filter_nan.xlsx\")\n",
    "print(count)"
   ]
  },
  {
   "cell_type": "code",
   "execution_count": 6,
   "metadata": {
    "scrolled": false
   },
   "outputs": [
    {
     "name": "stdout",
     "output_type": "stream",
     "text": [
      "0\n"
     ]
    }
   ],
   "source": [
    "import pandas as pd\n",
    "\n",
    "df = pd.read_csv('dataset/res16_filter_nan.csv')\n",
    "categories = {}\n",
    "count = 0\n",
    "for index, cat in enumerate(df['category']):\n",
    "    category = cat.split(',')\n",
    "    ncat = []\n",
    "    sent_temp = []\n",
    "    target = df['target'][index]\n",
    "    for c in category:\n",
    "        x = c#.split('#')[0]\n",
    "        if x not in sent_temp:\n",
    "            try:\n",
    "                categories[x] += 1\n",
    "            except:\n",
    "                categories[x] = 1\n",
    "        sent_temp.append(x)\n",
    "print(count)"
   ]
  },
  {
   "cell_type": "code",
   "execution_count": 7,
   "metadata": {},
   "outputs": [
    {
     "data": {
      "text/plain": [
       "{'AMBIENCE': 223, 'FOOD': 719, 'PRICES': 177, 'SERVICE': 318}"
      ]
     },
     "execution_count": 7,
     "metadata": {},
     "output_type": "execute_result"
    }
   ],
   "source": [
    "categories"
   ]
  },
  {
   "cell_type": "code",
   "execution_count": null,
   "metadata": {},
   "outputs": [],
   "source": []
  }
 ],
 "metadata": {
  "kernelspec": {
   "display_name": "Python 3",
   "language": "python",
   "name": "python3"
  },
  "language_info": {
   "codemirror_mode": {
    "name": "ipython",
    "version": 3
   },
   "file_extension": ".py",
   "mimetype": "text/x-python",
   "name": "python",
   "nbconvert_exporter": "python",
   "pygments_lexer": "ipython3",
   "version": "3.6.4"
  }
 },
 "nbformat": 4,
 "nbformat_minor": 2
}
