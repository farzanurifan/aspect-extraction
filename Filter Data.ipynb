{
 "cells": [
  {
   "cell_type": "code",
   "execution_count": null,
   "metadata": {
    "scrolled": true
   },
   "outputs": [],
   "source": []
  },
  {
   "cell_type": "code",
   "execution_count": 37,
   "metadata": {
    "scrolled": true
   },
   "outputs": [
    {
     "name": "stdout",
     "output_type": "stream",
     "text": [
      "1032\n"
     ]
    }
   ],
   "source": [
    "import pandas as pd\n",
    "\n",
    "df = pd.read_csv('dataset/res16.csv')\n",
    "\n",
    "count = 0\n",
    "sf = pd.DataFrame(columns=['reviewID', 'sentenceID', 'review', 'target', 'category', 'polarity'])\n",
    "\n",
    "for index, cat in enumerate(df['category']):\n",
    "    category = cat.split(',')\n",
    "    ncat = []\n",
    "    sent_temp = []\n",
    "    target = df['target'][index]\n",
    "    polarity = df['polarity'][index]\n",
    "    if type(target) == float:\n",
    "        continue\n",
    "    if target == \"NULL,NULL,NULL\" or target == \"NULL,NULL\" or target == \"NULL\":\n",
    "        continue\n",
    "    if \"neutral\" == polarity:\n",
    "        continue\n",
    "    for c in category:\n",
    "        x = c.split('#')\n",
    "        if x[1] == \"PRICES\":\n",
    "            ncat.append(\"PRICES\")\n",
    "        elif x[0] == \"AMBIENCE\" or x[0] == \"LOCATION\":\n",
    "            ncat.append(\"AMBIENCE\")\n",
    "        elif x[0] == \"DRINKS\" or x[0] == \"FOOD\":\n",
    "            ncat.append(\"FOOD\")\n",
    "        elif x[0] == \"SERVICE\":\n",
    "            ncat.append(\"SERVICE\")\n",
    "        else:\n",
    "            continue\n",
    "    if len(ncat) != 0:\n",
    "        count += 1\n",
    "        sf = sf.append({'reviewID': df['reviewID'][index],\n",
    "                        'sentenceID': df['sentenceID'][index],\n",
    "                        'review': df['review'][index],\n",
    "                        'target': df['target'][index],\n",
    "                        'category': ','.join(ncat),\n",
    "                        'polarity': df['polarity'][index]}, ignore_index=True)\n",
    "sf.to_csv(\"dataset/res16_nan_all.csv\")\n",
    "sf.to_excel(\"dataset/res16_nan_all.xlsx\")\n",
    "print(count)"
   ]
  },
  {
   "cell_type": "code",
   "execution_count": 17,
   "metadata": {
    "scrolled": false
   },
   "outputs": [
    {
     "name": "stdout",
     "output_type": "stream",
     "text": [
      "0\n"
     ]
    }
   ],
   "source": [
    "import pandas as pd\n",
    "\n",
    "df = pd.read_csv('dataset/res16_baru.csv')\n",
    "categories = {}\n",
    "count = 0\n",
    "for index, cat in enumerate(df['category']):\n",
    "    category = cat.split(',')\n",
    "    ncat = []\n",
    "    sent_temp = []\n",
    "    target = df['target'][index]\n",
    "    for c in category:\n",
    "        x = c#.split('#')[0]\n",
    "        if x not in sent_temp:\n",
    "            try:\n",
    "                categories[x] += 1\n",
    "            except:\n",
    "                categories[x] = 1\n",
    "        sent_temp.append(x)\n",
    "print(count)"
   ]
  },
  {
   "cell_type": "code",
   "execution_count": 19,
   "metadata": {},
   "outputs": [
    {
     "name": "stdout",
     "output_type": "stream",
     "text": [
      "154\n",
      "217\n",
      "130\n",
      "151\n"
     ]
    }
   ],
   "source": [
    "for a in categories:\n",
    "    print(categories[a])"
   ]
  },
  {
   "cell_type": "code",
   "execution_count": 20,
   "metadata": {},
   "outputs": [
    {
     "name": "stdout",
     "output_type": "stream",
     "text": [
      "SERVICE\n",
      "FOOD\n",
      "PRICES\n",
      "AMBIENCE\n"
     ]
    }
   ],
   "source": [
    "for a in categories:\n",
    "    print(a)"
   ]
  },
  {
   "cell_type": "code",
   "execution_count": 13,
   "metadata": {},
   "outputs": [
    {
     "data": {
      "text/plain": [
       "{'AMBIENCE#GENERAL': 226,\n",
       " 'DRINKS#PRICES': 20,\n",
       " 'DRINKS#QUALITY': 46,\n",
       " 'DRINKS#STYLE_OPTIONS': 30,\n",
       " 'FOOD#PRICES': 82,\n",
       " 'FOOD#QUALITY': 681,\n",
       " 'FOOD#STYLE_OPTIONS': 128,\n",
       " 'LOCATION#GENERAL': 28,\n",
       " 'RESTAURANT#GENERAL': 421,\n",
       " 'RESTAURANT#MISCELLANEOUS': 97,\n",
       " 'RESTAURANT#PRICES': 80,\n",
       " 'SERVICE#GENERAL': 419}"
      ]
     },
     "execution_count": 13,
     "metadata": {},
     "output_type": "execute_result"
    }
   ],
   "source": [
    "categories"
   ]
  },
  {
   "cell_type": "code",
   "execution_count": null,
   "metadata": {},
   "outputs": [],
   "source": []
  }
 ],
 "metadata": {
  "kernelspec": {
   "display_name": "Python 3",
   "language": "python",
   "name": "python3"
  },
  "language_info": {
   "codemirror_mode": {
    "name": "ipython",
    "version": 3
   },
   "file_extension": ".py",
   "mimetype": "text/x-python",
   "name": "python",
   "nbconvert_exporter": "python",
   "pygments_lexer": "ipython3",
   "version": "3.6.4"
  }
 },
 "nbformat": 4,
 "nbformat_minor": 2
}
