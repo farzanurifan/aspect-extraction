{
 "cells": [
  {
   "cell_type": "code",
   "execution_count": 1,
   "metadata": {},
   "outputs": [],
   "source": [
    "import pandas as pd\n",
    "df = pd.read_csv('dataset/res16_filter_nan.csv')"
   ]
  },
  {
   "cell_type": "code",
   "execution_count": 3,
   "metadata": {},
   "outputs": [
    {
     "data": {
      "text/html": [
       "<div>\n",
       "<style scoped>\n",
       "    .dataframe tbody tr th:only-of-type {\n",
       "        vertical-align: middle;\n",
       "    }\n",
       "\n",
       "    .dataframe tbody tr th {\n",
       "        vertical-align: top;\n",
       "    }\n",
       "\n",
       "    .dataframe thead th {\n",
       "        text-align: right;\n",
       "    }\n",
       "</style>\n",
       "<table border=\"1\" class=\"dataframe\">\n",
       "  <thead>\n",
       "    <tr style=\"text-align: right;\">\n",
       "      <th></th>\n",
       "      <th>Unnamed: 0</th>\n",
       "      <th>reviewID</th>\n",
       "      <th>sentenceID</th>\n",
       "      <th>review</th>\n",
       "      <th>target</th>\n",
       "      <th>category</th>\n",
       "      <th>polarity</th>\n",
       "    </tr>\n",
       "  </thead>\n",
       "  <tbody>\n",
       "    <tr>\n",
       "      <th>0</th>\n",
       "      <td>0</td>\n",
       "      <td>1004293</td>\n",
       "      <td>1004293:1</td>\n",
       "      <td>We, there were four of us, arrived at noon - t...</td>\n",
       "      <td>staff</td>\n",
       "      <td>SERVICE</td>\n",
       "      <td>negative</td>\n",
       "    </tr>\n",
       "    <tr>\n",
       "      <th>1</th>\n",
       "      <td>1</td>\n",
       "      <td>1004293</td>\n",
       "      <td>1004293:3</td>\n",
       "      <td>The food was lousy - too sweet or too salty an...</td>\n",
       "      <td>food,portions</td>\n",
       "      <td>FOOD,FOOD</td>\n",
       "      <td>negative,negative</td>\n",
       "    </tr>\n",
       "    <tr>\n",
       "      <th>2</th>\n",
       "      <td>2</td>\n",
       "      <td>1014458</td>\n",
       "      <td>1014458:0</td>\n",
       "      <td>I have eaten at Saul, many times, the food is ...</td>\n",
       "      <td>food</td>\n",
       "      <td>FOOD</td>\n",
       "      <td>positive</td>\n",
       "    </tr>\n",
       "    <tr>\n",
       "      <th>3</th>\n",
       "      <td>3</td>\n",
       "      <td>1014458</td>\n",
       "      <td>1014458:2</td>\n",
       "      <td>The duck confit is always amazing and the foie...</td>\n",
       "      <td>foie gras terrine with figs,duck confit</td>\n",
       "      <td>FOOD,FOOD</td>\n",
       "      <td>positive,positive</td>\n",
       "    </tr>\n",
       "    <tr>\n",
       "      <th>4</th>\n",
       "      <td>4</td>\n",
       "      <td>1014458</td>\n",
       "      <td>1014458:3</td>\n",
       "      <td>The wine list is interesting and has many good...</td>\n",
       "      <td>wine list,wine list</td>\n",
       "      <td>FOOD,PRICES</td>\n",
       "      <td>positive,positive</td>\n",
       "    </tr>\n",
       "  </tbody>\n",
       "</table>\n",
       "</div>"
      ],
      "text/plain": [
       "   Unnamed: 0 reviewID sentenceID  \\\n",
       "0           0  1004293  1004293:1   \n",
       "1           1  1004293  1004293:3   \n",
       "2           2  1014458  1014458:0   \n",
       "3           3  1014458  1014458:2   \n",
       "4           4  1014458  1014458:3   \n",
       "\n",
       "                                              review  \\\n",
       "0  We, there were four of us, arrived at noon - t...   \n",
       "1  The food was lousy - too sweet or too salty an...   \n",
       "2  I have eaten at Saul, many times, the food is ...   \n",
       "3  The duck confit is always amazing and the foie...   \n",
       "4  The wine list is interesting and has many good...   \n",
       "\n",
       "                                    target     category           polarity  \n",
       "0                                    staff      SERVICE           negative  \n",
       "1                            food,portions    FOOD,FOOD  negative,negative  \n",
       "2                                     food         FOOD           positive  \n",
       "3  foie gras terrine with figs,duck confit    FOOD,FOOD  positive,positive  \n",
       "4                      wine list,wine list  FOOD,PRICES  positive,positive  "
      ]
     },
     "execution_count": 3,
     "metadata": {},
     "output_type": "execute_result"
    }
   ],
   "source": [
    "df.head()"
   ]
  },
  {
   "cell_type": "code",
   "execution_count": 9,
   "metadata": {},
   "outputs": [],
   "source": [
    "food = []\n",
    "service = []\n",
    "prices = []\n",
    "ambience = []\n",
    "for index, category in enumerate(df['category']):\n",
    "    target = df['target'][index]\n",
    "    if category == \"SERVICE\":\n",
    "        service.append(target)\n",
    "    elif category == \"PRICES\":\n",
    "        prices.append(target)\n",
    "    elif category == \"FOOD\":\n",
    "        food.append(target)\n",
    "    elif category == \"AMBIENCE\":\n",
    "        ambience.append(target)"
   ]
  },
  {
   "cell_type": "code",
   "execution_count": 10,
   "metadata": {
    "scrolled": true
   },
   "outputs": [
    {
     "name": "stdout",
     "output_type": "stream",
     "text": [
      "['food', 'Food', 'duck breast special', 'Grilled Chicken special with Edamame Puree', 'Food', 'food', 'Food', 'sea urchin', 'rice to fish ration', 'dishes', 'food', 'lava cake dessert', 'meals', 'ingredients', 'food', 'glass of wine', 'lunch', 'sushi', 'tuna of gari', 'menu', 'food', 'menu', 'crunchy tuna', 'Steak Tartare', 'Spicy Scallop roll', \"chef's specials\", 'food', 'appetizer selection', 'salad', 'dining', 'food', 'bagels', 'Uni Hand roll', 'sake menu', 'meal', 'bagel', 'bagel', 'chow fun and chow see', 'fresh restaurant,food', 'chef', 'salads', \"Pam's special fried fish\", 'Salads', 'salads', 'Ingredients', 'Yellowtail', 'mushroom pizza', 'sangria', 'Bombay beer', 'food', 'food', 'filet mignon dish', 'sushi', 'beef and noodle soup dishes', 'meal', 'food,Teodora', 'Fish', 'dessert', 'expresso', 'tuna tartar appetizer', 'pizza', 'food', 'Lobster Bisque', 'Prime Rib', 'bottles of Korbett', 'food', 'chicken vindaloo', 'wine list', 'menu', 'grilled branzino', 'food', 'portions', 'food', 'Food,NULL', 'pizza', 'pizza', 'iced tea', 'bagel', 'lox', 'food', 'Shabu-Shabu', 'Taxan', 'green curry with vegetables', 'ravioli', 'food', 'wine choices', 'pizza', 'food', 'food', 'sea bass', 'Dal Bukhara', 'food', 'sushi', 'sushi', 'all-u-can-eat sushi', 'dinner', 'eggs benedict', 'dishes', 'Food', 'Fish', 'seafood,Mermaid Inn', 'foods', 'foods', 'food', 'asparagus, truffle oil, parmesan bruschetta', 'specials', 'Pizza', 'Salads', 'calamari', 'thai cuisine', 'wine list', 'Change Mojito', 'dim sum', 'food', 'buffet', 'cheeseburgers', 'burgers', 'pastrami sandwich on a roll', 'Tom Kha soup', 'Thai', 'food', 'lobster sandwich', 'martinis', 'food', 'japanese comfort food', 'food', 'Gulab Jamun (dessert)', 'pizza', 'menu', 'fish', 'Sophia pizza', 'rolls', 'smoked salmon and roe appetizer', 'strawberry daiquiries', 'cold appetizer dishes', 'chicken and mashed potatos', 'crab cakes', 'calzones', 'Italian food', 'sushi', 'apppetizers', 'sushimi cucumber roll', 'Pizza', 'turkey burgers', 'Japanese food', 'soup for the udon', 'sushi', 'rice', 'fish', 'Japanese cuisine', 'Thai food', 'brioche and lollies', 'Thai', 'noodles with shrimp and chicken and coconut juice', 'Indian food', 'food', 'food', 'balsamic vinegar over icecream', 'Go Go Hamburgers', 'food', 'braised lamb shank in red wine', 'fried dumplings', 'bagels', 'indian cuisine', 'shrimp appetizers', 'indian food', 'cheff', 'bagels', 'food', 'baked clams octopus', 'Dessert', 'SEASONAL beer', 'Food', 'food', 'tiramisu', 'food', 'drink', 'cheescake', 'food', 'dessert', 'Reuben sandwich', 'Pizza', 'wines by the glass', 'Pakistani food', 'pad thai', 'food', 'drinks', 'sassy lassi', 'roti rolls', 'Unda (Egg) rolls', 'food', 'Thai food', 'portions', 'Beef noodle soup', 'Taiwanese food', '$10 10-piece dim sum combo', 'food', 'egg noodles in the beef broth with shrimp dumplings and slices of BBQ roast pork', 'dish', 'wine by the glass', 'Japanese Tapas', 'Yakitori (bbq meats)', 'chef', 'nigiri', 'food', 'Personal pans', 'penne a la vodka', 'La Rosa', 'wine list', 'meal', 'dumplings', 'food', 'food', 'Dog', 'dog,establishment', 'pork souvlaki', 'Pizza', 'half/half pizza', 'sake', 'Sushi', 'Sushi', 'sushi', 'food,NULL', 'space,indo-chinese food', 'chicken pasta', 'lobster', 'pizza', 'vitello alla marsala', 'potato balls', 'food', 'Chicken teriyaki', 'food', 'dessert', 'Red Dragon Roll', 'Yamato,Red Dragon Roll', 'Seafood Dynamite', 'Sushi', 'Dancing, White River and Millenium rolls', 'food', 'food', 'margaritas', 'Indian Food', 'drink menu', 'Food', 'omlette for brunch', 'spinach', 'chicken in the salads', 'portobello and asparagus mole', 'gyros', 'veal', 'food', 'bar drinks', 'stuff tilapia', 'dessert', 'main course', 'food', 'trimmings', 'place,hot dog', 'cocktail with Citrus Vodka and lemon and lime juice and mint leaves', 'food', 'mushroom sauce', 'food', 'food', 'Sushi', 'appetizers', 'food', 'food', 'modern Japanese', 'Indo Chinese food', 'food', 'food', 'food', 'food', 'pizza', 'hot dogs', 'hot dogs', 'toppings,place', 'dishes,NULL', 'food', 'indian chinese food', 'Indian Chinese', 'menu', 'appetizers', 'entree', 'Vanison', 'Bison', 'Dessert', 'food', 'chicken', 'menu', 'beer', 'selection of bottled beer', '\"salt encrusted shrimp\" appetizer', 'Thai style Fried Sea Bass', 'lobster roll', 'Indian food', 'Food', 'nakgi-bokum', 'stir-fried squid', 'sauce', 'dish', 'risotto', 'east village pizza,margherita pizza', 'slice of NYC pizza', 'sashimi amuse bouche', 'sake’s', 'Shabu Shabu', 'dishes', 'Shabu Shabu', 'food', 'family seafood entree', 'main entree', 'japanese tapas', 'food', 'Food', 'NULL,meals', 'chicken', 'spinach', 'margherita pizza', 'pizza', 'Hot Dogs', 'food,Bark', 'Bark,NULL', 'spot,food', 'bottle of wine', 'meal', 'Lamb special', 'flank steak', 'Hot Dogs', 'food', 'food']\n"
     ]
    }
   ],
   "source": [
    "print(food)"
   ]
  },
  {
   "cell_type": "code",
   "execution_count": 11,
   "metadata": {
    "scrolled": true
   },
   "outputs": [
    {
     "name": "stdout",
     "output_type": "stream",
     "text": [
      "['Ambiance', 'ambience,NULL', 'view', 'Cosette', 'restaurant', 'block', 'garden terrace', 'Downstairs lounge', \"Raga's\", 'outdoor atmosphere', 'restaurant', 'vibe', 'atmosphere', 'Ambience,NULL', 'place', 'restaurant', 'ambience', 'place', 'place', 'dining room', 'decor', 'place', 'place', 'characters', 'ambiance', 'atmosphere', 'owner,staff,ambiance', 'trattoria,trattoria', 'back room', 'atmosphere,NULL', 'seats', 'restaurant,restaurant', 'atmosphere', 'Decor', 'outside table', 'place', 'back garden sitting area', 'crowd,NULL', 'place', 'restaurant', 'place', 'location', 'place', 'atmoshere,NULL', 'place', 'late night atmosphere', 'in-house lady DJ', 'terrace', 'setting', 'restaurant', 'atomosphere', 'patio', 'decor', 'jukebox', 'Toons', 'outdoor seating', 'Indoor', 'decor', 'jazz duo', 'Atmosphere', 'atmosphere', 'restaurant', 'space', 'place,place', 'place', 'atmosphere', 'restaurant,restaurant', 'back garden area', 'place,place', 'view of river and NYC', 'Egyptian restaurant', 'hookah', 'booths', 'mens bathroom', 'seating', 'boths', 'belly dancing show', 'atmosphere', 'interior', 'decor', 'DJ,NULL', 'environment,NULL', 'place', 'place,place', 'Restaurant', 'modern Japanese brasserie,modern Japanese brasserie', 'Zenkichi,Zenkichi', 'view', 'place,place', 'atmosphere', 'patio,NULL', 'scene', 'Atmosphere', 'space']\n"
     ]
    }
   ],
   "source": [
    "print(ambience)"
   ]
  },
  {
   "cell_type": "code",
   "execution_count": 12,
   "metadata": {},
   "outputs": [
    {
     "name": "stdout",
     "output_type": "stream",
     "text": [
      "['pizza', 'NULL,NULL', nan, nan, 'NULL,NULL', nan, 'Drinks', 'NULL,NULL', nan, nan, 'NULL,NULL', 'restaurant', nan, nan, nan, 'NULL,NULL', 'place,place', nan, 'place,place', 'NULL,NULL', nan, 'NULL,NULL', nan, nan, 'place', nan, nan, 'NULL,NULL', 'all you can eat sushi', nan, 'place,place', 'The Four Seasons', 'dinner', 'Voss bottles of water', 'NULL,NULL', 'place,place', 'NULL,NULL', 'NULL,NULL', 'dinner for two', nan, 'restaurant,restaurant', 'The Four Seasons,The Four Seasons', 'NULL,NULL', 'NULL,NULL', 'NULL,NULL', 'Casa La Femme,Casa La Femme', 'NULL,NULL', 'NULL,NULL', 'restaurant,restaurant', 'stone bowl', 'brasserie,brasserie', 'menu', nan, nan]\n"
     ]
    }
   ],
   "source": [
    "print(prices)"
   ]
  },
  {
   "cell_type": "code",
   "execution_count": 14,
   "metadata": {},
   "outputs": [
    {
     "name": "stdout",
     "output_type": "stream",
     "text": [
      "['staff', 'cart attendant', 'service', 'Service', 'service', 'waiter', 'Service', 'service', 'kitchen', 'staff', 'hostess', 'wait', 'service', 'people', 'Service', 'wait', \"maitre d'\", 'Service', 'staff', 'waitress', 'server', 'Service', 'staff', 'Service', 'Service', 'Seating', 'server', 'staff', 'service,restaurant', 'takeout', 'Manager', 'Service', 'service', 'staff', 'staff', 'Service', 'Service', 'Delivery', 'service', 'service', 'staff', 'service', 'staff', 'waitress', 'waitstaffs', 'service', 'service', 'svc,restaurant', 'Waitstaff', 'waiter', 'waiter', 'wait staff', 'people,Cafe Noir', 'service', 'waitress', 'manager', 'waitress', 'staff,Cafe Noir', 'Service', 'customer service', 'gentleman', 'hostess', 'waitstaff', 'staff', 'service', 'Service', 'service', 'waiter', 'waiter', 'wait staff', 'counter service', 'service', 'service', 'manager', 'service', 'service', 'wait staff', 'staff', 'customer service', 'management,NULL', 'Service', 'service', 'waiter', 'service', 'waiters', 'service', 'service,NULL', 'People', 'Usha', 'Staff', 'staff', 'owner', 'Service', 'waiter', 'waiter', 'manager', 'service', 'service', 'servers', 'delivery guys', 'delivery guys', 'service', 'service', 'Delivery', 'Delivery guy', 'wait staff', 'service', 'waitress', 'staff', 'survice', 'Raymond', 'Service', 'Paul', 'waitress', 'Greg', 'server', 'runner', 'servers', 'manager', 'restaurant,customer service', 'service', 'wait', 'hostess', 'waiter', 'waiter', 'waiter', 'Service', 'waiters', 'service', 'service', 'waitress', 'servers', 'waitress', 'manager', 'STAFF', 'girl', 'staff', 'girl', 'Maitre-D', 'frontman', 'maitre-D', 'manager', 'staff', 'bartender', 'waitress', 'waitress', 'staff', 'service', 'waiter', 'waitress', 'place,staff']\n"
     ]
    }
   ],
   "source": [
    "print(service)"
   ]
  },
  {
   "cell_type": "code",
   "execution_count": null,
   "metadata": {},
   "outputs": [],
   "source": []
  }
 ],
 "metadata": {
  "kernelspec": {
   "display_name": "Python 3",
   "language": "python",
   "name": "python3"
  },
  "language_info": {
   "codemirror_mode": {
    "name": "ipython",
    "version": 3
   },
   "file_extension": ".py",
   "mimetype": "text/x-python",
   "name": "python",
   "nbconvert_exporter": "python",
   "pygments_lexer": "ipython3",
   "version": "3.6.4"
  }
 },
 "nbformat": 4,
 "nbformat_minor": 2
}
