{
 "cells": [
  {
   "cell_type": "code",
   "execution_count": 1,
   "metadata": {},
   "outputs": [],
   "source": [
    "import pandas as pd\n",
    "\n",
    "def run(name):\n",
    "    df = pd.read_csv('Results/Opinion/beda-'+ name +'.csv')\n",
    "    opinions = []\n",
    "    for index in range(0, len(df)):\n",
    "        opinions.append((df['opinion'][index], df['sentiment'][index]))\n",
    "    \n",
    "    return opinions"
   ]
  },
  {
   "cell_type": "code",
   "execution_count": 2,
   "metadata": {},
   "outputs": [],
   "source": [
    "ambience = run('AMBIENCE')\n",
    "food = run('FOOD')\n",
    "service = run('SERVICE')\n",
    "prices = run('PRICES')\n",
    "\n",
    "all_cat = [ambience, food, service, prices]"
   ]
  },
  {
   "cell_type": "code",
   "execution_count": 3,
   "metadata": {},
   "outputs": [],
   "source": [
    "def sama(cat1, cat2):\n",
    "    for o, s in cat1:\n",
    "        for op, se in cat2:\n",
    "            if o == op and s != se:\n",
    "                print(o, s, se)"
   ]
  },
  {
   "cell_type": "code",
   "execution_count": 4,
   "metadata": {},
   "outputs": [
    {
     "name": "stdout",
     "output_type": "stream",
     "text": [
      "0 1\n",
      "japanese positive negative\n",
      "more negative positive\n",
      "0 2\n",
      "japanese positive negative\n",
      "0 3\n",
      "high positive negative\n",
      "1 2\n",
      "1 3\n",
      "extensive negative positive\n",
      "only positive negative\n",
      "2 3\n",
      "extensive negative positive\n",
      "only positive negative\n"
     ]
    }
   ],
   "source": [
    "for i in range(0,4):\n",
    "    for x in range(i + 1, 4):\n",
    "        print(i, x)\n",
    "        sama(all_cat[i],all_cat[x])"
   ]
  },
  {
   "cell_type": "code",
   "execution_count": null,
   "metadata": {},
   "outputs": [],
   "source": []
  },
  {
   "cell_type": "code",
   "execution_count": null,
   "metadata": {},
   "outputs": [],
   "source": []
  },
  {
   "cell_type": "code",
   "execution_count": null,
   "metadata": {},
   "outputs": [],
   "source": []
  }
 ],
 "metadata": {
  "kernelspec": {
   "display_name": "Python 3",
   "language": "python",
   "name": "python3"
  },
  "language_info": {
   "codemirror_mode": {
    "name": "ipython",
    "version": 3
   },
   "file_extension": ".py",
   "mimetype": "text/x-python",
   "name": "python",
   "nbconvert_exporter": "python",
   "pygments_lexer": "ipython3",
   "version": "3.6.4"
  }
 },
 "nbformat": 4,
 "nbformat_minor": 2
}
