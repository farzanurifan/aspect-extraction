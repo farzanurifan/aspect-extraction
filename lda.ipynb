{
 "cells": [
  {
   "cell_type": "code",
   "execution_count": 1,
   "metadata": {},
   "outputs": [],
   "source": [
    "import re\n",
    "import nltk\n",
    "import string\n",
    "from nltk.stem import WordNetLemmatizer\n",
    "\n",
    "lemmatizer = WordNetLemmatizer() \n",
    "\n",
    "nltk_words = set(nltk.corpus.stopwords.words('english'))\n",
    "stop_words = []\n",
    "for word in nltk_words:\n",
    "    stop_words.append(word.translate(str.maketrans('', '', string.punctuation)))\n",
    "\n",
    "def preprocess(sentence):\n",
    "    res = sentence.lower()\n",
    "    res = res.translate(str.maketrans('', '', string.punctuation))\n",
    "    tokenized_words = nltk.word_tokenize(res)\n",
    "    res = [word for word in tokenized_words if word not in stop_words]\n",
    "    res = [lemmatizer.lemmatize(r) for r in res]\n",
    "    res = [re.sub(r\"[^A-Za-z]+\", '', r) for r in res]\n",
    "    res = [r for r in res if len(r) > 3]\n",
    "    return res"
   ]
  },
  {
   "cell_type": "code",
   "execution_count": 2,
   "metadata": {},
   "outputs": [
    {
     "data": {
      "text/html": [
       "<div>\n",
       "<style scoped>\n",
       "    .dataframe tbody tr th:only-of-type {\n",
       "        vertical-align: middle;\n",
       "    }\n",
       "\n",
       "    .dataframe tbody tr th {\n",
       "        vertical-align: top;\n",
       "    }\n",
       "\n",
       "    .dataframe thead th {\n",
       "        text-align: right;\n",
       "    }\n",
       "</style>\n",
       "<table border=\"1\" class=\"dataframe\">\n",
       "  <thead>\n",
       "    <tr style=\"text-align: right;\">\n",
       "      <th></th>\n",
       "      <th>Unnamed: 0</th>\n",
       "      <th>reviewID</th>\n",
       "      <th>sentenceID</th>\n",
       "      <th>review</th>\n",
       "      <th>target</th>\n",
       "      <th>category</th>\n",
       "      <th>polarity</th>\n",
       "    </tr>\n",
       "  </thead>\n",
       "  <tbody>\n",
       "    <tr>\n",
       "      <th>0</th>\n",
       "      <td>0</td>\n",
       "      <td>1004293</td>\n",
       "      <td>1004293:1</td>\n",
       "      <td>We, there were four of us, arrived at noon - t...</td>\n",
       "      <td>staff</td>\n",
       "      <td>SERVICE</td>\n",
       "      <td>negative</td>\n",
       "    </tr>\n",
       "    <tr>\n",
       "      <th>1</th>\n",
       "      <td>1</td>\n",
       "      <td>1004293</td>\n",
       "      <td>1004293:3</td>\n",
       "      <td>The food was lousy - too sweet or too salty an...</td>\n",
       "      <td>food,portions</td>\n",
       "      <td>FOOD,FOOD</td>\n",
       "      <td>negative,negative</td>\n",
       "    </tr>\n",
       "    <tr>\n",
       "      <th>2</th>\n",
       "      <td>2</td>\n",
       "      <td>1014458</td>\n",
       "      <td>1014458:0</td>\n",
       "      <td>I have eaten at Saul, many times, the food is ...</td>\n",
       "      <td>food</td>\n",
       "      <td>FOOD</td>\n",
       "      <td>positive</td>\n",
       "    </tr>\n",
       "    <tr>\n",
       "      <th>3</th>\n",
       "      <td>3</td>\n",
       "      <td>1014458</td>\n",
       "      <td>1014458:2</td>\n",
       "      <td>The duck confit is always amazing and the foie...</td>\n",
       "      <td>foie gras terrine with figs,duck confit</td>\n",
       "      <td>FOOD,FOOD</td>\n",
       "      <td>positive,positive</td>\n",
       "    </tr>\n",
       "    <tr>\n",
       "      <th>4</th>\n",
       "      <td>4</td>\n",
       "      <td>1014458</td>\n",
       "      <td>1014458:3</td>\n",
       "      <td>The wine list is interesting and has many good...</td>\n",
       "      <td>wine list,wine list</td>\n",
       "      <td>FOOD,PRICES</td>\n",
       "      <td>positive,positive</td>\n",
       "    </tr>\n",
       "  </tbody>\n",
       "</table>\n",
       "</div>"
      ],
      "text/plain": [
       "   Unnamed: 0 reviewID sentenceID  \\\n",
       "0           0  1004293  1004293:1   \n",
       "1           1  1004293  1004293:3   \n",
       "2           2  1014458  1014458:0   \n",
       "3           3  1014458  1014458:2   \n",
       "4           4  1014458  1014458:3   \n",
       "\n",
       "                                              review  \\\n",
       "0  We, there were four of us, arrived at noon - t...   \n",
       "1  The food was lousy - too sweet or too salty an...   \n",
       "2  I have eaten at Saul, many times, the food is ...   \n",
       "3  The duck confit is always amazing and the foie...   \n",
       "4  The wine list is interesting and has many good...   \n",
       "\n",
       "                                    target     category           polarity  \n",
       "0                                    staff      SERVICE           negative  \n",
       "1                            food,portions    FOOD,FOOD  negative,negative  \n",
       "2                                     food         FOOD           positive  \n",
       "3  foie gras terrine with figs,duck confit    FOOD,FOOD  positive,positive  \n",
       "4                      wine list,wine list  FOOD,PRICES  positive,positive  "
      ]
     },
     "execution_count": 2,
     "metadata": {},
     "output_type": "execute_result"
    }
   ],
   "source": [
    "import pandas as pd\n",
    "\n",
    "df = pd.read_csv('dataset/res16_baru.csv')\n",
    "df.head()"
   ]
  },
  {
   "cell_type": "code",
   "execution_count": 3,
   "metadata": {},
   "outputs": [],
   "source": [
    "text_data = []\n",
    "for sentence in df['review']:\n",
    "    tokens = preprocess(sentence)\n",
    "    text_data.append(tokens)"
   ]
  },
  {
   "cell_type": "code",
   "execution_count": 4,
   "metadata": {},
   "outputs": [],
   "source": [
    "from gensim import corpora\n",
    "dictionary = corpora.Dictionary(text_data)\n",
    "corpus = [dictionary.doc2bow(text) for text in text_data]\n",
    "\n",
    "import pickle\n",
    "pickle.dump(corpus, open('corpus.pkl', 'wb'))\n",
    "dictionary.save('dictionary.gensim')"
   ]
  },
  {
   "cell_type": "code",
   "execution_count": 24,
   "metadata": {},
   "outputs": [],
   "source": [
    "import gensim\n",
    "\n",
    "ldamodel = gensim.models.ldamodel.LdaModel(corpus, id2word=dictionary, random_state = 1)\n",
    "ldamodel.save('model5.gensim')\n",
    "topics = ldamodel.print_topics()"
   ]
  },
  {
   "cell_type": "code",
   "execution_count": 25,
   "metadata": {},
   "outputs": [
    {
     "name": "stdout",
     "output_type": "stream",
     "text": [
      "['also', 'although', 'anyone', 'asked', 'atmosphere', 'attendant', 'avenue', 'away', 'awesome', 'back', 'beautiful', 'beautifully', 'birthday', 'bland', 'business', 'busy', 'came', 'certain', 'chai', 'charm', 'cigar', 'close', 'completely', 'cooked', 'cool', 'crammed', 'deal', 'delicious', 'delish', 'dhosas', 'dining', 'dinner', 'dissapointing', 'dollar', 'drink', 'enough', 'environment', 'especially', 'even', 'evening', 'everything', 'excellent', 'fairly', 'fallback', 'feature', 'food', 'foot', 'free', 'fresh', 'friendly', 'good', 'great', 'heavenly', 'immediately', 'interesting', 'italian', 'judge', 'kimchi', 'leaf', 'like', 'list', 'live', 'long', 'lotus', 'made', 'manager', 'many', 'menu', 'minimun', 'money', 'music', 'nearly', 'open', 'order', 'outdoor', 'outing', 'outrageously', 'outside', 'outta', 'overpriced', 'paid', 'patroon', 'people', 'perfection', 'place', 'practically', 'presented', 'price', 'probably', 'rather', 'reasonable', 'recommend', 'replied', 'reservation', 'restaurant', 'review', 'rice', 'river', 'rock', 'roll', 'romantic', 'romatic', 'rose', 'said', 'salty', 'saturday', 'sauce', 'selecion', 'service', 'shanty', 'share', 'shrimp', 'sidewalk', 'sign', 'simply', 'sitting', 'somosas', 'special', 'specify', 'spicy', 'stand', 'summereat', 'survive', 'sushi', 'system', 'table', 'tempura', 'tend', 'thing', 'told', 'toobut', 'took', 'trophy', 'tuna', 'typical', 'unprofessional', 'unusually', 'upscale', 'urchin', 'vacation', 'value', 'waitress', 'waitstaff', 'walked', 'want', 'warrant', 'watching', 'wine', 'wish', 'wonderful', 'wooden', 'would', 'wrapped', 'write']\n"
     ]
    }
   ],
   "source": [
    "all_topics = []\n",
    "for topic in topics:\n",
    "    for pair in topic[1].split(' + '):\n",
    "        word = pair.split('*')[1].replace(\"\\\"\", '')\n",
    "        all_topics.append(word)\n",
    "print(sorted(list(dict.fromkeys(all_topics))))"
   ]
  },
  {
   "cell_type": "code",
   "execution_count": 26,
   "metadata": {},
   "outputs": [
    {
     "name": "stdout",
     "output_type": "stream",
     "text": [
      "['also', 'although', 'anyone', 'asked', 'atmosphere', 'attendant', 'avenue', 'away', 'awesome', 'back', 'beautiful', 'beautifully', 'birthday', 'bland', 'business', 'busy', 'came', 'certain', 'chai', 'charm', 'cigar', 'close', 'completely', 'cooked', 'cool', 'crammed', 'deal', 'delicious', 'delish', 'dhosas', 'dining', 'dinner', 'dissapointing', 'dollar', 'drink', 'enough', 'environment', 'especially', 'even', 'evening', 'everything', 'excellent', 'fairly', 'fallback', 'feature', 'food', 'foot', 'free', 'fresh', 'friendly', 'good', 'great', 'heavenly', 'immediately', 'interesting', 'italian', 'judge', 'kimchi', 'leaf', 'like', 'list', 'live', 'long', 'lotus', 'made', 'manager', 'many', 'menu', 'minimun', 'money', 'music', 'nearly', 'open', 'order', 'outdoor', 'outing', 'outrageously', 'outside', 'outta', 'overpriced', 'paid', 'patroon', 'people', 'perfection', 'place', 'practically', 'presented', 'price', 'probably', 'rather', 'reasonable', 'recommend', 'replied', 'reservation', 'restaurant', 'review', 'rice', 'river', 'rock', 'roll', 'romantic', 'romatic', 'rose', 'said', 'salty', 'saturday', 'sauce', 'selecion', 'service', 'shanty', 'share', 'shrimp', 'sidewalk', 'sign', 'simply', 'sitting', 'somosas', 'special', 'specify', 'spicy', 'stand', 'summereat', 'survive', 'sushi', 'system', 'table', 'tempura', 'tend', 'thing', 'told', 'toobut', 'took', 'trophy', 'tuna', 'typical', 'unprofessional', 'unusually', 'upscale', 'urchin', 'vacation', 'value', 'waitress', 'waitstaff', 'walked', 'want', 'warrant', 'watching', 'wine', 'wish', 'wonderful', 'wooden', 'would', 'wrapped', 'write']\n"
     ]
    }
   ],
   "source": [
    "all_topics = []\n",
    "for topic in topics:\n",
    "    for pair in topic[1].split(' + '):\n",
    "        word = pair.split('*')[1].replace(\"\\\"\", '')\n",
    "        all_topics.append(word)\n",
    "print(sorted(list(dict.fromkeys(all_topics))))"
   ]
  },
  {
   "cell_type": "code",
   "execution_count": 27,
   "metadata": {},
   "outputs": [],
   "source": [
    "import pandas as pd\n",
    "\n",
    "def aspect_topic(tipe, all_topics):\n",
    "    sf = pd.DataFrame(columns=['id','review','target', 'category','term','polarity'])\n",
    "    count = 0\n",
    "    index = 0\n",
    "    res = []\n",
    "    for sentence in df['review']:\n",
    "        lowercased = sentence.lower()\n",
    "        term = []\n",
    "        category = []\n",
    "        polarity = df['polarity'][index]\n",
    "        category = df['category'][index]\n",
    "        id_name = df['sentenceID'][index]\n",
    "        target = df['target'][index]\n",
    "        for topic in all_topics:\n",
    "            tokens = lowercased.split(' ')\n",
    "            for token in tokens:\n",
    "                if topic in token:\n",
    "                    term.append(topic)\n",
    "#         print(term)\n",
    "        if len(term) == 0:\n",
    "            print(lowercased)\n",
    "            count += 1\n",
    "        sf = sf.append({'id': id_name,\n",
    "                        'review': sentence.strip().lower().replace('  ', ' '),\n",
    "                        'target': target,\n",
    "                        'category': category,\n",
    "                        'term': '|'.join(term),\n",
    "                        'polarity': polarity}, ignore_index=True)\n",
    "        index += 1\n",
    "    print(count)\n",
    "    sf.to_csv(\"Results/Aspect Terms Extraction/\"+ tipe +\".csv\")\n",
    "    sf.to_excel(\"Results/Aspect Terms Extraction/\"+ tipe +\".xlsx\")"
   ]
  },
  {
   "cell_type": "code",
   "execution_count": 28,
   "metadata": {
    "scrolled": true
   },
   "outputs": [
    {
     "name": "stdout",
     "output_type": "stream",
     "text": [
      "the duck confit is always amazing and the foie gras terrine with figs was out of this world.\n",
      "i had never had edamame pureed before but i thought it was innovative and tasty (could've used a bit more salt).\n",
      "ambiance- relaxed and stylish.\n",
      "the kitchen however, is almost always slow.\n",
      "once you step into cosette, you're miraculously in a small, off-the-beaten path parisian bistro.\n",
      "i think i've had some the best meals of my life at minnow.\n",
      "the hostess is rude to the point of being offensive.\n",
      "but the pizza is way to expensive.\n",
      "a large is $20, and toppings are about $3 each.\n",
      "there was a small wait, but shorter than i expected.\n",
      "located at the end of a magnificent block.\n",
      "first went here to enjoy their garden terrace.\n",
      "the staff is incredibly helpful and attentive.\n",
      "the staff is no nonsense.\n",
      "the bagel was huge.\n",
      "other guests enjoyed pizza, santa fe chopped salad and fish and chips.\n",
      "all the staff is absolutely professional!! \n",
      "hats off to the chef.\n",
      "salads were fantastic.\n",
      "ingredients are organic which is a real plus for me.\n",
      "enjoyed a very nice caesar salad while my wife had arugula and goat cheese....both very tasty.\n",
      "my friend got the mushroom pizza which tasted better.\n",
      "the filet mignon dish was superb!\n",
      "fish was overdone.\n",
      "the staff was the friendliest that have seen in new york.\n",
      "the characters really make for an enjoyable experience.\n",
      "zero ambiance to boot.\n",
      "the owner and staff are all japanese as well and that adds to the entire ambiance.\n",
      "but the staff was so horrible to us.\n",
      "i ate here a week ago and found most dishes average at best and too expensive.\n",
      "truly the mark of an attentive waiter.\n",
      "the staff has been nice, but they seemed really stressed and the unisex bathroom needs to be cleaned more often.\n",
      "we were greeted promptly by the waiter who was very nice and cordial.\n",
      "always a nice crowd, but never loud.\n",
      "kind, attentive wait staff.\n",
      "the location is perfect.\n",
      "winnie and her staff are the best crew you can find serving you.\n",
      "terrible, terrible management - deserves to be shut-down.\n",
      "the waiter was attentive.\n",
      "still, any quibbles about the bill were off-set by the pour-your-own measures of liquers which were courtesey of the house...\n",
      "toons has recently been redone, so it's now a very attractive space.\n",
      "indoor was very cozy and cute.\n",
      "whoever the jazz duo was, they were on point.\n",
      "oh, and there's hookah.\n",
      "oh speaking of bathroom , the mens bathroom was disgusting.\n",
      "we were drawn into the belly dancing show that captivated the crowd.\n",
      "mazing interior.\n",
      "the lunch buffet is expensive but is deff worth it.\n",
      "48\n"
     ]
    }
   ],
   "source": [
    "aspect_topic('lda',list(dict.fromkeys(all_topics)))"
   ]
  },
  {
   "cell_type": "code",
   "execution_count": null,
   "metadata": {},
   "outputs": [],
   "source": []
  }
 ],
 "metadata": {
  "kernelspec": {
   "display_name": "Python 3",
   "language": "python",
   "name": "python3"
  },
  "language_info": {
   "codemirror_mode": {
    "name": "ipython",
    "version": 3
   },
   "file_extension": ".py",
   "mimetype": "text/x-python",
   "name": "python",
   "nbconvert_exporter": "python",
   "pygments_lexer": "ipython3",
   "version": "3.6.4"
  }
 },
 "nbformat": 4,
 "nbformat_minor": 2
}
