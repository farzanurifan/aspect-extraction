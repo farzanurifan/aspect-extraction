{
 "cells": [
  {
   "cell_type": "code",
   "execution_count": 1,
   "metadata": {},
   "outputs": [],
   "source": [
    "import re\n",
    "import nltk\n",
    "import string\n",
    "from nltk.stem import WordNetLemmatizer\n",
    "\n",
    "lemmatizer = WordNetLemmatizer() \n",
    "\n",
    "nltk_words = set(nltk.corpus.stopwords.words('english'))\n",
    "stop_words = []\n",
    "for word in nltk_words:\n",
    "    stop_words.append(word.translate(str.maketrans('', '', string.punctuation)))\n",
    "\n",
    "def preprocess(sentence):\n",
    "    res = sentence.lower()\n",
    "    res = res.translate(str.maketrans('', '', string.punctuation))\n",
    "    tokenized_words = nltk.word_tokenize(res)\n",
    "    res = [word for word in tokenized_words if word not in stop_words]\n",
    "    res = [lemmatizer.lemmatize(r) for r in res]\n",
    "    res = [re.sub(r\"[^A-Za-z]+\", '', r) for r in res]\n",
    "    res = [r for r in res if len(r) > 3]\n",
    "    return res"
   ]
  },
  {
   "cell_type": "code",
   "execution_count": 2,
   "metadata": {},
   "outputs": [
    {
     "data": {
      "text/html": [
       "<div>\n",
       "<style scoped>\n",
       "    .dataframe tbody tr th:only-of-type {\n",
       "        vertical-align: middle;\n",
       "    }\n",
       "\n",
       "    .dataframe tbody tr th {\n",
       "        vertical-align: top;\n",
       "    }\n",
       "\n",
       "    .dataframe thead th {\n",
       "        text-align: right;\n",
       "    }\n",
       "</style>\n",
       "<table border=\"1\" class=\"dataframe\">\n",
       "  <thead>\n",
       "    <tr style=\"text-align: right;\">\n",
       "      <th></th>\n",
       "      <th>Unnamed: 0</th>\n",
       "      <th>reviewID</th>\n",
       "      <th>sentenceID</th>\n",
       "      <th>review</th>\n",
       "      <th>target</th>\n",
       "      <th>category</th>\n",
       "      <th>polarity</th>\n",
       "    </tr>\n",
       "  </thead>\n",
       "  <tbody>\n",
       "    <tr>\n",
       "      <th>0</th>\n",
       "      <td>0</td>\n",
       "      <td>1004293</td>\n",
       "      <td>1004293:1</td>\n",
       "      <td>We, there were four of us, arrived at noon - t...</td>\n",
       "      <td>staff</td>\n",
       "      <td>SERVICE</td>\n",
       "      <td>negative</td>\n",
       "    </tr>\n",
       "    <tr>\n",
       "      <th>1</th>\n",
       "      <td>1</td>\n",
       "      <td>1004293</td>\n",
       "      <td>1004293:3</td>\n",
       "      <td>The food was lousy - too sweet or too salty an...</td>\n",
       "      <td>food,portions</td>\n",
       "      <td>FOOD,FOOD</td>\n",
       "      <td>negative,negative</td>\n",
       "    </tr>\n",
       "    <tr>\n",
       "      <th>2</th>\n",
       "      <td>2</td>\n",
       "      <td>1014458</td>\n",
       "      <td>1014458:0</td>\n",
       "      <td>I have eaten at Saul, many times, the food is ...</td>\n",
       "      <td>food</td>\n",
       "      <td>FOOD</td>\n",
       "      <td>positive</td>\n",
       "    </tr>\n",
       "    <tr>\n",
       "      <th>3</th>\n",
       "      <td>3</td>\n",
       "      <td>1014458</td>\n",
       "      <td>1014458:2</td>\n",
       "      <td>The duck confit is always amazing and the foie...</td>\n",
       "      <td>foie gras terrine with figs,duck confit</td>\n",
       "      <td>FOOD,FOOD</td>\n",
       "      <td>positive,positive</td>\n",
       "    </tr>\n",
       "    <tr>\n",
       "      <th>4</th>\n",
       "      <td>4</td>\n",
       "      <td>1014458</td>\n",
       "      <td>1014458:3</td>\n",
       "      <td>The wine list is interesting and has many good...</td>\n",
       "      <td>wine list,wine list</td>\n",
       "      <td>FOOD,PRICES</td>\n",
       "      <td>positive,positive</td>\n",
       "    </tr>\n",
       "  </tbody>\n",
       "</table>\n",
       "</div>"
      ],
      "text/plain": [
       "   Unnamed: 0 reviewID sentenceID  \\\n",
       "0           0  1004293  1004293:1   \n",
       "1           1  1004293  1004293:3   \n",
       "2           2  1014458  1014458:0   \n",
       "3           3  1014458  1014458:2   \n",
       "4           4  1014458  1014458:3   \n",
       "\n",
       "                                              review  \\\n",
       "0  We, there were four of us, arrived at noon - t...   \n",
       "1  The food was lousy - too sweet or too salty an...   \n",
       "2  I have eaten at Saul, many times, the food is ...   \n",
       "3  The duck confit is always amazing and the foie...   \n",
       "4  The wine list is interesting and has many good...   \n",
       "\n",
       "                                    target     category           polarity  \n",
       "0                                    staff      SERVICE           negative  \n",
       "1                            food,portions    FOOD,FOOD  negative,negative  \n",
       "2                                     food         FOOD           positive  \n",
       "3  foie gras terrine with figs,duck confit    FOOD,FOOD  positive,positive  \n",
       "4                      wine list,wine list  FOOD,PRICES  positive,positive  "
      ]
     },
     "execution_count": 2,
     "metadata": {},
     "output_type": "execute_result"
    }
   ],
   "source": [
    "import pandas as pd\n",
    "\n",
    "df = pd.read_csv('dataset/res16_baru.csv')\n",
    "df.head()"
   ]
  },
  {
   "cell_type": "code",
   "execution_count": 3,
   "metadata": {},
   "outputs": [],
   "source": [
    "text_data = []\n",
    "for sentence in df['review']:\n",
    "    tokens = preprocess(sentence)\n",
    "    text_data.append(tokens)"
   ]
  },
  {
   "cell_type": "code",
   "execution_count": 4,
   "metadata": {},
   "outputs": [],
   "source": [
    "from gensim import corpora\n",
    "dictionary = corpora.Dictionary(text_data)\n",
    "corpus = [dictionary.doc2bow(text) for text in text_data]\n",
    "\n",
    "import pickle\n",
    "pickle.dump(corpus, open('corpus.pkl', 'wb'))\n",
    "dictionary.save('dictionary.gensim')"
   ]
  },
  {
   "cell_type": "code",
   "execution_count": 5,
   "metadata": {},
   "outputs": [],
   "source": [
    "import gensim\n",
    "\n",
    "ldamodel = gensim.models.ldamodel.LdaModel(corpus, num_topics = 4, id2word=dictionary, random_state = 42)\n",
    "ldamodel.save('model5.gensim')\n",
    "topics = ldamodel.print_topics()"
   ]
  },
  {
   "cell_type": "code",
   "execution_count": 6,
   "metadata": {},
   "outputs": [
    {
     "name": "stdout",
     "output_type": "stream",
     "text": [
      "['always', 'atmosphere', 'cheap', 'food', 'friendly', 'good', 'great', 'like', 'never', 'nice', 'pizza', 'place', 'price', 'restaurant', 'rude', 'service', 'staff', 'time', 'tuna', 'wine', 'would']\n"
     ]
    }
   ],
   "source": [
    "all_topics = []\n",
    "for topic in topics:\n",
    "    for pair in topic[1].split(' + '):\n",
    "        word = pair.split('*')[1].replace(\"\\\"\", '')\n",
    "        all_topics.append(word)\n",
    "print(sorted(list(dict.fromkeys(all_topics))))"
   ]
  },
  {
   "cell_type": "code",
   "execution_count": 7,
   "metadata": {},
   "outputs": [
    {
     "name": "stdout",
     "output_type": "stream",
     "text": [
      "['always', 'atmosphere', 'cheap', 'food', 'friendly', 'good', 'great', 'like', 'never', 'nice', 'pizza', 'place', 'price', 'restaurant', 'rude', 'service', 'staff', 'time', 'tuna', 'wine', 'would']\n"
     ]
    }
   ],
   "source": [
    "all_topics = []\n",
    "for topic in topics:\n",
    "    for pair in topic[1].split(' + '):\n",
    "        word = pair.split('*')[1].replace(\"\\\"\", '')\n",
    "        all_topics.append(word)\n",
    "print(sorted(list(dict.fromkeys(all_topics))))"
   ]
  },
  {
   "cell_type": "code",
   "execution_count": 19,
   "metadata": {},
   "outputs": [],
   "source": [
    "import pandas as pd\n",
    "\n",
    "def aspect_topic(tipe, all_topics):\n",
    "    sf = pd.DataFrame(columns=['id','review','category','term'])\n",
    "    count = 0\n",
    "    index = 0\n",
    "    res = []\n",
    "    for sentence in df['review']:\n",
    "        lowercased = sentence.lower()\n",
    "        term = []\n",
    "        category = []\n",
    "        for cat in df['category'][index].split(','):\n",
    "            splitted = cat.split('#')\n",
    "            if splitted[1] == 'PRICES':\n",
    "                category.append('VALUE')\n",
    "            else:\n",
    "                category.append(splitted[0])\n",
    "        id_name = df['id'][index]\n",
    "        for topic in all_topics:\n",
    "            tokens = lowercased.split(' ')\n",
    "            for token in tokens:\n",
    "                if token.startswith(topic):\n",
    "                    term.append(topic)\n",
    "#         print(term)\n",
    "        if len(term) == 0:\n",
    "            print(lowercased)\n",
    "            count += 1\n",
    "        sf = sf.append({'id': id_name, 'review': sentence.strip().lower().replace('  ', ' '), 'category': '|'.join(category), 'term': '|'.join(term)}, ignore_index=True)\n",
    "        index += 1\n",
    "    print(count)\n",
    "    sf.to_csv(\"Results/Aspect Terms Extraction/\"+ tipe +\".csv\")\n",
    "    sf.to_excel(\"Results/Aspect Terms Extraction/\"+ tipe +\".xlsx\")"
   ]
  },
  {
   "cell_type": "code",
   "execution_count": 20,
   "metadata": {
    "scrolled": true
   },
   "outputs": [
    {
     "name": "stdout",
     "output_type": "stream",
     "text": [
      "the flavors are amazing and the value is phenomenal.\n",
      "the duck confit is always amazing and the foie gras terrine with figs was out of this world.\n",
      "ambiance is relaxed and stylish.\n",
      "i am not a vegetarian but, almost all the dishes were bad.\n",
      "the lava cake dessert was terrible.\n",
      "once you step into cosette, you're miraculously in a small, off-the-beaten path parisian bistro.\n",
      "the pizza is overpriced and soggy.\n",
      "my wife had the fried shrimp which are huge and loved it.\n",
      "but the pizza is way to expensive.\n",
      "there was a small wait, but shorter than i expected.\n",
      "the pizza is delicious - they use fresh mozzarella instead of the cheap, frozen, shredded cheese common to most pizzaria's.\n",
      "it's simply the best meal in nyc.\n",
      "ingredients are organic which is a real plus for me.\n",
      "pizza is terrific, as is homemade pasta.\n",
      "the filet mignon dish was superb!\n",
      "i come from a family of pizzeria owners, and i'm almost ashamed to say that the pizza in fornino's blows my families receipies away.\n",
      "the dining room is quietly elegant with no music to shout over -- how refreshing!\n",
      "the menu is very limited - i think we counted 4 or 5 entrees.\n",
      "delivery is fast too.\n",
      "the lox is always fresh too.\n",
      "thius is a must for anyone who loves shabu-shabu.\n",
      "taxan horrible!\n",
      "who has room for cheesesticks with the best pizza in nyc!\n",
      "i ate here a week ago and found most dishes average at best and too expensive.\n",
      "don't dine at tamarind for the vegetarian dishes, they are simply not up to par with the non-veg selections.\n",
      "the seats are uncomfortable if you are sitting against the wall on wooden benches.\n",
      "truly the mark of an attentive waiter.\n",
      "(the asparagus, truffle oil, parmesan bruschetta is a winner!)\n",
      "and the tom kha soup was pathetic.\n",
      "the back garden sitting area is very pleasant, where you can see their personal herb garden.\n",
      "we had the lobster sandwich and it was fantastic.\n",
      "we had the scallops as an appetizer and they were delicious and the sauce was wonderful.\n",
      "the freshest, best variety, and the fastest delivery.\n",
      "by far, the best pizza in manhattan.\n",
      "mizu is home to creative and unique rolls not to found anywhere else.\n",
      "delicious crab cakes too.\n",
      "their calzones are horrific, bad, vomit-inducing, yuck.\n",
      "the dosas are skimpy, unattractive and drip with grease, and personally i'd drink popcorn topping before i'd eat another one of these.\n",
      "the sandwiches are dry, tasteless and way overpriced.\n",
      "unique apppetizers.\n",
      "the cream cheeses are out of this world and i love that coffee!!\n",
      "the turkey burgers are scary!\n",
      "the location is perfect.\n",
      "the setting is casual and romantic.\n",
      "if you're daring, try the balsamic vinegar over icecream, it's wonderful!\n",
      "terrible, terrible management - deserves to be shut-down.\n",
      "the waiter was attentive.\n",
      "dessert is a joke...dont bother\n",
      "delicate spices, onions, eggs and a kick-ass roti.\n",
      "toons has recently been redone, so it's now a very attractive space.\n",
      "indoor was very cozy and cute.\n",
      "we were seated outside and the waiter spilled red wine and hot tea on myself and my date.\n",
      "personal pans are the perfect size for those hungry nights.\n",
      "there is a downside if you're ordering in -- the delivery guys have major attitude.\n",
      "the mussels were fantastic and so was the dessert...definitely going to be back very soon.\n",
      " perfect location for those traveling in/out of the city by auto or bus\n",
      " the 8th ave location was very convenient and while busy, wasn't packed\n",
      "57\n"
     ]
    }
   ],
   "source": [
    "aspect_topic('lda',list(dict.fromkeys(all_topics)))"
   ]
  },
  {
   "cell_type": "code",
   "execution_count": null,
   "metadata": {},
   "outputs": [],
   "source": []
  }
 ],
 "metadata": {
  "kernelspec": {
   "display_name": "Python 3",
   "language": "python",
   "name": "python3"
  },
  "language_info": {
   "codemirror_mode": {
    "name": "ipython",
    "version": 3
   },
   "file_extension": ".py",
   "mimetype": "text/x-python",
   "name": "python",
   "nbconvert_exporter": "python",
   "pygments_lexer": "ipython3",
   "version": "3.6.4"
  }
 },
 "nbformat": 4,
 "nbformat_minor": 2
}
