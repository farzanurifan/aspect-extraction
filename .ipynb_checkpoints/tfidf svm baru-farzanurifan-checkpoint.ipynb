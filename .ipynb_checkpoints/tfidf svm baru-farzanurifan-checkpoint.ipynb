{
 "cells": [
  {
   "cell_type": "code",
   "execution_count": 63,
   "metadata": {},
   "outputs": [],
   "source": [
    "import re\n",
    "import pandas as pd\n",
    "from sklearn.svm import LinearSVC\n",
    "from sklearn.feature_extraction.text import TfidfVectorizer\n",
    "import nltk\n",
    "from nltk.corpus import wordnet as wn\n",
    "from IPython.display import clear_outputfrom nltk.stem import PorterStemmer\n",
    "porter = PorterStemmer()\n",
    "from nltk.stem import WordNetLemmatizer\n",
    "wordnet_lemmatizer = WordNetLemmatizer()\n",
    "from nltk.corpus import stopwords\n",
    "\n",
    "stop_words = set(stopwords.words('english'))\n",
    "\n",
    "def preprocessing(semua_kalimat):\n",
    "    i=0\n",
    "    kalimat_semua = []\n",
    "    panjang = len(semua_kalimat) - 1\n",
    "    for sentence in semua_kalimat:\n",
    "        kalimat = []\n",
    "        for word in nltk.word_tokenize(sentence):\n",
    "            kata = wordnet_lemmatizer.lemmatize(word)\n",
    "            if re.match(r'^[0-9]+$', kata) != None:\n",
    "                kata = 'Num'\n",
    "            kalimat.append(kata)\n",
    "        kalimat_semua.append(' '.join(kalimat))\n",
    "        print(sentence)        \n",
    "        clear_output(wait=True)\n",
    "        print((i/panjang)*100,\"%\")\n",
    "        i+=1\n",
    "    return kalimat_semua\n",
    "\n",
    "# input file\n",
    "df = pd.read_csv(\"datasettrain.csv\")\n",
    "# preprocess\n",
    "semkal = preprocessing(df['review'])\n",
    "labels = df[\"target\"]"
   ]
  },
  {
   "cell_type": "code",
   "execution_count": 120,
   "metadata": {},
   "outputs": [
    {
     "name": "stdout",
     "output_type": "stream",
     "text": [
      "33503\n"
     ]
    }
   ],
   "source": [
    "# settings tf-idf\n",
    "tfidf = TfidfVectorizer(sublinear_tf=False, analyzer='word', ngram_range=(1,2))\n",
    "\n",
    "# tf-idf\n",
    "features = tfidf.fit_transform(semkal).toarray()\n",
    "features_name = tfidf.vocabulary_\n",
    "print(len(features_name))"
   ]
  },
  {
   "cell_type": "code",
   "execution_count": 121,
   "metadata": {},
   "outputs": [
    {
     "name": "stdout",
     "output_type": "stream",
     "text": [
      "0.7364864864864865\n",
      "              precision    recall  f1-score   support\n",
      "\n",
      "           0       0.75      0.81      0.78       670\n",
      "           1       0.72      0.64      0.68       514\n",
      "\n",
      "   micro avg       0.74      0.74      0.74      1184\n",
      "   macro avg       0.73      0.73      0.73      1184\n",
      "weighted avg       0.74      0.74      0.73      1184\n",
      "\n"
     ]
    }
   ],
   "source": [
    "from sklearn.model_selection import train_test_split\n",
    "\n",
    "X_train, X_test, y_train, y_test = train_test_split(features, labels, test_size=0.30, random_state=42)\n",
    "\n",
    "''' The important part '''\n",
    "# ''' SVM classifier ''' \n",
    "# model\n",
    "model_svm = LinearSVC()\n",
    "# training\n",
    "model_svm.fit(X_train, y_train)\n",
    "# predict / testing\n",
    "pred = model_svm.predict(X_test)\n",
    "\n",
    "from sklearn.metrics import precision_score\n",
    "from sklearn.metrics import classification_report\n",
    "\n",
    "print(precision_score(y_test, pred, average='micro'))\n",
    "print(classification_report(y_test, pred))"
   ]
  }
 ],
 "metadata": {
  "kernelspec": {
   "display_name": "Python 3",
   "language": "python",
   "name": "python3"
  },
  "language_info": {
   "codemirror_mode": {
    "name": "ipython",
    "version": 3
   },
   "file_extension": ".py",
   "mimetype": "text/x-python",
   "name": "python",
   "nbconvert_exporter": "python",
   "pygments_lexer": "ipython3",
   "version": "3.6.4"
  }
 },
 "nbformat": 4,
 "nbformat_minor": 2
}
