{
 "cells": [
  {
   "cell_type": "code",
   "execution_count": null,
   "metadata": {},
   "outputs": [],
   "source": [
    "from gensim.models import FastText\n",
    "import json\n",
    "import nltk\n",
    "\n",
    "# def parse(path):\n",
    "# with open('Apps_for_Android_5.json') as f:\n",
    "#     data = json.load(f)\n",
    "#         return data\n",
    "    \n",
    "data = []\n",
    "with open('Apps_for_Android_5.json') as f:\n",
    "    for line in f:\n",
    "        tokens = nltk.word_tokenize(json.loads(line)['reviewText'])\n",
    "        data.append(tokens)\n",
    "        \n",
    "# print(data)\n",
    "# kalimat = []\n",
    "\n",
    "# for k in parse('reviews_Apps_for_Android_5.json.gz'):\n",
    "#     tokens = nltk.word_tokenize(k['reviewText'])\n",
    "#     kalimat.append(tokens)\n",
    "    \n",
    "# for k in parse('reviews_Cell_Phones_and_Accessories_5.json.gz'):\n",
    "#     tokens = nltk.word_tokenize(k['reviewText'])\n",
    "#     kalimat.append(tokens)\n",
    "            \n",
    "# for k in parse('reviews_Electronics_5.json.gz'):\n",
    "#     tokens = nltk.word_tokenize(k['reviewText'])\n",
    "#     kalimat.append(tokens)\n",
    "# parse('./Apps_for_Android_5.json')\n",
    "# kalimat = [['farza', 'nurifan'], ['nurifan','andi']]"
   ]
  },
  {
   "cell_type": "code",
   "execution_count": null,
   "metadata": {},
   "outputs": [],
   "source": [
    "myModel = FastText(sentences=data, size=100, window=5, min_count=10, workers=4, sg=1)\n",
    "myModel.save('model-all')"
   ]
  },
  {
   "cell_type": "code",
   "execution_count": 18,
   "metadata": {},
   "outputs": [],
   "source": [
    "myModel = FastText.load('model-saya')"
   ]
  },
  {
   "cell_type": "code",
   "execution_count": 19,
   "metadata": {},
   "outputs": [
    {
     "name": "stdout",
     "output_type": "stream",
     "text": [
      "[-0.19582663]\n"
     ]
    },
    {
     "name": "stderr",
     "output_type": "stream",
     "text": [
      "C:\\ProgramData\\Anaconda3\\lib\\site-packages\\ipykernel_launcher.py:1: DeprecationWarning: Call to deprecated `__getitem__` (Method will be removed in 4.0.0, use self.wv.__getitem__() instead).\n",
      "  \"\"\"Entry point for launching an IPython kernel.\n"
     ]
    }
   ],
   "source": [
    "print(myModel['farza'])"
   ]
  },
  {
   "cell_type": "code",
   "execution_count": null,
   "metadata": {},
   "outputs": [],
   "source": [
    "print(data[752936])"
   ]
  },
  {
   "cell_type": "code",
   "execution_count": 11,
   "metadata": {},
   "outputs": [
    {
     "data": {
      "text/plain": [
       "752937"
      ]
     },
     "execution_count": 11,
     "metadata": {},
     "output_type": "execute_result"
    }
   ],
   "source": [
    "len(data)"
   ]
  },
  {
   "cell_type": "code",
   "execution_count": null,
   "metadata": {},
   "outputs": [],
   "source": [
    "from gensim.models import FastText\n",
    "import json\n",
    "import nltk\n",
    "\n",
    "path_list = ['Apps_for_Android_5.json']\n",
    "\n",
    "data = []\n",
    "\n",
    "with open('Apps_for_Android_5.json') as f:\n",
    "    for line in f:\n",
    "        tokens = nltk.word_tokenize(json.loads(line)['reviewText'])\n",
    "        data.append(tokens)\n",
    "        "
   ]
  }
 ],
 "metadata": {
  "kernelspec": {
   "display_name": "Python 3",
   "language": "python",
   "name": "python3"
  },
  "language_info": {
   "codemirror_mode": {
    "name": "ipython",
    "version": 3
   },
   "file_extension": ".py",
   "mimetype": "text/x-python",
   "name": "python",
   "nbconvert_exporter": "python",
   "pygments_lexer": "ipython3",
   "version": "3.6.4"
  }
 },
 "nbformat": 4,
 "nbformat_minor": 2
}
