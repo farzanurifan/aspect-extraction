{
 "cells": [
  {
   "cell_type": "code",
   "execution_count": 1,
   "metadata": {},
   "outputs": [],
   "source": [
    "import re\n",
    "f = open('dataset/bing_liu/Canon_G3.txt', 'r')\n",
    "\n",
    "pattern_title = '\\[t\\]'\n",
    "pattern_sentence = '(?<=##).+'\n",
    "pattern_aspect = '.+(?=##)'\n",
    "pattern_aspect_anomali = '\\[(u|p|s|cc|cs)\\]'\n",
    "\n",
    "sentences = []\n",
    "review = []\n",
    "count = 0\n",
    "for a in f:\n",
    "    if re.search('##', a):\n",
    "        sentence = re.findall(pattern_sentence, a)[0]\n",
    "        aspect = re.findall(pattern_aspect, a)\n",
    "#         anomali = re.findall(pattern_aspect_anomali, a)\n",
    "#         if anomali:\n",
    "#             print(sentence, aspect)\n",
    "#         else:\n",
    "#             if len(aspect) > 0:\n",
    "#                 aspect = aspect[0]\n",
    "#             else:\n",
    "#                 aspect = ''\n",
    "        sentences.append(sentence)"
   ]
  },
  {
   "cell_type": "code",
   "execution_count": 2,
   "metadata": {},
   "outputs": [],
   "source": [
    "import pandas as pd\n",
    "\n",
    "df = pd.DataFrame(columns=['review','aspect'])\n",
    "for r in review:\n",
    "    df = df.append({'review': r[0], 'aspect': r[1]}, ignore_index=True)\n",
    "df.to_csv(\"filtered_dataset\")"
   ]
  },
  {
   "cell_type": "code",
   "execution_count": 3,
   "metadata": {},
   "outputs": [],
   "source": [
    "f = open(\"SentiCircle/coba.txt\",\"w+\")\n",
    "for i in sentences:\n",
    "     f.write(i + \"\\n\")\n"
   ]
  },
  {
   "cell_type": "code",
   "execution_count": 4,
   "metadata": {},
   "outputs": [],
   "source": [
    "f.close()"
   ]
  },
  {
   "cell_type": "code",
   "execution_count": null,
   "metadata": {},
   "outputs": [],
   "source": []
  }
 ],
 "metadata": {
  "kernelspec": {
   "display_name": "Python 3",
   "language": "python",
   "name": "python3"
  },
  "language_info": {
   "codemirror_mode": {
    "name": "ipython",
    "version": 3
   },
   "file_extension": ".py",
   "mimetype": "text/x-python",
   "name": "python",
   "nbconvert_exporter": "python",
   "pygments_lexer": "ipython3",
   "version": "3.6.4"
  }
 },
 "nbformat": 4,
 "nbformat_minor": 2
}
