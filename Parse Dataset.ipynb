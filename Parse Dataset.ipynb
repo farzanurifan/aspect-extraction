{
 "cells": [
  {
   "cell_type": "code",
   "execution_count": 12,
   "metadata": {},
   "outputs": [
    {
     "name": "stdout",
     "output_type": "stream",
     "text": [
      "overall i 'm happy with my toy .  ['camera[+2][p]']\n",
      "1 ) quite bulky ( it 's about the same size as my minolta vectis s-1 aps slr ) and uses a heavy battery , although not very solid as it is contructed mostly of plastic ( unlike canon 's elph line )  ['size[-2][u],weight[-2][u]']\n",
      "2 ) not very ergonomical - you 'll find even for a point-and-shoot lens )  ['design[-2][u]']\n",
      "those used to 35mm cameras will find the g3 very comfortable and friendly to use .  ['use[+2][u]']\n",
      "the more i work with it , the more i love it !  ['camera[+2][p]']\n",
      "i did n't think i would find this quality and ease of use for under $ 1500 - i 'm thrilled with my purchase !  ['camera[+3][u]']\n",
      "seriously , this thing has everything that a pro or expert amateur could want .  ['camera[+2][u]']\n",
      "it is a very amazing product .  ['product[+3][u]']\n",
      "i highly recommend it .  ['camera[+3][p]']\n",
      "i have not played with all the features yet , but the camera is easy to use once you get used to it .  ['use[+1][u]']\n",
      "maybe it is my lack of experience , but i found shots with this camera very disappointing .  ['picture[-3][u]']\n",
      "it was ( i sold it after a few months ) too expensive for the shots that i got .  ['price[-3][u]']\n",
      "sure it had all the features , but when i tried to shoot a girl 's basketball game it just wan't up to the task .  ['camera[-2][u]']\n",
      "it is versatile and seems to be one of the best .  ['camera[+3][p]']\n",
      "i 've had this for 3 months now , and i am pleased with my decision .  ['camera[+2][p]']\n",
      "this is quite simply the best you can ask for .  ['camera[+3][p]']\n",
      "it sometimes takes the picture at some indefinite period of time after you press the shutter button .  ['delay[-1][u]']\n",
      "canon 's g3 does it consistently .  ['delay[-2][u]']\n",
      "they look fantastic .  ['picture quality[+2][p]']\n",
      "i bought it for my trip to beunos aires , and also used it at the iguazu falls , and could not have asked for more perfect performance !  ['performance[+3][p]']\n",
      "i am very pleased with it so far .  ['camera[+2][p]']\n",
      "yes , i recommend it over the competition .  ['camera[+2][p]']\n",
      "it has a beautiful design , lots of features , very easy to use , very configurable and customizable , and the battery duration is amazing !  ['design[+2], feature[+2],use[+1][u],battery[+2]']\n",
      "in general it is easy to use and well laid out .  ['use[+1][u],design[+1][u]']\n",
      "while light , it will not easily go in small handbags or pockets .  ['size[-1][u]']\n",
      "yes there is a corner lens barrel distortion ( i do n't like it too but no harm done since i always use the camea lcd screen to see exactly what i 'm going to get ) in the viewfinder when you do n't zoom ( when you zoom the lens distortion goes away ) , canon knows this and engineered it that way to minimize the parallax phenomenon ; that is what lmost exactly ot the picture .  ['distortion[-1][u]']\n",
      "it takes great pictures , operates quickly , and feels solid .  ['picture[+2],feel[+1][u]']\n",
      "and so far , i 've been very pleased .  ['camera[+3][u]']\n"
     ]
    }
   ],
   "source": [
    "import re\n",
    "f = open('dataset/bing_liu/Canon_G3.txt', 'r')\n",
    "\n",
    "pattern_title = '\\[t\\]'\n",
    "pattern_sentence = '(?<=##).+'\n",
    "pattern_aspect = '.+(?=##)'\n",
    "pattern_aspect_anomali = '\\[(u|p|s|cc|cs)\\]'\n",
    "\n",
    "review = []\n",
    "count = 0\n",
    "for a in f:\n",
    "    if re.search('##', a):\n",
    "        sentence = re.findall(pattern_sentence, a)[0]\n",
    "        aspect = re.findall(pattern_aspect, a)\n",
    "        anomali = re.findall(pattern_aspect_anomali, a)\n",
    "        if anomali:\n",
    "            print(sentence, aspect)\n",
    "        else:\n",
    "            if len(aspect) > 0:\n",
    "                aspect = aspect[0]\n",
    "            else:\n",
    "                aspect = ''\n",
    "            review.append((sentence, aspect))"
   ]
  },
  {
   "cell_type": "code",
   "execution_count": 18,
   "metadata": {},
   "outputs": [],
   "source": [
    "import pandas as pd\n",
    "\n",
    "df = pd.DataFrame(columns=['review','aspect'])\n",
    "for r in review:\n",
    "    df = df.append({'review': r[0], 'aspect': r[1]}, ignore_index=True)\n",
    "df.to_csv(\"filtered_dataset\")"
   ]
  },
  {
   "cell_type": "code",
   "execution_count": null,
   "metadata": {},
   "outputs": [],
   "source": []
  }
 ],
 "metadata": {
  "kernelspec": {
   "display_name": "Python 3",
   "language": "python",
   "name": "python3"
  },
  "language_info": {
   "codemirror_mode": {
    "name": "ipython",
    "version": 3
   },
   "file_extension": ".py",
   "mimetype": "text/x-python",
   "name": "python",
   "nbconvert_exporter": "python",
   "pygments_lexer": "ipython3",
   "version": "3.6.4"
  }
 },
 "nbformat": 4,
 "nbformat_minor": 2
}
