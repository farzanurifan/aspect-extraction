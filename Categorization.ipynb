{
 "cells": [
  {
   "cell_type": "code",
   "execution_count": 1,
   "metadata": {},
   "outputs": [],
   "source": [
    "from scipy import spatial\n",
    "\n",
    "def cosine(x, y):\n",
    "    dataSetI = x\n",
    "    dataSetII = y\n",
    "    return 1 - spatial.distance.cosine(dataSetI, dataSetII)"
   ]
  },
  {
   "cell_type": "code",
   "execution_count": 13,
   "metadata": {},
   "outputs": [],
   "source": [
    "import pickle\n",
    "\n",
    "def load_category(category):\n",
    "    pickle_in = open(\"elmo_category/\"+ category +\".pickle\", \"rb\")\n",
    "    return pickle.load(pickle_in)\n",
    "\n",
    "def load_data(id_file):\n",
    "    pickle_in = open(\"elmo_restaurant/\"+ str(id_file) +\".pickle\", \"rb\")\n",
    "    return pickle.load(pickle_in)[0]"
   ]
  },
  {
   "cell_type": "code",
   "execution_count": 14,
   "metadata": {},
   "outputs": [],
   "source": [
    "import numpy as np\n",
    "\n",
    "def similarity(category, word):\n",
    "    res = []\n",
    "    for cat in category:\n",
    "        res.append(cosine(cat, word))\n",
    "    return np.mean(res)"
   ]
  },
  {
   "cell_type": "code",
   "execution_count": 15,
   "metadata": {},
   "outputs": [],
   "source": [
    "def sim_result(word):\n",
    "    c1 = similarity(ambience, word)\n",
    "    c2 = similarity(food, word)\n",
    "    c3 = similarity(service, word)\n",
    "    c4 = similarity(value, word)\n",
    "    return c1, c2, c3, c4"
   ]
  },
  {
   "cell_type": "code",
   "execution_count": 16,
   "metadata": {},
   "outputs": [],
   "source": [
    "def cat_str(a, b, c, d):\n",
    "    if a > b and a > c and a > d:\n",
    "        return 1\n",
    "    elif b > a and b > c and b > d:\n",
    "        return 2\n",
    "    elif c > b and c > a and c > d:\n",
    "        return 3\n",
    "    elif d > b and d > c and d > a:\n",
    "        return 4\n",
    "    else:\n",
    "        return 5"
   ]
  },
  {
   "cell_type": "code",
   "execution_count": 17,
   "metadata": {},
   "outputs": [],
   "source": [
    "def str_cat(num):\n",
    "    pred =''\n",
    "    if num == 1:\n",
    "        pred = 'AMBIENCE'\n",
    "    elif num == 2:\n",
    "        pred = 'FOOD'\n",
    "    elif num == 3:\n",
    "        pred = 'SERVICE'\n",
    "    elif num == 4:\n",
    "        pred = 'VALUE'\n",
    "    return pred"
   ]
  },
  {
   "cell_type": "code",
   "execution_count": 18,
   "metadata": {},
   "outputs": [],
   "source": [
    "ambience = load_category('ambience')\n",
    "food = load_category('food')\n",
    "service = load_category('service')\n",
    "value = load_category('value_only_price')"
   ]
  },
  {
   "cell_type": "code",
   "execution_count": 19,
   "metadata": {
    "scrolled": true
   },
   "outputs": [],
   "source": [
    "import pandas as pd\n",
    "from tqdm import tqdm_notebook\n",
    "\n",
    "def run(tipe):\n",
    "    df = pd.read_csv('Results/Aspect Terms Extraction/'+ tipe +'.csv')\n",
    "    sf = pd.DataFrame(columns=['id', 'review', 'label', 'pred_multiple', 'terms'])\n",
    "    for index in tqdm_notebook(range(len(df))):\n",
    "        pred= ''\n",
    "        pred_mult=[]\n",
    "        if type(df['term'][index]) != float:\n",
    "            terms = df['term'][index].split('|')\n",
    "            id_file = df['id'][index]\n",
    "            label = df['category'][index]\n",
    "            review = df['review'][index]\n",
    "\n",
    "            vector = load_data(id_file)\n",
    "            tokenized = df['review'][index].split(' ')\n",
    "\n",
    "            for term in terms:\n",
    "                i = 0\n",
    "                for token in tokenized:\n",
    "                    try:\n",
    "                        if term in token:\n",
    "                            a, b, c, d = sim_result(vector[i])\n",
    "                            x = cat_str(a, b, c, d)\n",
    "                            pred_mult.append(str_cat(x))\n",
    "                            break\n",
    "                    except:\n",
    "                        print(review,terms)\n",
    "                        print(tokenized)\n",
    "                    i += 1\n",
    "        else:\n",
    "            terms = ''\n",
    "            id_file = df['id'][index]\n",
    "            label = df['category'][index]\n",
    "            review = df['review'][index]\n",
    "            \n",
    "        sf = sf.append({'id': id_file,\n",
    "                        'review': review,\n",
    "                        'label': label,\n",
    "                        'pred_multiple': '|'.join(pred_mult),\n",
    "                        'terms': '|'.join(terms)\n",
    "                       }, ignore_index=True)\n",
    "\n",
    "        sf.to_csv(\"Results/Categorization/\"+ tipe +\".csv\")\n",
    "        sf.to_excel(\"Results/Categorization/\"+ tipe +\".xlsx\")"
   ]
  },
  {
   "cell_type": "code",
   "execution_count": 20,
   "metadata": {},
   "outputs": [
    {
     "data": {
      "application/vnd.jupyter.widget-view+json": {
       "model_id": "17d2eb0e0fc44acf9a6a12db2b44a8fe",
       "version_major": 2,
       "version_minor": 0
      },
      "text/plain": [
       "HBox(children=(IntProgress(value=0, max=699), HTML(value='')))"
      ]
     },
     "metadata": {},
     "output_type": "display_data"
    },
    {
     "name": "stdout",
     "output_type": "stream",
     "text": [
      "\n"
     ]
    }
   ],
   "source": [
    "run('chunk')"
   ]
  },
  {
   "cell_type": "code",
   "execution_count": 21,
   "metadata": {},
   "outputs": [
    {
     "data": {
      "application/vnd.jupyter.widget-view+json": {
       "model_id": "ca902270b2c040e3b882bc10f1b07ecc",
       "version_major": 2,
       "version_minor": 0
      },
      "text/plain": [
       "HBox(children=(IntProgress(value=0, max=699), HTML(value='')))"
      ]
     },
     "metadata": {},
     "output_type": "display_data"
    },
    {
     "name": "stdout",
     "output_type": "stream",
     "text": [
      "\n"
     ]
    }
   ],
   "source": [
    "run('20')"
   ]
  },
  {
   "cell_type": "code",
   "execution_count": null,
   "metadata": {},
   "outputs": [],
   "source": []
  }
 ],
 "metadata": {
  "kernelspec": {
   "display_name": "Python 3",
   "language": "python",
   "name": "python3"
  },
  "language_info": {
   "codemirror_mode": {
    "name": "ipython",
    "version": 3
   },
   "file_extension": ".py",
   "mimetype": "text/x-python",
   "name": "python",
   "nbconvert_exporter": "python",
   "pygments_lexer": "ipython3",
   "version": "3.7.3"
  }
 },
 "nbformat": 4,
 "nbformat_minor": 2
}
