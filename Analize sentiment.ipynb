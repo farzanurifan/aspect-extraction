{
 "cells": [
  {
   "cell_type": "code",
   "execution_count": 34,
   "metadata": {},
   "outputs": [],
   "source": [
    "import pandas as pd\n",
    "\n",
    "def run(name):\n",
    "    df = pd.read_csv('Results/Sentiwordnet/hasil_cir_'+ name +'.csv')\n",
    "    beda_df = pd.read_csv('Results/Sentiwordnet/hasil_lex_'+ name +'.csv')\n",
    "    sf = pd.DataFrame(columns = ['id','review', 'opinion', 'label', 'predict','predict2'])\n",
    "    print(len(df), len(beda_df))\n",
    "    for index in range(0, len(df)):\n",
    "        h1 = df['predict'][index]\n",
    "        h2 = beda_df['predict'][index]\n",
    "        \n",
    "\n",
    "        if h1 != h2:\n",
    "            sf = sf.append({'id': df['id'][index], \n",
    "                    'review': df['review'][index],\n",
    "                    'opinion': df['opinion'][index],\n",
    "                    'label': df['label'][index],\n",
    "                    'predict': df['predict'][index],\n",
    "                    'predict2': beda_df['predict'][index]\n",
    "                   }, ignore_index=True)\n",
    "\n",
    "    sf.to_csv('Results/Sentiwordnet/beda-' + name + '.csv')\n",
    "    sf.to_excel('Results/Sentiwordnet/beda-' + name + '.xlsx')"
   ]
  },
  {
   "cell_type": "code",
   "execution_count": 35,
   "metadata": {},
   "outputs": [
    {
     "name": "stdout",
     "output_type": "stream",
     "text": [
      "177 177\n",
      "110 110\n",
      "121 121\n",
      "80 80\n"
     ]
    }
   ],
   "source": [
    "run('FOOD')\n",
    "run('AMBIENCE')\n",
    "run('SERVICE')\n",
    "run('PRICES')"
   ]
  },
  {
   "cell_type": "code",
   "execution_count": null,
   "metadata": {},
   "outputs": [],
   "source": []
  }
 ],
 "metadata": {
  "kernelspec": {
   "display_name": "Python 3",
   "language": "python",
   "name": "python3"
  },
  "language_info": {
   "codemirror_mode": {
    "name": "ipython",
    "version": 3
   },
   "file_extension": ".py",
   "mimetype": "text/x-python",
   "name": "python",
   "nbconvert_exporter": "python",
   "pygments_lexer": "ipython3",
   "version": "3.6.4"
  }
 },
 "nbformat": 4,
 "nbformat_minor": 2
}
