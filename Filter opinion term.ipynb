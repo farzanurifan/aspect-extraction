{
 "cells": [
  {
   "cell_type": "code",
   "execution_count": 26,
   "metadata": {},
   "outputs": [],
   "source": [
    "import sys, os\n",
    "import re\n",
    "import pandas as pd\n",
    "import itertools, nltk, string \n",
    "\n",
    "positive_lexicon = []\n",
    "negative_lexicon = []\n",
    "\n",
    "def read_lexicon():\n",
    "    global positive_lexicon;\n",
    "    global negative_lexicon;\n",
    "    \n",
    "    with open(os.path.join(os.path.abspath('opinion-lexicon-English/') , 'positive-words.txt'), 'r') as file:\n",
    "        line = file.readline();\n",
    "        while \";\" in line:\n",
    "            line = file.readline();\n",
    "         \n",
    "        positive_lexicon = file.readlines()\n",
    "    \n",
    "    with open(os.path.join(os.path.abspath('opinion-lexicon-English/') , 'negative-words.txt'), 'r', encoding = \"ISO-8859-1\") as file:\n",
    "        line = file.readline();\n",
    "        while \";\" in line:\n",
    "            line = file.readline();\n",
    "        \n",
    "        negative_lexicon = file.readlines()\n",
    "        \n",
    "    positive_lexicon = list(map(lambda word: word.rstrip(\"\\n\\r\"), positive_lexicon))\n",
    "    negative_lexicon = list(map(lambda word: word.rstrip(\"\\n\\r\"), negative_lexicon))    \n",
    "        \n",
    "read_lexicon()\n",
    "opinion_lexicon = positive_lexicon + negative_lexicon"
   ]
  },
  {
   "cell_type": "code",
   "execution_count": null,
   "metadata": {},
   "outputs": [],
   "source": []
  },
  {
   "cell_type": "code",
   "execution_count": 27,
   "metadata": {},
   "outputs": [],
   "source": [
    "import pandas as pd\n",
    "\n",
    "def run(tipe, where):\n",
    "    df = pd.read_csv(\"Results/\" + where + tipe +\".csv\")\n",
    "    print(df.head())\n",
    "    sf = pd.DataFrame(columns = ['id','review','category','term'])\n",
    "    for index, concat_terms in enumerate(df['term']):\n",
    "        new_terms = []\n",
    "        try:\n",
    "            terms = concat_terms.split('|')\n",
    "        except:\n",
    "            terms = []\n",
    "        for term in terms:\n",
    "            if term not in opinion_lexicon:\n",
    "                new_terms.append(term)\n",
    "        sf = sf.append({'id': df['id'][index], \n",
    "                        'review': df['review'][index],\n",
    "                        'category': df['category'][index],\n",
    "                        'term': '|'.join(new_terms)\n",
    "                       }, ignore_index=True)\n",
    "\n",
    "    sf.to_csv(\"Results/Filter/\"+ tipe +\".csv\")\n",
    "    sf.to_excel(\"Results/Filter/\"+ tipe +\".xlsx\")"
   ]
  },
  {
   "cell_type": "code",
   "execution_count": 28,
   "metadata": {
    "scrolled": true
   },
   "outputs": [
    {
     "name": "stdout",
     "output_type": "stream",
     "text": [
      "   Unnamed: 0  id                                             review category  \\\n",
      "0           0   0  i am not necessarily fanatical about this plac...    VALUE   \n",
      "1           1   2  the high prices you're going to pay is for the...    VALUE   \n",
      "2           2   3  the high prices you're going to pay is for the...    VALUE   \n",
      "3           3   4  the high prices you're going to pay is for the...    VALUE   \n",
      "4           4   5  the high prices you're going to pay is for the...    VALUE   \n",
      "\n",
      "              term  \n",
      "0      price|place  \n",
      "1  price|food|high  \n",
      "2  price|food|high  \n",
      "3  price|food|high  \n",
      "4  price|food|high  \n"
     ]
    }
   ],
   "source": [
    "run('20-partial', 'add_noun/')"
   ]
  },
  {
   "cell_type": "code",
   "execution_count": null,
   "metadata": {},
   "outputs": [],
   "source": []
  }
 ],
 "metadata": {
  "kernelspec": {
   "display_name": "Python 3",
   "language": "python",
   "name": "python3"
  },
  "language_info": {
   "codemirror_mode": {
    "name": "ipython",
    "version": 3
   },
   "file_extension": ".py",
   "mimetype": "text/x-python",
   "name": "python",
   "nbconvert_exporter": "python",
   "pygments_lexer": "ipython3",
   "version": "3.6.4"
  }
 },
 "nbformat": 4,
 "nbformat_minor": 2
}
