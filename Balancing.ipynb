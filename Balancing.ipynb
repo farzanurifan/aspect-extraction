{
 "cells": [
  {
   "cell_type": "code",
   "execution_count": 57,
   "metadata": {
    "scrolled": true
   },
   "outputs": [],
   "source": [
    "import pandas as pd\n",
    "\n",
    "sf = pd.DataFrame(columns=['reviewID', 'sentenceID', 'review', 'target', 'category', 'polarity'])\n",
    "df = pd.read_csv('dataset/res16_nan_all.csv')\n",
    "categories = {}\n",
    "count = 0\n",
    "f_count, a_count, s_count = 0, 0, 0\n",
    "for index in range(0, len(df)):\n",
    "    category = df['category'][index].split(',')\n",
    "    ncat = []\n",
    "    sent_temp = []\n",
    "    target = df['target'][index]\n",
    "    \n",
    "    is_food, is_service, is_ambience, is_price = False, False, False, False\n",
    "    for c in category:\n",
    "        if c == \"FOOD\":\n",
    "            is_food = True\n",
    "        elif c == \"PRICES\":\n",
    "            is_price = True\n",
    "        elif c == \"AMBIENCE\":\n",
    "            is_ambience = True\n",
    "        elif c == \"SERVICE\":\n",
    "            is_service = True\n",
    "        if c not in sent_temp:\n",
    "            try:\n",
    "                categories[c] += 1\n",
    "            except:\n",
    "                categories[c] = 1\n",
    "        sent_temp.append(c)\n",
    "        \n",
    "    if (f_count > 129 and is_food) and not (is_price):\n",
    "        continue\n",
    "    if (a_count > 129 and is_ambience) and not (is_price):\n",
    "        continue\n",
    "    if (s_count > 129 and is_service) and not (is_price):\n",
    "        continue\n",
    "    sf = sf.append({'reviewID': df['reviewID'][index],\n",
    "                        'sentenceID': df['sentenceID'][index],\n",
    "                        'review': df['review'][index],\n",
    "                        'target': df['target'][index],\n",
    "                        'category': df['category'][index],\n",
    "                        'polarity': df['polarity'][index]}, ignore_index=True)\n",
    "    \n",
    "    if (is_food and is_service and is_ambience) and not (is_price):\n",
    "        f_count += 1\n",
    "        s_count += 1\n",
    "        a_count += 1\n",
    "    elif (is_food and is_service) and not (is_price or is_ambience):\n",
    "        f_count += 1\n",
    "        s_count += 1\n",
    "    elif (is_food and is_ambience) and not (is_price or is_service):\n",
    "        f_count += 1\n",
    "        a_count += 1\n",
    "    elif (is_service and is_ambience) and not (is_price or is_food):\n",
    "        s_count += 1\n",
    "        a_count += 1\n",
    "    elif (is_food) and not (is_price):\n",
    "        f_count += 1\n",
    "    elif (is_ambience) and not (is_price):\n",
    "        a_count += 1\n",
    "    elif (is_service) and not (is_price):\n",
    "        s_count += 1\n",
    "sf.to_csv(\"dataset/res16_baru.csv\")\n",
    "sf.to_excel(\"dataset/res16_baru.xlsx\")"
   ]
  },
  {
   "cell_type": "code",
   "execution_count": null,
   "metadata": {},
   "outputs": [],
   "source": []
  },
  {
   "cell_type": "code",
   "execution_count": 58,
   "metadata": {},
   "outputs": [
    {
     "name": "stdout",
     "output_type": "stream",
     "text": [
      "0\n"
     ]
    }
   ],
   "source": [
    "import pandas as pd\n",
    "\n",
    "df = pd.read_csv('dataset/res16_baru.csv')\n",
    "categories = {}\n",
    "count = 0\n",
    "for index, cat in enumerate(df['category']):\n",
    "    category = cat.split(',')\n",
    "    ncat = []\n",
    "    sent_temp = []\n",
    "    target = df['target'][index]\n",
    "    for c in category:\n",
    "        x = c#.split('#')[0]\n",
    "        if x not in sent_temp:\n",
    "            try:\n",
    "                categories[x] += 1\n",
    "            except:\n",
    "                categories[x] = 1\n",
    "        sent_temp.append(x)\n",
    "print(count)"
   ]
  },
  {
   "cell_type": "code",
   "execution_count": 59,
   "metadata": {},
   "outputs": [
    {
     "data": {
      "text/plain": [
       "{'AMBIENCE': 151, 'FOOD': 217, 'PRICES': 130, 'SERVICE': 154}"
      ]
     },
     "execution_count": 59,
     "metadata": {},
     "output_type": "execute_result"
    }
   ],
   "source": [
    "categories"
   ]
  },
  {
   "cell_type": "code",
   "execution_count": 53,
   "metadata": {},
   "outputs": [
    {
     "data": {
      "text/plain": [
       "{'AMBIENCE': 180, 'FOOD': 287, 'PRICES': 130, 'SERVICE': 224}"
      ]
     },
     "execution_count": 53,
     "metadata": {},
     "output_type": "execute_result"
    }
   ],
   "source": [
    "categories"
   ]
  },
  {
   "cell_type": "code",
   "execution_count": null,
   "metadata": {},
   "outputs": [],
   "source": []
  }
 ],
 "metadata": {
  "kernelspec": {
   "display_name": "Python 3",
   "language": "python",
   "name": "python3"
  },
  "language_info": {
   "codemirror_mode": {
    "name": "ipython",
    "version": 3
   },
   "file_extension": ".py",
   "mimetype": "text/x-python",
   "name": "python",
   "nbconvert_exporter": "python",
   "pygments_lexer": "ipython3",
   "version": "3.6.4"
  }
 },
 "nbformat": 4,
 "nbformat_minor": 2
}
