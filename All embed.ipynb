{
 "cells": [
  {
   "cell_type": "code",
   "execution_count": null,
   "metadata": {},
   "outputs": [],
   "source": [
    "import pickle\n",
    "import spacy\n",
    "from gensim.models import KeyedVectors\n",
    "\n",
    "fasttext = spacy.load(\"../model_wiki\")\n",
    "glove = KeyedVectors.load_word2vec_format('../glove.6B.300d.w2vformat.txt')\n",
    "w2v = KeyedVectors.load_word2vec_format('../GoogleNews-vectors-negative300.bin', binary=True)\n",
    "\n",
    "def load_term(id_file):\n",
    "    pickle_in = open(\"keyword_aspek/\"+ str(id_file) +\".pickle\", \"rb\")\n",
    "    return pickle.load(pickle_in)\n",
    "\n",
    "def save(name, model, tipe):\n",
    "    pickle_out = open(\"vector_keyword_aspek/\"+ tipe+ \"/\" + name + \".pickle\",\"wb\")\n",
    "    pickle.dump(model, pickle_out)\n",
    "    pickle_out.close()\n",
    "\n",
    "def create_model(name):\n",
    "    xmodel = []\n",
    "    daftar = load_term(name)\n",
    "    for d in daftar:\n",
    "        if tipe == 'glove':\n",
    "            xmodel.append(glove[d])\n",
    "        elif tipe == 'w2v':\n",
    "            xmodel.append(w2v[d])\n",
    "        elif tipe == 'fasttext':\n",
    "            xmodel.append(nlp(d).vector)\n",
    "    return xmodel\n",
    "\n",
    "def generate_keyword_vector(tipe):\n",
    "    aspects = ['ambience', 'food', 'service', 'price']\n",
    "    for aspect in aspects:\n",
    "        model = create_model(aspect, tipe)\n",
    "        save(aspect, model, tipe)\n",
    "\n",
    "generate_keyword_vector('glove')\n",
    "generate_keyword_vector('w2v')\n",
    "generate_keyword_vector('fasttext')"
   ]
  },
  {
   "cell_type": "code",
   "execution_count": null,
   "metadata": {},
   "outputs": [],
   "source": []
  }
 ],
 "metadata": {
  "kernelspec": {
   "display_name": "Python 3",
   "language": "python",
   "name": "python3"
  },
  "language_info": {
   "codemirror_mode": {
    "name": "ipython",
    "version": 3
   },
   "file_extension": ".py",
   "mimetype": "text/x-python",
   "name": "python",
   "nbconvert_exporter": "python",
   "pygments_lexer": "ipython3",
   "version": "3.6.4"
  }
 },
 "nbformat": 4,
 "nbformat_minor": 2
}
