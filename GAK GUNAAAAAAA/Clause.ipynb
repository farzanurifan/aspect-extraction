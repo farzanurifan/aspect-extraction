{
 "cells": [
  {
   "cell_type": "code",
   "execution_count": 25,
   "metadata": {},
   "outputs": [],
   "source": [
    "import requests\n",
    "\n",
    "def get_tregex(text):\n",
    "    url = \"http://localhost:9000/tregex\"\n",
    "    request_params = {\"pattern\": \"S < (NP $ VP)\"}\n",
    "    r = requests.post(url, data=text, params=request_params)\n",
    "    return r.json()['sentences'][0]"
   ]
  },
  {
   "cell_type": "code",
   "execution_count": 26,
   "metadata": {},
   "outputs": [],
   "source": [
    "import re\n",
    "\n",
    "def sentence_from_tree(s):\n",
    "    pattern = r'(?<= )[a-zA-Z].*?(?=\\))'\n",
    "    replaced = s.replace('\\r\\n', '')\n",
    "    res = ' '.join(re.findall(pattern, replaced))\n",
    "    return res"
   ]
  },
  {
   "cell_type": "code",
   "execution_count": 27,
   "metadata": {},
   "outputs": [],
   "source": [
    "def get_clauses(sentences):\n",
    "    clauses = []\n",
    "    res = get_tregex(sentences)\n",
    "    length = len(res)\n",
    "    for x in range(0, length):\n",
    "        clauses.append(sentence_from_tree(res[str(x)]['match']))\n",
    "    print(clauses)\n",
    "    if length > 1:\n",
    "        for x in range(0, length - 1):\n",
    "            for y in range(x + 1, length):\n",
    "                clauses[x] = clauses[x].replace(clauses[y], '')\n",
    "    return clauses"
   ]
  },
  {
   "cell_type": "code",
   "execution_count": 28,
   "metadata": {},
   "outputs": [
    {
     "name": "stdout",
     "output_type": "stream",
     "text": [
      "['If they try to change nature she will swiftly destroy them but if they relax and accept the bounty of nature they will be taken care of', 'they try to change nature', 'she will swiftly destroy them', 'they relax and accept the bounty of nature']\n"
     ]
    },
    {
     "data": {
      "text/plain": [
       "['If   but if  they will be taken care of',\n",
       " 'they try to change nature',\n",
       " 'she will swiftly destroy them',\n",
       " 'they relax and accept the bounty of nature']"
      ]
     },
     "execution_count": 28,
     "metadata": {},
     "output_type": "execute_result"
    }
   ],
   "source": [
    "get_clauses('If they try to change nature, she will swiftly destroy them, but if they relax and accept the bounty of nature, they will be taken care of')"
   ]
  },
  {
   "cell_type": "code",
   "execution_count": 29,
   "metadata": {},
   "outputs": [
    {
     "name": "stdout",
     "output_type": "stream",
     "text": [
      "['i bought my canon g3 about a month ago', 'i have to say i am very satisfied', 'i am very satisfied']\n"
     ]
    },
    {
     "data": {
      "text/plain": [
       "['i bought my canon g3 about a month ago',\n",
       " 'i have to say ',\n",
       " 'i am very satisfied']"
      ]
     },
     "execution_count": 29,
     "metadata": {},
     "output_type": "execute_result"
    }
   ],
   "source": [
    "get_clauses(\"i bought my canon g3 about a month ago and i have to say i am very satisfied .\")"
   ]
  },
  {
   "cell_type": "code",
   "execution_count": null,
   "metadata": {},
   "outputs": [],
   "source": []
  }
 ],
 "metadata": {
  "kernelspec": {
   "display_name": "Python 3",
   "language": "python",
   "name": "python3"
  },
  "language_info": {
   "codemirror_mode": {
    "name": "ipython",
    "version": 3
   },
   "file_extension": ".py",
   "mimetype": "text/x-python",
   "name": "python",
   "nbconvert_exporter": "python",
   "pygments_lexer": "ipython3",
   "version": "3.6.4"
  }
 },
 "nbformat": 4,
 "nbformat_minor": 2
}
