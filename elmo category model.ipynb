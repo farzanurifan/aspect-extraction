{
 "cells": [
  {
   "cell_type": "code",
   "execution_count": 35,
   "metadata": {},
   "outputs": [],
   "source": [
    "import tensorflow_hub as hub\n",
    "import tensorflow as tf\n",
    "\n",
    "def embed_elmo(word_to_embed):\n",
    "    elmo = hub.Module(\"https://tfhub.dev/google/elmo/2\")\n",
    "    embedding_tensor = elmo(word_to_embed, as_dict=True)[\"elmo\"]\n",
    "\n",
    "    with tf.Session() as sess:\n",
    "        sess.run(tf.global_variables_initializer())\n",
    "        embedding = sess.run(embedding_tensor)\n",
    "        return embedding"
   ]
  },
  {
   "cell_type": "code",
   "execution_count": 36,
   "metadata": {},
   "outputs": [],
   "source": [
    "import pickle\n",
    "\n",
    "def save(name, embedding):\n",
    "    pickle_out = open(\"data/\" + name + \".pickle\",\"wb\")\n",
    "    pickle.dump(embedding, pickle_out)\n",
    "    pickle_out.close()"
   ]
  },
  {
   "cell_type": "code",
   "execution_count": 37,
   "metadata": {},
   "outputs": [],
   "source": [
    "def run(name):\n",
    "    f = open(\"wiki/\" + name + \"-sentence.txt\", encoding='utf-8')\n",
    "    sentences = []\n",
    "    for sentence in f.readlines():\n",
    "        sentences.append(sentence.replace(\"\\n\", \"\"))\n",
    "    print(name)\n",
    "    embedding = embed_elmo(sentences)\n",
    "    save(name, embedding)"
   ]
  },
  {
   "cell_type": "code",
   "execution_count": 40,
   "metadata": {},
   "outputs": [
    {
     "name": "stdout",
     "output_type": "stream",
     "text": [
      "ambience\n",
      "food\n",
      "service\n",
      "value\n"
     ]
    }
   ],
   "source": [
    "category = ['ambience', 'food', 'service', 'value']\n",
    "for cat in category:\n",
    "    run(cat)"
   ]
  },
  {
   "cell_type": "code",
   "execution_count": 41,
   "metadata": {},
   "outputs": [],
   "source": [
    "# load elmo_train_new\n",
    "pickle_in = open(\"data/food.pickle\", \"rb\")\n",
    "kk = pickle.load(pickle_in)"
   ]
  },
  {
   "cell_type": "code",
   "execution_count": 55,
   "metadata": {},
   "outputs": [
    {
     "data": {
      "text/plain": [
       "1024"
      ]
     },
     "execution_count": 55,
     "metadata": {},
     "output_type": "execute_result"
    }
   ],
   "source": [
    "len(kk[0][67])"
   ]
  },
  {
   "cell_type": "code",
   "execution_count": null,
   "metadata": {},
   "outputs": [],
   "source": []
  }
 ],
 "metadata": {
  "kernelspec": {
   "display_name": "Python 3",
   "language": "python",
   "name": "python3"
  },
  "language_info": {
   "codemirror_mode": {
    "name": "ipython",
    "version": 3
   },
   "file_extension": ".py",
   "mimetype": "text/x-python",
   "name": "python",
   "nbconvert_exporter": "python",
   "pygments_lexer": "ipython3",
   "version": "3.7.3"
  }
 },
 "nbformat": 4,
 "nbformat_minor": 2
}
