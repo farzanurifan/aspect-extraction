{
 "cells": [
  {
   "cell_type": "code",
   "execution_count": 18,
   "metadata": {},
   "outputs": [],
   "source": [
    "import re\n",
    "import requests\n",
    "from nltk import Tree\n",
    "\n",
    "\n",
    "def parser(expression):\n",
    "    old = expression.replace(' ', '_').replace('>_(', '> (').replace(')_(', ') (').replace(')_)', ') )').replace(')_)', ') )').replace(' (', '(')\n",
    "    new = ''\n",
    "    for x in range(0, len(old) - 1):\n",
    "        if old[x] == '(' and old[x+1].isalpha():\n",
    "            new += '{'\n",
    "        elif old[x] == ')' and (old[x-1].isalpha() or old[x-1] == ']'):\n",
    "            new += '}'\n",
    "        else:\n",
    "            new += old[x]\n",
    "    new += old[len(old)-1]\n",
    "    return new"
   ]
  },
  {
   "cell_type": "code",
   "execution_count": 2,
   "metadata": {},
   "outputs": [],
   "source": [
    "from pycorenlp import StanfordCoreNLP\n",
    "import json\n",
    "\n",
    "nlp = StanfordCoreNLP('http://localhost:9000')\n",
    "dependency_parser = nlp.annotate\n",
    "\n",
    "def pos_tag(sentence):\n",
    "    result = dependency_parser(sentence, properties={\"outputFormat\": \"json\", \"annotators\": \"pos\"})['sentences'][0]['tokens']\n",
    "    res = []\n",
    "    for pos in result:\n",
    "        res.append(pos['pos'])\n",
    "    return res"
   ]
  },
  {
   "cell_type": "code",
   "execution_count": 3,
   "metadata": {},
   "outputs": [],
   "source": [
    "def insert_pos_tag(exp, pos):\n",
    "    count = 0\n",
    "    res = ''\n",
    "    for x in range(0, len(exp)):\n",
    "        if exp[x] == 'S' and exp[x+1]==' ' and exp[x+2] == 'P':\n",
    "            res += 'S '\n",
    "            res += pos[count]\n",
    "            count += 1\n",
    "            x += 4\n",
    "        else:\n",
    "            res += exp[x]\n",
    "    return res"
   ]
  },
  {
   "cell_type": "code",
   "execution_count": 4,
   "metadata": {},
   "outputs": [],
   "source": [
    "def direction(exp):\n",
    "    cont = False\n",
    "    for x in exp:\n",
    "        if x == '{':\n",
    "            cont = True\n",
    "        elif x == '}':\n",
    "            cont = False\n",
    "            continue\n",
    "        if cont == True:\n",
    "            continue\n",
    "        if x == '/':\n",
    "            return '/'\n",
    "        elif x == '\\\\':\n",
    "            return '\\\\'\n",
    "    return False"
   ]
  },
  {
   "cell_type": "code",
   "execution_count": 5,
   "metadata": {},
   "outputs": [],
   "source": [
    "import nltk\n",
    "from nltk.sem.logic import *\n",
    "\n",
    "read_expr = nltk.sem.Expression.fromstring\n",
    "\n",
    "def lambda_calculus(tree):\n",
    "    tree_string = str(tree)\n",
    "    \n",
    "    if tree_string[2] == 'L':\n",
    "        pos = tree_string.split('_')[3]\n",
    "        word = tree_string.split('_')[5]\n",
    "        \n",
    "        #                        #\n",
    "        # masukin rulenya disini #\n",
    "        #                        #\n",
    "        if pos == 'NN':\n",
    "            return read_expr(r'(' + word + ')')\n",
    "        elif pos == 'VBD':\n",
    "            return read_expr(r'\\X \\Y.' + word + '(X, Y)')\n",
    "        else:\n",
    "            return read_expr(r'\\X.X')\n",
    "    \n",
    "    # ini cuma masukin ke array\n",
    "    sub = []\n",
    "    for subtree in tree:\n",
    "        if type(subtree) == nltk.tree.Tree:\n",
    "            sub.append(subtree)\n",
    "            \n",
    "    # urutan operasi lambda calculusnya\n",
    "    first = sub[0]\n",
    "    second = sub[1]\n",
    "    notation = str(sub[1]).split('_')[1]\n",
    "    if direction(notation) == '\\\\':\n",
    "        first = sub[1]\n",
    "        second = sub[0]\n",
    "    \n",
    "    # rekursi\n",
    "    return ApplicationExpression(lambda_calculus(first), lambda_calculus(second)).simplify()"
   ]
  },
  {
   "cell_type": "code",
   "execution_count": 7,
   "metadata": {},
   "outputs": [],
   "source": [
    "from_res = '(<T S[dcl] 0 2> (<T NP 0 2> (<L NP[nb]/N POS POS the NP[nb]/N>) (<L N POS POS hotel N>) ) (<T S[dcl]\\\\NP 0 2> (<L (S[dcl]\\\\NP)/NP POS POS had (S[dcl]\\\\NP)/NP>) (<T NP 0 2> (<L NP[nb]/N POS POS an NP[nb]/N>) (<T N 0 2> (<L N/N POS POS exceptional N/N>) (<L N POS POS service N>) ) ) ) )'\n",
    "pos_tagged = insert_pos_tag(from_res, pos_tag('the hotel had a exceptional service'))\n",
    "\n",
    "hasil = parser(pos_tagged)\n",
    "\n",
    "from nltk import Tree\n",
    "tree = Tree.fromstring(hasil)\n",
    "# t.pretty_print()"
   ]
  },
  {
   "cell_type": "code",
   "execution_count": 8,
   "metadata": {},
   "outputs": [
    {
     "data": {
      "text/plain": [
       "<ApplicationExpression had(service,hotel)>"
      ]
     },
     "execution_count": 8,
     "metadata": {},
     "output_type": "execute_result"
    }
   ],
   "source": [
    "lambda_calculus(tree)"
   ]
  },
  {
   "cell_type": "code",
   "execution_count": 9,
   "metadata": {},
   "outputs": [
    {
     "data": {
      "text/plain": [
       "'(<T_S[dcl]_0_2>(<T_NP_0_2>(<L_NP[nb]/N_POS_DT_POS_the_NP[nb]/N>)(<L_N_POS_NN_POS_hotel_N>) )(<T_S[dcl]\\\\NP_0_2>(<L_{S[dcl]\\\\NP}/NP_POS_VBD_POS_had_{S[dcl]\\\\NP}/NP>)(<T_NP_0_2>(<L_NP[nb]/N_POS_DT_POS_an_NP[nb]/N>)(<T_N_0_2>(<L_N/N_POS_JJ_POS_exceptional_N/N>)(<L_N_POS_NN_POS_service_N>) ) ) ) )'"
      ]
     },
     "execution_count": 9,
     "metadata": {},
     "output_type": "execute_result"
    }
   ],
   "source": [
    "hasil"
   ]
  },
  {
   "cell_type": "code",
   "execution_count": 10,
   "metadata": {},
   "outputs": [
    {
     "data": {
      "text/plain": [
       "'(<T S[dcl] 0 2> (<T NP 0 2> (<L NP[nb]/N POS DT POS the NP[nb]/N>) (<L N POS NN POS hotel N>) ) (<T S[dcl]\\\\NP 0 2> (<L (S[dcl]\\\\NP)/NP POS VBD POS had (S[dcl]\\\\NP)/NP>) (<T NP 0 2> (<L NP[nb]/N POS DT POS an NP[nb]/N>) (<T N 0 2> (<L N/N POS JJ POS exceptional N/N>) (<L N POS NN POS service N>) ) ) ) )'"
      ]
     },
     "execution_count": 10,
     "metadata": {},
     "output_type": "execute_result"
    }
   ],
   "source": [
    "pos_tagged"
   ]
  },
  {
   "cell_type": "code",
   "execution_count": 11,
   "metadata": {},
   "outputs": [
    {
     "data": {
      "image/png": "[encoded data removed]",
      "text/plain": [
       "Tree('<T_S[dcl]_0_2>', [Tree('<T_NP_0_2>', [Tree('<L_NP[nb]/N_POS_DT_POS_the_NP[nb]/N>', []), Tree('<L_N_POS_NN_POS_hotel_N>', [])]), Tree('<T_S[dcl]\\\\NP_0_2>', [Tree('<L_{S[dcl]\\\\NP}/NP_POS_VBD_POS_had_{S[dcl]\\\\NP}/NP>', []), Tree('<T_NP_0_2>', [Tree('<L_NP[nb]/N_POS_DT_POS_an_NP[nb]/N>', []), Tree('<T_N_0_2>', [Tree('<L_N/N_POS_JJ_POS_exceptional_N/N>', []), Tree('<L_N_POS_NN_POS_service_N>', [])])])])])"
      ]
     },
     "execution_count": 11,
     "metadata": {},
     "output_type": "execute_result"
    }
   ],
   "source": [
    "tree"
   ]
  },
  {
   "cell_type": "code",
   "execution_count": 20,
   "metadata": {},
   "outputs": [],
   "source": [
    "def glue_process(sent):\n",
    "    url = \"http://localhost:5000/ccgParsing\"\n",
    "    data = {\"sent\": sent}\n",
    "    r = requests.post(url, data=data)\n",
    "\n",
    "    res = r.json()\n",
    "    \n",
    "    from_res = res['tree']\n",
    "    pos_tagged = insert_pos_tag(from_res, pos_tag(data['sent']))\n",
    "\n",
    "    hasil = parser(pos_tagged)\n",
    "\n",
    "    tree = Tree.fromstring(hasil)\n",
    "    return lambda_calculus(tree)\n",
    "\n"
   ]
  },
  {
   "cell_type": "code",
   "execution_count": 21,
   "metadata": {},
   "outputs": [
    {
     "data": {
      "text/plain": [
       "<ApplicationExpression month(\\Y.bought(canon(g3),Y),\\X.X)>"
      ]
     },
     "execution_count": 21,
     "metadata": {},
     "output_type": "execute_result"
    }
   ],
   "source": [
    "glue_process('I bought my canon g3 about a month ago and i have to say i am very satisfied')"
   ]
  },
  {
   "cell_type": "code",
   "execution_count": null,
   "metadata": {},
   "outputs": [],
   "source": []
  }
 ],
 "metadata": {
  "kernelspec": {
   "display_name": "Python 3",
   "language": "python",
   "name": "python3"
  },
  "language_info": {
   "codemirror_mode": {
    "name": "ipython",
    "version": 3
   },
   "file_extension": ".py",
   "mimetype": "text/x-python",
   "name": "python",
   "nbconvert_exporter": "python",
   "pygments_lexer": "ipython3",
   "version": "3.7.2"
  }
 },
 "nbformat": 4,
 "nbformat_minor": 2
}
