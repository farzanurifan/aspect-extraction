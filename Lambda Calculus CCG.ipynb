{
 "cells": [
  {
   "cell_type": "code",
   "execution_count": 1,
   "metadata": {},
   "outputs": [],
   "source": [
    "import re\n",
    "from nltk import Tree\n",
    "\n",
    "def parser(expression):\n",
    "    old = expression.replace(' ', '_').replace('>_(', '> (').replace(')_(', ') (').replace(')_)', ') )').replace(')_)', ') )').replace(' (', '(')\n",
    "    new = ''\n",
    "    flag = False\n",
    "    for x in range(0, len(old) - 1):        \n",
    "        if old[x] == '<':\n",
    "            flag = True\n",
    "        if old[x] == '>':\n",
    "            flag = False\n",
    "            \n",
    "        if flag == True:\n",
    "            if old[x] == '(':\n",
    "                new += '{'\n",
    "            elif old[x] == ')':\n",
    "                new += '}'\n",
    "            else:\n",
    "                new += old[x]\n",
    "        else:\n",
    "            new += old[x]\n",
    "    new += old[len(old)-1]\n",
    "    return new"
   ]
  },
  {
   "cell_type": "code",
   "execution_count": 2,
   "metadata": {},
   "outputs": [],
   "source": [
    "from pycorenlp import StanfordCoreNLP\n",
    "import json\n",
    "\n",
    "nlp = StanfordCoreNLP('http://localhost:9000')\n",
    "dependency_parser = nlp.annotate\n",
    "\n",
    "def pos_tag(sentence):\n",
    "    result = dependency_parser(sentence, properties={\"outputFormat\": \"json\", \"annotators\": \"pos\"})['sentences'][0]['tokens']\n",
    "    res = []\n",
    "    for pos in result:\n",
    "        res.append(pos['pos'])\n",
    "    return res"
   ]
  },
  {
   "cell_type": "code",
   "execution_count": 3,
   "metadata": {},
   "outputs": [],
   "source": [
    "def insert_pos_tag(exp, pos):\n",
    "    count = 0\n",
    "    res = ''\n",
    "    for x in range(0, len(exp)):\n",
    "        if exp[x] == 'S' and exp[x+1]==' ' and exp[x+2] == 'P':\n",
    "            res += 'S '\n",
    "            res += pos[count]\n",
    "            count += 1\n",
    "            x += 4\n",
    "        else:\n",
    "            res += exp[x]\n",
    "    return res"
   ]
  },
  {
   "cell_type": "code",
   "execution_count": 4,
   "metadata": {},
   "outputs": [],
   "source": [
    "def direction(exp):\n",
    "    cont = False\n",
    "    for x in exp:\n",
    "        if x == '{':\n",
    "            cont = True\n",
    "        elif x == '}':\n",
    "            cont = False\n",
    "            continue\n",
    "        if cont == True:\n",
    "            continue\n",
    "        if x == '/':\n",
    "            return '/'\n",
    "        elif x == '\\\\':\n",
    "            return '\\\\'\n",
    "    return False"
   ]
  },
  {
   "cell_type": "code",
   "execution_count": 5,
   "metadata": {},
   "outputs": [],
   "source": [
    "def is_type_raising(tree):\n",
    "    tree_string = str(tree)\n",
    "    \n",
    "    # check type raising\n",
    "    exp = tree_string.split('_')[1]\n",
    "    pattern_1 = r'(.*?)\\\\(.*?){(.*?)/(.*?)}'\n",
    "    pattern_2 = r'(.*?)/(.*?){(.*?)\\\\(.*?)}'\n",
    "    \n",
    "    match = False\n",
    "    if re.search(pattern_1, exp):\n",
    "        match = True\n",
    "    elif re.search(pattern_2, exp):\n",
    "        match = True\n",
    "        \n",
    "    sub = []\n",
    "    for subtree in tree:\n",
    "        sub.append(subtree)\n",
    "    if len(sub) == 1 and match:\n",
    "        return True\n",
    "    else:\n",
    "        return False"
   ]
  },
  {
   "cell_type": "code",
   "execution_count": 6,
   "metadata": {},
   "outputs": [],
   "source": [
    "def score(tree):\n",
    "    tree_string = str(tree)\n",
    "#     print(tree_string)\n",
    "    if tree_string[2] == 'L':\n",
    "        pos = tree_string.split('_')[3]\n",
    "        word = tree_string.split('_')[5]\n",
    "        \n",
    "        #                        #\n",
    "        # masukin rulenya disini #\n",
    "        #                        #\n",
    "        if 'JJ' in pos:\n",
    "            return '10_'\n",
    "    else:\n",
    "        return False"
   ]
  },
  {
   "cell_type": "code",
   "execution_count": 7,
   "metadata": {},
   "outputs": [],
   "source": [
    "import nltk\n",
    "from nltk.sem.logic import *\n",
    "\n",
    "read_expr = nltk.sem.Expression.fromstring\n",
    "\n",
    "def lambda_calculus(tree):\n",
    "    tree_string = str(tree)\n",
    "    \n",
    "    if tree_string[2] == 'L':\n",
    "        pos = tree_string.split('_')[3]\n",
    "        word = tree_string.split('_')[5]\n",
    "        \n",
    "        #                        #\n",
    "        # masukin rulenya disini #\n",
    "        #                        #\n",
    "        r_word = ['PRP', 'FW', 'NN']\n",
    "        if pos in r_word:\n",
    "            return read_expr(r'(' + word + ')')\n",
    "#         elif 'JJ' in pos:\n",
    "#             return read_expr(r'(10)')\n",
    "        elif 'VB' in pos:\n",
    "            if '{S[dcl]\\\\NP}/{S[adj]\\\\NP}' in tree_string.split('_')[1]:\n",
    "                return read_expr(r'\\X.(X)')\n",
    "            else:\n",
    "                return read_expr(r'\\X.' + word + '(X)')\n",
    "        else:\n",
    "            return read_expr(r'\\X.(X)')\n",
    "    \n",
    "    # ini cuma masukin ke array \n",
    "    chunk = []\n",
    "    sub = []\n",
    "    for subtree in tree:\n",
    "        if type(subtree) == nltk.tree.Tree:\n",
    "            sub.append(subtree)\n",
    "            \n",
    "            # chunk temp array\n",
    "            subtree_str_array = str(subtree).split('_')\n",
    "            if subtree_str_array[0][2] == 'L':\n",
    "                if subtree_str_array[3] == 'NN':\n",
    "                    chunk.append(subtree_str_array[5])\n",
    "    \n",
    "    \n",
    "    # chunk noun phrase\n",
    "    if len(chunk) == 2:\n",
    "        chunk_str = '_'.join(chunk)\n",
    "        return read_expr(r'(' + chunk_str + ')')\n",
    "    \n",
    "    # error anak 1\n",
    "    if len(sub) == 1:            \n",
    "        return lambda_calculus(sub[0])\n",
    "                        \n",
    "    # urutan operasi lambda calculusnya    \n",
    "    first = sub[0]\n",
    "    second = sub[1]\n",
    "    \n",
    "    if is_type_raising(first):\n",
    "        if direction(str(first).split('_')[1]) == '/':\n",
    "            x = read_expr(r'\\F x.F(x, ' + str(lambda_calculus(first)) + ')')\n",
    "            y = lambda_calculus(second)\n",
    "            return ApplicationExpression(x, y).simplify()\n",
    "    \n",
    "    if is_type_raising(second):\n",
    "        if direction(str(second).split('_')[1]) == '/':\n",
    "            x = lambda_calculus(first)\n",
    "            y = read_expr(r'\\F x.F(x, ' + str(lambda_calculus(second)) + ')')\n",
    "            return ApplicationExpression(x, y).simplify()\n",
    "        \n",
    "    if score(second):\n",
    "        x = str(lambda_calculus(first))\n",
    "        if x == '\\X.X':\n",
    "            return read_expr(r'\\X.' + score(second) + '(X)')\n",
    "        new = ''\n",
    "        for a in x:\n",
    "            new += a\n",
    "            if a == '.':\n",
    "                new += score(second)\n",
    "        return read_expr(r'' + new)\n",
    "        \n",
    "        \n",
    "    length_1 = len(str(sub[0]).split('_')[1].replace('\\\\', '/').split('/'))\n",
    "    length_2 = len(str(sub[1]).split('_')[1].replace('\\\\', '/').split('/'))\n",
    "    if length_2 > length_1:\n",
    "        first = sub[1]\n",
    "        second = sub[0]\n",
    "            \n",
    "    \n",
    "    # rekursi\n",
    "    return ApplicationExpression(lambda_calculus(first), lambda_calculus(second)).simplify()"
   ]
  },
  {
   "cell_type": "code",
   "execution_count": 8,
   "metadata": {},
   "outputs": [],
   "source": [
    "from_res = '(<T S[dcl] 0 2> (<T NP 0 2> (<L NP[nb]/N POS POS the NP[nb]/N>) (<L N POS POS hotel N>) ) (<T S[dcl]\\\\NP 0 2> (<L (S[dcl]\\\\NP)/NP POS POS had (S[dcl]\\\\NP)/NP>) (<T NP 0 2> (<L NP[nb]/N POS POS an NP[nb]/N>) (<T N 0 2> (<L N/N POS POS exceptional N/N>) (<L N POS POS service N>) ) ) ) )'\n",
    "pos_tagged = insert_pos_tag(from_res, pos_tag('the hotel had a exceptional service'))\n",
    "\n",
    "hasil = parser(pos_tagged)\n",
    "\n",
    "from nltk import Tree\n",
    "tree = Tree.fromstring(hasil)\n",
    "# t.pretty_print()"
   ]
  },
  {
   "cell_type": "code",
   "execution_count": 9,
   "metadata": {},
   "outputs": [
    {
     "data": {
      "text/plain": [
       "<ApplicationExpression had(service,hotel)>"
      ]
     },
     "execution_count": 9,
     "metadata": {},
     "output_type": "execute_result"
    }
   ],
   "source": [
    "lambda_calculus(tree)"
   ]
  },
  {
   "cell_type": "code",
   "execution_count": 10,
   "metadata": {},
   "outputs": [],
   "source": [
    "# hasil"
   ]
  },
  {
   "cell_type": "code",
   "execution_count": 11,
   "metadata": {},
   "outputs": [],
   "source": [
    "# pos_tagged"
   ]
  },
  {
   "cell_type": "code",
   "execution_count": 12,
   "metadata": {},
   "outputs": [],
   "source": [
    "# print(str(tree).replace('_', ' '))"
   ]
  },
  {
   "cell_type": "code",
   "execution_count": 13,
   "metadata": {},
   "outputs": [],
   "source": [
    "import requests\n",
    "\n",
    "def glue_process(sent):\n",
    "    url = \"http://localhost:5000/ccgParsing\"\n",
    "    data = {\"sent\": sent}\n",
    "    r = requests.post(url, data=data)\n",
    "\n",
    "    res = r.json()\n",
    "    \n",
    "    from_res = res['tree']\n",
    "    pos_tagged = insert_pos_tag(from_res, pos_tag(data['sent']))\n",
    "\n",
    "    hasil = parser(pos_tagged)\n",
    "\n",
    "    tree = Tree.fromstring(hasil)\n",
    "#     print(str(tree).replace('_', ' '))\n",
    "    return lambda_calculus(tree)"
   ]
  },
  {
   "cell_type": "code",
   "execution_count": 14,
   "metadata": {
    "scrolled": false
   },
   "outputs": [
    {
     "data": {
      "text/plain": [
       "<ApplicationExpression have(say(10_(i)),i,month(bought(canon_g3),I))>"
      ]
     },
     "execution_count": 14,
     "metadata": {},
     "output_type": "execute_result"
    }
   ],
   "source": [
    "glue_process('I bought my canon g3 about a month ago and i have to say i am very satisfied')\n",
    "# glue_process('the hotel had an exceptional service')"
   ]
  },
  {
   "cell_type": "code",
   "execution_count": 15,
   "metadata": {},
   "outputs": [
    {
     "data": {
      "text/plain": [
       "<ApplicationExpression 10_(10_served(breakfast,restaurant))>"
      ]
     },
     "execution_count": 15,
     "metadata": {},
     "output_type": "execute_result"
    }
   ],
   "source": [
    "glue_process('the breakfast that the restaurant served daily was excellent')"
   ]
  },
  {
   "cell_type": "code",
   "execution_count": 16,
   "metadata": {},
   "outputs": [],
   "source": [
    "#have(say(satisfied_10_(i)),i) & bought(canon_g3,I)"
   ]
  },
  {
   "cell_type": "code",
   "execution_count": 17,
   "metadata": {},
   "outputs": [
    {
     "data": {
      "text/plain": [
       "<ApplicationExpression love(has(\\X.X,it),\\X.X,received(camera),\\X.X,\\X.X)>"
      ]
     },
     "execution_count": 17,
     "metadata": {},
     "output_type": "execute_result"
    }
   ],
   "source": [
    "glue_process('just received this camera two days ago and already love the features it has . ')"
   ]
  },
  {
   "cell_type": "code",
   "execution_count": 18,
   "metadata": {},
   "outputs": [
    {
     "data": {
      "text/plain": [
       "<ApplicationExpression 10_(10_(10_served(breakfast,restaurant)))>"
      ]
     },
     "execution_count": 18,
     "metadata": {},
     "output_type": "execute_result"
    }
   ],
   "source": [
    "a = read_expr(r'(10_(10_served(breakfast,restaurant)))')\n",
    "b = read_expr(r'\\X.10_(X)')\n",
    "ApplicationExpression(b, a).simplify()"
   ]
  },
  {
   "cell_type": "code",
   "execution_count": 19,
   "metadata": {},
   "outputs": [
    {
     "data": {
      "text/plain": [
       "<LambdaExpression \\X.10X>"
      ]
     },
     "execution_count": 19,
     "metadata": {},
     "output_type": "execute_result"
    }
   ],
   "source": [
    "x = read_expr(r'\\X.10X')\n",
    "restaurant = read_expr(r'restaurant')\n",
    "\n",
    "second = read_expr(r'\\X.serve(X)')\n",
    "third = second(x, restaurant).simplify()\n",
    "z = read_expr(r'X')\n",
    "x"
   ]
  },
  {
   "cell_type": "code",
   "execution_count": 20,
   "metadata": {},
   "outputs": [
    {
     "data": {
      "text/plain": [
       "<ApplicationExpression 10(breakfast)>"
      ]
     },
     "execution_count": 20,
     "metadata": {},
     "output_type": "execute_result"
    }
   ],
   "source": [
    "y = read_expr(r'\\X.10(X)')\n",
    "x = read_expr(r'breakfast')\n",
    "ApplicationExpression(y,x).simplify()"
   ]
  },
  {
   "cell_type": "code",
   "execution_count": 21,
   "metadata": {
    "scrolled": true
   },
   "outputs": [
    {
     "name": "stdout",
     "output_type": "stream",
     "text": [
      "\\F x.F(x,res)\n",
      "\\x y.10serve(x,y)\n",
      "\\x.10serve(x,res)\n"
     ]
    },
    {
     "data": {
      "text/plain": [
       "<ApplicationExpression 10serve(breakfast,res)>"
      ]
     },
     "execution_count": 21,
     "metadata": {},
     "output_type": "execute_result"
    }
   ],
   "source": [
    "zero = read_expr(r'\\F x.F(x, ' + 'res' + ')')\n",
    "\n",
    "one = read_expr(r'\\x.\\y.10serve(x, y)')\n",
    "third = zero(one).simplify()\n",
    "print(zero)\n",
    "print(one)\n",
    "print(third)\n",
    "ApplicationExpression(third, read_expr(r'breakfast')).simplify()"
   ]
  },
  {
   "cell_type": "code",
   "execution_count": 22,
   "metadata": {},
   "outputs": [],
   "source": [
    "import pandas as pd\n",
    "# input file\n",
    "df = pd.read_csv(\"dataset.csv\")\n",
    "# preprocess\n",
    "semkal = df['review']\n",
    "labels = df[\"target\"]"
   ]
  },
  {
   "cell_type": "code",
   "execution_count": 23,
   "metadata": {},
   "outputs": [
    {
     "name": "stdout",
     "output_type": "stream",
     "text": [
      "satisfied(purchase,\\X.X,purchased(canon(powershot_g3)),\\X.X,\\X.X) 1\n",
      "week(\\x.was(asked(take(vacationing(group,picture))),x,i),trip,fact,use(\\X.X),camera,\\X.X) 1\n",
      "camera(took(picture),i,offered(take(us(picture)),they),\\X.X) 0\n",
      "told(them,wait(box(press(\\X.X,\\X.10_turn(X),way(rest))),\\X.X,press(\\X.X)),\\X.X,\\X.X) 0\n",
      "recommended(picture_quality(canon),\\X.X,owned(g2),work(\\X.X,\\X.10_(X)),\\X.X) 1\n",
      "camera(\\X.X,use(include(use(lense(\\X.X,flash),ability),10_(\\X.10_(X),\\X.X,\\X.X))),\\X.X,line,\\X.X) 1\n",
      "is(looking(get(like(you,\\X.adjust(X),\\X.X,\\X.advanced(X)),flexibility,use(ease,combination,quality(\\X.X)))),anyone,recommend(camera),\\X.X,\\X.X) 1\n",
      "job_canon(\\X.X) 0\n",
      "yep(\\X.X) 0\n",
      "is(is(toy(\\X.X),it,\\X.X,camera),\\X.X,\\X.X) 1\n",
      "say(\\X.X,g3(it(\\X.spent(X),cent,i)),i,\\X.X,buying(camera,spend(\\X.X),i,buy(everything,i,\\X.X,\\X.X,am(software_engineer),\\X.X)),\\X.X) 0\n",
      "gives(\\X.X,brilliance(touch),alsmost(\\X.X,\\X.X,control),is(megapixel(camera,canon(powershot_series,flagship)),powershot_g3(overview)),\\X.X) 1\n",
      "are(expert(novice),you,goes(functionality(use,ease)),\\X.X) 1\n",
      "record(video(\\X.X),you,\\X.X,10_(need(storage,store(recording(\\X.X,quality(\\X.X))),you)),\\X.X) 0\n",
      "am(using(10_(kingston(512mb_cf))),i,\\X.X) 0\n",
      "be(store(gb,\\X.X,type(\\X.X)),choice,\\X.X) 0\n",
      "10_(dial,\\X.X) 1\n",
      "viewfinder(\\X.X,lens,\\X.X) 1\n",
      "twist(you,use(10_(lcd),viewfinder(\\X.X,\\X.X,\\X.thats(X))),\\X.X) 0\n",
      "did(comparing(megapixel(\\X.X,\\X.X),research),\\X.X,\\X.X) 0\n",
      "provided(resolution(sample(\\X.X),number),compare(\\X.X),\\X.X,\\X.X,provided(made(camera,\\X.X),they,10_(\\X.X)),camera(review(\\X.X),couple),\\X.X) 0\n",
      "following(research,decided(g3,i),\\X.X) 0\n",
      "word(is(describe(camera,i),\\X.X),\\X.X) 1\n",
      "have(\\X.X,taken(picture),i,\\X.X) 1\n",
      "put(quality,g3,canon,am(camera(awe),i),\\X.X) 1\n",
      "do(\\X.X,have(budget,you,buy(\\X.X,\\X.run(X),camera,\\X.X,\\X.walk(X))),guarantee(be(\\X.disappointed(X),you),i),\\X.X) 0\n",
      "have(say(10_(i)),i,month(bought(canon_g3),\\X.X),\\X.X) 1\n",
      "continue(be(quality(\\X.amazed(X))),i,have(taken(it(\\X.X,\\X.X)),\\X.X),\\X.X) 1\n",
      "10_is(using(shutter(\\X.X),\\X.10_hold(X)),it,\\X.X,is(loaded(\\X.X),g3),\\X.X) 1\n",
      "\\X.X 0\n",
      "time(\\X.X,use(lcd),i,is(me(\\X.bother(X),\\X.X),\\X.X),\\X.X,is(set(angle),lens,viewfinder(\\X.10_(X)),lens),\\X.X) 1\n",
      "disappointment(recommend(photography(canon(g3_anyone)),i),\\X.X) 1\n",
      "have(say(10_(it)),i,have(\\X.X,day(had(camera)),\\X.X),\\X.X) 1\n",
      "know('m(going(have(fun)),i),i,10_(quality),\\X.X) 1\n",
      "know(\\X.X,i,\\X.X,'ve(have(used(\\X.X),i,\\X.X,figured(10_(\\X.X,\\X.X))),i,\\X.X),\\X.X) 0\n",
      "does(\\X.X,stop(me,loving(camera)),\\X.X,\\X.X,'ve(been(having(paying(attention,top(display_panel),trouble))),i,'m(time(concentrate(screen),\\X.X,\\X.X),\\X.X)),\\X.X) 0\n",
      "learn(\\X.X,i,post(10_(review),i),am(going(camera(have(10_(fun)))),i),\\X.X) 0\n",
      "\\X.X 0\n",
      "metering(\\X.X,range,\\X.X) 1\n",
      "10_'s(switch(see(it,working(lcd_screen),\\X.X,spot(metering))),it,\\X.X) 1\n",
      "has(shooting(focus(scene),be(\\X.10_(X)),manual(focus_mode)),it,\\X.X,button(push,scene(move(focus_range)),you),\\X.X) 1\n",
      "\\X.X 0\n",
      "has(set,camera,\\X.X) 1\n",
      "direction(\\X.rotates(X),\\X.X,\\X.pulls(X),lcd_screen,\\X.X) 1\n",
      "looking(lcd,take(yourself(picture)),you,\\X.X) 0\n",
      "10_10_(zoom(\\X.X),is(10_(addition)),14x(zoom),10_(zoom),\\X.X) 1\n",
      "10_(zoom(\\X.X),\\X.X) 1\n",
      "have(\\X.X,\\X.X,seen(10_(i,etc(fringing,\\X.X,\\X.X),\\X.X,\\X.X)),\\X.X,\\X.X) 1\n",
      "10_(\\X.use(X),\\X.X,\\X.10_(X),used(manage(\\X.X,upload,\\X.X,sort,\\X.X,\\X.download(X),computer(\\X.X)),canon(computer_software)),\\X.X) 1\n",
      "are(lcd(\\X.X,viewfinder(obstructs(view)),it,\\X.X,itself(lens),come(\\X.X,\\X.10_(X),it,\\X.X,lens_cap)),camera(\\X.have(X),\\X.X,i),\\X.X) 1\n",
      "use(\\X.X,navigate(\\X.X),\\X.X) 1\n",
      "is(price(\\X.X,camera),it,\\X.X) 1\n",
      "have(made(g3,10_(bargain)),price(\\X.X),\\X.X) 1\n",
      "find(10_(10_(control)),\\X.X,\\X.X) 1\n",
      "find(give(them,box(\\X.X),auto_setting),\\X.X,\\X.X) 1\n",
      "10_(quality,anybody(\\X.X),\\X.X) 1\n",
      "do(\\X.X,get(megapixel(marketing_hype,\\X.fooled(X))),\\X.X) 0\n",
      "want(print(\\X.X),you,do(\\X.X,need(it),you),\\X.X) 0\n",
      "make(price_difference(step),looking(shoot(\\X.X,point),anyone),\\X.X) 0\n",
      "put(it,'s(class,it,top),lense(zoom_range),\\X.X) 1\n",
      "expect(come(\\X.X,please(me),g3),\\X.X,\\X.X) 0\n",
      "price(looking(camera),buyer,powershot_g3(\\X.recommend(X)),is(camera,\\X.X,\\X.X),\\X.X,period,\\X.X) 1\n",
      "it(casing,\\X.10_(X),it,10_(software),charge(\\X.lasts(X),battery),use(\\X.X),gives(\\X.X,it),\\X.X) 1\n",
      "am(amazed(have(using(auto_mode,\\X.took(X)),quality,i)),\\X.X,began(got(camera,i,\\X.X,taking(\\X.X))),\\X.X,\\X.X) 1\n",
      "10_(\\X.X) 0\n",
      "gives(you,canon_g3(battery_life(type)),camera,was(battery_life,sold(me,g3,\\X.X,\\X.X)),\\X.X,is(10_(canon,\\X.10_(X),bit),olympus),\\X.X) 0\n",
      "10_(\\X.X,mb,recommend(card,\\X.X),\\X.X,\\X.X) 0\n",
      "canon(\\X.10_(X),it,simpletech(bought(mb_card),\\X.X),\\X.X) 0\n",
      "you(works(you(\\X.X),camera,\\X.say(X)),\\X.X) 0\n",
      "wanted(compare(\\x.use(x,i),camera),\\X.X,\\X.X,work(make(\\X.X)),\\X.X,\\X.X) 0\n",
      "time(wanted(wife,be(\\X.intimidated(X)),i),\\X.X) 0\n",
      "handed(it,wife,\\X.X,\\X.X,charged(battery),\\X.X,inserted(cf_card),\\X.X,recieved(camera),\\X.X,\\X.X) 0\n",
      "loves(it,she,\\X.X,is(lens(zoom_lever),showed(\\X.X,turn(it),\\X.X),\\X.X),\\X.X) 0\n",
      "is(\\x.get(x,you),\\x.lcd(\\X.see(X),x,you),\\X.X,has(canon(colorimetry),camera),\\X.X) 1\n",
      "10_(\\X.X,\\X.X) 1\n",
      "expected(i,\\X.X,output,color(is(\\x.get(x,you),\\X.X),\\x.finder(\\X.X,lcd,\\X.see(X),x,you),\\X.X,disappointed(company(battery_life),\\X.X,\\X.X,tried(\\X.X),\\X.X)),\\X.X) 0\n",
      "10_(canon(\\X.X),want(power(\\X.X),you,amazon(find(knockoff(charger)),you),\\X.X,camera(\\X.recharge(X),\\X.X,10_(time,\\X.last(X)),they)),\\X.X) 1\n",
      "is(you(camera),\\X.X,\\X.X) 1\n",
      "has(makes(it,\\X.10_(X),novice(\\X.use(X)),auto(mode)),\\X.X,gives(photo(\\X.X,control,\\X.X)),canon_g3,\\X.X) 1\n"
     ]
    }
   ],
   "source": [
    "for x in range(0, 100):\n",
    "    try:\n",
    "        print(glue_process(semkal[x]), labels[x])\n",
    "    except:\n",
    "        continue"
   ]
  },
  {
   "cell_type": "code",
   "execution_count": null,
   "metadata": {},
   "outputs": [],
   "source": []
  },
  {
   "cell_type": "code",
   "execution_count": null,
   "metadata": {},
   "outputs": [],
   "source": []
  }
 ],
 "metadata": {
  "kernelspec": {
   "display_name": "Python 3",
   "language": "python",
   "name": "python3"
  },
  "language_info": {
   "codemirror_mode": {
    "name": "ipython",
    "version": 3
   },
   "file_extension": ".py",
   "mimetype": "text/x-python",
   "name": "python",
   "nbconvert_exporter": "python",
   "pygments_lexer": "ipython3",
   "version": "3.7.2"
  }
 },
 "nbformat": 4,
 "nbformat_minor": 2
}
