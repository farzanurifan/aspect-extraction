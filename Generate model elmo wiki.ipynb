{
 "cells": [
  {
   "cell_type": "code",
   "execution_count": 11,
   "metadata": {},
   "outputs": [],
   "source": [
    "import pickle\n",
    "def load_data(id_file):\n",
    "    pickle_in = open(\"wiki/pickle/\"+ str(id_file).replace(':','_') +\".pickle\", \"rb\")\n",
    "    return pickle.load(pickle_in)[0]"
   ]
  },
  {
   "cell_type": "code",
   "execution_count": 12,
   "metadata": {},
   "outputs": [],
   "source": [
    "def load_term(id_file):\n",
    "    pickle_in = open(\"Term/\"+ str(id_file) +\".pickle\", \"rb\")\n",
    "    return pickle.load(pickle_in)"
   ]
  },
  {
   "cell_type": "code",
   "execution_count": 13,
   "metadata": {},
   "outputs": [],
   "source": [
    "def save(name, model):\n",
    "    pickle_out = open(\"elmo_category/\" + name + \".pickle\",\"wb\")\n",
    "    pickle.dump(model, pickle_out)\n",
    "    pickle_out.close()"
   ]
  },
  {
   "cell_type": "code",
   "execution_count": 14,
   "metadata": {},
   "outputs": [],
   "source": [
    "import pandas as pd\n",
    "import numpy as np\n",
    "\n",
    "def get_keyword_vector(daftar, keyword):\n",
    "    res = []\n",
    "    for judul in daftar:\n",
    "        df = pd.read_csv('wiki/source/'+ judul +'-sentence.txt', sep=\"\\n\", header=None)\n",
    "        for index in range(0, len(df)):\n",
    "            sentence = df[0][index].replace('  ', ' ').strip()\n",
    "            if keyword in sentence:\n",
    "                vektor = load_data(judul + '_' + str(index))\n",
    "                tokenized = sentence.split(' ')\n",
    "                i = 0\n",
    "                for token in tokenized:\n",
    "                    if keyword in token:\n",
    "                        res.append(vektor[i])\n",
    "                    i += 1\n",
    "    if len(res) != 0:\n",
    "        return np.mean(res, 0)\n",
    "    else:\n",
    "        return []"
   ]
  },
  {
   "cell_type": "code",
   "execution_count": 15,
   "metadata": {},
   "outputs": [],
   "source": [
    "def get_model(category, daftar):\n",
    "    model = []\n",
    "    terms = load_term(category)\n",
    "    print(terms)\n",
    "    for term in terms:\n",
    "        key = get_keyword_vector(daftar, term)\n",
    "        if len(key) != 0:\n",
    "            model.append(key)\n",
    "    return model"
   ]
  },
  {
   "cell_type": "code",
   "execution_count": 17,
   "metadata": {},
   "outputs": [],
   "source": [
    "def load_daftar(name):\n",
    "    pickle_in = open(\"Term/daftar_\" + name + \".pickle\", \"rb\")\n",
    "    return pickle.load(pickle_in)"
   ]
  },
  {
   "cell_type": "code",
   "execution_count": 18,
   "metadata": {},
   "outputs": [
    {
     "name": "stdout",
     "output_type": "stream",
     "text": [
      "['restaurant', 'atmosphere', 'theme', 'space', 'architecture', 'sound', 'location', 'light', 'chain', 'located']\n"
     ]
    }
   ],
   "source": [
    "category = 'ambience'\n",
    "save(category, get_model(category, load_daftar('ambience')))"
   ]
  },
  {
   "cell_type": "code",
   "execution_count": 19,
   "metadata": {},
   "outputs": [
    {
     "name": "stdout",
     "output_type": "stream",
     "text": [
      "['food', 'drink', 'diet', 'fruit', 'meal', 'health', 'juice', 'breakfast', 'vegetable', 'culture']\n"
     ]
    }
   ],
   "source": [
    "category = 'food'\n",
    "save(category, get_model(category, load_daftar('food')))"
   ]
  },
  {
   "cell_type": "code",
   "execution_count": 20,
   "metadata": {},
   "outputs": [
    {
     "name": "stdout",
     "output_type": "stream",
     "text": [
      "['customer', 'service', 'server', 'waiting', 'restaurant', 'staff', 'food', 'feedback', 'table', 'serving']\n"
     ]
    }
   ],
   "source": [
    "category = 'service'\n",
    "save(category, get_model(category, load_daftar('service')))"
   ]
  },
  {
   "cell_type": "code",
   "execution_count": 21,
   "metadata": {},
   "outputs": [
    {
     "name": "stdout",
     "output_type": "stream",
     "text": [
      "['price', 'pricing', 'product', 'service', 'premium', 'market', 'buyer', 'consumer', 'cost', 'value']\n"
     ]
    }
   ],
   "source": [
    "category = 'price'\n",
    "save(category, get_model(category, load_daftar('price')))"
   ]
  },
  {
   "cell_type": "code",
   "execution_count": null,
   "metadata": {},
   "outputs": [],
   "source": []
  },
  {
   "cell_type": "code",
   "execution_count": null,
   "metadata": {},
   "outputs": [],
   "source": []
  }
 ],
 "metadata": {
  "kernelspec": {
   "display_name": "Python 3",
   "language": "python",
   "name": "python3"
  },
  "language_info": {
   "codemirror_mode": {
    "name": "ipython",
    "version": 3
   },
   "file_extension": ".py",
   "mimetype": "text/x-python",
   "name": "python",
   "nbconvert_exporter": "python",
   "pygments_lexer": "ipython3",
   "version": "3.6.4"
  }
 },
 "nbformat": 4,
 "nbformat_minor": 2
}
