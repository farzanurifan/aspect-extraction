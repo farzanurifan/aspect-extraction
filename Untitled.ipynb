{
 "cells": [
  {
   "cell_type": "code",
   "execution_count": 1,
   "metadata": {},
   "outputs": [],
   "source": [
    "import pandas as pd"
   ]
  },
  {
   "cell_type": "code",
   "execution_count": 4,
   "metadata": {},
   "outputs": [
    {
     "data": {
      "text/html": [
       "<div>\n",
       "<style scoped>\n",
       "    .dataframe tbody tr th:only-of-type {\n",
       "        vertical-align: middle;\n",
       "    }\n",
       "\n",
       "    .dataframe tbody tr th {\n",
       "        vertical-align: top;\n",
       "    }\n",
       "\n",
       "    .dataframe thead th {\n",
       "        text-align: right;\n",
       "    }\n",
       "</style>\n",
       "<table border=\"1\" class=\"dataframe\">\n",
       "  <thead>\n",
       "    <tr style=\"text-align: right;\">\n",
       "      <th></th>\n",
       "      <th>reviewID</th>\n",
       "      <th>sentenceID</th>\n",
       "      <th>review</th>\n",
       "      <th>category</th>\n",
       "      <th>polarity</th>\n",
       "    </tr>\n",
       "  </thead>\n",
       "  <tbody>\n",
       "    <tr>\n",
       "      <th>0</th>\n",
       "      <td>79</td>\n",
       "      <td>79:1</td>\n",
       "      <td>This computer is absolutely AMAZING!!!</td>\n",
       "      <td>LAPTOP#GENERAL</td>\n",
       "      <td>positive</td>\n",
       "    </tr>\n",
       "    <tr>\n",
       "      <th>1</th>\n",
       "      <td>79</td>\n",
       "      <td>79:2</td>\n",
       "      <td>10 plus hours of battery...</td>\n",
       "      <td>BATTERY#OPERATION_PERFORMANCE</td>\n",
       "      <td>positive</td>\n",
       "    </tr>\n",
       "    <tr>\n",
       "      <th>2</th>\n",
       "      <td>79</td>\n",
       "      <td>79:3</td>\n",
       "      <td>super fast processor and really nice graphics ...</td>\n",
       "      <td>CPU#OPERATION_PERFORMANCE,GRAPHICS#GENERAL</td>\n",
       "      <td>positive,positive</td>\n",
       "    </tr>\n",
       "    <tr>\n",
       "      <th>3</th>\n",
       "      <td>79</td>\n",
       "      <td>79:4</td>\n",
       "      <td>and plenty of storage with 250 gb(though I wil...</td>\n",
       "      <td>HARD_DISC#DESIGN_FEATURES</td>\n",
       "      <td>positive</td>\n",
       "    </tr>\n",
       "    <tr>\n",
       "      <th>4</th>\n",
       "      <td>79</td>\n",
       "      <td>79:5</td>\n",
       "      <td>This computer is really fast and I'm shocked a...</td>\n",
       "      <td>LAPTOP#OPERATION_PERFORMANCE,LAPTOP#USABILITY</td>\n",
       "      <td>positive,positive</td>\n",
       "    </tr>\n",
       "  </tbody>\n",
       "</table>\n",
       "</div>"
      ],
      "text/plain": [
       "   reviewID sentenceID                                             review  \\\n",
       "0        79       79:1             This computer is absolutely AMAZING!!!   \n",
       "1        79       79:2                        10 plus hours of battery...   \n",
       "2        79       79:3  super fast processor and really nice graphics ...   \n",
       "3        79       79:4  and plenty of storage with 250 gb(though I wil...   \n",
       "4        79       79:5  This computer is really fast and I'm shocked a...   \n",
       "\n",
       "                                        category           polarity  \n",
       "0                                 LAPTOP#GENERAL           positive  \n",
       "1                  BATTERY#OPERATION_PERFORMANCE           positive  \n",
       "2     CPU#OPERATION_PERFORMANCE,GRAPHICS#GENERAL  positive,positive  \n",
       "3                      HARD_DISC#DESIGN_FEATURES           positive  \n",
       "4  LAPTOP#OPERATION_PERFORMANCE,LAPTOP#USABILITY  positive,positive  "
      ]
     },
     "execution_count": 4,
     "metadata": {},
     "output_type": "execute_result"
    }
   ],
   "source": [
    "data = pd.read_csv('laptop-multiple-categories.csv')\n",
    "data.head()"
   ]
  },
  {
   "cell_type": "code",
   "execution_count": 30,
   "metadata": {},
   "outputs": [
    {
     "name": "stdout",
     "output_type": "stream",
     "text": [
      "1399\n"
     ]
    }
   ],
   "source": [
    "categories = {}\n",
    "count = 0\n",
    "for cat in data['category']:\n",
    "    count += 1\n",
    "    category = cat.split(',')\n",
    "    for c in category:\n",
    "        x = c#.split('#')[0]\n",
    "        try:\n",
    "            categories[x] += 1\n",
    "        except:\n",
    "            categories[x] = 1\n",
    "print(count)"
   ]
  },
  {
   "cell_type": "code",
   "execution_count": 31,
   "metadata": {},
   "outputs": [
    {
     "data": {
      "text/plain": [
       "{'BATTERY#GENERAL': 4,\n",
       " 'BATTERY#MISCELLANEOUS': 4,\n",
       " 'BATTERY#OPERATION_PERFORMANCE': 60,\n",
       " 'BATTERY#QUALITY': 9,\n",
       " 'COMPANY#GENERAL': 69,\n",
       " 'CPU#MISCELLANEOUS': 2,\n",
       " 'CPU#OPERATION_PERFORMANCE': 7,\n",
       " 'CPU#QUALITY': 2,\n",
       " 'DISPLAY#DESIGN_FEATURES': 19,\n",
       " 'DISPLAY#GENERAL': 13,\n",
       " 'DISPLAY#MISCELLANEOUS': 1,\n",
       " 'DISPLAY#OPERATION_PERFORMANCE': 10,\n",
       " 'DISPLAY#QUALITY': 31,\n",
       " 'DISPLAY#USABILITY': 4,\n",
       " 'FANS_COOLING#DESIGN_FEATURES': 1,\n",
       " 'FANS_COOLING#OPERATION_PERFORMANCE': 1,\n",
       " 'FANS_COOLING#QUALITY': 2,\n",
       " 'GRAPHICS#DESIGN_FEATURES': 2,\n",
       " 'GRAPHICS#GENERAL': 16,\n",
       " 'GRAPHICS#MISCELLANEOUS': 2,\n",
       " 'GRAPHICS#QUALITY': 4,\n",
       " 'HARDWARE#QUALITY': 3,\n",
       " 'HARD_DISC#DESIGN_FEATURES': 12,\n",
       " 'HARD_DISC#QUALITY': 9,\n",
       " 'KEYBOARD#DESIGN_FEATURES': 18,\n",
       " 'KEYBOARD#GENERAL': 9,\n",
       " 'KEYBOARD#OPERATION_PERFORMANCE': 7,\n",
       " 'KEYBOARD#QUALITY': 15,\n",
       " 'KEYBOARD#USABILITY': 11,\n",
       " 'LAPTOP#CONNECTIVITY': 32,\n",
       " 'LAPTOP#DESIGN_FEATURES': 162,\n",
       " 'LAPTOP#GENERAL': 413,\n",
       " 'LAPTOP#MISCELLANEOUS': 91,\n",
       " 'LAPTOP#OPERATION_PERFORMANCE': 157,\n",
       " 'LAPTOP#PORTABILITY': 44,\n",
       " 'LAPTOP#PRICE': 76,\n",
       " 'LAPTOP#QUALITY': 152,\n",
       " 'LAPTOP#USABILITY': 104,\n",
       " 'MEMORY#DESIGN_FEATURES': 11,\n",
       " 'MOTHERBOARD#QUALITY': 7,\n",
       " 'MOUSE#DESIGN_FEATURES': 9,\n",
       " 'MOUSE#GENERAL': 4,\n",
       " 'MOUSE#OPERATION_PERFORMANCE': 16,\n",
       " 'MOUSE#QUALITY': 8,\n",
       " 'MOUSE#USABILITY': 13,\n",
       " 'MULTIMEDIA_DEVICES#DESIGN_FEATURES': 4,\n",
       " 'MULTIMEDIA_DEVICES#GENERAL': 4,\n",
       " 'MULTIMEDIA_DEVICES#MISCELLANEOUS': 1,\n",
       " 'MULTIMEDIA_DEVICES#OPERATION_PERFORMANCE': 4,\n",
       " 'MULTIMEDIA_DEVICES#QUALITY': 14,\n",
       " 'MULTIMEDIA_DEVICES#USABILITY': 3,\n",
       " 'OPTICAL_DRIVES#QUALITY': 2,\n",
       " 'OS#DESIGN_FEATURES': 2,\n",
       " 'OS#GENERAL': 17,\n",
       " 'OS#MISCELLANEOUS': 2,\n",
       " 'OS#OPERATION_PERFORMANCE': 6,\n",
       " 'OS#QUALITY': 4,\n",
       " 'OS#USABILITY': 11,\n",
       " 'PORTS#DESIGN_FEATURES': 1,\n",
       " 'PORTS#OPERATION_PERFORMANCE': 1,\n",
       " 'PORTS#QUALITY': 4,\n",
       " 'POWER_SUPPLY#DESIGN_FEATURES': 3,\n",
       " 'POWER_SUPPLY#MISCELLANEOUS': 1,\n",
       " 'POWER_SUPPLY#OPERATION_PERFORMANCE': 4,\n",
       " 'POWER_SUPPLY#QUALITY': 10,\n",
       " 'SHIPPING#PRICE': 3,\n",
       " 'SHIPPING#QUALITY': 8,\n",
       " 'SOFTWARE#DESIGN_FEATURES': 6,\n",
       " 'SOFTWARE#GENERAL': 23,\n",
       " 'SOFTWARE#MISCELLANEOUS': 10,\n",
       " 'SOFTWARE#OPERATION_PERFORMANCE': 14,\n",
       " 'SOFTWARE#PRICE': 1,\n",
       " 'SOFTWARE#QUALITY': 1,\n",
       " 'SOFTWARE#USABILITY': 16,\n",
       " 'SUPPORT#GENERAL': 4,\n",
       " 'SUPPORT#MISCELLANEOUS': 3,\n",
       " 'SUPPORT#PRICE': 6,\n",
       " 'SUPPORT#QUALITY': 129,\n",
       " 'WARRANTY#GENERAL': 3,\n",
       " 'WARRANTY#MISCELLANEOUS': 1,\n",
       " 'WARRANTY#PRICE': 2}"
      ]
     },
     "execution_count": 31,
     "metadata": {},
     "output_type": "execute_result"
    }
   ],
   "source": [
    "categories"
   ]
  },
  {
   "cell_type": "code",
   "execution_count": 12,
   "metadata": {},
   "outputs": [
    {
     "data": {
      "text/plain": [
       "81"
      ]
     },
     "execution_count": 12,
     "metadata": {},
     "output_type": "execute_result"
    }
   ],
   "source": [
    "len(categories)"
   ]
  },
  {
   "cell_type": "code",
   "execution_count": null,
   "metadata": {},
   "outputs": [],
   "source": [
    "PERFORMANCE = ['CPU', 'FANS_COOLING', 'GRAPHICS']\n",
    "HARDWARE = ['HARDWARE', 'BATTERY', 'DISPLAY', 'HARD_DISC', 'MOTHERBOARD', 'MEMORY', 'MOUSE', 'OPTICAL_DRIVES', 'PORTS', 'POWER_SUPPLY']\n",
    "SOFTWARE = ['OS', 'SOFTWARE']\n",
    "VALUE = ['LAPTOP', 'SUPPORT', 'WARRANTY']"
   ]
  }
 ],
 "metadata": {
  "kernelspec": {
   "display_name": "Python 3",
   "language": "python",
   "name": "python3"
  },
  "language_info": {
   "codemirror_mode": {
    "name": "ipython",
    "version": 3
   },
   "file_extension": ".py",
   "mimetype": "text/x-python",
   "name": "python",
   "nbconvert_exporter": "python",
   "pygments_lexer": "ipython3",
   "version": "3.6.4"
  }
 },
 "nbformat": 4,
 "nbformat_minor": 2
}
