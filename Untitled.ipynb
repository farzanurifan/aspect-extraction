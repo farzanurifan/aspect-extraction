{
 "cells": [
  {
   "cell_type": "code",
   "execution_count": 1,
   "metadata": {},
   "outputs": [],
   "source": [
    "import pandas as pd"
   ]
  },
  {
   "cell_type": "code",
   "execution_count": 7,
   "metadata": {
    "scrolled": true
   },
   "outputs": [
    {
     "data": {
      "text/html": [
       "<div>\n",
       "<style scoped>\n",
       "    .dataframe tbody tr th:only-of-type {\n",
       "        vertical-align: middle;\n",
       "    }\n",
       "\n",
       "    .dataframe tbody tr th {\n",
       "        vertical-align: top;\n",
       "    }\n",
       "\n",
       "    .dataframe thead th {\n",
       "        text-align: right;\n",
       "    }\n",
       "</style>\n",
       "<table border=\"1\" class=\"dataframe\">\n",
       "  <thead>\n",
       "    <tr style=\"text-align: right;\">\n",
       "      <th></th>\n",
       "      <th>reviewID</th>\n",
       "      <th>sentenceID</th>\n",
       "      <th>review</th>\n",
       "      <th>category</th>\n",
       "      <th>polarity</th>\n",
       "    </tr>\n",
       "  </thead>\n",
       "  <tbody>\n",
       "    <tr>\n",
       "      <th>0</th>\n",
       "      <td>79</td>\n",
       "      <td>79:1</td>\n",
       "      <td>This computer is absolutely AMAZING!!!</td>\n",
       "      <td>LAPTOP#GENERAL</td>\n",
       "      <td>positive</td>\n",
       "    </tr>\n",
       "    <tr>\n",
       "      <th>1</th>\n",
       "      <td>79</td>\n",
       "      <td>79:2</td>\n",
       "      <td>10 plus hours of battery...</td>\n",
       "      <td>BATTERY#OPERATION_PERFORMANCE</td>\n",
       "      <td>positive</td>\n",
       "    </tr>\n",
       "    <tr>\n",
       "      <th>2</th>\n",
       "      <td>79</td>\n",
       "      <td>79:3</td>\n",
       "      <td>super fast processor and really nice graphics ...</td>\n",
       "      <td>CPU#OPERATION_PERFORMANCE,GRAPHICS#GENERAL</td>\n",
       "      <td>positive,positive</td>\n",
       "    </tr>\n",
       "    <tr>\n",
       "      <th>3</th>\n",
       "      <td>79</td>\n",
       "      <td>79:4</td>\n",
       "      <td>and plenty of storage with 250 gb(though I wil...</td>\n",
       "      <td>HARD_DISC#DESIGN_FEATURES</td>\n",
       "      <td>positive</td>\n",
       "    </tr>\n",
       "    <tr>\n",
       "      <th>4</th>\n",
       "      <td>79</td>\n",
       "      <td>79:5</td>\n",
       "      <td>This computer is really fast and I'm shocked a...</td>\n",
       "      <td>LAPTOP#OPERATION_PERFORMANCE,LAPTOP#USABILITY</td>\n",
       "      <td>positive,positive</td>\n",
       "    </tr>\n",
       "  </tbody>\n",
       "</table>\n",
       "</div>"
      ],
      "text/plain": [
       "  reviewID sentenceID                                             review  \\\n",
       "0       79       79:1             This computer is absolutely AMAZING!!!   \n",
       "1       79       79:2                        10 plus hours of battery...   \n",
       "2       79       79:3  super fast processor and really nice graphics ...   \n",
       "3       79       79:4  and plenty of storage with 250 gb(though I wil...   \n",
       "4       79       79:5  This computer is really fast and I'm shocked a...   \n",
       "\n",
       "                                        category           polarity  \n",
       "0                                 LAPTOP#GENERAL           positive  \n",
       "1                  BATTERY#OPERATION_PERFORMANCE           positive  \n",
       "2     CPU#OPERATION_PERFORMANCE,GRAPHICS#GENERAL  positive,positive  \n",
       "3                      HARD_DISC#DESIGN_FEATURES           positive  \n",
       "4  LAPTOP#OPERATION_PERFORMANCE,LAPTOP#USABILITY  positive,positive  "
      ]
     },
     "execution_count": 7,
     "metadata": {},
     "output_type": "execute_result"
    }
   ],
   "source": [
    "data = pd.read_csv('dataset/laptop-multiple-train.csv')\n",
    "data.head()"
   ]
  },
  {
   "cell_type": "code",
   "execution_count": 8,
   "metadata": {},
   "outputs": [
    {
     "name": "stdout",
     "output_type": "stream",
     "text": [
      "2039\n"
     ]
    }
   ],
   "source": [
    "categories = {}\n",
    "count = 0\n",
    "\n",
    "for cat in data['category']:\n",
    "    count += 1\n",
    "    category = cat.split(',')\n",
    "    for c in category:\n",
    "        x = c.split('#')[1]\n",
    "        try:\n",
    "            categories[x] += 1\n",
    "        except:\n",
    "            categories[x] = 1\n",
    "print(count)"
   ]
  },
  {
   "cell_type": "code",
   "execution_count": 9,
   "metadata": {
    "scrolled": false
   },
   "outputs": [
    {
     "data": {
      "text/plain": [
       "{'CONNECTIVITY': 55,\n",
       " 'DESIGN_FEATURES': 374,\n",
       " 'GENERAL': 862,\n",
       " 'MISCELLANEOUS': 165,\n",
       " 'OPERATION_PERFORMANCE': 470,\n",
       " 'PORTABILITY': 51,\n",
       " 'PRICE': 148,\n",
       " 'QUALITY': 551,\n",
       " 'USABILITY': 233}"
      ]
     },
     "execution_count": 9,
     "metadata": {},
     "output_type": "execute_result"
    }
   ],
   "source": [
    "categories"
   ]
  },
  {
   "cell_type": "code",
   "execution_count": 10,
   "metadata": {},
   "outputs": [],
   "source": [
    "# import pandas as pd\n",
    "\n",
    "# df = pd.DataFrame(columns=['category','total'])\n",
    "# for r in categories:\n",
    "#     df = df.append({'category': r, 'total': categories[r]}, ignore_index=True)\n",
    "# df.to_excel(\"category-belakang.xlsx\")"
   ]
  },
  {
   "cell_type": "code",
   "execution_count": 11,
   "metadata": {},
   "outputs": [],
   "source": [
    "PERFORMANCE = ['CPU', 'FANS_COOLING', 'GRAPHICS']\n",
    "HARDWARE = ['KEYBOARD', 'HARDWARE', 'BATTERY', 'DISPLAY', 'HARD_DISC',\n",
    "            'MOTHERBOARD', 'MEMORY', 'MOUSE', 'OPTICAL_DRIVES', 'PORTS', \n",
    "            'MULTIMEDIA_DEVICES', 'POWER_SUPPLY']\n",
    "SOFTWARE = ['OS', 'SOFTWARE']\n",
    "VALUE = ['LAPTOP', 'SUPPORT', 'WARRANTY', 'COMPANY', 'SHIPPING']"
   ]
  },
  {
   "cell_type": "code",
   "execution_count": 19,
   "metadata": {},
   "outputs": [],
   "source": [
    "import pandas as pd\n",
    "\n",
    "def run(tipe, multiple):\n",
    "    filename = 'single'\n",
    "    if multiple:\n",
    "        filename = 'multiple'\n",
    "    if tipe == 'train':\n",
    "        data = pd.read_csv('laptop-'+ filename +'-train.csv')\n",
    "    else:\n",
    "        data = pd.read_csv('laptop-'+ filename +'-test.csv')\n",
    "\n",
    "    p = pd.DataFrame(columns=['tweet','label'])\n",
    "    index = 0\n",
    "    for r in data['review']:\n",
    "        aspects = data['category'][index].split(',')\n",
    "        aspect = []\n",
    "        for a in aspects:\n",
    "            cat = a.split('#')[1]\n",
    "            if cat in ['CONNECTIVITY', 'MISCELLANEOUS', 'PORTABILITY', 'USABILITY', 'PRICE']:\n",
    "                cat = 'OTHERS'\n",
    "            aspect.append(cat)\n",
    "            \n",
    "        polarity = data['polarity'][index]\n",
    "        string_aspect = ','.join(aspect)\n",
    "#         aspek = ''\n",
    "#         if aspek in PERFORMANCE:\n",
    "#             aspek = 'PERFORMANCE'\n",
    "#         if aspek in HRFWARE    \n",
    "        \n",
    "#         if aspect in ['CONNECTIVITY', 'MISCELLANEOUS', 'PORTABILITY', 'USABILITY', 'PRICE']:\n",
    "#             p = p.append({'tweet': r, 'label': 'LAIN', 'polarity': polarity}, ignore_index=True)\n",
    "#         else:\n",
    "        p = p.append({'tweet': r, 'label': string_aspect, 'polarity': polarity}, ignore_index=True)\n",
    "        index += 1\n",
    "    p.to_csv(tipe + \".csv\")\n",
    "    p.to_excel(tipe + \".xlsx\")\n"
   ]
  },
  {
   "cell_type": "code",
   "execution_count": 20,
   "metadata": {},
   "outputs": [],
   "source": [
    "run('train', True)"
   ]
  },
  {
   "cell_type": "code",
   "execution_count": 118,
   "metadata": {},
   "outputs": [],
   "source": [
    "run('test')"
   ]
  },
  {
   "cell_type": "code",
   "execution_count": 24,
   "metadata": {},
   "outputs": [
    {
     "data": {
      "text/plain": [
       "2168"
      ]
     },
     "execution_count": 24,
     "metadata": {},
     "output_type": "execute_result"
    }
   ],
   "source": [
    "jumlah = 0\n",
    "for a in VALUE:\n",
    "    jumlah += categories[a]\n",
    "jumlah"
   ]
  },
  {
   "cell_type": "code",
   "execution_count": null,
   "metadata": {},
   "outputs": [],
   "source": []
  }
 ],
 "metadata": {
  "kernelspec": {
   "display_name": "Python 3",
   "language": "python",
   "name": "python3"
  },
  "language_info": {
   "codemirror_mode": {
    "name": "ipython",
    "version": 3
   },
   "file_extension": ".py",
   "mimetype": "text/x-python",
   "name": "python",
   "nbconvert_exporter": "python",
   "pygments_lexer": "ipython3",
   "version": "3.6.4"
  }
 },
 "nbformat": 4,
 "nbformat_minor": 2
}
