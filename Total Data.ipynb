{
 "cells": [
  {
   "cell_type": "code",
   "execution_count": 2,
   "metadata": {
    "scrolled": true
   },
   "outputs": [
    {
     "data": {
      "text/html": [
       "<div>\n",
       "<style scoped>\n",
       "    .dataframe tbody tr th:only-of-type {\n",
       "        vertical-align: middle;\n",
       "    }\n",
       "\n",
       "    .dataframe tbody tr th {\n",
       "        vertical-align: top;\n",
       "    }\n",
       "\n",
       "    .dataframe thead th {\n",
       "        text-align: right;\n",
       "    }\n",
       "</style>\n",
       "<table border=\"1\" class=\"dataframe\">\n",
       "  <thead>\n",
       "    <tr style=\"text-align: right;\">\n",
       "      <th></th>\n",
       "      <th>reviewID</th>\n",
       "      <th>sentenceID</th>\n",
       "      <th>review</th>\n",
       "      <th>category</th>\n",
       "      <th>polarity</th>\n",
       "    </tr>\n",
       "  </thead>\n",
       "  <tbody>\n",
       "    <tr>\n",
       "      <th>0</th>\n",
       "      <td>1004293</td>\n",
       "      <td>1004293:0</td>\n",
       "      <td>Judging from previous posts this used to be a ...</td>\n",
       "      <td>RESTAURANT#GENERAL</td>\n",
       "      <td>negative</td>\n",
       "    </tr>\n",
       "    <tr>\n",
       "      <th>1</th>\n",
       "      <td>1004293</td>\n",
       "      <td>1004293:1</td>\n",
       "      <td>We, there were four of us, arrived at noon - t...</td>\n",
       "      <td>SERVICE#GENERAL</td>\n",
       "      <td>negative</td>\n",
       "    </tr>\n",
       "    <tr>\n",
       "      <th>2</th>\n",
       "      <td>1004293</td>\n",
       "      <td>1004293:2</td>\n",
       "      <td>They never brought us complimentary noodles, i...</td>\n",
       "      <td>SERVICE#GENERAL</td>\n",
       "      <td>negative</td>\n",
       "    </tr>\n",
       "    <tr>\n",
       "      <th>3</th>\n",
       "      <td>1004293</td>\n",
       "      <td>1004293:3</td>\n",
       "      <td>The food was lousy - too sweet or too salty an...</td>\n",
       "      <td>FOOD#QUALITY</td>\n",
       "      <td>negative</td>\n",
       "    </tr>\n",
       "    <tr>\n",
       "      <th>4</th>\n",
       "      <td>1004293</td>\n",
       "      <td>1004293:4</td>\n",
       "      <td>After all that, they complained to me about th...</td>\n",
       "      <td>SERVICE#GENERAL</td>\n",
       "      <td>negative</td>\n",
       "    </tr>\n",
       "  </tbody>\n",
       "</table>\n",
       "</div>"
      ],
      "text/plain": [
       "   reviewID sentenceID                                             review  \\\n",
       "0   1004293  1004293:0  Judging from previous posts this used to be a ...   \n",
       "1   1004293  1004293:1  We, there were four of us, arrived at noon - t...   \n",
       "2   1004293  1004293:2  They never brought us complimentary noodles, i...   \n",
       "3   1004293  1004293:3  The food was lousy - too sweet or too salty an...   \n",
       "4   1004293  1004293:4  After all that, they complained to me about th...   \n",
       "\n",
       "             category  polarity  \n",
       "0  RESTAURANT#GENERAL  negative  \n",
       "1     SERVICE#GENERAL  negative  \n",
       "2     SERVICE#GENERAL  negative  \n",
       "3        FOOD#QUALITY  negative  \n",
       "4     SERVICE#GENERAL  negative  "
      ]
     },
     "execution_count": 2,
     "metadata": {},
     "output_type": "execute_result"
    }
   ],
   "source": [
    "import pandas as pd\n",
    "\n",
    "data = pd.read_csv('dataset/restaurant-multiple-categories.csv')\n",
    "data.head()"
   ]
  },
  {
   "cell_type": "code",
   "execution_count": 13,
   "metadata": {
    "scrolled": true
   },
   "outputs": [
    {
     "name": "stdout",
     "output_type": "stream",
     "text": [
      "the last time i walked by it looked pretty empty. hmmm.\n",
      "RESTAURANT#MISCELLANEOUS\n",
      "Surprisingly nothing could be further from the truth.\n",
      "RESTAURANT#MISCELLANEOUS\n",
      "In the evening, this place attracted a well dressed, with it, NY crowd.\n",
      "RESTAURANT#MISCELLANEOUS\n",
      "This place is the most Japanese it can ever get.\n",
      "RESTAURANT#MISCELLANEOUS\n",
      "The signs, the specials menus, food, and even all the waitstaff are ALL TOTALLY Japanese.\n",
      "RESTAURANT#MISCELLANEOUS\n",
      "first it took us a long time to find the place.\n",
      "RESTAURANT#MISCELLANEOUS\n",
      "Have recommended the place to friends, always gets good response.\n",
      "RESTAURANT#MISCELLANEOUS\n",
      "I take all my NYC guests to VT's.\n",
      "RESTAURANT#MISCELLANEOUS\n",
      "I am bringing my whole family back next time.\n",
      "RESTAURANT#MISCELLANEOUS\n",
      "Worth visiting the 1st Ave spot because it is the original store.\n",
      "RESTAURANT#MISCELLANEOUS\n",
      "After really enjoying ourselves at the bar we sat down at a table and had dinner.\n",
      "RESTAURANT#MISCELLANEOUS\n",
      "If you are the type of person who likes being scared and entertained, this is a great place to go and eat.\n",
      "RESTAURANT#MISCELLANEOUS\n",
      "This place is always very crowded and popular.\n",
      "RESTAURANT#MISCELLANEOUS\n",
      "Kind of a small place but I guess if they are not too busy might be able to fit a group or kids.\n",
      "RESTAURANT#MISCELLANEOUS\n",
      "DO not try unless you're just going there to hang out like the rest of the hipsters who apparently have no sense of taste.\n",
      "RESTAURANT#MISCELLANEOUS\n",
      "They tell me they are going to cover the garden in glass for the winter, so i'm looking forward to going there on a snowy night to enjoy it.\n",
      "RESTAURANT#MISCELLANEOUS\n",
      "Please be aware that it's CASH or AMEX only!\n",
      "RESTAURANT#MISCELLANEOUS\n",
      "The owner and staff are all Japanese as well and that adds to the entire ambiance.\n",
      "RESTAURANT#MISCELLANEOUS\n",
      "It's a rather cramped and busy restaurant and it closes early.\n",
      "RESTAURANT#MISCELLANEOUS\n",
      "This is a nice restaurant if you are looking for a good place to host an intimate dinner meeting with business associates.\n",
      "RESTAURANT#MISCELLANEOUS\n",
      "Not a great place for family or general dining.\n",
      "RESTAURANT#MISCELLANEOUS\n",
      "They don't concern much of customer's health, just want to make money.\n",
      "RESTAURANT#MISCELLANEOUS\n",
      "please don't fool us.\n",
      "RESTAURANT#MISCELLANEOUS\n",
      "Authentic Shanghai style and I cannot recommend a better Shanghai place in New York.\n",
      "RESTAURANT#MISCELLANEOUS\n",
      "Definitely a great spot for a nice occasion or date.\n",
      "RESTAURANT#MISCELLANEOUS\n",
      "A Thai restaurant out of rice during dinner?\n",
      "RESTAURANT#MISCELLANEOUS\n",
      "Always a nice crowd, but never loud.\n",
      "RESTAURANT#MISCELLANEOUS\n",
      "Good for dates or with friends.\n",
      "RESTAURANT#MISCELLANEOUS\n",
      "I am reluctant to write because I would not want my jem of a pizza place to become overcrowded.\n",
      "RESTAURANT#MISCELLANEOUS\n",
      "Don't be fooled by crowds of people.\n",
      "RESTAURANT#MISCELLANEOUS\n",
      "The worst excuse for Japanese food I've ever encountered.\n",
      "RESTAURANT#MISCELLANEOUS\n",
      "Open late (well as late as I ever got there and I'm a night person)\n",
      "RESTAURANT#MISCELLANEOUS\n",
      "This is the kind of place you'd like to take all your friends to and still keep a secret.\n",
      "RESTAURANT#MISCELLANEOUS\n",
      "But that is highly forgivable.\n",
      "RESTAURANT#MISCELLANEOUS\n",
      "If celebrities make you sweat, then your in for a ride, but if your like most around these parts then you'll just yawn and wonder whats with all the hype.\n",
      "RESTAURANT#MISCELLANEOUS\n",
      "This is the perfect spot for meeting friends, having lunch, dinner, pre-theatre or after-theatre drinks!\n",
      "RESTAURANT#MISCELLANEOUS\n",
      "Excellent spot for holiday get togethers with co-workers or friends that you haven't seen in a while.\n",
      "RESTAURANT#MISCELLANEOUS\n",
      "All the people that I bring there go back on their own and bring THEIR friends!\n",
      "RESTAURANT#MISCELLANEOUS\n",
      "Wonderful at holiday time.\n",
      "RESTAURANT#MISCELLANEOUS\n",
      "My friend from Milan and myself were pleasantly surprised when we arrived and everyone spoke italian.\n",
      "RESTAURANT#MISCELLANEOUS\n",
      "It's great to go for a quick lunch either alone or with a friend.\n",
      "RESTAURANT#MISCELLANEOUS\n",
      "It's definately not a place to go if you want to impress someone.\n",
      "RESTAURANT#MISCELLANEOUS\n",
      "How do you rate home?\n",
      "RESTAURANT#MISCELLANEOUS\n",
      "It was the first place we ate on our first trip to New York, and it will be the last place we stop as we head out of town on our next trip to New York.\n",
      "RESTAURANT#MISCELLANEOUS\n",
      "This is the perfect date spot for Williamsburg couples.\n",
      "RESTAURANT#MISCELLANEOUS\n",
      "If only they delivered, they'd make a mint!\n",
      "RESTAURANT#MISCELLANEOUS\n",
      "For those that go once and don't enjoy it, all I can say is that they just don't get it.\n",
      "RESTAURANT#MISCELLANEOUS\n",
      "Good luck getting a table.\n",
      "RESTAURANT#MISCELLANEOUS\n",
      "A great place to meet up for some food and drinks...  \n",
      "RESTAURANT#MISCELLANEOUS\n",
      "I found it on a cold night, the perfect spot to warm up.\n",
      "RESTAURANT#MISCELLANEOUS\n",
      "1120\n"
     ]
    }
   ],
   "source": [
    "categories = {}\n",
    "count = 0\n",
    "\n",
    "for index, cat in enumerate(data['category']):\n",
    "    count += 1\n",
    "    category = cat.split(',')\n",
    "    for c in category:\n",
    "        x = c#.split('#')[0]\n",
    "        if x == 'RESTAURANT#MISCELLANEOUS':\n",
    "            print(data['review'][index])\n",
    "            print(cat)\n",
    "        try:\n",
    "            categories[x] += 1\n",
    "        except:\n",
    "            categories[x] = 1\n",
    "print(count)"
   ]
  },
  {
   "cell_type": "code",
   "execution_count": 12,
   "metadata": {
    "scrolled": false
   },
   "outputs": [
    {
     "data": {
      "text/plain": [
       "{'AMBIENCE#GENERAL': 111,\n",
       " 'DRINKS#PRICES': 3,\n",
       " 'DRINKS#QUALITY': 21,\n",
       " 'DRINKS#STYLE_OPTIONS': 16,\n",
       " 'FOOD#PRICES': 17,\n",
       " 'FOOD#QUALITY': 383,\n",
       " 'FOOD#STYLE_OPTIONS': 51,\n",
       " 'LOCATION#GENERAL': 16,\n",
       " 'RESTAURANT#GENERAL': 245,\n",
       " 'RESTAURANT#MISCELLANEOUS': 50,\n",
       " 'RESTAURANT#PRICES': 24,\n",
       " 'SERVICE#GENERAL': 183}"
      ]
     },
     "execution_count": 12,
     "metadata": {},
     "output_type": "execute_result"
    }
   ],
   "source": [
    "categories"
   ]
  },
  {
   "cell_type": "code",
   "execution_count": 10,
   "metadata": {},
   "outputs": [],
   "source": [
    "# import pandas as pd\n",
    "\n",
    "# df = pd.DataFrame(columns=['category','total'])\n",
    "# for r in categories:\n",
    "#     df = df.append({'category': r, 'total': categories[r]}, ignore_index=True)\n",
    "# df.to_excel(\"category-belakang.xlsx\")"
   ]
  },
  {
   "cell_type": "code",
   "execution_count": 11,
   "metadata": {},
   "outputs": [],
   "source": [
    "PERFORMANCE = ['CPU', 'FANS_COOLING', 'GRAPHICS']\n",
    "HARDWARE = ['KEYBOARD', 'HARDWARE', 'BATTERY', 'DISPLAY', 'HARD_DISC',\n",
    "            'MOTHERBOARD', 'MEMORY', 'MOUSE', 'OPTICAL_DRIVES', 'PORTS', \n",
    "            'MULTIMEDIA_DEVICES', 'POWER_SUPPLY']\n",
    "SOFTWARE = ['OS', 'SOFTWARE']\n",
    "VALUE = ['LAPTOP', 'SUPPORT', 'WARRANTY', 'COMPANY', 'SHIPPING']"
   ]
  },
  {
   "cell_type": "code",
   "execution_count": 19,
   "metadata": {},
   "outputs": [],
   "source": [
    "import pandas as pd\n",
    "\n",
    "def run(tipe, multiple):\n",
    "    filename = 'single'\n",
    "    if multiple:\n",
    "        filename = 'multiple'\n",
    "    if tipe == 'train':\n",
    "        data = pd.read_csv('laptop-'+ filename +'-train.csv')\n",
    "    else:\n",
    "        data = pd.read_csv('laptop-'+ filename +'-test.csv')\n",
    "\n",
    "    p = pd.DataFrame(columns=['tweet','label'])\n",
    "    index = 0\n",
    "    for r in data['review']:\n",
    "        aspects = data['category'][index].split(',')\n",
    "        aspect = []\n",
    "        for a in aspects:\n",
    "            cat = a.split('#')[1]\n",
    "            if cat in ['CONNECTIVITY', 'MISCELLANEOUS', 'PORTABILITY', 'USABILITY', 'PRICE']:\n",
    "                cat = 'OTHERS'\n",
    "            aspect.append(cat)\n",
    "            \n",
    "        polarity = data['polarity'][index]\n",
    "        string_aspect = ','.join(aspect)\n",
    "#         aspek = ''\n",
    "#         if aspek in PERFORMANCE:\n",
    "#             aspek = 'PERFORMANCE'\n",
    "#         if aspek in HRFWARE    \n",
    "        \n",
    "#         if aspect in ['CONNECTIVITY', 'MISCELLANEOUS', 'PORTABILITY', 'USABILITY', 'PRICE']:\n",
    "#             p = p.append({'tweet': r, 'label': 'LAIN', 'polarity': polarity}, ignore_index=True)\n",
    "#         else:\n",
    "        p = p.append({'tweet': r, 'label': string_aspect, 'polarity': polarity}, ignore_index=True)\n",
    "        index += 1\n",
    "    p.to_csv(tipe + \".csv\")\n",
    "    p.to_excel(tipe + \".xlsx\")\n"
   ]
  },
  {
   "cell_type": "code",
   "execution_count": 20,
   "metadata": {},
   "outputs": [],
   "source": [
    "run('train', True)"
   ]
  },
  {
   "cell_type": "code",
   "execution_count": 118,
   "metadata": {},
   "outputs": [],
   "source": [
    "run('test')"
   ]
  },
  {
   "cell_type": "code",
   "execution_count": 24,
   "metadata": {},
   "outputs": [
    {
     "data": {
      "text/plain": [
       "2168"
      ]
     },
     "execution_count": 24,
     "metadata": {},
     "output_type": "execute_result"
    }
   ],
   "source": [
    "jumlah = 0\n",
    "for a in VALUE:\n",
    "    jumlah += categories[a]\n",
    "jumlah"
   ]
  },
  {
   "cell_type": "code",
   "execution_count": null,
   "metadata": {},
   "outputs": [],
   "source": []
  }
 ],
 "metadata": {
  "kernelspec": {
   "display_name": "Python 3",
   "language": "python",
   "name": "python3"
  },
  "language_info": {
   "codemirror_mode": {
    "name": "ipython",
    "version": 3
   },
   "file_extension": ".py",
   "mimetype": "text/x-python",
   "name": "python",
   "nbconvert_exporter": "python",
   "pygments_lexer": "ipython3",
   "version": "3.6.4"
  }
 },
 "nbformat": 4,
 "nbformat_minor": 2
}
