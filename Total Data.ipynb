{
 "cells": [
  {
   "cell_type": "code",
   "execution_count": 1,
   "metadata": {},
   "outputs": [],
   "source": [
    "import pandas as pd"
   ]
  },
  {
   "cell_type": "code",
   "execution_count": 25,
   "metadata": {
    "scrolled": true
   },
   "outputs": [
    {
     "data": {
      "text/html": [
       "<div>\n",
       "<style scoped>\n",
       "    .dataframe tbody tr th:only-of-type {\n",
       "        vertical-align: middle;\n",
       "    }\n",
       "\n",
       "    .dataframe tbody tr th {\n",
       "        vertical-align: top;\n",
       "    }\n",
       "\n",
       "    .dataframe thead th {\n",
       "        text-align: right;\n",
       "    }\n",
       "</style>\n",
       "<table border=\"1\" class=\"dataframe\">\n",
       "  <thead>\n",
       "    <tr style=\"text-align: right;\">\n",
       "      <th></th>\n",
       "      <th>reviewID</th>\n",
       "      <th>sentenceID</th>\n",
       "      <th>review</th>\n",
       "      <th>category</th>\n",
       "      <th>polarity</th>\n",
       "    </tr>\n",
       "  </thead>\n",
       "  <tbody>\n",
       "    <tr>\n",
       "      <th>0</th>\n",
       "      <td>1004293</td>\n",
       "      <td>1004293:0</td>\n",
       "      <td>Judging from previous posts this used to be a ...</td>\n",
       "      <td>RESTAURANT#GENERAL</td>\n",
       "      <td>negative</td>\n",
       "    </tr>\n",
       "    <tr>\n",
       "      <th>1</th>\n",
       "      <td>1004293</td>\n",
       "      <td>1004293:1</td>\n",
       "      <td>We, there were four of us, arrived at noon - t...</td>\n",
       "      <td>SERVICE#GENERAL</td>\n",
       "      <td>negative</td>\n",
       "    </tr>\n",
       "    <tr>\n",
       "      <th>2</th>\n",
       "      <td>1004293</td>\n",
       "      <td>1004293:2</td>\n",
       "      <td>They never brought us complimentary noodles, i...</td>\n",
       "      <td>SERVICE#GENERAL</td>\n",
       "      <td>negative</td>\n",
       "    </tr>\n",
       "    <tr>\n",
       "      <th>3</th>\n",
       "      <td>1004293</td>\n",
       "      <td>1004293:3</td>\n",
       "      <td>The food was lousy - too sweet or too salty an...</td>\n",
       "      <td>FOOD#QUALITY</td>\n",
       "      <td>negative</td>\n",
       "    </tr>\n",
       "    <tr>\n",
       "      <th>4</th>\n",
       "      <td>1004293</td>\n",
       "      <td>1004293:4</td>\n",
       "      <td>After all that, they complained to me about th...</td>\n",
       "      <td>SERVICE#GENERAL</td>\n",
       "      <td>negative</td>\n",
       "    </tr>\n",
       "  </tbody>\n",
       "</table>\n",
       "</div>"
      ],
      "text/plain": [
       "   reviewID sentenceID                                             review  \\\n",
       "0   1004293  1004293:0  Judging from previous posts this used to be a ...   \n",
       "1   1004293  1004293:1  We, there were four of us, arrived at noon - t...   \n",
       "2   1004293  1004293:2  They never brought us complimentary noodles, i...   \n",
       "3   1004293  1004293:3  The food was lousy - too sweet or too salty an...   \n",
       "4   1004293  1004293:4  After all that, they complained to me about th...   \n",
       "\n",
       "             category  polarity  \n",
       "0  RESTAURANT#GENERAL  negative  \n",
       "1     SERVICE#GENERAL  negative  \n",
       "2     SERVICE#GENERAL  negative  \n",
       "3        FOOD#QUALITY  negative  \n",
       "4     SERVICE#GENERAL  negative  "
      ]
     },
     "execution_count": 25,
     "metadata": {},
     "output_type": "execute_result"
    }
   ],
   "source": [
    "data = pd.read_csv('restaurant-multiple-categories.csv')\n",
    "data.head()"
   ]
  },
  {
   "cell_type": "code",
   "execution_count": 29,
   "metadata": {},
   "outputs": [
    {
     "name": "stdout",
     "output_type": "stream",
     "text": [
      "1120\n"
     ]
    }
   ],
   "source": [
    "categories = {}\n",
    "count = 0\n",
    "\n",
    "for cat in data['category']:\n",
    "    count += 1\n",
    "    category = cat.split(',')\n",
    "    for c in category:\n",
    "        x = c.split('#')[0]\n",
    "        try:\n",
    "            categories[x] += 1\n",
    "        except:\n",
    "            categories[x] = 1\n",
    "print(count)"
   ]
  },
  {
   "cell_type": "code",
   "execution_count": 30,
   "metadata": {
    "scrolled": false
   },
   "outputs": [
    {
     "data": {
      "text/plain": [
       "{'AMBIENCE': 111,\n",
       " 'DRINKS': 40,\n",
       " 'FOOD': 451,\n",
       " 'LOCATION': 16,\n",
       " 'RESTAURANT': 319,\n",
       " 'SERVICE': 183}"
      ]
     },
     "execution_count": 30,
     "metadata": {},
     "output_type": "execute_result"
    }
   ],
   "source": [
    "categories"
   ]
  },
  {
   "cell_type": "code",
   "execution_count": 10,
   "metadata": {},
   "outputs": [],
   "source": [
    "# import pandas as pd\n",
    "\n",
    "# df = pd.DataFrame(columns=['category','total'])\n",
    "# for r in categories:\n",
    "#     df = df.append({'category': r, 'total': categories[r]}, ignore_index=True)\n",
    "# df.to_excel(\"category-belakang.xlsx\")"
   ]
  },
  {
   "cell_type": "code",
   "execution_count": 11,
   "metadata": {},
   "outputs": [],
   "source": [
    "PERFORMANCE = ['CPU', 'FANS_COOLING', 'GRAPHICS']\n",
    "HARDWARE = ['KEYBOARD', 'HARDWARE', 'BATTERY', 'DISPLAY', 'HARD_DISC',\n",
    "            'MOTHERBOARD', 'MEMORY', 'MOUSE', 'OPTICAL_DRIVES', 'PORTS', \n",
    "            'MULTIMEDIA_DEVICES', 'POWER_SUPPLY']\n",
    "SOFTWARE = ['OS', 'SOFTWARE']\n",
    "VALUE = ['LAPTOP', 'SUPPORT', 'WARRANTY', 'COMPANY', 'SHIPPING']"
   ]
  },
  {
   "cell_type": "code",
   "execution_count": 19,
   "metadata": {},
   "outputs": [],
   "source": [
    "import pandas as pd\n",
    "\n",
    "def run(tipe, multiple):\n",
    "    filename = 'single'\n",
    "    if multiple:\n",
    "        filename = 'multiple'\n",
    "    if tipe == 'train':\n",
    "        data = pd.read_csv('laptop-'+ filename +'-train.csv')\n",
    "    else:\n",
    "        data = pd.read_csv('laptop-'+ filename +'-test.csv')\n",
    "\n",
    "    p = pd.DataFrame(columns=['tweet','label'])\n",
    "    index = 0\n",
    "    for r in data['review']:\n",
    "        aspects = data['category'][index].split(',')\n",
    "        aspect = []\n",
    "        for a in aspects:\n",
    "            cat = a.split('#')[1]\n",
    "            if cat in ['CONNECTIVITY', 'MISCELLANEOUS', 'PORTABILITY', 'USABILITY', 'PRICE']:\n",
    "                cat = 'OTHERS'\n",
    "            aspect.append(cat)\n",
    "            \n",
    "        polarity = data['polarity'][index]\n",
    "        string_aspect = ','.join(aspect)\n",
    "#         aspek = ''\n",
    "#         if aspek in PERFORMANCE:\n",
    "#             aspek = 'PERFORMANCE'\n",
    "#         if aspek in HRFWARE    \n",
    "        \n",
    "#         if aspect in ['CONNECTIVITY', 'MISCELLANEOUS', 'PORTABILITY', 'USABILITY', 'PRICE']:\n",
    "#             p = p.append({'tweet': r, 'label': 'LAIN', 'polarity': polarity}, ignore_index=True)\n",
    "#         else:\n",
    "        p = p.append({'tweet': r, 'label': string_aspect, 'polarity': polarity}, ignore_index=True)\n",
    "        index += 1\n",
    "    p.to_csv(tipe + \".csv\")\n",
    "    p.to_excel(tipe + \".xlsx\")\n"
   ]
  },
  {
   "cell_type": "code",
   "execution_count": 20,
   "metadata": {},
   "outputs": [],
   "source": [
    "run('train', True)"
   ]
  },
  {
   "cell_type": "code",
   "execution_count": 118,
   "metadata": {},
   "outputs": [],
   "source": [
    "run('test')"
   ]
  },
  {
   "cell_type": "code",
   "execution_count": 24,
   "metadata": {},
   "outputs": [
    {
     "data": {
      "text/plain": [
       "2168"
      ]
     },
     "execution_count": 24,
     "metadata": {},
     "output_type": "execute_result"
    }
   ],
   "source": [
    "jumlah = 0\n",
    "for a in VALUE:\n",
    "    jumlah += categories[a]\n",
    "jumlah"
   ]
  },
  {
   "cell_type": "code",
   "execution_count": null,
   "metadata": {},
   "outputs": [],
   "source": []
  }
 ],
 "metadata": {
  "kernelspec": {
   "display_name": "Python 3",
   "language": "python",
   "name": "python3"
  },
  "language_info": {
   "codemirror_mode": {
    "name": "ipython",
    "version": 3
   },
   "file_extension": ".py",
   "mimetype": "text/x-python",
   "name": "python",
   "nbconvert_exporter": "python",
   "pygments_lexer": "ipython3",
   "version": "3.6.4"
  }
 },
 "nbformat": 4,
 "nbformat_minor": 2
}
