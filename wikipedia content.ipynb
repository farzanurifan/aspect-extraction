{
 "cells": [
  {
   "cell_type": "code",
   "execution_count": 1,
   "metadata": {},
   "outputs": [],
   "source": [
    "import wikipedia\n",
    "import re\n",
    "from IPython.display import clear_output"
   ]
  },
  {
   "cell_type": "code",
   "execution_count": 2,
   "metadata": {},
   "outputs": [],
   "source": [
    "def pecahkalimat(sourcefile,destfile):\n",
    "    open(destfile, 'w').close()\n",
    "    f = open(sourcefile)\n",
    "\n",
    "    i=1\n",
    "    kalimat = []\n",
    "    with open(destfile, \"a\") as myfile:\n",
    "        for sentence in f:\n",
    "            kalimat = re.sub(r\"[^a-z]+\", \" \", sentence.lower()).split('.')\n",
    "            for kal in kalimat:\n",
    "                if len(kal) < 2:\n",
    "                    kalimat.remove(kal)\n",
    "                kal = kal.strip()\n",
    "                if len(kal) > 1:\n",
    "                    myfile.write(kal)\n",
    "                    myfile.write(\",\\n\")\n",
    "\n",
    "                    clear_output(wait=True)\n",
    "                    print(i,\"kalimat\",\"| Ash-Shobru Minal Iman :)\")\n",
    "                    i+=1"
   ]
  },
  {
   "cell_type": "code",
   "execution_count": 3,
   "metadata": {
    "scrolled": false
   },
   "outputs": [],
   "source": [
    "def cariwiki(katakunci,filename):\n",
    "    with open(filename,\"a\") as file:\n",
    "        wiki = wikipedia.page(katakunci)\n",
    "        file.write(wiki.content)\n",
    "        file.write(\"\\n\")\n",
    "    print(wiki.title)"
   ]
  },
  {
   "cell_type": "code",
   "execution_count": 4,
   "metadata": {},
   "outputs": [],
   "source": [
    "def daftarwiki(daftar,file):\n",
    "    for i in range (0,len(daftar)):\n",
    "        cariwiki(daftar[i], file)"
   ]
  },
  {
   "cell_type": "code",
   "execution_count": 5,
   "metadata": {},
   "outputs": [
    {
     "name": "stdout",
     "output_type": "stream",
     "text": [
      "Computer performance\n"
     ]
    }
   ],
   "source": [
    "file = 'performance-wiki.txt'\n",
    "\n",
    "open(file, 'w').close()\n",
    "daftar = [\"Computer performance\"]\n",
    "daftarwiki(daftar,file)"
   ]
  },
  {
   "cell_type": "code",
   "execution_count": 6,
   "metadata": {
    "scrolled": true
   },
   "outputs": [
    {
     "name": "stdout",
     "output_type": "stream",
     "text": [
      "116 kalimat | Ash-Shobru Minal Iman :)\n"
     ]
    }
   ],
   "source": [
    "pecahkalimat(\"performance-wiki.txt\",\"performance-sentence.txt\")"
   ]
  },
  {
   "cell_type": "code",
   "execution_count": 14,
   "metadata": {},
   "outputs": [
    {
     "name": "stdout",
     "output_type": "stream",
     "text": [
      "Heart\n",
      "Organ transplantation\n"
     ]
    }
   ],
   "source": [
    "open('source1.txt', 'w').close()\n",
    "file = \"source1.txt\"\n",
    "daftar = [\"Heart\",\"Organ transplantation\"]\n",
    "daftarwiki(daftar,file)"
   ]
  },
  {
   "cell_type": "code",
   "execution_count": 15,
   "metadata": {},
   "outputs": [
    {
     "name": "stdout",
     "output_type": "stream",
     "text": [
      "386 kalimat | Ash-Shobru Minal Iman :)\n"
     ]
    }
   ],
   "source": [
    "pecahkalimat(\"source1.txt\",\"coba1.txt\")"
   ]
  },
  {
   "cell_type": "code",
   "execution_count": 5,
   "metadata": {},
   "outputs": [
    {
     "name": "stdout",
     "output_type": "stream",
     "text": [
      "201 kalimat | Ash-Shobru Minal Iman :)\n"
     ]
    }
   ],
   "source": [
    "pecahkalimat(\"tambah.txt\",\"train2.csv\")"
   ]
  },
  {
   "cell_type": "code",
   "execution_count": null,
   "metadata": {},
   "outputs": [],
   "source": []
  }
 ],
 "metadata": {
  "kernelspec": {
   "display_name": "Python 3",
   "language": "python",
   "name": "python3"
  },
  "language_info": {
   "codemirror_mode": {
    "name": "ipython",
    "version": 3
   },
   "file_extension": ".py",
   "mimetype": "text/x-python",
   "name": "python",
   "nbconvert_exporter": "python",
   "pygments_lexer": "ipython3",
   "version": "3.6.4"
  }
 },
 "nbformat": 4,
 "nbformat_minor": 2
}
