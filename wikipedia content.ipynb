{
 "cells": [
  {
   "cell_type": "code",
   "execution_count": 25,
   "metadata": {},
   "outputs": [],
   "source": [
    "import wikipedia\n",
    "import re\n",
    "from IPython.display import clear_output"
   ]
  },
  {
   "cell_type": "code",
   "execution_count": 26,
   "metadata": {},
   "outputs": [],
   "source": [
    "def pecahkalimat(sourcefile,destfile):\n",
    "    open(destfile, 'w', encoding='utf-8').close()\n",
    "    f = open(sourcefile,encoding='utf-8')\n",
    "\n",
    "    i=1\n",
    "    kalimat = []\n",
    "    with open(destfile, \"a\", encoding='utf-8') as myfile:\n",
    "        for sentence in f:\n",
    "            kalimat = sentence.lower().split('.')\n",
    "            for kal in kalimat:\n",
    "                if len(kal) < 2:\n",
    "                    kalimat.remove(kal)\n",
    "                kal = kal.strip()\n",
    "                if len(kal) > 1:\n",
    "                    if kal == \"== see also ==\":\n",
    "                        return\n",
    "                    if kal[0:2] != \"==\":\n",
    "                        myfile.write(kal)\n",
    "                        myfile.write(\".\\n\")\n",
    "\n",
    "#                     clear_output(wait=True)\n",
    "#                     print(i,\"kalimat\",\"| Ash-Shobru Minal Iman :)\")\n",
    "                    i+=1"
   ]
  },
  {
   "cell_type": "code",
   "execution_count": 27,
   "metadata": {
    "scrolled": false
   },
   "outputs": [],
   "source": [
    "def cariwiki(katakunci,filename):\n",
    "    with open(filename,\"a\", encoding='utf-8') as file:\n",
    "        wiki = wikipedia.page(katakunci)\n",
    "        file.write(wiki.content)\n",
    "        file.write(\"\\n\")\n",
    "    print(wiki.title)"
   ]
  },
  {
   "cell_type": "code",
   "execution_count": 28,
   "metadata": {},
   "outputs": [],
   "source": [
    "def daftarwiki(daftar,file):\n",
    "    for i in range (0,len(daftar)):\n",
    "        cariwiki(daftar[i], file)"
   ]
  },
  {
   "cell_type": "code",
   "execution_count": 29,
   "metadata": {},
   "outputs": [],
   "source": [
    "def run(filename, daftar):\n",
    "    file = filename+'-wiki.txt'\n",
    "\n",
    "    open(file, 'w', encoding='utf-8').close()\n",
    "    daftarwiki(daftar,file)\n",
    "    pecahkalimat(filename+\"-wiki.txt\",filename+\"-sentence.txt\")    "
   ]
  },
  {
   "cell_type": "code",
   "execution_count": 30,
   "metadata": {
    "scrolled": true
   },
   "outputs": [
    {
     "name": "stdout",
     "output_type": "stream",
     "text": [
      "Food\n",
      "Cuisine\n"
     ]
    }
   ],
   "source": [
    "run('wiki/food', [\"Food\", \"Cuisine\"])"
   ]
  },
  {
   "cell_type": "code",
   "execution_count": 31,
   "metadata": {},
   "outputs": [
    {
     "name": "stdout",
     "output_type": "stream",
     "text": [
      "Customer service\n",
      "Waiting staff\n"
     ]
    }
   ],
   "source": [
    "run('wiki/service', [\"Customer service\", \"Waiting staff\"])"
   ]
  },
  {
   "cell_type": "code",
   "execution_count": 32,
   "metadata": {},
   "outputs": [
    {
     "name": "stdout",
     "output_type": "stream",
     "text": [
      "Theme restaurant\n",
      "Spirit of place\n"
     ]
    }
   ],
   "source": [
    "run('wiki/ambience', [\"Theme restaurant\", \"Spirit of place\"])"
   ]
  },
  {
   "cell_type": "code",
   "execution_count": 33,
   "metadata": {},
   "outputs": [
    {
     "name": "stdout",
     "output_type": "stream",
     "text": [
      "Price\n",
      "Value (economics)\n"
     ]
    }
   ],
   "source": [
    "run('wiki/value', [\"Price\", \"Value (economics)\"])"
   ]
  },
  {
   "cell_type": "code",
   "execution_count": 18,
   "metadata": {},
   "outputs": [
    {
     "data": {
      "text/plain": [
       "'=='"
      ]
     },
     "execution_count": 18,
     "metadata": {},
     "output_type": "execute_result"
    }
   ],
   "source": [
    "kal[0:2]"
   ]
  },
  {
   "cell_type": "code",
   "execution_count": 19,
   "metadata": {},
   "outputs": [],
   "source": [
    "kal = \"== See also ==\""
   ]
  },
  {
   "cell_type": "code",
   "execution_count": null,
   "metadata": {},
   "outputs": [],
   "source": []
  }
 ],
 "metadata": {
  "kernelspec": {
   "display_name": "Python 3",
   "language": "python",
   "name": "python3"
  },
  "language_info": {
   "codemirror_mode": {
    "name": "ipython",
    "version": 3
   },
   "file_extension": ".py",
   "mimetype": "text/x-python",
   "name": "python",
   "nbconvert_exporter": "python",
   "pygments_lexer": "ipython3",
   "version": "3.6.4"
  }
 },
 "nbformat": 4,
 "nbformat_minor": 2
}
