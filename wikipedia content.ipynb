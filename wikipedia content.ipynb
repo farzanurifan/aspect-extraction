{
 "cells": [
  {
   "cell_type": "code",
   "execution_count": 1,
   "metadata": {},
   "outputs": [],
   "source": [
    "import wikipedia\n",
    "import re\n",
    "from IPython.display import clear_output"
   ]
  },
  {
   "cell_type": "code",
   "execution_count": 2,
   "metadata": {},
   "outputs": [],
   "source": [
    "def preprocess(sentence):\n",
    "    res = sentence.lower()\n",
    "    return res"
   ]
  },
  {
   "cell_type": "code",
   "execution_count": 3,
   "metadata": {},
   "outputs": [],
   "source": [
    "def pecahkalimat(sourcefile,destfile):\n",
    "    open(destfile, 'w', encoding='utf-8').close()\n",
    "    f = open(sourcefile,encoding='utf-8')\n",
    "\n",
    "    i=1\n",
    "    kalimat = []\n",
    "    with open(destfile, \"a\", encoding='utf-8') as myfile:\n",
    "        for sentence in f:\n",
    "            kalimat = sentence.lower().split('.')\n",
    "            for kal in kalimat:\n",
    "                if len(kal) < 2:\n",
    "                    kalimat.remove(kal)\n",
    "                kal = kal.strip()\n",
    "                if len(kal) > 1:\n",
    "                    if kal == \"== see also ==\":\n",
    "                        return\n",
    "                    if kal[0:2] == \"==\":\n",
    "                        kal = re.sub('[^a-zA-Z ]+', '', kal).strip()\n",
    "                    myfile.write(kal)\n",
    "                    myfile.write(\".\\n\")\n",
    "\n",
    "#                     clear_output(wait=True)\n",
    "#                     print(i,\"kalimat\",\"| Ash-Shobru Minal Iman :)\")\n",
    "                    i+=1"
   ]
  },
  {
   "cell_type": "code",
   "execution_count": 4,
   "metadata": {
    "scrolled": false
   },
   "outputs": [],
   "source": [
    "def cariwiki(katakunci,filename):\n",
    "    with open(filename,\"a\", encoding='utf-8') as file:\n",
    "        wiki = wikipedia.page(katakunci)\n",
    "        file.write(wiki.content)\n",
    "        file.write(\"\\n\")\n",
    "    print(wiki.title)"
   ]
  },
  {
   "cell_type": "code",
   "execution_count": 5,
   "metadata": {},
   "outputs": [],
   "source": [
    "def daftarwiki(daftar,file):\n",
    "    open(file, 'w', encoding='utf-8').close()\n",
    "    for i in range (0,len(daftar)):\n",
    "        cariwiki(daftar[i], file)"
   ]
  },
  {
   "cell_type": "code",
   "execution_count": 6,
   "metadata": {},
   "outputs": [],
   "source": [
    "def run(filename, daftar):\n",
    "    file = filename+'-wiki.txt'\n",
    "\n",
    "    daftarwiki(daftar,file)\n",
    "    pecahkalimat(filename+\"-wiki.txt\",filename+\"-sentence.txt\")    "
   ]
  },
  {
   "cell_type": "code",
   "execution_count": 7,
   "metadata": {},
   "outputs": [],
   "source": [
    "# run('wiki/food', [\"Food\", \"Meal\", \"Drink\"])"
   ]
  },
  {
   "cell_type": "code",
   "execution_count": 8,
   "metadata": {},
   "outputs": [],
   "source": [
    "# run('wiki/service', [\"Customer service\", \"Waiting staff\", \"Employment\"])"
   ]
  },
  {
   "cell_type": "code",
   "execution_count": 9,
   "metadata": {},
   "outputs": [],
   "source": [
    "# run('wiki/ambience', [\"Atmosphere (architecture and spatial design)\", \"Ambience (sound recording)\"])"
   ]
  },
  {
   "cell_type": "code",
   "execution_count": 14,
   "metadata": {},
   "outputs": [],
   "source": [
    "# run('wiki/price', [\"Price\", \"Pricing\"])"
   ]
  },
  {
   "cell_type": "code",
   "execution_count": 10,
   "metadata": {},
   "outputs": [
    {
     "name": "stdout",
     "output_type": "stream",
     "text": [
      "United States dollar\n"
     ]
    }
   ],
   "source": [
    "daftar = [\n",
    "#             \"Food\", \"Meal\", \"Drink\", \"Customer service\",\n",
    "#             \"Waiting staff\", \"Employment\", \"Atmosphere (architecture and spatial design)\",\n",
    "#             \"Ambience (sound recording)\",\n",
    "#             \"Price\", \"Pricing\", \"Theme restaurant\",\n",
    "#             \"Cuisine\"\n",
    "#     \"Spirit of place\"\n",
    "    \"United States dollar\"\n",
    "         ]\n",
    "for x in daftar:\n",
    "    run('wiki/source/'+ x, [x])"
   ]
  },
  {
   "cell_type": "code",
   "execution_count": 11,
   "metadata": {},
   "outputs": [
    {
     "data": {
      "text/plain": [
       "113"
      ]
     },
     "execution_count": 11,
     "metadata": {},
     "output_type": "execute_result"
    }
   ],
   "source": [
    "import pandas as pd\n",
    "\n",
    "data = pd.read_csv('wiki/source/Theme restaurant-sentence.txt', sep=\"\\n\", header=None)\n",
    "len(data)"
   ]
  },
  {
   "cell_type": "code",
   "execution_count": 12,
   "metadata": {},
   "outputs": [],
   "source": [
    "def generate_file(filename,part, total, panjang):\n",
    "    with open('wiki/source/'+ filename +'_'+ str(part) +'.bat',\"w\", encoding='utf-8') as file:\n",
    "        file.write('call \\\"C:\\\\ProgramData\\\\Anaconda3\\\\Scripts\\\\activate.bat\\\"\\ncd \\\"C:\\\\\"\\n')\n",
    "        start = int(panjang * part / total)\n",
    "        end = start + 5\n",
    "        maximum = int(panjang * (part + 1) / total)\n",
    "        while True:\n",
    "            if start > maximum:\n",
    "                break\n",
    "            file.write('python elmo_wiki.py ' + str(start) + ' ' + str(end) + ' \\\"' + filename + \"\\\"\\n\")\n",
    "            start = end\n",
    "            end = start + 5"
   ]
  },
  {
   "cell_type": "code",
   "execution_count": 13,
   "metadata": {},
   "outputs": [],
   "source": [
    "import pandas as pd\n",
    "\n",
    "\n",
    "def generate_all(daftar):\n",
    "    total = 8\n",
    "    for judul in daftar:\n",
    "        data = pd.read_csv('wiki/source/'+ judul +'-sentence.txt', sep=\"\\n\", header=None)\n",
    "        panjang = len(data)\n",
    "        for index in range(0, total):\n",
    "            generate_file(judul, index, total, panjang)"
   ]
  },
  {
   "cell_type": "code",
   "execution_count": 14,
   "metadata": {},
   "outputs": [],
   "source": [
    "daftar = [\n",
    "#             \"Food\", \"Meal\", \"Drink\", \"Customer service\",\n",
    "#             \"Waiting staff\", \"Employment\", \"Atmosphere (architecture and spatial design)\",\n",
    "#             \"Ambience (sound recording)\",\n",
    "#             \"Price\", \"Pricing\", \"Theme restaurant\",\n",
    "#             \"Cuisine\"\n",
    "#     \"Spirit of place\"\n",
    "    \"United States dollar\"\n",
    "         ]"
   ]
  },
  {
   "cell_type": "code",
   "execution_count": 15,
   "metadata": {},
   "outputs": [],
   "source": [
    "generate_all(daftar)"
   ]
  },
  {
   "cell_type": "code",
   "execution_count": null,
   "metadata": {},
   "outputs": [],
   "source": []
  }
 ],
 "metadata": {
  "kernelspec": {
   "display_name": "Python 3",
   "language": "python",
   "name": "python3"
  },
  "language_info": {
   "codemirror_mode": {
    "name": "ipython",
    "version": 3
   },
   "file_extension": ".py",
   "mimetype": "text/x-python",
   "name": "python",
   "nbconvert_exporter": "python",
   "pygments_lexer": "ipython3",
   "version": "3.6.4"
  }
 },
 "nbformat": 4,
 "nbformat_minor": 2
}
