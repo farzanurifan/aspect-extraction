{
 "cells": [
  {
   "cell_type": "code",
   "execution_count": 9,
   "metadata": {},
   "outputs": [
    {
     "name": "stdout",
     "output_type": "stream",
     "text": [
      "[[[-0.05932224 -0.13262331 -0.12817793 ...  0.3288126   0.11399676\n",
      "    0.02617983]\n",
      "  [-0.43660972  0.00219182  0.16379052 ...  0.10009497  0.6432299\n",
      "    0.8978418 ]\n",
      "  [-0.20095535  0.12939614  0.01121575 ... -0.263402   -0.15393613\n",
      "    0.4503605 ]]]\n"
     ]
    }
   ],
   "source": [
    "import tensorflow_hub as hub\n",
    "import tensorflow as tf\n",
    "\n",
    "word_to_embed = \"my bucket list\"\n",
    "\n",
    "elmo = hub.Module(\"https://tfhub.dev/google/elmo/2\")\n",
    "embedding_tensor = elmo([word_to_embed], as_dict=True)[\"elmo\"] # Use as_dict because I want the whole dict, then I select \"word_emb\"\n",
    "\n",
    "with tf.Session() as sess:\n",
    "    sess.run(tf.global_variables_initializer())\n",
    "    embedding = sess.run(embedding_tensor)\n",
    "    print(embedding)"
   ]
  },
  {
   "cell_type": "code",
   "execution_count": 18,
   "metadata": {},
   "outputs": [
    {
     "name": "stdout",
     "output_type": "stream",
     "text": [
      "[[-0.1436846   0.2987318   0.03843995 ...  0.5016644   0.15883756\n",
      "   0.03434482]\n",
      " [-0.1843532   0.29648897  0.4890324  ...  0.10009497  0.6432299\n",
      "   0.8978418 ]\n",
      " [-0.15860061  0.4353615   0.01199671 ... -0.263402   -0.15393613\n",
      "   0.4503605 ]]\n",
      "1024\n"
     ]
    }
   ],
   "source": [
    "import tensorflow_hub as hub\n",
    "import tensorflow as tf\n",
    "\n",
    "word_to_embed = \"your bucket list\"\n",
    "\n",
    "elmo = hub.Module(\"https://tfhub.dev/google/elmo/2\")\n",
    "embedding_tensor = elmo([word_to_embed], as_dict=True)[\"elmo\"] # Use as_dict because I want the whole dict, then I select \"word_emb\"\n",
    "\n",
    "with tf.Session() as sess:\n",
    "    sess.run(tf.global_variables_initializer())\n",
    "    embedding = sess.run(embedding_tensor)\n",
    "    print(embedding[0])\n",
    "    print(len(embedding[0][1]))"
   ]
  },
  {
   "cell_type": "code",
   "execution_count": null,
   "metadata": {},
   "outputs": [],
   "source": []
  }
 ],
 "metadata": {
  "kernelspec": {
   "display_name": "Python 3",
   "language": "python",
   "name": "python3"
  },
  "language_info": {
   "codemirror_mode": {
    "name": "ipython",
    "version": 3
   },
   "file_extension": ".py",
   "mimetype": "text/x-python",
   "name": "python",
   "nbconvert_exporter": "python",
   "pygments_lexer": "ipython3",
   "version": "3.6.4"
  }
 },
 "nbformat": 4,
 "nbformat_minor": 2
}
