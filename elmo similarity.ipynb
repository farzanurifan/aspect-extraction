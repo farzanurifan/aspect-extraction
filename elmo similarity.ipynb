{
 "cells": [
  {
   "cell_type": "code",
   "execution_count": 9,
   "metadata": {},
   "outputs": [
    {
     "name": "stdout",
     "output_type": "stream",
     "text": [
      "[[[-0.05932224 -0.13262331 -0.12817793 ...  0.3288126   0.11399676\n",
      "    0.02617983]\n",
      "  [-0.43660972  0.00219182  0.16379052 ...  0.10009497  0.6432299\n",
      "    0.8978418 ]\n",
      "  [-0.20095535  0.12939614  0.01121575 ... -0.263402   -0.15393613\n",
      "    0.4503605 ]]]\n"
     ]
    }
   ],
   "source": [
    "import tensorflow_hub as hub\n",
    "import tensorflow as tf\n",
    "\n",
    "word_to_embed = \"my bucket list\"\n",
    "\n",
    "elmo = hub.Module(\"https://tfhub.dev/google/elmo/2\")\n",
    "embedding_tensor = elmo([word_to_embed], as_dict=True)[\"elmo\"] # Use as_dict because I want the whole dict, then I select \"word_emb\"\n",
    "\n",
    "with tf.Session() as sess:\n",
    "    sess.run(tf.global_variables_initializer())\n",
    "    embedding = sess.run(embedding_tensor)\n",
    "    print(embedding)"
   ]
  },
  {
   "cell_type": "code",
   "execution_count": 23,
   "metadata": {},
   "outputs": [
    {
     "name": "stdout",
     "output_type": "stream",
     "text": [
      "[[[-0.14368463  0.29873192  0.03843989 ...  0.50166476  0.15883811\n",
      "    0.03434473]\n",
      "  [-0.18435314  0.29648897  0.48903278 ...  0.10009497  0.6432301\n",
      "    0.897842  ]\n",
      "  [-0.15860057  0.4353612   0.01199674 ... -0.26340234 -0.1539362\n",
      "    0.45036036]\n",
      "  [-0.02840841 -0.04353216  0.04130162 ...  0.02583168 -0.01429836\n",
      "   -0.01650422]]\n",
      "\n",
      " [[-1.3958733  -0.4763484  -0.4268618  ...  0.12392969  0.21801955\n",
      "   -0.06800567]\n",
      "  [-0.30146453 -0.7564825  -0.51807564 ...  0.22047217  0.755081\n",
      "   -0.10455108]\n",
      "  [ 0.22118889 -0.27256793 -0.14252165 ...  0.34860557  0.2009231\n",
      "   -0.20404641]\n",
      "  [ 0.11647832 -0.7335571   0.01142288 ...  0.01612551 -0.2543353\n",
      "    0.15265214]]]\n"
     ]
    }
   ],
   "source": [
    "import tensorflow_hub as hub\n",
    "import tensorflow as tf\n",
    "\n",
    "word_to_embed = [\"your bucket list\", \"i am your father\"]\n",
    "\n",
    "elmo = hub.Module(\"https://tfhub.dev/google/elmo/2\")\n",
    "embedding_tensor = elmo(word_to_embed, as_dict=True)[\"elmo\"] # Use as_dict because I want the whole dict, then I select \"word_emb\"\n",
    "\n",
    "with tf.Session() as sess:\n",
    "    sess.run(tf.global_variables_initializer())\n",
    "    embedding = sess.run(embedding_tensor)\n",
    "    print(embedding)\n"
   ]
  },
  {
   "cell_type": "code",
   "execution_count": 29,
   "metadata": {},
   "outputs": [
    {
     "name": "stdout",
     "output_type": "stream",
     "text": [
      "[[[-1.3958735  -0.4763485  -0.42686176 ...  0.12392965  0.21801916\n",
      "   -0.06800556]\n",
      "  [-0.3014647  -0.7564826  -0.51807564 ...  0.22047189  0.75508124\n",
      "   -0.10455066]\n",
      "  [ 0.22118895 -0.27256787 -0.14252172 ...  0.3486055   0.20092317\n",
      "   -0.20404616]\n",
      "  [ 0.11647858 -0.7335572   0.01142302 ...  0.01612553 -0.25433514\n",
      "    0.15265225]]]\n"
     ]
    }
   ],
   "source": [
    "import tensorflow_hub as hub\n",
    "import tensorflow as tf\n",
    "\n",
    "word_to_embed = [\"i am your father\"]\n",
    "\n",
    "elmo = hub.Module(\"https://tfhub.dev/google/elmo/2\")\n",
    "embedding_tensor = elmo(word_to_embed, as_dict=True)[\"elmo\"] # Use as_dict because I want the whole dict, then I select \"word_emb\"\n",
    "\n",
    "with tf.Session() as sess:\n",
    "    sess.run(tf.global_variables_initializer())\n",
    "    embedding = sess.run(embedding_tensor)\n",
    "    print(embedding)"
   ]
  },
  {
   "cell_type": "code",
   "execution_count": 26,
   "metadata": {},
   "outputs": [],
   "source": [
    "import pickle\n",
    "# save elmo_train_new\n",
    "pickle_out = open(\"coba.pickle\",\"wb\")\n",
    "pickle.dump(embedding, pickle_out)\n",
    "pickle_out.close()\n"
   ]
  },
  {
   "cell_type": "code",
   "execution_count": 27,
   "metadata": {},
   "outputs": [],
   "source": [
    "# load elmo_train_new\n",
    "pickle_in = open(\"coba.pickle\", \"rb\")\n",
    "kk = pickle.load(pickle_in)"
   ]
  },
  {
   "cell_type": "code",
   "execution_count": 28,
   "metadata": {},
   "outputs": [
    {
     "data": {
      "text/plain": [
       "array([[[-0.14368463,  0.29873192,  0.03843989, ...,  0.50166476,\n",
       "          0.15883811,  0.03434473],\n",
       "        [-0.18435314,  0.29648897,  0.48903278, ...,  0.10009497,\n",
       "          0.6432301 ,  0.897842  ],\n",
       "        [-0.15860057,  0.4353612 ,  0.01199674, ..., -0.26340234,\n",
       "         -0.1539362 ,  0.45036036],\n",
       "        [-0.02840841, -0.04353216,  0.04130162, ...,  0.02583168,\n",
       "         -0.01429836, -0.01650422]],\n",
       "\n",
       "       [[-1.3958733 , -0.4763484 , -0.4268618 , ...,  0.12392969,\n",
       "          0.21801955, -0.06800567],\n",
       "        [-0.30146453, -0.7564825 , -0.51807564, ...,  0.22047217,\n",
       "          0.755081  , -0.10455108],\n",
       "        [ 0.22118889, -0.27256793, -0.14252165, ...,  0.34860557,\n",
       "          0.2009231 , -0.20404641],\n",
       "        [ 0.11647832, -0.7335571 ,  0.01142288, ...,  0.01612551,\n",
       "         -0.2543353 ,  0.15265214]]], dtype=float32)"
      ]
     },
     "execution_count": 28,
     "metadata": {},
     "output_type": "execute_result"
    }
   ],
   "source": [
    "kk"
   ]
  }
 ],
 "metadata": {
  "kernelspec": {
   "display_name": "Python 3",
   "language": "python",
   "name": "python3"
  },
  "language_info": {
   "codemirror_mode": {
    "name": "ipython",
    "version": 3
   },
   "file_extension": ".py",
   "mimetype": "text/x-python",
   "name": "python",
   "nbconvert_exporter": "python",
   "pygments_lexer": "ipython3",
   "version": "3.7.3"
  }
 },
 "nbformat": 4,
 "nbformat_minor": 2
}
