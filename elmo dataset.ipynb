{
 "cells": [
  {
   "cell_type": "code",
   "execution_count": 15,
   "metadata": {},
   "outputs": [],
   "source": [
    "import tensorflow_hub as hub\n",
    "import tensorflow as tf\n",
    "import pickle\n",
    "import pandas as pd\n",
    "\n",
    "df = pd.read_csv('dataset/res16.csv')\n",
    "ef = pd.DataFrame(columns = ['id','index'])\n",
    "\n",
    "def embed_elmo(word_to_embed):\n",
    "    elmo = hub.Module(\"https://tfhub.dev/google/elmo/2\")\n",
    "    embedding_tensor = elmo(word_to_embed, as_dict=True)[\"elmo\"]\n",
    "\n",
    "    with tf.Session() as sess:\n",
    "        sess.run(tf.global_variables_initializer())\n",
    "        embedding = sess.run(embedding_tensor)\n",
    "        return embedding\n",
    "\n",
    "def save(name, embedding):\n",
    "    pickle_out = open(\"elmo_restaurant/absa16/\" + name + \".pickle\",\"wb\")\n",
    "    pickle.dump(embedding, pickle_out)\n",
    "    pickle_out.close()\n",
    "\n",
    "def run(index):\n",
    "    id_name = df['sentenceID'][index].replace(':','_')\n",
    "    sentence = df['review'][index]\n",
    "#     print(id_name, sentence)\n",
    "    try:\n",
    "        save(str(id_name), embed_elmo([sentence]))\n",
    "        print(id_name, index)\n",
    "    except:\n",
    "        print(\"error on :\", id_name, index)"
   ]
  },
  {
   "cell_type": "code",
   "execution_count": 16,
   "metadata": {},
   "outputs": [
    {
     "name": "stdout",
     "output_type": "stream",
     "text": [
      "1004293_0 0\n"
     ]
    }
   ],
   "source": [
    "run(0)"
   ]
  },
  {
   "cell_type": "code",
   "execution_count": null,
   "metadata": {},
   "outputs": [],
   "source": []
  },
  {
   "cell_type": "code",
   "execution_count": 14,
   "metadata": {},
   "outputs": [],
   "source": [
    "import glob\n",
    "all_id = []\n",
    "for a in glob.glob(\"elmo_restaurant/*.pickle\"):\n",
    "    all_id.append(a.split('\\\\')[1].split('.')[0])"
   ]
  },
  {
   "cell_type": "code",
   "execution_count": 15,
   "metadata": {},
   "outputs": [],
   "source": [
    "index = 0\n",
    "for i in df['id']:\n",
    "    if str(i) not in all_id:\n",
    "        print(i, index)\n",
    "    index += 1"
   ]
  },
  {
   "cell_type": "code",
   "execution_count": null,
   "metadata": {},
   "outputs": [],
   "source": [
    "print(all_id)"
   ]
  },
  {
   "cell_type": "code",
   "execution_count": null,
   "metadata": {},
   "outputs": [],
   "source": [
    "embed_elmo([\" the atmosphere was amazing!\"])"
   ]
  },
  {
   "cell_type": "code",
   "execution_count": 17,
   "metadata": {},
   "outputs": [
    {
     "data": {
      "text/plain": [
       "1708"
      ]
     },
     "execution_count": 17,
     "metadata": {},
     "output_type": "execute_result"
    }
   ],
   "source": [
    "import pandas as pd\n",
    "\n",
    "df = pd.read_csv('dataset/res16.csv')\n",
    "len(df)"
   ]
  },
  {
   "cell_type": "code",
   "execution_count": 22,
   "metadata": {},
   "outputs": [],
   "source": [
    "with open('run_elmo.txt',\"w\", encoding='utf-8') as file:\n",
    "    start = 0\n",
    "    end = start + 5\n",
    "    while True:\n",
    "        if start > len(df):\n",
    "            break\n",
    "        file.write('python elmo_dataset.py ' + str(start) + ' ' + str(end) + \"\\n\")\n",
    "        start = end\n",
    "        end = start + 5"
   ]
  },
  {
   "cell_type": "code",
   "execution_count": null,
   "metadata": {},
   "outputs": [],
   "source": []
  }
 ],
 "metadata": {
  "kernelspec": {
   "display_name": "Python 3",
   "language": "python",
   "name": "python3"
  },
  "language_info": {
   "codemirror_mode": {
    "name": "ipython",
    "version": 3
   },
   "file_extension": ".py",
   "mimetype": "text/x-python",
   "name": "python",
   "nbconvert_exporter": "python",
   "pygments_lexer": "ipython3",
   "version": "3.6.4"
  }
 },
 "nbformat": 4,
 "nbformat_minor": 2
}
