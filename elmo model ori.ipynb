{
 "cells": [
  {
   "cell_type": "code",
   "execution_count": 3,
   "metadata": {},
   "outputs": [
    {
     "name": "stderr",
     "output_type": "stream",
     "text": [
      "C:\\ProgramData\\Anaconda3\\lib\\site-packages\\h5py\\__init__.py:36: FutureWarning: Conversion of the second argument of issubdtype from `float` to `np.floating` is deprecated. In future, it will be treated as `np.float64 == np.dtype(float).type`.\n",
      "  from ._conv import register_converters as _register_converters\n"
     ]
    }
   ],
   "source": [
    "import tensorflow_hub as hub\n",
    "import tensorflow as tf\n",
    "\n",
    "def embed_elmo(word_to_embed):\n",
    "    elmo = hub.Module(\"https://tfhub.dev/google/elmo/2\")\n",
    "    embedding_tensor = elmo(word_to_embed, as_dict=True)[\"elmo\"]\n",
    "\n",
    "    with tf.Session() as sess:\n",
    "        sess.run(tf.global_variables_initializer())\n",
    "        embedding = sess.run(embedding_tensor)\n",
    "        return sess.run(tf.reduce_mean(embedding,1))"
   ]
  },
  {
   "cell_type": "code",
   "execution_count": 4,
   "metadata": {},
   "outputs": [],
   "source": [
    "import pickle\n",
    "\n",
    "def load_term(id_file):\n",
    "    pickle_in = open(\"Term/\"+ str(id_file) +\".pickle\", \"rb\")\n",
    "    return pickle.load(pickle_in)\n",
    "\n",
    "def save(name, embedding):\n",
    "    pickle_out = open(\"elmo_category/elmo-ori/\" + name + \".pickle\",\"wb\")\n",
    "    pickle.dump(embedding, pickle_out)\n",
    "    pickle_out.close()"
   ]
  },
  {
   "cell_type": "code",
   "execution_count": 5,
   "metadata": {},
   "outputs": [],
   "source": [
    "def run(name):\n",
    "    models = []\n",
    "    terms = load_term(cat)\n",
    "    for term in terms:\n",
    "        print(term)\n",
    "        embedding = embed_elmo([term])\n",
    "        models.append(embedding[0])\n",
    "    save(name, models)"
   ]
  },
  {
   "cell_type": "code",
   "execution_count": 18,
   "metadata": {
    "scrolled": true
   },
   "outputs": [],
   "source": [
    "# category = [\n",
    "#     'ambience',\n",
    "#     'food',\n",
    "#     'service',\n",
    "#     'price'\n",
    "# ]\n",
    "# for cat in category:\n",
    "#     run(cat)"
   ]
  },
  {
   "cell_type": "code",
   "execution_count": 19,
   "metadata": {},
   "outputs": [],
   "source": [
    "import pandas as pd\n",
    "\n",
    "def get_terms(filename):\n",
    "    df = pd.read_csv('Results/Categorization/' + filename + '.csv')\n",
    "    for sentence_terms in df['term']:\n",
    "        if type(sentence_terms) == float:\n",
    "            continue\n",
    "        terms = sentence_terms.split('|')\n",
    "        for term in terms:\n",
    "            if term == '':\n",
    "#                 print(filename)\n",
    "                continue\n",
    "            all_terms.append(term)"
   ]
  },
  {
   "cell_type": "code",
   "execution_count": 20,
   "metadata": {},
   "outputs": [],
   "source": [
    "ate = ['lda', 'lda2vec', 'plsa', 'dp']\n",
    "sim = ['glove', 'w2v', 'fasttext', 'elmo']\n",
    "\n",
    "all_terms = []\n",
    "for a in ate:\n",
    "    for s in sim:\n",
    "        get_terms(a + '-' + s)\n",
    "        get_terms(a + '-partial-' + s)\n",
    "        get_terms(a + '-partial-ner-' + s)"
   ]
  },
  {
   "cell_type": "code",
   "execution_count": 21,
   "metadata": {},
   "outputs": [],
   "source": [
    "res = sorted(list(dict.fromkeys(all_terms)))"
   ]
  },
  {
   "cell_type": "code",
   "execution_count": 22,
   "metadata": {},
   "outputs": [
    {
     "data": {
      "text/plain": [
       "621"
      ]
     },
     "execution_count": 22,
     "metadata": {},
     "output_type": "execute_result"
    }
   ],
   "source": [
    "len(res)"
   ]
  },
  {
   "cell_type": "code",
   "execution_count": 63,
   "metadata": {},
   "outputs": [],
   "source": [
    "pickle_out = open(\"all_terms.pickle\",\"wb\")\n",
    "pickle.dump(res, pickle_out)\n",
    "pickle_out.close()"
   ]
  },
  {
   "cell_type": "code",
   "execution_count": 16,
   "metadata": {},
   "outputs": [
    {
     "name": "stdout",
     "output_type": "stream",
     "text": [
      "1024\n"
     ]
    }
   ],
   "source": [
    "pickle_in = open(\"elmo_restaurant/all_terms/terms/advanatage.pickle\", \"rb\")\n",
    "print(len(pickle.load(pickle_in)))"
   ]
  },
  {
   "cell_type": "code",
   "execution_count": 25,
   "metadata": {},
   "outputs": [],
   "source": [
    "def generate_file(part, total):\n",
    "    with open('run_elmo_ori_'+ str(part) +'.bat',\"w\", encoding='utf-8') as file:\n",
    "        file.write('call \\\"C:\\\\Users\\\\Admin\\\\Anaconda3\\\\Scripts\\\\activate.bat\\\"\\ncd \\\"C:\\\\Users\\\\Admin\\\\tugas-akhir\\\"\\n')\n",
    "        start = int(len(res) * part / total)\n",
    "        end = start + 5\n",
    "        maximum = int(len(res) * (part + 1) / total)\n",
    "        while True:\n",
    "            if start > maximum:\n",
    "                break\n",
    "            file.write('python elmo_terms.py ' + str(start) + ' ' + str(end) + \"\\n\")\n",
    "            start = end\n",
    "            end = start + 5"
   ]
  },
  {
   "cell_type": "code",
   "execution_count": 26,
   "metadata": {},
   "outputs": [],
   "source": [
    "total = 8\n",
    "for index in range(0, total):\n",
    "    generate_file(index, total)"
   ]
  },
  {
   "cell_type": "code",
   "execution_count": null,
   "metadata": {},
   "outputs": [],
   "source": []
  }
 ],
 "metadata": {
  "kernelspec": {
   "display_name": "Python 3",
   "language": "python",
   "name": "python3"
  },
  "language_info": {
   "codemirror_mode": {
    "name": "ipython",
    "version": 3
   },
   "file_extension": ".py",
   "mimetype": "text/x-python",
   "name": "python",
   "nbconvert_exporter": "python",
   "pygments_lexer": "ipython3",
   "version": "3.6.4"
  }
 },
 "nbformat": 4,
 "nbformat_minor": 2
}
