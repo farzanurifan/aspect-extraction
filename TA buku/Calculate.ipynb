{
 "cells": [
  {
   "cell_type": "code",
   "execution_count": 1,
   "metadata": {},
   "outputs": [],
   "source": [
    "def calculate_f1(p, r):\n",
    "    return round(2*((p*r)/(p+r)),2)"
   ]
  },
  {
   "cell_type": "code",
   "execution_count": 2,
   "metadata": {},
   "outputs": [],
   "source": [
    "def calculate(label, df):\n",
    "    tp = 0\n",
    "    tn = 0\n",
    "    fp = 0\n",
    "    fn = 0\n",
    "    kosong = 0\n",
    "    \n",
    "    for index in range(0, len(df)):\n",
    "        labels = df['label'][index].split(',')\n",
    "        \n",
    "        if type(df['predict'][index]) != float:\n",
    "            preds = df['predict'][index].split('|')\n",
    "\n",
    "            if label in labels and label in preds:\n",
    "                tp += 1\n",
    "            elif label not in labels and label not in preds:\n",
    "                tn += 1\n",
    "            elif label not in labels and label in preds:\n",
    "                fp += 1\n",
    "            elif label in labels and label not in preds:\n",
    "                fn += 1\n",
    "        elif label in labels:\n",
    "            fn += 1\n",
    "        else:\n",
    "            tn += 1\n",
    "    precision = round(tp / (tp + fp), 2)\n",
    "    recall = round(tp / (tp + fn), 2)\n",
    "    f1 = calculate_f1(precision, recall)\n",
    "    accuracy = round((tp+tn)/(tp+tn+fp+fn), 2)\n",
    "    print(tp, '\\t', tn, '\\t', fp, '\\t', fn, '\\t', '\\t', precision, '\\t', recall, '\\t', f1, '\\t', '\\t', accuracy)\n",
    "    return tp, tn, fp, fn, precision, recall, f1, accuracy"
   ]
  },
  {
   "cell_type": "code",
   "execution_count": 3,
   "metadata": {},
   "outputs": [],
   "source": [
    "import pandas as pd\n",
    "import numpy as np\n",
    "\n",
    "def run(tipe):\n",
    "    df = pd.read_csv('Results/Categorization/'+ tipe +'.csv')\n",
    "    sf = pd.DataFrame(columns=['TP', 'TN', 'FP', 'FN', 'precision', 'recall', 'f1', 'accuracy'])\n",
    "    print('tp', '\\t', 'tn', '\\t', 'fp', '\\t', 'fn', '\\t', '\\t', 'prec', '\\t', 'rec', '\\t', 'f1', '\\t', '\\t', 'accuracy')\n",
    "    precision = []\n",
    "    recall = []\n",
    "    f1 = []\n",
    "    cat = ['AMBIENCE', 'FOOD', 'SERVICE', 'PRICES']\n",
    "    for c in cat:\n",
    "        a, b, c, d, e, f, g, h = calculate(c, df)\n",
    "        precision.append(e)\n",
    "        recall.append(f)\n",
    "        f1.append(g)\n",
    "        sf = sf.append({'TP':a, 'TN':b, 'FP':c, 'FN':d, 'precision':e, 'recall':f, 'f1':g, 'accuracy': h}, ignore_index=True)\n",
    "    sf.to_excel(\"Results/Calculation/\"+ tipe +\".xlsx\")\n",
    "#     print(precision)\n",
    "    print('', '\\t', '', '\\t', '', '\\t', '', '\\t', '\\t', round(np.mean(precision),2), '\\t', round(np.mean(recall),2), '\\t', calculate_f1(round(np.mean(precision),2), round(np.mean(recall),2)), '\\t', '\\t')\n",
    "    return round(np.mean(precision),2), round(np.mean(recall),2), calculate_f1(round(np.mean(precision),2), round(np.mean(recall),2))\n"
   ]
  },
  {
   "cell_type": "code",
   "execution_count": 4,
   "metadata": {
    "scrolled": false
   },
   "outputs": [
    {
     "name": "stdout",
     "output_type": "stream",
     "text": [
      "tp \t tn \t fp \t fn \t \t prec \t rec \t f1 \t \t accuracy\n",
      "66 \t 210 \t 18 \t 64 \t \t 0.79 \t 0.51 \t 0.62 \t \t 0.77\n",
      "52 \t 212 \t 16 \t 78 \t \t 0.76 \t 0.4 \t 0.52 \t \t 0.74\n",
      "56 \t 218 \t 10 \t 74 \t \t 0.85 \t 0.43 \t 0.57 \t \t 0.77\n",
      "69 \t 189 \t 39 \t 61 \t \t 0.64 \t 0.53 \t 0.58 \t \t 0.72\n",
      " \t  \t  \t  \t \t 0.76 \t 0.47 \t 0.58 \t \t\n"
     ]
    },
    {
     "data": {
      "text/plain": [
       "(0.76, 0.47, 0.58)"
      ]
     },
     "execution_count": 4,
     "metadata": {},
     "output_type": "execute_result"
    }
   ],
   "source": [
    "run(\"lda-reza\")"
   ]
  },
  {
   "cell_type": "code",
   "execution_count": 5,
   "metadata": {},
   "outputs": [
    {
     "name": "stdout",
     "output_type": "stream",
     "text": [
      "tp \t tn \t fp \t fn \t \t prec \t rec \t f1 \t \t accuracy\n",
      "24 \t 172 \t 14 \t 45 \t \t 0.63 \t 0.35 \t 0.45 \t \t 0.77\n",
      "37 \t 119 \t 6 \t 93 \t \t 0.86 \t 0.28 \t 0.42 \t \t 0.61\n",
      "46 \t 164 \t 10 \t 35 \t \t 0.82 \t 0.57 \t 0.67 \t \t 0.82\n",
      "75 \t 114 \t 11 \t 55 \t \t 0.87 \t 0.58 \t 0.7 \t \t 0.74\n",
      " \t  \t  \t  \t \t 0.8 \t 0.44 \t 0.57 \t \t\n"
     ]
    },
    {
     "data": {
      "text/plain": [
       "(0.8, 0.44, 0.57)"
      ]
     },
     "execution_count": 5,
     "metadata": {},
     "output_type": "execute_result"
    }
   ],
   "source": [
    "run(\"plsa-dewi\")"
   ]
  },
  {
   "cell_type": "code",
   "execution_count": 44,
   "metadata": {},
   "outputs": [
    {
     "name": "stdout",
     "output_type": "stream",
     "text": [
      "tp \t tn \t fp \t fn \t \t prec \t rec \t f1 \t \t accuracy\n",
      "82 \t 159 \t 61 \t 23 \t \t 0.57 \t 0.78 \t 0.66 \t \t 0.74\n",
      "119 \t 140 \t 55 \t 11 \t \t 0.68 \t 0.92 \t 0.78 \t \t 0.8\n",
      "99 \t 158 \t 42 \t 26 \t \t 0.7 \t 0.79 \t 0.74 \t \t 0.79\n",
      "87 \t 143 \t 52 \t 43 \t \t 0.63 \t 0.67 \t 0.65 \t \t 0.71\n",
      " \t  \t  \t  \t \t 0.64 \t 0.79 \t 0.71 \t \t\n"
     ]
    },
    {
     "data": {
      "text/plain": [
       "(0.64, 0.79, 0.71)"
      ]
     },
     "execution_count": 44,
     "metadata": {},
     "output_type": "execute_result"
    }
   ],
   "source": [
    "run(\"dp-partial-ner-glove-money\")"
   ]
  },
  {
   "cell_type": "code",
   "execution_count": 45,
   "metadata": {},
   "outputs": [
    {
     "name": "stdout",
     "output_type": "stream",
     "text": [
      "tp \t tn \t fp \t fn \t \t prec \t rec \t f1 \t \t accuracy\n",
      "66 \t 210 \t 18 \t 64 \t \t 0.79 \t 0.51 \t 0.62 \t \t 0.77\n",
      "52 \t 212 \t 16 \t 78 \t \t 0.76 \t 0.4 \t 0.52 \t \t 0.74\n",
      "56 \t 218 \t 10 \t 74 \t \t 0.85 \t 0.43 \t 0.57 \t \t 0.77\n",
      "69 \t 189 \t 39 \t 61 \t \t 0.64 \t 0.53 \t 0.58 \t \t 0.72\n",
      " \t  \t  \t  \t \t 0.76 \t 0.47 \t 0.58 \t \t\n"
     ]
    },
    {
     "data": {
      "text/plain": [
       "(0.76, 0.47, 0.58)"
      ]
     },
     "execution_count": 45,
     "metadata": {},
     "output_type": "execute_result"
    }
   ],
   "source": [
    "run(\"lda-reza\")"
   ]
  },
  {
   "cell_type": "code",
   "execution_count": null,
   "metadata": {},
   "outputs": [],
   "source": [
    "p = 0.81\n",
    "r = 0.78\n",
    "round(2*((p*r)/(p+r)),3)"
   ]
  },
  {
   "cell_type": "code",
   "execution_count": null,
   "metadata": {},
   "outputs": [],
   "source": [
    "round(0.555, 2)"
   ]
  }
 ],
 "metadata": {
  "kernelspec": {
   "display_name": "Python 3",
   "language": "python",
   "name": "python3"
  },
  "language_info": {
   "codemirror_mode": {
    "name": "ipython",
    "version": 3
   },
   "file_extension": ".py",
   "mimetype": "text/x-python",
   "name": "python",
   "nbconvert_exporter": "python",
   "pygments_lexer": "ipython3",
   "version": "3.6.4"
  }
 },
 "nbformat": 4,
 "nbformat_minor": 2
}
