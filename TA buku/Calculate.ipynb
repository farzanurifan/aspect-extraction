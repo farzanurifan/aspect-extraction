{
 "cells": [
  {
   "cell_type": "code",
   "execution_count": 1,
   "metadata": {},
   "outputs": [],
   "source": [
    "def calculate_f1(p, r):\n",
    "    return round(2*((p*r)/(p+r)),2)"
   ]
  },
  {
   "cell_type": "code",
   "execution_count": 2,
   "metadata": {},
   "outputs": [],
   "source": [
    "def calculate(label, df):\n",
    "    tp = 0\n",
    "    tn = 0\n",
    "    fp = 0\n",
    "    fn = 0\n",
    "    kosong = 0\n",
    "    \n",
    "    for index in range(0, len(df)):\n",
    "        labels = df['label'][index].split(',')\n",
    "        \n",
    "        if type(df['predict'][index]) != float:\n",
    "            preds = df['predict'][index].split('|')\n",
    "\n",
    "            if label in labels and label in preds:\n",
    "                tp += 1\n",
    "            elif label not in labels and label not in preds:\n",
    "                tn += 1\n",
    "            elif label not in labels and label in preds:\n",
    "                fp += 1\n",
    "            elif label in labels and label not in preds:\n",
    "                fn += 1\n",
    "        elif label in labels:\n",
    "            fn += 1\n",
    "        else:\n",
    "            tn += 1\n",
    "    precision = round(tp / (tp + fp), 2)\n",
    "    recall = round(tp / (tp + fn), 2)\n",
    "    f1 = calculate_f1(precision, recall)\n",
    "    accuracy = round((tp+tn)/(tp+tn+fp+fn), 2)\n",
    "    print(tp, '\\t', tn, '\\t', fp, '\\t', fn, '\\t', '\\t', precision, '\\t', recall, '\\t', f1, '\\t', '\\t', accuracy)\n",
    "    return tp, tn, fp, fn, precision, recall, f1, accuracy"
   ]
  },
  {
   "cell_type": "code",
   "execution_count": 3,
   "metadata": {},
   "outputs": [],
   "source": [
    "import pandas as pd\n",
    "import numpy as np\n",
    "\n",
    "def run(tipe):\n",
    "    df = pd.read_csv('Results/Categorization/'+ tipe +'.csv')\n",
    "    sf = pd.DataFrame(columns=['TP', 'TN', 'FP', 'FN', 'precision', 'recall', 'f1', 'accuracy'])\n",
    "    print('tp', '\\t', 'tn', '\\t', 'fp', '\\t', 'fn', '\\t', '\\t', 'prec', '\\t', 'rec', '\\t', 'f1', '\\t', '\\t', 'accuracy')\n",
    "    precision = []\n",
    "    recall = []\n",
    "    f1 = []\n",
    "    cat = ['AMBIENCE', 'FOOD', 'SERVICE', 'PRICES']\n",
    "    for c in cat:\n",
    "        a, b, c, d, e, f, g, h = calculate(c, df)\n",
    "        precision.append(e)\n",
    "        recall.append(f)\n",
    "        f1.append(g)\n",
    "        sf = sf.append({'TP':a, 'TN':b, 'FP':c, 'FN':d, 'precision':e, 'recall':f, 'f1':g, 'accuracy': h}, ignore_index=True)\n",
    "    sf.to_excel(\"Results/Calculation/\"+ tipe +\".xlsx\")\n",
    "#     print(precision)\n",
    "    print('', '\\t', '', '\\t', '', '\\t', '', '\\t', '\\t', round(np.mean(precision),2), '\\t', round(np.mean(recall),2), '\\t', calculate_f1(round(np.mean(precision),2), round(np.mean(recall),2)), '\\t', '\\t')\n",
    "    return round(np.mean(precision),2), round(np.mean(recall),2), calculate_f1(round(np.mean(precision),2), round(np.mean(recall),2))\n"
   ]
  },
  {
   "cell_type": "code",
   "execution_count": 12,
   "metadata": {
    "scrolled": false
   },
   "outputs": [
    {
     "name": "stdout",
     "output_type": "stream",
     "text": [
      "tp \t tn \t fp \t fn \t \t prec \t rec \t f1 \t \t accuracy\n",
      "100 \t 175 \t 53 \t 30 \t \t 0.65 \t 0.77 \t 0.7 \t \t 0.77\n",
      "118 \t 128 \t 100 \t 12 \t \t 0.54 \t 0.91 \t 0.68 \t \t 0.69\n",
      "106 \t 201 \t 27 \t 24 \t \t 0.8 \t 0.82 \t 0.81 \t \t 0.86\n",
      "61 \t 201 \t 27 \t 69 \t \t 0.69 \t 0.47 \t 0.56 \t \t 0.73\n",
      " \t  \t  \t  \t \t 0.67 \t 0.74 \t 0.7 \t \t\n"
     ]
    },
    {
     "data": {
      "text/plain": [
       "(0.67, 0.74, 0.7)"
      ]
     },
     "execution_count": 12,
     "metadata": {},
     "output_type": "execute_result"
    }
   ],
   "source": [
    "run(\"output\")"
   ]
  },
  {
   "cell_type": "code",
   "execution_count": 13,
   "metadata": {},
   "outputs": [
    {
     "name": "stdout",
     "output_type": "stream",
     "text": [
      "tp \t tn \t fp \t fn \t \t prec \t rec \t f1 \t \t accuracy\n",
      "100 \t 175 \t 53 \t 30 \t \t 0.65 \t 0.77 \t 0.7 \t \t 0.77\n",
      "118 \t 128 \t 100 \t 12 \t \t 0.54 \t 0.91 \t 0.68 \t \t 0.69\n",
      "106 \t 201 \t 27 \t 24 \t \t 0.8 \t 0.82 \t 0.81 \t \t 0.86\n",
      "84 \t 200 \t 28 \t 46 \t \t 0.75 \t 0.65 \t 0.7 \t \t 0.79\n",
      " \t  \t  \t  \t \t 0.68 \t 0.79 \t 0.73 \t \t\n"
     ]
    },
    {
     "data": {
      "text/plain": [
       "(0.68, 0.79, 0.73)"
      ]
     },
     "execution_count": 13,
     "metadata": {},
     "output_type": "execute_result"
    }
   ],
   "source": [
    "run(\"output-money\")"
   ]
  },
  {
   "cell_type": "code",
   "execution_count": 5,
   "metadata": {},
   "outputs": [
    {
     "name": "stdout",
     "output_type": "stream",
     "text": [
      "tp \t tn \t fp \t fn \t \t prec \t rec \t f1 \t \t accuracy\n",
      "55 \t 212 \t 16 \t 75 \t \t 0.77 \t 0.42 \t 0.54 \t \t 0.75\n",
      "37 \t 218 \t 10 \t 93 \t \t 0.79 \t 0.28 \t 0.41 \t \t 0.71\n",
      "78 \t 209 \t 19 \t 52 \t \t 0.8 \t 0.6 \t 0.69 \t \t 0.8\n",
      "75 \t 207 \t 21 \t 55 \t \t 0.78 \t 0.58 \t 0.67 \t \t 0.79\n",
      " \t  \t  \t  \t \t 0.79 \t 0.47 \t 0.59 \t \t\n"
     ]
    },
    {
     "data": {
      "text/plain": [
       "(0.79, 0.47, 0.59)"
      ]
     },
     "execution_count": 5,
     "metadata": {},
     "output_type": "execute_result"
    }
   ],
   "source": [
    "run(\"plsa-dewi\")"
   ]
  },
  {
   "cell_type": "code",
   "execution_count": 7,
   "metadata": {
    "scrolled": true
   },
   "outputs": [
    {
     "name": "stdout",
     "output_type": "stream",
     "text": [
      "tp \t tn \t fp \t fn \t \t prec \t rec \t f1 \t \t accuracy\n",
      "88 \t 185 \t 43 \t 42 \t \t 0.67 \t 0.68 \t 0.67 \t \t 0.76\n",
      "103 \t 148 \t 80 \t 27 \t \t 0.56 \t 0.79 \t 0.66 \t \t 0.7\n",
      "92 \t 204 \t 24 \t 38 \t \t 0.79 \t 0.71 \t 0.75 \t \t 0.83\n",
      "80 \t 209 \t 19 \t 50 \t \t 0.81 \t 0.62 \t 0.7 \t \t 0.81\n",
      " \t  \t  \t  \t \t 0.71 \t 0.7 \t 0.7 \t \t\n"
     ]
    },
    {
     "data": {
      "text/plain": [
       "(0.71, 0.7, 0.7)"
      ]
     },
     "execution_count": 7,
     "metadata": {},
     "output_type": "execute_result"
    }
   ],
   "source": [
    "run(\"dp-w2v-money\")"
   ]
  },
  {
   "cell_type": "code",
   "execution_count": 8,
   "metadata": {},
   "outputs": [
    {
     "name": "stdout",
     "output_type": "stream",
     "text": [
      "tp \t tn \t fp \t fn \t \t prec \t rec \t f1 \t \t accuracy\n",
      "88 \t 188 \t 40 \t 42 \t \t 0.69 \t 0.68 \t 0.68 \t \t 0.77\n",
      "102 \t 184 \t 44 \t 28 \t \t 0.7 \t 0.78 \t 0.74 \t \t 0.8\n",
      "90 \t 191 \t 37 \t 40 \t \t 0.71 \t 0.69 \t 0.7 \t \t 0.78\n",
      "84 \t 188 \t 40 \t 46 \t \t 0.68 \t 0.65 \t 0.66 \t \t 0.76\n",
      " \t  \t  \t  \t \t 0.7 \t 0.7 \t 0.7 \t \t\n"
     ]
    },
    {
     "data": {
      "text/plain": [
       "(0.7, 0.7, 0.7)"
      ]
     },
     "execution_count": 8,
     "metadata": {},
     "output_type": "execute_result"
    }
   ],
   "source": [
    "run(\"dp-glove-money\")"
   ]
  },
  {
   "cell_type": "code",
   "execution_count": 9,
   "metadata": {},
   "outputs": [
    {
     "name": "stdout",
     "output_type": "stream",
     "text": [
      "tp \t tn \t fp \t fn \t \t prec \t rec \t f1 \t \t accuracy\n",
      "82 \t 181 \t 47 \t 48 \t \t 0.64 \t 0.63 \t 0.63 \t \t 0.73\n",
      "103 \t 180 \t 48 \t 27 \t \t 0.68 \t 0.79 \t 0.73 \t \t 0.79\n",
      "96 \t 188 \t 40 \t 34 \t \t 0.71 \t 0.74 \t 0.72 \t \t 0.79\n",
      "80 \t 200 \t 28 \t 50 \t \t 0.74 \t 0.62 \t 0.67 \t \t 0.78\n",
      " \t  \t  \t  \t \t 0.69 \t 0.7 \t 0.69 \t \t\n"
     ]
    },
    {
     "data": {
      "text/plain": [
       "(0.69, 0.7, 0.69)"
      ]
     },
     "execution_count": 9,
     "metadata": {},
     "output_type": "execute_result"
    }
   ],
   "source": [
    "run(\"dp-fasttext-money\")"
   ]
  },
  {
   "cell_type": "code",
   "execution_count": 5,
   "metadata": {
    "scrolled": true
   },
   "outputs": [
    {
     "name": "stdout",
     "output_type": "stream",
     "text": [
      "tp \t tn \t fp \t fn \t \t prec \t rec \t f1 \t \t accuracy\n",
      "101 \t 174 \t 54 \t 29 \t \t 0.65 \t 0.78 \t 0.71 \t \t 0.77\n",
      "118 \t 119 \t 109 \t 12 \t \t 0.52 \t 0.91 \t 0.66 \t \t 0.66\n",
      "106 \t 197 \t 31 \t 24 \t \t 0.77 \t 0.82 \t 0.79 \t \t 0.85\n",
      "84 \t 199 \t 29 \t 46 \t \t 0.74 \t 0.65 \t 0.69 \t \t 0.79\n",
      " \t  \t  \t  \t \t 0.67 \t 0.79 \t 0.73 \t \t\n"
     ]
    },
    {
     "data": {
      "text/plain": [
       "(0.67, 0.79, 0.73)"
      ]
     },
     "execution_count": 5,
     "metadata": {},
     "output_type": "execute_result"
    }
   ],
   "source": [
    "run(\"dp-partial-ner-w2v-money\")"
   ]
  },
  {
   "cell_type": "code",
   "execution_count": 15,
   "metadata": {},
   "outputs": [
    {
     "name": "stdout",
     "output_type": "stream",
     "text": [
      "tp \t tn \t fp \t fn \t \t prec \t rec \t f1 \t \t accuracy\n",
      "100 \t 175 \t 53 \t 30 \t \t 0.65 \t 0.77 \t 0.7 \t \t 0.77\n",
      "118 \t 128 \t 100 \t 12 \t \t 0.54 \t 0.91 \t 0.68 \t \t 0.69\n",
      "106 \t 201 \t 27 \t 24 \t \t 0.8 \t 0.82 \t 0.81 \t \t 0.86\n",
      "84 \t 200 \t 28 \t 46 \t \t 0.75 \t 0.65 \t 0.7 \t \t 0.79\n",
      " \t  \t  \t  \t \t 0.68 \t 0.79 \t 0.73 \t \t\n"
     ]
    },
    {
     "data": {
      "text/plain": [
       "(0.68, 0.79, 0.73)"
      ]
     },
     "execution_count": 15,
     "metadata": {},
     "output_type": "execute_result"
    }
   ],
   "source": [
    "run(\"dp-partial-ner-w2v-money\")"
   ]
  },
  {
   "cell_type": "code",
   "execution_count": 16,
   "metadata": {},
   "outputs": [
    {
     "name": "stdout",
     "output_type": "stream",
     "text": [
      "tp \t tn \t fp \t fn \t \t prec \t rec \t f1 \t \t accuracy\n",
      "98 \t 175 \t 53 \t 32 \t \t 0.65 \t 0.75 \t 0.7 \t \t 0.76\n",
      "116 \t 166 \t 62 \t 14 \t \t 0.65 \t 0.89 \t 0.75 \t \t 0.79\n",
      "104 \t 182 \t 46 \t 26 \t \t 0.69 \t 0.8 \t 0.74 \t \t 0.8\n",
      "88 \t 179 \t 49 \t 42 \t \t 0.64 \t 0.68 \t 0.66 \t \t 0.75\n",
      " \t  \t  \t  \t \t 0.66 \t 0.78 \t 0.72 \t \t\n"
     ]
    },
    {
     "data": {
      "text/plain": [
       "(0.66, 0.78, 0.72)"
      ]
     },
     "execution_count": 16,
     "metadata": {},
     "output_type": "execute_result"
    }
   ],
   "source": [
    "run(\"dp-partial-ner-glove-money\")"
   ]
  },
  {
   "cell_type": "code",
   "execution_count": 7,
   "metadata": {},
   "outputs": [
    {
     "name": "stdout",
     "output_type": "stream",
     "text": [
      "tp \t tn \t fp \t fn \t \t prec \t rec \t f1 \t \t accuracy\n",
      "100 \t 172 \t 56 \t 30 \t \t 0.64 \t 0.77 \t 0.7 \t \t 0.76\n",
      "117 \t 162 \t 66 \t 13 \t \t 0.64 \t 0.9 \t 0.75 \t \t 0.78\n",
      "104 \t 181 \t 47 \t 26 \t \t 0.69 \t 0.8 \t 0.74 \t \t 0.8\n",
      "88 \t 175 \t 53 \t 42 \t \t 0.62 \t 0.68 \t 0.65 \t \t 0.73\n",
      " \t  \t  \t  \t \t 0.65 \t 0.79 \t 0.71 \t \t\n"
     ]
    },
    {
     "data": {
      "text/plain": [
       "(0.65, 0.79, 0.71)"
      ]
     },
     "execution_count": 7,
     "metadata": {},
     "output_type": "execute_result"
    }
   ],
   "source": [
    "run(\"dp-partial-ner-glove-money\")"
   ]
  },
  {
   "cell_type": "code",
   "execution_count": 6,
   "metadata": {},
   "outputs": [
    {
     "name": "stdout",
     "output_type": "stream",
     "text": [
      "tp \t tn \t fp \t fn \t \t prec \t rec \t f1 \t \t accuracy\n",
      "93 \t 165 \t 63 \t 37 \t \t 0.6 \t 0.72 \t 0.65 \t \t 0.72\n",
      "118 \t 158 \t 70 \t 12 \t \t 0.63 \t 0.91 \t 0.74 \t \t 0.77\n",
      "111 \t 179 \t 49 \t 19 \t \t 0.69 \t 0.85 \t 0.76 \t \t 0.81\n",
      "84 \t 191 \t 37 \t 46 \t \t 0.69 \t 0.65 \t 0.67 \t \t 0.77\n",
      " \t  \t  \t  \t \t 0.65 \t 0.78 \t 0.71 \t \t\n"
     ]
    },
    {
     "data": {
      "text/plain": [
       "(0.65, 0.78, 0.71)"
      ]
     },
     "execution_count": 6,
     "metadata": {},
     "output_type": "execute_result"
    }
   ],
   "source": [
    "run(\"dp-partial-ner-fasttext-money\")"
   ]
  },
  {
   "cell_type": "code",
   "execution_count": 17,
   "metadata": {},
   "outputs": [
    {
     "name": "stdout",
     "output_type": "stream",
     "text": [
      "tp \t tn \t fp \t fn \t \t prec \t rec \t f1 \t \t accuracy\n",
      "92 \t 167 \t 61 \t 38 \t \t 0.6 \t 0.71 \t 0.65 \t \t 0.72\n",
      "118 \t 165 \t 63 \t 12 \t \t 0.65 \t 0.91 \t 0.76 \t \t 0.79\n",
      "111 \t 180 \t 48 \t 19 \t \t 0.7 \t 0.85 \t 0.77 \t \t 0.81\n",
      "84 \t 192 \t 36 \t 46 \t \t 0.7 \t 0.65 \t 0.67 \t \t 0.77\n",
      " \t  \t  \t  \t \t 0.66 \t 0.78 \t 0.72 \t \t\n"
     ]
    },
    {
     "data": {
      "text/plain": [
       "(0.66, 0.78, 0.72)"
      ]
     },
     "execution_count": 17,
     "metadata": {},
     "output_type": "execute_result"
    }
   ],
   "source": [
    "run(\"dp-partial-ner-fasttext-money\")"
   ]
  },
  {
   "cell_type": "code",
   "execution_count": 10,
   "metadata": {},
   "outputs": [
    {
     "name": "stdout",
     "output_type": "stream",
     "text": [
      "dp glove\n",
      "tp \t tn \t fp \t fn \t \t prec \t rec \t f1 \t \t accuracy\n",
      "88 \t 188 \t 40 \t 42 \t \t 0.69 \t 0.68 \t 0.68 \t \t 0.77\n",
      "102 \t 184 \t 44 \t 28 \t \t 0.7 \t 0.78 \t 0.74 \t \t 0.8\n",
      "90 \t 191 \t 37 \t 40 \t \t 0.71 \t 0.69 \t 0.7 \t \t 0.78\n",
      "61 \t 189 \t 39 \t 69 \t \t 0.61 \t 0.47 \t 0.53 \t \t 0.7\n",
      " \t  \t  \t  \t \t 0.68 \t 0.66 \t 0.67 \t \t\n",
      "tp \t tn \t fp \t fn \t \t prec \t rec \t f1 \t \t accuracy\n",
      "100 \t 172 \t 56 \t 30 \t \t 0.64 \t 0.77 \t 0.7 \t \t 0.76\n",
      "117 \t 162 \t 66 \t 13 \t \t 0.64 \t 0.9 \t 0.75 \t \t 0.78\n",
      "104 \t 181 \t 47 \t 26 \t \t 0.69 \t 0.8 \t 0.74 \t \t 0.8\n",
      "69 \t 176 \t 52 \t 61 \t \t 0.57 \t 0.53 \t 0.55 \t \t 0.68\n",
      " \t  \t  \t  \t \t 0.64 \t 0.75 \t 0.69 \t \t\n",
      "tp \t tn \t fp \t fn \t \t prec \t rec \t f1 \t \t accuracy\n",
      "100 \t 172 \t 56 \t 30 \t \t 0.64 \t 0.77 \t 0.7 \t \t 0.76\n",
      "117 \t 162 \t 66 \t 13 \t \t 0.64 \t 0.9 \t 0.75 \t \t 0.78\n",
      "104 \t 181 \t 47 \t 26 \t \t 0.69 \t 0.8 \t 0.74 \t \t 0.8\n",
      "87 \t 175 \t 53 \t 43 \t \t 0.62 \t 0.67 \t 0.64 \t \t 0.73\n",
      " \t  \t  \t  \t \t 0.65 \t 0.78 \t 0.71 \t \t\n",
      "dp w2v\n",
      "tp \t tn \t fp \t fn \t \t prec \t rec \t f1 \t \t accuracy\n",
      "88 \t 185 \t 43 \t 42 \t \t 0.67 \t 0.68 \t 0.67 \t \t 0.76\n",
      "103 \t 148 \t 80 \t 27 \t \t 0.56 \t 0.79 \t 0.66 \t \t 0.7\n",
      "92 \t 204 \t 24 \t 38 \t \t 0.79 \t 0.71 \t 0.75 \t \t 0.83\n",
      "56 \t 210 \t 18 \t 74 \t \t 0.76 \t 0.43 \t 0.55 \t \t 0.74\n",
      " \t  \t  \t  \t \t 0.7 \t 0.65 \t 0.67 \t \t\n",
      "tp \t tn \t fp \t fn \t \t prec \t rec \t f1 \t \t accuracy\n",
      "101 \t 174 \t 54 \t 29 \t \t 0.65 \t 0.78 \t 0.71 \t \t 0.77\n",
      "118 \t 119 \t 109 \t 12 \t \t 0.52 \t 0.91 \t 0.66 \t \t 0.66\n",
      "106 \t 197 \t 31 \t 24 \t \t 0.77 \t 0.82 \t 0.79 \t \t 0.85\n",
      "61 \t 200 \t 28 \t 69 \t \t 0.69 \t 0.47 \t 0.56 \t \t 0.73\n",
      " \t  \t  \t  \t \t 0.66 \t 0.74 \t 0.7 \t \t\n",
      "tp \t tn \t fp \t fn \t \t prec \t rec \t f1 \t \t accuracy\n",
      "101 \t 174 \t 54 \t 29 \t \t 0.65 \t 0.78 \t 0.71 \t \t 0.77\n",
      "118 \t 119 \t 109 \t 12 \t \t 0.52 \t 0.91 \t 0.66 \t \t 0.66\n",
      "106 \t 197 \t 31 \t 24 \t \t 0.77 \t 0.82 \t 0.79 \t \t 0.85\n",
      "84 \t 199 \t 29 \t 46 \t \t 0.74 \t 0.65 \t 0.69 \t \t 0.79\n",
      " \t  \t  \t  \t \t 0.67 \t 0.79 \t 0.73 \t \t\n",
      "dp fasttext\n",
      "tp \t tn \t fp \t fn \t \t prec \t rec \t f1 \t \t accuracy\n",
      "82 \t 181 \t 47 \t 48 \t \t 0.64 \t 0.63 \t 0.63 \t \t 0.73\n",
      "103 \t 180 \t 48 \t 27 \t \t 0.68 \t 0.79 \t 0.73 \t \t 0.79\n",
      "96 \t 188 \t 40 \t 34 \t \t 0.71 \t 0.74 \t 0.72 \t \t 0.79\n",
      "57 \t 201 \t 27 \t 73 \t \t 0.68 \t 0.44 \t 0.53 \t \t 0.72\n",
      " \t  \t  \t  \t \t 0.68 \t 0.65 \t 0.66 \t \t\n",
      "tp \t tn \t fp \t fn \t \t prec \t rec \t f1 \t \t accuracy\n",
      "93 \t 165 \t 63 \t 37 \t \t 0.6 \t 0.72 \t 0.65 \t \t 0.72\n",
      "118 \t 158 \t 70 \t 12 \t \t 0.63 \t 0.91 \t 0.74 \t \t 0.77\n",
      "111 \t 179 \t 49 \t 19 \t \t 0.69 \t 0.85 \t 0.76 \t \t 0.81\n",
      "63 \t 192 \t 36 \t 67 \t \t 0.64 \t 0.48 \t 0.55 \t \t 0.71\n",
      " \t  \t  \t  \t \t 0.64 \t 0.74 \t 0.69 \t \t\n",
      "tp \t tn \t fp \t fn \t \t prec \t rec \t f1 \t \t accuracy\n",
      "93 \t 165 \t 63 \t 37 \t \t 0.6 \t 0.72 \t 0.65 \t \t 0.72\n",
      "118 \t 158 \t 70 \t 12 \t \t 0.63 \t 0.91 \t 0.74 \t \t 0.77\n",
      "111 \t 179 \t 49 \t 19 \t \t 0.69 \t 0.85 \t 0.76 \t \t 0.81\n",
      "83 \t 191 \t 37 \t 47 \t \t 0.69 \t 0.64 \t 0.66 \t \t 0.77\n",
      " \t  \t  \t  \t \t 0.65 \t 0.78 \t 0.71 \t \t\n"
     ]
    }
   ],
   "source": [
    "ate = ['dp']\n",
    "sim = ['glove', 'w2v', 'fasttext']\n",
    "\n",
    "rf = pd.DataFrame(columns=['sim', 'ate', 'ac', 'precision', 'recall', 'f1'])\n",
    "for a in ate:\n",
    "    for s in sim:\n",
    "        print(a, s)\n",
    "        p, r, f = run(a + '-' + s)\n",
    "        rf = rf.append({'sim': s, 'ate': a, 'ac': 'AC1', 'precision': p, 'recall': r, 'f1': f}, ignore_index=True)\n",
    "        \n",
    "        p, r, f = run(a + '-partial-' + s)\n",
    "        rf = rf.append({'sim': s, 'ate': a, 'ac': 'AC2', 'precision': p, 'recall': r, 'f1': f}, ignore_index=True)\n",
    "        \n",
    "        p, r, f = run(a + '-partial-ner-' + s + '-money')\n",
    "        rf = rf.append({'sim': s, 'ate': a, 'ac': 'AC3', 'precision': p, 'recall': r, 'f1': f}, ignore_index=True)\n",
    "\n",
    "rf.to_excel(\"Results/all_method.xlsx\")"
   ]
  },
  {
   "cell_type": "code",
   "execution_count": null,
   "metadata": {},
   "outputs": [],
   "source": [
    "p = 0.81\n",
    "r = 0.78\n",
    "round(2*((p*r)/(p+r)),3)"
   ]
  },
  {
   "cell_type": "code",
   "execution_count": null,
   "metadata": {},
   "outputs": [],
   "source": [
    "round(0.555, 2)"
   ]
  }
 ],
 "metadata": {
  "kernelspec": {
   "display_name": "Python 3",
   "language": "python",
   "name": "python3"
  },
  "language_info": {
   "codemirror_mode": {
    "name": "ipython",
    "version": 3
   },
   "file_extension": ".py",
   "mimetype": "text/x-python",
   "name": "python",
   "nbconvert_exporter": "python",
   "pygments_lexer": "ipython3",
   "version": "3.6.4"
  }
 },
 "nbformat": 4,
 "nbformat_minor": 2
}
