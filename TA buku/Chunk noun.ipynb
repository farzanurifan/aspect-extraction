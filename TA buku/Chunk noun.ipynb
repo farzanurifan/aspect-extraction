{
 "cells": [
  {
   "cell_type": "code",
   "execution_count": 1,
   "metadata": {},
   "outputs": [],
   "source": [
    "import os\n",
    "import corenlp \n",
    "\n",
    "os.environ[\"CORENLP_HOME\"] = r'C:\\stanford-corenlp-full-2018-10-05'\n",
    "client = corenlp.CoreNLPClient()\n",
    "\n",
    "def get_nouns(sentence, chunk = False):\n",
    "    text = sentence.lower()\n",
    "    res = []\n",
    "    try:\n",
    "        pattern = '[{pos:NN}] | [{pos:NNS}] | [{pos:NNP}] | [{pos:NNPS}]'\n",
    "        matches = client.tokensregex(sentence, pattern)\n",
    "        response = matches['sentences'][0]\n",
    "        len_chunk = response['length']\n",
    "        if len_chunk > 0:\n",
    "            for index in range(0, len_chunk):\n",
    "                res.append(response[str(index)]['text'])\n",
    "    except:\n",
    "        print('err : ', sentence)\n",
    "        res = []\n",
    "    return res\n",
    "\n",
    "def get_adverbs(sentence, chunk = False):\n",
    "    text = sentence.lower()\n",
    "    res = []\n",
    "    try:\n",
    "        pattern = '[{pos:RB}]'\n",
    "        matches = client.tokensregex(sentence, pattern)\n",
    "        response = matches['sentences'][0]\n",
    "        len_chunk = response['length']\n",
    "        if len_chunk > 0:\n",
    "            for index in range(0, len_chunk):\n",
    "                res.append(response[str(index)]['text'])\n",
    "    except:\n",
    "        print('err')\n",
    "        res = []\n",
    "    return res"
   ]
  },
  {
   "cell_type": "code",
   "execution_count": 2,
   "metadata": {},
   "outputs": [],
   "source": [
    "import pandas as pd\n",
    "from tqdm import tqdm_notebook\n",
    "\n",
    "def run(tipe):\n",
    "    df = pd.read_csv(\"Results/ATE/\"+ tipe +\".csv\")\n",
    "    sf = pd.DataFrame(columns = ['id','review','target', 'category','term', 'polarity'])\n",
    "    count = 0\n",
    "    for index in tqdm_notebook(range(len(df))):\n",
    "        new_term = []\n",
    "        if type(df['term'][index]) != float:\n",
    "            terms = df['term'][index].split('|')\n",
    "            for term in terms:\n",
    "                if term not in adverbs:\n",
    "                    new_term.append(term)\n",
    "\n",
    "        if len(new_term) == 0:\n",
    "            nn = get_nouns(df['review'][index])\n",
    "            for n in nn:\n",
    "                new_term.append(n.lower() + '!-')\n",
    "            count += 1\n",
    "        \n",
    "        sf = sf.append({'id': df['id'][index], \n",
    "                    'review': df['review'][index],\n",
    "                    'target': df['target'][index],\n",
    "                    'category': df['category'][index],\n",
    "                    'term': '|'.join(new_term),\n",
    "                    'polarity': df['polarity'][index]\n",
    "                   }, ignore_index=True)\n",
    "    print(count)\n",
    "\n",
    "    sf.to_csv(\"Results/add_noun/\"+ tipe +\"-partial.csv\")\n",
    "    sf.to_excel(\"Results/add_noun/\"+ tipe +\"-partial.xlsx\")"
   ]
  },
  {
   "cell_type": "code",
   "execution_count": 3,
   "metadata": {},
   "outputs": [
    {
     "data": {
      "application/vnd.jupyter.widget-view+json": {
       "model_id": "65f96aef0887490c985a80f83543a758",
       "version_major": 2,
       "version_minor": 0
      },
      "text/plain": [
       "HBox(children=(IntProgress(value=0, max=358), HTML(value='')))"
      ]
     },
     "metadata": {},
     "output_type": "display_data"
    },
    {
     "name": "stdout",
     "output_type": "stream",
     "text": [
      "err :  Not because you are \"The Four Seasons\"... – you are allowed to charge an arm and a leg for a romatic dinner.\n",
      "\n",
      "60\n"
     ]
    }
   ],
   "source": [
    "run(\"dp\")"
   ]
  },
  {
   "cell_type": "code",
   "execution_count": null,
   "metadata": {},
   "outputs": [],
   "source": []
  }
 ],
 "metadata": {
  "kernelspec": {
   "display_name": "Python 3",
   "language": "python",
   "name": "python3"
  },
  "language_info": {
   "codemirror_mode": {
    "name": "ipython",
    "version": 3
   },
   "file_extension": ".py",
   "mimetype": "text/x-python",
   "name": "python",
   "nbconvert_exporter": "python",
   "pygments_lexer": "ipython3",
   "version": "3.6.4"
  }
 },
 "nbformat": 4,
 "nbformat_minor": 2
}
