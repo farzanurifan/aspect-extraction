{
 "cells": [
  {
   "cell_type": "code",
   "execution_count": 1,
   "metadata": {},
   "outputs": [],
   "source": [
    "from pycorenlp import StanfordCoreNLP\n",
    "import json\n",
    "\n",
    "nlp = StanfordCoreNLP('http://localhost:9000')\n",
    "dependency_parser = nlp.annotate\n",
    "\n",
    "def get_ner(sentence):\n",
    "    result = dependency_parser(sentence, properties={\n",
    "        \"outputFormat\": \"json\",\n",
    "        \"annotators\": \"ner\"})\n",
    "    res = []\n",
    "    for obj in result['sentences'][0]['entitymentions']:\n",
    "        res.append((obj['text'], obj['ner']))\n",
    "    return res"
   ]
  },
  {
   "cell_type": "code",
   "execution_count": 2,
   "metadata": {},
   "outputs": [
    {
     "data": {
      "text/plain": [
       "[('$4', 'MONEY'), ('indonesia', 'COUNTRY')]"
      ]
     },
     "execution_count": 2,
     "metadata": {},
     "output_type": "execute_result"
    }
   ],
   "source": [
    "get_ner(\"you owe obama $4 in indonesia\")"
   ]
  },
  {
   "cell_type": "code",
   "execution_count": 16,
   "metadata": {},
   "outputs": [],
   "source": [
    "import pandas as pd\n",
    "from tqdm import  tqdm_notebook\n",
    "\n",
    "all_tipe = []\n",
    "def run(tipe):\n",
    "    df = pd.read_csv(\"Results/add_noun/\"+ tipe +\".csv\")\n",
    "    sf = pd.DataFrame(columns = ['id', 'review', 'target', 'category', 'term', 'polarity'])\n",
    "    count = 0\n",
    "    for index in tqdm_notebook(range(len(df))):\n",
    "        all_ner = []\n",
    "        ner = get_ner(df['review'][index])\n",
    "        if len(ner):\n",
    "            for word, t in ner:\n",
    "                all_tipe.append(t)\n",
    "                if t != 'MONEY'and t != 'TITLE':\n",
    "                    print(t)\n",
    "                    all_ner.append(word)\n",
    "#                 if t == 'TITLE':\n",
    "#                     print(df['review'][index], word)\n",
    "#                     print(df['category'][index])\n",
    "        \n",
    "        terms_dp = []\n",
    "        if type(df['term'][index]) != float:\n",
    "            terms_dp = df['term'][index].split('|')\n",
    "            \n",
    "        if len(all_ner):\n",
    "            new_term = []\n",
    "            for t_dp in terms_dp:\n",
    "                flag = True\n",
    "                for n in all_ner:\n",
    "                    kata = t_dp.split('!')[0]\n",
    "                    if kata in n.lower() and kata != '':\n",
    "#                         print(df['review'][index])\n",
    "#                         print(t_dp, n)\n",
    "                        flag = False\n",
    "                if flag:\n",
    "                    new_term.append(t_dp)\n",
    "        else:\n",
    "            new_term = terms_dp\n",
    "        \n",
    "        sf = sf.append({'id': df['id'][index], \n",
    "                    'review': df['review'][index],\n",
    "                    'target': df['target'][index],\n",
    "                    'category': df['category'][index],\n",
    "                    'term': '|'.join(new_term),\n",
    "                    'polarity': df['polarity'][index]\n",
    "                   }, ignore_index=True)\n",
    "    print(count)\n",
    "\n",
    "    sf.to_csv(\"Results/Filter/\"+ tipe +\"-ner.csv\")\n",
    "    sf.to_excel(\"Results/Filter/\"+ tipe +\"-ner.xlsx\")"
   ]
  },
  {
   "cell_type": "code",
   "execution_count": 17,
   "metadata": {
    "scrolled": true
   },
   "outputs": [
    {
     "data": {
      "application/vnd.jupyter.widget-view+json": {
       "model_id": "2069bc9c8ad543178f7b72b32f921ef3",
       "version_major": 2,
       "version_minor": 0
      },
      "text/html": [
       "<p>Failed to display Jupyter Widget of type <code>HBox</code>.</p>\n",
       "<p>\n",
       "  If you're reading this message in the Jupyter Notebook or JupyterLab Notebook, it may mean\n",
       "  that the widgets JavaScript is still loading. If this message persists, it\n",
       "  likely means that the widgets JavaScript library is either not installed or\n",
       "  not enabled. See the <a href=\"https://ipywidgets.readthedocs.io/en/stable/user_install.html\">Jupyter\n",
       "  Widgets Documentation</a> for setup instructions.\n",
       "</p>\n",
       "<p>\n",
       "  If you're reading this message in another frontend (for example, a static\n",
       "  rendering on GitHub or <a href=\"https://nbviewer.jupyter.org/\">NBViewer</a>),\n",
       "  it may mean that your frontend doesn't currently support widgets.\n",
       "</p>\n"
      ],
      "text/plain": [
       "HBox(children=(IntProgress(value=0, max=358), HTML(value='')))"
      ]
     },
     "metadata": {},
     "output_type": "display_data"
    },
    {
     "name": "stdout",
     "output_type": "stream",
     "text": [
      "DATE\n",
      "TIME\n",
      "PERSON\n",
      "NATIONALITY\n",
      "NUMBER\n",
      "DURATION\n",
      "DATE\n",
      "PERSON\n",
      "DATE\n",
      "NATIONALITY\n",
      "NATIONALITY\n",
      "NATIONALITY\n",
      "NUMBER\n",
      "ORGANIZATION\n",
      "PERSON\n",
      "LOCATION\n",
      "TIME\n",
      "NATIONALITY\n",
      "CITY\n",
      "CITY\n",
      "LOCATION\n",
      "ORDINAL\n",
      "PERSON\n",
      "NATIONALITY\n",
      "NUMBER\n",
      "MISC\n",
      "CITY\n",
      "NUMBER\n",
      "DATE\n",
      "NUMBER\n",
      "MISC\n",
      "CITY\n",
      "NUMBER\n",
      "ORGANIZATION\n",
      "NUMBER\n",
      "NUMBER\n",
      "NATIONALITY\n",
      "NATIONALITY\n",
      "ORGANIZATION\n",
      "LOCATION\n",
      "NUMBER\n",
      "DURATION\n",
      "NUMBER\n",
      "ORGANIZATION\n",
      "NUMBER\n",
      "NUMBER\n",
      "ORGANIZATION\n",
      "DURATION\n",
      "ORDINAL\n",
      "NUMBER\n",
      "TIME\n",
      "PERSON\n",
      "PERSON\n",
      "PERSON\n",
      "PERSON\n",
      "NATIONALITY\n",
      "TIME\n",
      "TIME\n",
      "DATE\n",
      "DURATION\n",
      "DURATION\n",
      "DURATION\n",
      "CITY\n",
      "DATE\n",
      "PERSON\n",
      "MISC\n",
      "MISC\n",
      "NATIONALITY\n",
      "MISC\n",
      "NATIONALITY\n",
      "NATIONALITY\n",
      "STATE_OR_PROVINCE\n",
      "ORDINAL\n",
      "TIME\n",
      "DATE\n",
      "PERSON\n",
      "NUMBER\n",
      "ORDINAL\n",
      "TIME\n",
      "NATIONALITY\n",
      "TIME\n",
      "ORDINAL\n",
      "ORGANIZATION\n",
      "ORDINAL\n",
      "ORGANIZATION\n",
      "NUMBER\n",
      "NATIONALITY\n",
      "DATE\n",
      "STATE_OR_PROVINCE\n",
      "NUMBER\n",
      "CITY\n",
      "NATIONALITY\n",
      "CITY\n",
      "LOCATION\n",
      "NUMBER\n",
      "PERSON\n",
      "NATIONALITY\n",
      "COUNTRY\n",
      "PERSON\n",
      "DATE\n",
      "NUMBER\n",
      "DURATION\n",
      "ORGANIZATION\n",
      "CITY\n",
      "PERSON\n",
      "PERSON\n",
      "PERSON\n",
      "PERSON\n",
      "TIME\n",
      "DATE\n",
      "TIME\n",
      "PERSON\n",
      "LOCATION\n",
      "NUMBER\n",
      "DATE\n",
      "DATE\n",
      "DURATION\n",
      "NATIONALITY\n",
      "MISC\n",
      "DATE\n",
      "DATE\n",
      "DATE\n",
      "ORDINAL\n",
      "CITY\n",
      "CITY\n",
      "DATE\n",
      "SET\n",
      "DATE\n",
      "DURATION\n",
      "NATIONALITY\n",
      "TIME\n",
      "NUMBER\n",
      "\n",
      "0\n"
     ]
    }
   ],
   "source": [
    "run('dp-partial')"
   ]
  },
  {
   "cell_type": "code",
   "execution_count": 6,
   "metadata": {},
   "outputs": [
    {
     "data": {
      "text/plain": [
       "['CITY',\n",
       " 'COUNTRY',\n",
       " 'DATE',\n",
       " 'DURATION',\n",
       " 'LOCATION',\n",
       " 'MISC',\n",
       " 'MONEY',\n",
       " 'NATIONALITY',\n",
       " 'NUMBER',\n",
       " 'ORDINAL',\n",
       " 'ORGANIZATION',\n",
       " 'PERSON',\n",
       " 'SET',\n",
       " 'STATE_OR_PROVINCE',\n",
       " 'TIME',\n",
       " 'TITLE']"
      ]
     },
     "execution_count": 6,
     "metadata": {},
     "output_type": "execute_result"
    }
   ],
   "source": [
    "sorted(list(dict.fromkeys(all_tipe)))"
   ]
  },
  {
   "cell_type": "code",
   "execution_count": 13,
   "metadata": {},
   "outputs": [],
   "source": [
    "import string\n",
    "def rem_punct(word):\n",
    "    return word.translate(str.maketrans('', '', string.punctuation))"
   ]
  },
  {
   "cell_type": "code",
   "execution_count": 18,
   "metadata": {},
   "outputs": [],
   "source": [
    "import pandas as pd\n",
    "from tqdm import  tqdm_notebook\n",
    "\n",
    "def run_price(tipe):\n",
    "    df = pd.read_csv(\"Results/Categorization/\"+ tipe +\".csv\")\n",
    "    sf = pd.DataFrame(columns = ['id', 'review', 'target', 'label', 'predict', 'term', 'polarity'])\n",
    "    count = 0\n",
    "    for index in tqdm_notebook(range(len(df))):\n",
    "        all_ner = []\n",
    "        ner = get_ner(df['review'][index])\n",
    "        if len(ner):\n",
    "            for word, t in ner:\n",
    "                if t == 'MONEY':\n",
    "                    all_ner.append(word)\n",
    "        terms_dp = []\n",
    "        if type(df['term'][index]) != float:\n",
    "            terms_dp = df['term'][index].split('|')\n",
    "        \n",
    "        predicts = []\n",
    "        if type(df['predict'][index]) != float:\n",
    "            predicts = df['predict'][index].split('|')\n",
    "            \n",
    "        new_term = []\n",
    "        if len(all_ner):\n",
    "            for t_dp in terms_dp:\n",
    "                new_term.append(t_dp)\n",
    "            for n in all_ner:\n",
    "                new_term.append(n + '!-')\n",
    "                predicts.append('PRICES')\n",
    "                print(n)\n",
    "        else:\n",
    "            new_term = terms_dp\n",
    "        \n",
    "        sf = sf.append({'id': df['id'][index], \n",
    "                    'review': df['review'][index],\n",
    "                    'target': df['target'][index],\n",
    "                    'label': df['label'][index],\n",
    "                    'predict': '|'.join(predicts),\n",
    "                    'term': '|'.join(new_term),\n",
    "                    'polarity': df['polarity'][index]\n",
    "                   }, ignore_index=True)\n",
    "    print(count)\n",
    "\n",
    "    sf.to_csv(\"Results/Categorization/\"+ tipe +\"-money.csv\")\n",
    "    sf.to_excel(\"Results/Categorization/\"+ tipe +\"-money.xlsx\")\n",
    "    print('sksk')"
   ]
  },
  {
   "cell_type": "code",
   "execution_count": 21,
   "metadata": {
    "scrolled": true
   },
   "outputs": [
    {
     "data": {
      "application/vnd.jupyter.widget-view+json": {
       "model_id": "ff1a48aadf7041499af3e5bf13a9c94e",
       "version_major": 2,
       "version_minor": 0
      },
      "text/html": [
       "<p>Failed to display Jupyter Widget of type <code>HBox</code>.</p>\n",
       "<p>\n",
       "  If you're reading this message in the Jupyter Notebook or JupyterLab Notebook, it may mean\n",
       "  that the widgets JavaScript is still loading. If this message persists, it\n",
       "  likely means that the widgets JavaScript library is either not installed or\n",
       "  not enabled. See the <a href=\"https://ipywidgets.readthedocs.io/en/stable/user_install.html\">Jupyter\n",
       "  Widgets Documentation</a> for setup instructions.\n",
       "</p>\n",
       "<p>\n",
       "  If you're reading this message in another frontend (for example, a static\n",
       "  rendering on GitHub or <a href=\"https://nbviewer.jupyter.org/\">NBViewer</a>),\n",
       "  it may mean that your frontend doesn't currently support widgets.\n",
       "</p>\n"
      ],
      "text/plain": [
       "HBox(children=(IntProgress(value=0, max=358), HTML(value='')))"
      ]
     },
     "metadata": {},
     "output_type": "display_data"
    },
    {
     "name": "stdout",
     "output_type": "stream",
     "text": [
      "$6\n",
      "$20\n",
      "$3\n",
      "$8.00\n",
      "$18\n",
      "$3-6\n",
      "$70\n",
      "$30\n",
      "$7\n",
      "$24\n",
      "$10\n",
      "100 dollar\n",
      "$8.50\n",
      "$20\n",
      "$15\n",
      "$60\n",
      "$400.00\n",
      "$11\n",
      "$8\n",
      "$10\n",
      "$500\n",
      "$500\n",
      "$14\n",
      "$55\n",
      "$25\n",
      "$\n",
      "$2\n",
      "$29\n",
      "$500\n",
      "$24\n",
      "$60\n",
      "$*\n",
      "\n",
      "0\n",
      "sksk\n"
     ]
    }
   ],
   "source": [
    "run_price('dp-partial-ner-w2v')"
   ]
  },
  {
   "cell_type": "code",
   "execution_count": 10,
   "metadata": {
    "scrolled": true
   },
   "outputs": [
    {
     "data": {
      "application/vnd.jupyter.widget-view+json": {
       "model_id": "63c2ebe922fc461a859c5c92377dceec",
       "version_major": 2,
       "version_minor": 0
      },
      "text/html": [
       "<p>Failed to display Jupyter Widget of type <code>HBox</code>.</p>\n",
       "<p>\n",
       "  If you're reading this message in the Jupyter Notebook or JupyterLab Notebook, it may mean\n",
       "  that the widgets JavaScript is still loading. If this message persists, it\n",
       "  likely means that the widgets JavaScript library is either not installed or\n",
       "  not enabled. See the <a href=\"https://ipywidgets.readthedocs.io/en/stable/user_install.html\">Jupyter\n",
       "  Widgets Documentation</a> for setup instructions.\n",
       "</p>\n",
       "<p>\n",
       "  If you're reading this message in another frontend (for example, a static\n",
       "  rendering on GitHub or <a href=\"https://nbviewer.jupyter.org/\">NBViewer</a>),\n",
       "  it may mean that your frontend doesn't currently support widgets.\n",
       "</p>\n"
      ],
      "text/plain": [
       "HBox(children=(IntProgress(value=0, max=358), HTML(value='')))"
      ]
     },
     "metadata": {},
     "output_type": "display_data"
    },
    {
     "name": "stdout",
     "output_type": "stream",
     "text": [
      "$6\n",
      "$20\n",
      "$3\n",
      "$8.00\n",
      "$18\n",
      "$3-6\n",
      "$70\n",
      "$30\n",
      "$7\n",
      "$24\n",
      "$10\n",
      "100 dollar\n",
      "$8.50\n",
      "$20\n",
      "$15\n",
      "$60\n",
      "$400.00\n",
      "$11\n",
      "$8\n",
      "$10\n",
      "$500\n",
      "$500\n",
      "$14\n",
      "$55\n",
      "$25\n",
      "$\n",
      "$2\n",
      "$29\n",
      "$500\n",
      "$24\n",
      "$60\n",
      "$*\n",
      "\n",
      "0\n",
      "sksk\n"
     ]
    },
    {
     "data": {
      "application/vnd.jupyter.widget-view+json": {
       "model_id": "43893d20f96b47f198a43737c09b6606",
       "version_major": 2,
       "version_minor": 0
      },
      "text/html": [
       "<p>Failed to display Jupyter Widget of type <code>HBox</code>.</p>\n",
       "<p>\n",
       "  If you're reading this message in the Jupyter Notebook or JupyterLab Notebook, it may mean\n",
       "  that the widgets JavaScript is still loading. If this message persists, it\n",
       "  likely means that the widgets JavaScript library is either not installed or\n",
       "  not enabled. See the <a href=\"https://ipywidgets.readthedocs.io/en/stable/user_install.html\">Jupyter\n",
       "  Widgets Documentation</a> for setup instructions.\n",
       "</p>\n",
       "<p>\n",
       "  If you're reading this message in another frontend (for example, a static\n",
       "  rendering on GitHub or <a href=\"https://nbviewer.jupyter.org/\">NBViewer</a>),\n",
       "  it may mean that your frontend doesn't currently support widgets.\n",
       "</p>\n"
      ],
      "text/plain": [
       "HBox(children=(IntProgress(value=0, max=358), HTML(value='')))"
      ]
     },
     "metadata": {},
     "output_type": "display_data"
    },
    {
     "name": "stdout",
     "output_type": "stream",
     "text": [
      "$6\n",
      "$20\n",
      "$3\n",
      "$8.00\n",
      "$18\n",
      "$3-6\n",
      "$70\n",
      "$30\n",
      "$7\n",
      "$24\n",
      "$10\n",
      "100 dollar\n",
      "$8.50\n",
      "$20\n",
      "$15\n",
      "$60\n",
      "$400.00\n",
      "$11\n",
      "$8\n",
      "$10\n",
      "$500\n",
      "$500\n",
      "$14\n",
      "$55\n",
      "$25\n",
      "$\n",
      "$2\n",
      "$29\n",
      "$500\n",
      "$24\n",
      "$60\n",
      "$*\n",
      "\n",
      "0\n",
      "sksk\n"
     ]
    },
    {
     "data": {
      "application/vnd.jupyter.widget-view+json": {
       "model_id": "498531688519429181bf64401b01f236",
       "version_major": 2,
       "version_minor": 0
      },
      "text/html": [
       "<p>Failed to display Jupyter Widget of type <code>HBox</code>.</p>\n",
       "<p>\n",
       "  If you're reading this message in the Jupyter Notebook or JupyterLab Notebook, it may mean\n",
       "  that the widgets JavaScript is still loading. If this message persists, it\n",
       "  likely means that the widgets JavaScript library is either not installed or\n",
       "  not enabled. See the <a href=\"https://ipywidgets.readthedocs.io/en/stable/user_install.html\">Jupyter\n",
       "  Widgets Documentation</a> for setup instructions.\n",
       "</p>\n",
       "<p>\n",
       "  If you're reading this message in another frontend (for example, a static\n",
       "  rendering on GitHub or <a href=\"https://nbviewer.jupyter.org/\">NBViewer</a>),\n",
       "  it may mean that your frontend doesn't currently support widgets.\n",
       "</p>\n"
      ],
      "text/plain": [
       "HBox(children=(IntProgress(value=0, max=358), HTML(value='')))"
      ]
     },
     "metadata": {},
     "output_type": "display_data"
    },
    {
     "name": "stdout",
     "output_type": "stream",
     "text": [
      "$6\n",
      "$20\n",
      "$3\n",
      "$8.00\n",
      "$18\n",
      "$3-6\n",
      "$70\n",
      "$30\n",
      "$7\n",
      "$24\n",
      "$10\n",
      "100 dollar\n",
      "$8.50\n",
      "$20\n",
      "$15\n",
      "$60\n",
      "$400.00\n",
      "$11\n",
      "$8\n",
      "$10\n",
      "$500\n",
      "$500\n",
      "$14\n",
      "$55\n",
      "$25\n",
      "$\n",
      "$2\n",
      "$29\n",
      "$500\n",
      "$24\n",
      "$60\n",
      "$*\n",
      "\n",
      "0\n",
      "sksk\n"
     ]
    }
   ],
   "source": [
    "ate = ['dp'] #'lda', 'lda2vec', 'plsa', \n",
    "sim = ['glove', 'w2v', 'fasttext'] #'elmo', 'elmo_ori']\n",
    "\n",
    "for a in ate:\n",
    "    for s in sim:\n",
    "        run_price(a + '-' + s)"
   ]
  },
  {
   "cell_type": "code",
   "execution_count": null,
   "metadata": {},
   "outputs": [],
   "source": []
  },
  {
   "cell_type": "code",
   "execution_count": 12,
   "metadata": {},
   "outputs": [
    {
     "data": {
      "text/plain": [
       "'sd'"
      ]
     },
     "execution_count": 12,
     "metadata": {},
     "output_type": "execute_result"
    }
   ],
   "source": [
    "'|'.join(['sd'])"
   ]
  },
  {
   "cell_type": "code",
   "execution_count": null,
   "metadata": {},
   "outputs": [],
   "source": []
  }
 ],
 "metadata": {
  "kernelspec": {
   "display_name": "Python 3",
   "language": "python",
   "name": "python3"
  },
  "language_info": {
   "codemirror_mode": {
    "name": "ipython",
    "version": 3
   },
   "file_extension": ".py",
   "mimetype": "text/x-python",
   "name": "python",
   "nbconvert_exporter": "python",
   "pygments_lexer": "ipython3",
   "version": "3.6.4"
  }
 },
 "nbformat": 4,
 "nbformat_minor": 2
}
