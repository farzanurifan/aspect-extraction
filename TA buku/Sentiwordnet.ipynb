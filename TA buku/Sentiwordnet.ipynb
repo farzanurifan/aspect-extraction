{
 "cells": [
  {
   "cell_type": "code",
   "execution_count": 3,
   "metadata": {},
   "outputs": [
    {
     "name": "stderr",
     "output_type": "stream",
     "text": [
      "Warming up PyWSD (takes ~10 secs)... took 3.465684652328491 secs.\n"
     ]
    }
   ],
   "source": [
    "import nltk\n",
    "from nltk.corpus import sentiwordnet as swn\n",
    "from pycorenlp import StanfordCoreNLP\n",
    "from pywsd.lesk import adapted_lesk\n",
    "from pywsd.lesk import simple_lesk\n",
    "from pywsd.lesk import cosine_lesk\n",
    "from nltk.corpus import wordnet as wn\n",
    "import requests\n",
    "import sys, os\n",
    "import numpy as np\n",
    "import pandas as pd"
   ]
  },
  {
   "cell_type": "code",
   "execution_count": 4,
   "metadata": {},
   "outputs": [],
   "source": [
    "nlp = StanfordCoreNLP('http://localhost:9000')\n",
    "dependency_parser = nlp.annotate"
   ]
  },
  {
   "cell_type": "code",
   "execution_count": 5,
   "metadata": {},
   "outputs": [
    {
     "name": "stdout",
     "output_type": "stream",
     "text": [
      "<high.n.01: PosScore=0.125 NegScore=0.0>\n"
     ]
    }
   ],
   "source": [
    "breakdown = swn.senti_synset('high.n.01')\n",
    "print(breakdown)"
   ]
  },
  {
   "cell_type": "code",
   "execution_count": 6,
   "metadata": {},
   "outputs": [
    {
     "data": {
      "text/plain": [
       "[Synset('love.n.01'),\n",
       " Synset('love.n.02'),\n",
       " Synset('beloved.n.01'),\n",
       " Synset('love.n.04'),\n",
       " Synset('love.n.05'),\n",
       " Synset('sexual_love.n.02'),\n",
       " Synset('love.v.01'),\n",
       " Synset('love.v.02'),\n",
       " Synset('love.v.03'),\n",
       " Synset('sleep_together.v.01')]"
      ]
     },
     "execution_count": 6,
     "metadata": {},
     "output_type": "execute_result"
    }
   ],
   "source": [
    "wn.synsets('love')"
   ]
  },
  {
   "cell_type": "code",
   "execution_count": 7,
   "metadata": {},
   "outputs": [],
   "source": [
    "positive_lexicon = []\n",
    "negative_lexicon = []\n",
    "\n",
    "def read_lexicon():\n",
    "    global positive_lexicon;\n",
    "    global negative_lexicon;\n",
    "    \n",
    "    with open(os.path.join(os.path.abspath('../opinion-lexicon-English/') , 'positive-words.txt'), 'r') as file:\n",
    "        line = file.readline();\n",
    "        while \";\" in line:\n",
    "            line = file.readline();\n",
    "         \n",
    "        positive_lexicon = file.readlines()\n",
    "    \n",
    "    with open(os.path.join(os.path.abspath('../opinion-lexicon-English/') , 'negative-words.txt'), 'r', encoding = \"ISO-8859-1\") as file:\n",
    "        line = file.readline();\n",
    "        while \";\" in line:\n",
    "            line = file.readline();\n",
    "        \n",
    "        negative_lexicon = file.readlines()\n",
    "        \n",
    "    positive_lexicon = list(map(lambda word: word.rstrip(\"\\n\\r\"), positive_lexicon))\n",
    "    negative_lexicon = list(map(lambda word: word.rstrip(\"\\n\\r\"), negative_lexicon))\n",
    "    \n",
    "        \n",
    "read_lexicon()\n",
    "op_set = positive_lexicon + negative_lexicon"
   ]
  },
  {
   "cell_type": "code",
   "execution_count": 8,
   "metadata": {},
   "outputs": [],
   "source": [
    "def pos_tag(sentence):\n",
    "    result = dependency_parser(sentence, properties={\"outputFormat\": \"json\", \"annotators\": \"pos\"})['sentences'][0]['tokens']\n",
    "    res = []\n",
    "    for pos in result:\n",
    "        res.append((pos['word'], pos['pos']))\n",
    "    return res\n",
    "    \n",
    "# def pos_tag(sentence):\n",
    "#     '''url = \"http://localhost:9000\"\n",
    "#     request_params = {\"annotators\": \"pos\"}\n",
    "#     r = requests.post(url, data=sentence, params=request_params, timeout=120)\n",
    "#     try:\n",
    "#         results = r.json()['sentences'][0]['tokens']\n",
    "#         res = []\n",
    "#         for pos in results:\n",
    "#             res.append((pos['word'], pos['pos']))\n",
    "#         return res\n",
    "#     except Exception as e:\n",
    "#         print(e)\n",
    "#         return []\n",
    "#     '''\n",
    "#     return nltk.pos_tag(nltk.word_tokenize(sentence))"
   ]
  },
  {
   "cell_type": "code",
   "execution_count": 9,
   "metadata": {},
   "outputs": [],
   "source": [
    "negation = [\n",
    "    \"afraid\",\n",
    "    \"can't\",\n",
    "    \"cannot\",\n",
    "    \"deny\",\n",
    "    \"mean\",\n",
    "    \"negate\",\n",
    "    \"negation\",\n",
    "    \"negative\",\n",
    "    \"neither\",\n",
    "    \"never\",\n",
    "    \"no\",\n",
    "    \"non\",\n",
    "    \"none\",\n",
    "    \"nor\",\n",
    "    \"not\",\n",
    "    \"nothing\",\n",
    "    \"refusal\",\n",
    "    \"refuse\",\n",
    "    \"reject\",\n",
    "    \"rejection\",\n",
    "#     \"don't\",\n",
    "#     \"shouldn't\",\n",
    "#     \"wouldn't\",\n",
    "#     \"didn't\",\n",
    "#     \"though\",\n",
    "#     \"although\",\n",
    "#     \"wasn't\",\n",
    "#     \"isn't\",\n",
    "#     \"but\"\n",
    "]\n",
    "\n",
    "from nltk.corpus import sentiwordnet as swn\n",
    "import string\n",
    "\n",
    "def predict_lexicon(opinions, sent):\n",
    "    endscore = 0\n",
    "    for opinion in opinions:\n",
    "        if opinion in positive_lexicon:\n",
    "            endscore += 1\n",
    "        elif opinion in negative_lexicon:\n",
    "            endscore -= 1\n",
    "\n",
    "        words = sent.split(' ')\n",
    "        word_around = []\n",
    "        for x in range(0, len(words)):\n",
    "            if words[x] in string.punctuation:\n",
    "                continue\n",
    "            try:\n",
    "                if (words[x+1] == opinion) or (words[x+2] == opinion) or (words[x+3] == opinion) or (words[x+4] == opinion):\n",
    "                    word_around.append(words[x])\n",
    "                elif (words[x-1] == opinion):\n",
    "                    word_around.append(words[x])\n",
    "            except:\n",
    "                pass\n",
    "        for neg in negation:\n",
    "            if neg in word_around:\n",
    "                endscore *= (-1)\n",
    "                break\n",
    "\n",
    "    if endscore > 0:\n",
    "        polarity = 'positive'\n",
    "    else:\n",
    "        polarity = 'negative'\n",
    "           \n",
    "    return polarity\n",
    "\n",
    "def predict_sentiwordnet(opinions, sent):\n",
    "    endscore = 0\n",
    "    for opinion in opinions:\n",
    "#         if opinion in positive_lexicon:\n",
    "#             endscore += 1\n",
    "#         elif opinion in negative_lexicon:\n",
    "#             endscore -= 1\n",
    "#         break\n",
    "        try:\n",
    "            score = swn.senti_synset(opinion + '.a.1')\n",
    "            if score.pos_score() > score.neg_score():\n",
    "                endscore += score.pos_score()\n",
    "            else:\n",
    "                endscore += score.neg_score() * (-1)\n",
    "\n",
    "            words = sent.split(' ')\n",
    "            word_around = []\n",
    "            for x in range(0, len(words)):\n",
    "                if words[x] in string.punctuation:\n",
    "                    continue\n",
    "                try:\n",
    "                    if (words[x+1] == opinion) or (words[x+2] == opinion) or (words[x+3] == opinion) or (words[x+4] == opinion):\n",
    "                        word_around.append(words[x])\n",
    "                    elif (words[x-1] == opinion):\n",
    "                        word_around.append(words[x])\n",
    "                except:\n",
    "                    pass\n",
    "            for neg in negation:\n",
    "                if neg in word_around:\n",
    "                    endscore *= (-1)\n",
    "                    break\n",
    "        except:\n",
    "            if opinion in op_set:\n",
    "                print(opinion)\n",
    "            pass\n",
    "    if endscore > 0:\n",
    "        polarity = 'positive'\n",
    "    else:\n",
    "        polarity = 'negative'\n",
    "           \n",
    "    return polarity, endscore\n",
    "\n",
    "def predict_sentiwordnet_lesk(opinions, sent):\n",
    "    endscore = 0\n",
    "    for opinion in opinions:\n",
    "#         if opinion in positive_lexicon:\n",
    "#             endscore += 1\n",
    "#         elif opinion in negative_lexicon:\n",
    "#             endscore -= 1\n",
    "#         break\n",
    "        try:\n",
    "            tagged_sentence = pos_tag(sent)\n",
    "            op_with_tag = ('','')\n",
    "            for word, tag in tagged_sentence:\n",
    "                if opinion == word:\n",
    "                    op_with_tag = (word, tag)\n",
    "                    break\n",
    "                    \n",
    "            pos = ''\n",
    "            if 'NN' in op_with_tag[1]:\n",
    "                pos = 'n'\n",
    "            elif 'JJ' in op_with_tag[1]:\n",
    "                pos = 'a'\n",
    "            elif 'VB' in op_with_tag[1]:\n",
    "                pos = 'v'\n",
    "            elif 'RB' in op_with_tag[1]:\n",
    "                pos = 'r'\n",
    "            else:\n",
    "                pos = 'a'\n",
    "            \n",
    "            score = swn.senti_synset(simple_lesk(sent, opinion, pos).name())\n",
    "            if score.pos_score() > score.neg_score():\n",
    "                endscore += score.pos_score()\n",
    "            else:\n",
    "                endscore += score.neg_score() * (-1)\n",
    "                \n",
    "            words = sent.split(' ')\n",
    "            word_around = []\n",
    "            for x in range(0, len(words)):\n",
    "                if words[x] in string.punctuation:\n",
    "                    continue\n",
    "                try:\n",
    "                    if (words[x+1] == opinion) or (words[x+2] == opinion) or (words[x+3] == opinion) or (words[x+4] == opinion):\n",
    "                        word_around.append(words[x])\n",
    "                    elif (words[x-1] == opinion):\n",
    "                        word_around.append(words[x])\n",
    "                except:\n",
    "                    pass\n",
    "            \n",
    "            for neg in negation:\n",
    "                if neg in word_around:\n",
    "                    endscore *= (-1)\n",
    "                    break\n",
    "           \n",
    "        except Exception as e:\n",
    "            print(e)\n",
    "            pass\n",
    "            \n",
    "    if endscore > 0:\n",
    "        polarity = 'positive'\n",
    "    else:\n",
    "        polarity = 'negative'\n",
    "           \n",
    "    return polarity, endscore"
   ]
  },
  {
   "cell_type": "code",
   "execution_count": 10,
   "metadata": {},
   "outputs": [],
   "source": [
    "def calculate(category, tipe):\n",
    "    df = pd.read_csv('Results/Sentiwordnet/hasil_'+ tipe + category +'.csv')\n",
    "    tp, tn, fp, fn = 0, 0, 0, 0\n",
    "    p = 'positive'\n",
    "    n = 'negative'\n",
    "    for index in range(0, len(df)):\n",
    "        label = df['label'][index]\n",
    "        predict = df['predict'][index]\n",
    "        \n",
    "        if label == p and predict == p:\n",
    "            tp += 1\n",
    "        elif label == n and predict == n:\n",
    "            tn += 1\n",
    "        elif label == n and predict == p:\n",
    "            fp += 1\n",
    "        elif label == p and predict == n:\n",
    "            fn += 1\n",
    "    \n",
    "    precision = round(tp / (tp + fp), 2)\n",
    "    recall = round(tp / (tp + fn), 2)\n",
    "    f1 = round(2 * ((precision * recall) / (precision + recall)), 2)\n",
    "    accuracy = round((tp+tn)/(tp+tn+fp+fn), 2)\n",
    "    print(tp, '\\t', tn, '\\t', fp, '\\t', fn, '\\t', '\\t', precision, '\\t', recall, '\\t', f1, '\\t', '\\t', accuracy)\n",
    "    return tp, tn, fp, fn, precision, recall, f1, accuracy"
   ]
  },
  {
   "cell_type": "code",
   "execution_count": 11,
   "metadata": {},
   "outputs": [],
   "source": [
    "def preprocessing(sentence):\n",
    "    return sentence.lower()\n",
    "\n",
    "def calculate_f1(p, r):\n",
    "    return round(2*((p*r)/(p+r)),2)"
   ]
  },
  {
   "cell_type": "code",
   "execution_count": 12,
   "metadata": {},
   "outputs": [],
   "source": [
    "import numpy as np\n",
    "\n",
    "def print_hasil(tipe):\n",
    "    print('tp', '\\t', 'tn', '\\t', 'fp', '\\t', 'fn', '\\t', '\\t', 'prec', '\\t', 'rec', '\\t', 'f1', '\\t', '\\t', 'accuracy')\n",
    "    precision = []\n",
    "    recall = []\n",
    "    f1 = []\n",
    "    cat = ['AMBIENCE', 'FOOD', 'SERVICE', 'PRICES']\n",
    "    for c in cat:\n",
    "        a, b, c, d, e, f, g, h = calculate(c, tipe)\n",
    "        precision.append(e)\n",
    "        recall.append(f)\n",
    "        f1.append(g)\n",
    "#         sf = sf.append({'TP':a, 'TN':b, 'FP':c, 'FN':d, 'precision':e, 'recall':f, 'f1':g, 'accuracy': h}, ignore_index=True)\n",
    "#         sf.to_excel(\"Results/Calculation/\"+ tipe +\".xlsx\")\n",
    "    print('', '\\t', '', '\\t', '', '\\t', '', '\\t', '\\t', round(np.mean(precision),2), '\\t', round(np.mean(recall),2), '\\t', calculate_f1(round(np.mean(precision),2), round(np.mean(recall),2)), '\\t', '\\t')"
   ]
  },
  {
   "cell_type": "code",
   "execution_count": 13,
   "metadata": {},
   "outputs": [],
   "source": [
    "import pandas as pd\n",
    "def run_lex(category):\n",
    "    df = pd.read_csv('Results/'+ category +'.csv')\n",
    "    sf = pd.DataFrame(columns = ['id','review', 'opinion', 'label', 'predict'])\n",
    "    for index in range(0, len(df)):\n",
    "        opinion = []\n",
    "        if type(df['opinion'][index]) != float:\n",
    "            opinion = df['opinion'][index].split('|')\n",
    "            \n",
    "        prediction = predict_lexicon(opinion, preprocessing(df['review'][index]))\n",
    "        sf = sf.append({'id': df['id'][index], \n",
    "            'review': df['review'][index],\n",
    "            'opinion': df['opinion'][index],\n",
    "            'label': df['label'][index],\n",
    "            'predict': prediction\n",
    "           }, ignore_index=True)\n",
    "    \n",
    "    sf.to_csv(\"Results/Sentiwordnet/hasil_lex_\"+ category +\".csv\")\n",
    "    sf.to_excel(\"Results/Sentiwordnet/hasil_lex_\"+ category +\".xlsx\")"
   ]
  },
  {
   "cell_type": "code",
   "execution_count": 14,
   "metadata": {},
   "outputs": [],
   "source": [
    "import pandas as pd\n",
    "def run(category):\n",
    "    df = pd.read_csv('Results/'+ category +'.csv')\n",
    "    sf = pd.DataFrame(columns = ['id','review', 'opinion', 'label', 'predict','score'])\n",
    "    for index in range(0, len(df)):\n",
    "        opinion = []\n",
    "        if type(df['opinion'][index]) != float:\n",
    "            opinion = df['opinion'][index].split('|')\n",
    "            \n",
    "        prediction, score = predict_sentiwordnet(opinion, preprocessing(df['review'][index]))\n",
    "        sf = sf.append({'id': df['id'][index], \n",
    "            'review': df['review'][index],\n",
    "            'opinion': df['opinion'][index],\n",
    "            'label': df['label'][index],\n",
    "            'predict': prediction,\n",
    "            'score': score\n",
    "           }, ignore_index=True)\n",
    "    \n",
    "    sf.to_csv(\"Results/Sentiwordnet/hasil_\"+ category +\".csv\")\n",
    "    sf.to_excel(\"Results/Sentiwordnet/hasil_\"+ category +\".xlsx\")"
   ]
  },
  {
   "cell_type": "code",
   "execution_count": 15,
   "metadata": {},
   "outputs": [],
   "source": [
    "import pandas as pd\n",
    "def run_lesk(category):\n",
    "    df = pd.read_csv('Results/'+ category +'.csv')\n",
    "    sf = pd.DataFrame(columns = ['id','review', 'opinion', 'label', 'predict','score'])\n",
    "    for index in range(0, len(df)):\n",
    "        opinion = []\n",
    "        if type(df['opinion'][index]) != float:\n",
    "            opinion = df['opinion'][index].split('|')\n",
    "            \n",
    "        prediction, score = predict_sentiwordnet_lesk(opinion, preprocessing(df['review'][index]))\n",
    "        sf = sf.append({'id': df['id'][index], \n",
    "            'review': df['review'][index],\n",
    "            'opinion': df['opinion'][index],\n",
    "            'label': df['label'][index],\n",
    "            'predict': prediction,\n",
    "            'score': score\n",
    "           }, ignore_index=True)\n",
    "    \n",
    "    sf.to_csv(\"Results/Sentiwordnet/hasil_lesk_\"+ category +\".csv\")\n",
    "    sf.to_excel(\"Results/Sentiwordnet/hasil_lesk_\"+ category +\".xlsx\")"
   ]
  },
  {
   "cell_type": "code",
   "execution_count": 16,
   "metadata": {},
   "outputs": [],
   "source": [
    "run_lex('FOOD')\n",
    "run_lex('AMBIENCE')\n",
    "run_lex('SERVICE')\n",
    "run_lex('PRICES')"
   ]
  },
  {
   "cell_type": "code",
   "execution_count": 17,
   "metadata": {
    "scrolled": true
   },
   "outputs": [
    {
     "name": "stdout",
     "output_type": "stream",
     "text": [
      "delight\n",
      "delight\n",
      "bargain\n",
      "recommend\n",
      "enjoy\n",
      "consistently\n",
      "gem\n",
      "fun\n",
      "recommend\n",
      "kills\n",
      "enjoy\n",
      "attraction\n",
      "hang\n",
      "fun\n",
      "ghetto\n",
      "warmer\n",
      "love\n",
      "love\n",
      "recommend\n",
      "intimidate\n",
      "enjoy\n",
      "trouble\n",
      "exceeded\n"
     ]
    }
   ],
   "source": [
    "run('FOOD')\n",
    "run('AMBIENCE')\n",
    "run('SERVICE')\n",
    "run('PRICES')"
   ]
  },
  {
   "cell_type": "code",
   "execution_count": 18,
   "metadata": {
    "scrolled": false
   },
   "outputs": [],
   "source": [
    "# run_lesk('FOOD')\n",
    "# run_lesk('AMBIENCE')\n",
    "# run_lesk('SERVICE')\n",
    "# run_lesk('PRICES')"
   ]
  },
  {
   "cell_type": "code",
   "execution_count": 19,
   "metadata": {},
   "outputs": [
    {
     "name": "stdout",
     "output_type": "stream",
     "text": [
      "tp \t tn \t fp \t fn \t \t prec \t rec \t f1 \t \t accuracy\n",
      "58 \t 9 \t 3 \t 21 \t \t 0.95 \t 0.73 \t 0.83 \t \t 0.74\n",
      "59 \t 23 \t 2 \t 22 \t \t 0.97 \t 0.73 \t 0.83 \t \t 0.77\n",
      "48 \t 33 \t 6 \t 15 \t \t 0.89 \t 0.76 \t 0.82 \t \t 0.79\n",
      "26 \t 11 \t 3 \t 11 \t \t 0.9 \t 0.7 \t 0.79 \t \t 0.73\n",
      " \t  \t  \t  \t \t 0.93 \t 0.73 \t 0.82 \t \t\n"
     ]
    }
   ],
   "source": [
    "print_hasil('lex_') # lexicon"
   ]
  },
  {
   "cell_type": "code",
   "execution_count": 20,
   "metadata": {},
   "outputs": [
    {
     "name": "stdout",
     "output_type": "stream",
     "text": [
      "tp \t tn \t fp \t fn \t \t prec \t rec \t f1 \t \t accuracy\n",
      "42 \t 10 \t 2 \t 37 \t \t 0.95 \t 0.53 \t 0.68 \t \t 0.57\n",
      "42 \t 22 \t 3 \t 39 \t \t 0.93 \t 0.52 \t 0.67 \t \t 0.6\n",
      "32 \t 31 \t 8 \t 31 \t \t 0.8 \t 0.51 \t 0.62 \t \t 0.62\n",
      "19 \t 11 \t 3 \t 18 \t \t 0.86 \t 0.51 \t 0.64 \t \t 0.59\n",
      " \t  \t  \t  \t \t 0.88 \t 0.52 \t 0.65 \t \t\n"
     ]
    }
   ],
   "source": [
    "print_hasil('') # sentiwordnet"
   ]
  },
  {
   "cell_type": "code",
   "execution_count": 20,
   "metadata": {},
   "outputs": [],
   "source": [
    "# print_hasil('lesk_') # sentiwordnet + wsd"
   ]
  },
  {
   "cell_type": "code",
   "execution_count": 21,
   "metadata": {},
   "outputs": [
    {
     "data": {
      "text/plain": [
       "False"
      ]
     },
     "execution_count": 21,
     "metadata": {},
     "output_type": "execute_result"
    }
   ],
   "source": [
    "'long' in op_set"
   ]
  },
  {
   "cell_type": "code",
   "execution_count": null,
   "metadata": {},
   "outputs": [],
   "source": []
  }
 ],
 "metadata": {
  "kernelspec": {
   "display_name": "Python 3",
   "language": "python",
   "name": "python3"
  },
  "language_info": {
   "codemirror_mode": {
    "name": "ipython",
    "version": 3
   },
   "file_extension": ".py",
   "mimetype": "text/x-python",
   "name": "python",
   "nbconvert_exporter": "python",
   "pygments_lexer": "ipython3",
   "version": "3.7.1"
  }
 },
 "nbformat": 4,
 "nbformat_minor": 2
}
