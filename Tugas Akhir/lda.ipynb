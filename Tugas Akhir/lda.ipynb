{
 "cells": [
  {
   "cell_type": "code",
   "execution_count": 1,
   "metadata": {},
   "outputs": [],
   "source": [
    "import re\n",
    "import nltk\n",
    "import string\n",
    "from nltk.stem import WordNetLemmatizer\n",
    "\n",
    "lemmatizer = WordNetLemmatizer() \n",
    "\n",
    "nltk_words = set(nltk.corpus.stopwords.words('english'))\n",
    "stop_words = []\n",
    "for word in nltk_words:\n",
    "    stop_words.append(word.translate(str.maketrans('', '', string.punctuation)))\n",
    "\n",
    "def preprocess(sentence):\n",
    "    res = sentence.lower()\n",
    "    res = res.translate(str.maketrans('', '', string.punctuation))\n",
    "    tokenized_words = nltk.word_tokenize(res)\n",
    "    res = [word for word in tokenized_words if word not in stop_words]\n",
    "    res = [lemmatizer.lemmatize(r) for r in res]\n",
    "    res = [re.sub(r\"[^A-Za-z]+\", '', r) for r in res]\n",
    "    res = [r for r in res if len(r) > 3]\n",
    "    return res"
   ]
  },
  {
   "cell_type": "code",
   "execution_count": 2,
   "metadata": {},
   "outputs": [
    {
     "data": {
      "text/html": [
       "<div>\n",
       "<style scoped>\n",
       "    .dataframe tbody tr th:only-of-type {\n",
       "        vertical-align: middle;\n",
       "    }\n",
       "\n",
       "    .dataframe tbody tr th {\n",
       "        vertical-align: top;\n",
       "    }\n",
       "\n",
       "    .dataframe thead th {\n",
       "        text-align: right;\n",
       "    }\n",
       "</style>\n",
       "<table border=\"1\" class=\"dataframe\">\n",
       "  <thead>\n",
       "    <tr style=\"text-align: right;\">\n",
       "      <th></th>\n",
       "      <th>Unnamed: 0</th>\n",
       "      <th>reviewID</th>\n",
       "      <th>sentenceID</th>\n",
       "      <th>review</th>\n",
       "      <th>target</th>\n",
       "      <th>category</th>\n",
       "      <th>polarity</th>\n",
       "    </tr>\n",
       "  </thead>\n",
       "  <tbody>\n",
       "    <tr>\n",
       "      <th>0</th>\n",
       "      <td>0</td>\n",
       "      <td>1014458</td>\n",
       "      <td>1014458:3</td>\n",
       "      <td>The wine list is interesting and has many good...</td>\n",
       "      <td>wine list,wine list</td>\n",
       "      <td>FOOD,PRICES</td>\n",
       "      <td>positive,positive</td>\n",
       "    </tr>\n",
       "    <tr>\n",
       "      <th>1</th>\n",
       "      <td>1</td>\n",
       "      <td>1028246</td>\n",
       "      <td>1028246:1</td>\n",
       "      <td>Service was devine, oysters where a sensual as...</td>\n",
       "      <td>Service,oysters,NULL</td>\n",
       "      <td>SERVICE,FOOD,PRICES</td>\n",
       "      <td>positive,positive,positive</td>\n",
       "    </tr>\n",
       "    <tr>\n",
       "      <th>2</th>\n",
       "      <td>2</td>\n",
       "      <td>1064477</td>\n",
       "      <td>1064477:4</td>\n",
       "      <td>We took advanatage of the half price sushi dea...</td>\n",
       "      <td>half price sushi deal,half price sushi deal</td>\n",
       "      <td>FOOD,PRICES</td>\n",
       "      <td>positive,positive</td>\n",
       "    </tr>\n",
       "    <tr>\n",
       "      <th>3</th>\n",
       "      <td>3</td>\n",
       "      <td>1084394</td>\n",
       "      <td>1084394:3</td>\n",
       "      <td>The Prix Fixe menu is worth every penny and yo...</td>\n",
       "      <td>Prix Fixe menu,Prix Fixe menu,Prix Fixe menu</td>\n",
       "      <td>FOOD,FOOD,PRICES</td>\n",
       "      <td>positive,positive,positive</td>\n",
       "    </tr>\n",
       "    <tr>\n",
       "      <th>4</th>\n",
       "      <td>4</td>\n",
       "      <td>1086415</td>\n",
       "      <td>1086415:2</td>\n",
       "      <td>$6 and there is much tasty food, all of it fre...</td>\n",
       "      <td>food,food,food</td>\n",
       "      <td>FOOD,FOOD,PRICES</td>\n",
       "      <td>positive,positive,positive</td>\n",
       "    </tr>\n",
       "  </tbody>\n",
       "</table>\n",
       "</div>"
      ],
      "text/plain": [
       "   Unnamed: 0 reviewID sentenceID  \\\n",
       "0           0  1014458  1014458:3   \n",
       "1           1  1028246  1028246:1   \n",
       "2           2  1064477  1064477:4   \n",
       "3           3  1084394  1084394:3   \n",
       "4           4  1086415  1086415:2   \n",
       "\n",
       "                                              review  \\\n",
       "0  The wine list is interesting and has many good...   \n",
       "1  Service was devine, oysters where a sensual as...   \n",
       "2  We took advanatage of the half price sushi dea...   \n",
       "3  The Prix Fixe menu is worth every penny and yo...   \n",
       "4  $6 and there is much tasty food, all of it fre...   \n",
       "\n",
       "                                         target             category  \\\n",
       "0                           wine list,wine list          FOOD,PRICES   \n",
       "1                          Service,oysters,NULL  SERVICE,FOOD,PRICES   \n",
       "2   half price sushi deal,half price sushi deal          FOOD,PRICES   \n",
       "3  Prix Fixe menu,Prix Fixe menu,Prix Fixe menu     FOOD,FOOD,PRICES   \n",
       "4                                food,food,food     FOOD,FOOD,PRICES   \n",
       "\n",
       "                     polarity  \n",
       "0           positive,positive  \n",
       "1  positive,positive,positive  \n",
       "2           positive,positive  \n",
       "3  positive,positive,positive  \n",
       "4  positive,positive,positive  "
      ]
     },
     "execution_count": 2,
     "metadata": {},
     "output_type": "execute_result"
    }
   ],
   "source": [
    "import pandas as pd\n",
    "\n",
    "df = pd.read_csv('dataset/res16_baru.csv')\n",
    "df.head()"
   ]
  },
  {
   "cell_type": "code",
   "execution_count": 3,
   "metadata": {},
   "outputs": [],
   "source": [
    "text_data = []\n",
    "for sentence in df['review']:\n",
    "    tokens = preprocess(sentence)\n",
    "    text_data.append(tokens)"
   ]
  },
  {
   "cell_type": "code",
   "execution_count": 4,
   "metadata": {},
   "outputs": [],
   "source": [
    "from gensim import corpora\n",
    "dictionary = corpora.Dictionary(text_data)\n",
    "corpus = [dictionary.doc2bow(text) for text in text_data]\n",
    "\n",
    "import pickle\n",
    "pickle.dump(corpus, open('corpus.pkl', 'wb'))\n",
    "dictionary.save('dictionary.gensim')"
   ]
  },
  {
   "cell_type": "code",
   "execution_count": 5,
   "metadata": {},
   "outputs": [],
   "source": [
    "import gensim\n",
    "\n",
    "ldamodel = gensim.models.ldamodel.LdaModel(corpus, id2word=dictionary, random_state = 42)\n",
    "ldamodel.save('model5.gensim')\n",
    "topics = ldamodel.print_topics()"
   ]
  },
  {
   "cell_type": "code",
   "execution_count": 6,
   "metadata": {},
   "outputs": [
    {
     "name": "stdout",
     "output_type": "stream",
     "text": [
      "['actually', 'admittedly', 'allergy', 'almost', 'alone', 'also', 'always', 'amazing', 'area', 'asked', 'atmosphere', 'avenue', 'away', 'back', 'baluchi', 'bargain', 'bathroom', 'best', 'better', 'bgel', 'bland', 'block', 'came', 'charm', 'clean', 'completely', 'crowded', 'decor', 'delight', 'devine', 'dinner', 'drink', 'eaten', 'elegant', 'elsewhere', 'european', 'even', 'evening', 'ever', 'everchanging', 'every', 'excellent', 'fairly', 'feel', 'fish', 'food', 'fought', 'freindly', 'french', 'friend', 'garden', 'good', 'gras', 'great', 'green', 'greeting', 'hand', 'hate', 'hesititate', 'high', 'hostess', 'inedible', 'inside', 'kill', 'laugh', 'lawn', 'like', 'little', 'lively', 'located', 'look', 'made', 'magnificent', 'make', 'making', 'manager', 'many', 'menu', 'modern', 'month', 'much', 'music', 'need', 'nice', 'night', 'nothing', 'offer', 'open', 'oyster', 'part', 'phenomenal', 'pick', 'place', 'plate', 'portion', 'possible', 'price', 'priced', 'prompt', 'quality', 'quite', 'rather', 'really', 'reasonable', 'return', 'rock', 'roll', 'sandwich', 'seafood', 'seating', 'seemed', 'selection', 'served', 'service', 'setting', 'share', 'shorter', 'shout', 'shrimp', 'sitting', 'smile', 'solid', 'something', 'special', 'specify', 'spicy', 'start', 'statue', 'summer', 'sushi', 'take', 'terrace', 'terrific', 'terrine', 'there', 'though', 'thought', 'told', 'town', 'tuna', 'unusually', 'vanilla', 'varied', 'vent', 'visit', 'wait', 'warm', 'week', 'well', 'welll', 'wine', 'without', 'world', 'would', 'write']\n"
     ]
    }
   ],
   "source": [
    "all_topics = []\n",
    "for topic in topics:\n",
    "    for pair in topic[1].split(' + '):\n",
    "        word = pair.split('*')[1].replace(\"\\\"\", '')\n",
    "        all_topics.append(word)\n",
    "print(sorted(list(dict.fromkeys(all_topics))))"
   ]
  },
  {
   "cell_type": "code",
   "execution_count": 7,
   "metadata": {},
   "outputs": [],
   "source": [
    "import pandas as pd\n",
    "\n",
    "def aspect_topic(tipe, all_topics):\n",
    "    sf = pd.DataFrame(columns=['id','review','target', 'category','term','polarity'])\n",
    "    count = 0\n",
    "    index = 0\n",
    "    res = []\n",
    "    for sentence in df['review']:\n",
    "        lowercased = sentence.lower()\n",
    "        term = []\n",
    "        category = []\n",
    "        polarity = df['polarity'][index]\n",
    "        category = df['category'][index]\n",
    "        id_name = df['sentenceID'][index]\n",
    "        target = df['target'][index]\n",
    "        for topic in all_topics:\n",
    "            tokens = lowercased.split(' ')\n",
    "            for token in tokens:\n",
    "                if topic in token:\n",
    "                    term.append(topic)\n",
    "#         print(term)\n",
    "        if len(term) == 0:\n",
    "            print(lowercased)\n",
    "            count += 1\n",
    "        sf = sf.append({'id': id_name,\n",
    "                        'review': sentence.strip().lower().replace('  ', ' '),\n",
    "                        'target': target,\n",
    "                        'category': category,\n",
    "                        'term': '|'.join(term),\n",
    "                        'polarity': polarity}, ignore_index=True)\n",
    "        index += 1\n",
    "    print(count)\n",
    "    sf.to_csv(\"Results/ATE/\"+ tipe +\".csv\")\n",
    "    sf.to_excel(\"Results/ATE/\"+ tipe +\".xlsx\")"
   ]
  },
  {
   "cell_type": "code",
   "execution_count": 8,
   "metadata": {
    "scrolled": true
   },
   "outputs": [
    {
     "name": "stdout",
     "output_type": "stream",
     "text": [
      "but the pizza is way to expensive.\n",
      "a large is $20, and toppings are about $3 each.\n",
      "still, any quibbles about the bill were off-set by the pour-your-own measures of liquers which were courtesey of the house...\n",
      "what you are paying for is the environment and the name.\n",
      "the four seasons has history and it is a sort of landmark of new york city restaurants, but trust me, they will charge you through the nose just so that you can say \"i've been to the four seasons restaurant\".\n",
      "the lunch buffet is expensive but is deff worth it.\n",
      "too bad i had paid an extra $2 for the stone bowl.\n",
      "can’t believe how an expensive nyc restaurant can be so disrespectful to its clients.\n",
      "ambiance- relaxed and stylish.\n",
      "the lava cake dessert was incredible and i recommend it.\n",
      "this tiny restaurant is as cozy as it gets, with that certain parisian flair.\n",
      "took my mom for mother's day, and the maitre d' was pretty rude.\n",
      "raga's is a romantic, cozy restaurant.\n",
      "the staff is incredibly helpful and attentive.\n",
      "the staff is no nonsense.\n",
      "all the staff is absolutely professional!! \n",
      "it's a small cute restaurant.\n",
      "delivery is fast too.\n",
      "zero ambiance to boot.\n",
      "this quaint and romantic trattoria is at the top of my manhattan restaurant list.\n",
      "but the staff was so horrible to us.\n",
      "the svc can be a bit rude at times, esp if you have big group, but overall the restaurant is a must!\n",
      "the location is perfect.\n",
      "terrible, terrible management - deserves to be shut-down.\n",
      "not the typical nyc gimmick theme restaurant.\n",
      "cozy romantic atomosphere with only around 15 tables at most.\n",
      "toons has recently been redone, so it's now a very attractive space.\n",
      "indoor was very cozy and cute.\n",
      "we were drawn into the belly dancing show that captivated the crowd.\n",
      "29\n"
     ]
    }
   ],
   "source": [
    "aspect_topic('lda',list(dict.fromkeys(all_topics)))"
   ]
  },
  {
   "cell_type": "code",
   "execution_count": null,
   "metadata": {},
   "outputs": [],
   "source": []
  }
 ],
 "metadata": {
  "kernelspec": {
   "display_name": "Python 3",
   "language": "python",
   "name": "python3"
  },
  "language_info": {
   "codemirror_mode": {
    "name": "ipython",
    "version": 3
   },
   "file_extension": ".py",
   "mimetype": "text/x-python",
   "name": "python",
   "nbconvert_exporter": "python",
   "pygments_lexer": "ipython3",
   "version": "3.6.4"
  }
 },
 "nbformat": 4,
 "nbformat_minor": 2
}
