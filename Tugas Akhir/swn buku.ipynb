{
 "cells": [
  {
   "cell_type": "code",
   "execution_count": 4,
   "metadata": {},
   "outputs": [],
   "source": [
    "import string\n",
    "from nltk.corpus import sentiwordnet as swn\n",
    "\n",
    "def sentiwordnet(opinions, sent):\n",
    "    endscore = 0\n",
    "    for opinion in opinions:\n",
    "        try:\n",
    "            score = swn.senti_synset(opinion + '.a.1')\n",
    "            if score.pos_score() > score.neg_score():\n",
    "                endscore += score.pos_score()\n",
    "            else:\n",
    "                endscore += score.neg_score() * (-1)\n",
    "\n",
    "            words = sent.split(' ')\n",
    "            word_around = []\n",
    "            for x in range(0, len(words)):\n",
    "                if words[x] in string.punctuation:\n",
    "                    continue\n",
    "                try:\n",
    "                    if (words[x+1] == opinion) or (words[x+2] == opinion) or (words[x+3] == opinion) or (words[x+4] == opinion):\n",
    "                        word_around.append(words[x])\n",
    "                    elif (words[x-1] == opinion):\n",
    "                        word_around.append(words[x])\n",
    "                except:\n",
    "                    pass\n",
    "            for neg in negation:\n",
    "                if neg in word_around:\n",
    "                    endscore *= (-1)\n",
    "                    break\n",
    "        except:\n",
    "            continue\n",
    "            \n",
    "    if endscore > 0:\n",
    "        polarity = 'positive'\n",
    "    else:\n",
    "        polarity = 'negative'\n",
    "           \n",
    "    return polarity\n",
    "\n",
    "sentiwordnet(opinions, sentence)"
   ]
  }
 ],
 "metadata": {
  "kernelspec": {
   "display_name": "Python 3",
   "language": "python",
   "name": "python3"
  },
  "language_info": {
   "codemirror_mode": {
    "name": "ipython",
    "version": 3
   },
   "file_extension": ".py",
   "mimetype": "text/x-python",
   "name": "python",
   "nbconvert_exporter": "python",
   "pygments_lexer": "ipython3",
   "version": "3.6.4"
  }
 },
 "nbformat": 4,
 "nbformat_minor": 2
}
