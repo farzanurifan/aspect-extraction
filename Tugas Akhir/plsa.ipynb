{
 "cells": [
  {
   "cell_type": "code",
   "execution_count": 1,
   "metadata": {
    "scrolled": true
   },
   "outputs": [],
   "source": [
    "f = open('plsa-master/topics.txt')\n",
    "topics = []\n",
    "for words in f:\n",
    "#     print(words.split(' '))\n",
    "    for word in words.split(' '):\n",
    "#         print(word)\n",
    "        if word != '\\n':\n",
    "            topics.append(word)"
   ]
  },
  {
   "cell_type": "code",
   "execution_count": 2,
   "metadata": {},
   "outputs": [
    {
     "name": "stdout",
     "output_type": "stream",
     "text": [
      "['always', 'atmosphere', 'attentive', 'back', 'decor', 'expensive', 'feel', 'food', 'friendly', 'good', 'great', 'like', 'make', 'menu', 'nice', 'overpriced', 'place', 'price', 'really', 'reasonable', 'restaurant', 'romantic', 'rude', 'service', 'staff', 'thing', 'time', 'wait', 'well', 'wine', 'worth', 'would']\n"
     ]
    }
   ],
   "source": [
    "all_topics = []\n",
    "for topic in topics:\n",
    "    all_topics.append(topic)\n",
    "print(sorted(list(dict.fromkeys(all_topics))))"
   ]
  },
  {
   "cell_type": "code",
   "execution_count": 5,
   "metadata": {},
   "outputs": [],
   "source": [
    "import pandas as pd\n",
    "\n",
    "df = pd.read_csv('dataset/res16_baru.csv')\n",
    "\n",
    "def aspect_topic(tipe, all_topics):\n",
    "    sf = pd.DataFrame(columns=['id','review','target', 'category','term','polarity'])\n",
    "    count = 0\n",
    "    index = 0\n",
    "    res = []\n",
    "    for sentence in df['review']:\n",
    "        lowercased = sentence.lower()\n",
    "        term = []\n",
    "        category = []\n",
    "        polarity = df['polarity'][index]\n",
    "        category = df['category'][index]\n",
    "        id_name = df['sentenceID'][index]\n",
    "        target = df['target'][index]\n",
    "        for topic in all_topics:\n",
    "            tokens = lowercased.split(' ')\n",
    "            for token in tokens:\n",
    "                if topic in token:\n",
    "                    term.append(topic)\n",
    "#         print(term)\n",
    "        if len(term) == 0:\n",
    "            print(lowercased)\n",
    "            count += 1\n",
    "        sf = sf.append({'id': id_name,\n",
    "                        'review': sentence.strip().lower().replace('  ', ' '),\n",
    "                        'target': target,\n",
    "                        'category': category,\n",
    "                        'term': '|'.join(term),\n",
    "                        'polarity': polarity}, ignore_index=True)\n",
    "        index += 1\n",
    "    print(count)\n",
    "    sf.to_csv(\"Results/ATE/\"+ tipe +\".csv\")\n",
    "    sf.to_excel(\"Results/ATE/\"+ tipe +\".xlsx\")"
   ]
  },
  {
   "cell_type": "code",
   "execution_count": 6,
   "metadata": {
    "scrolled": true
   },
   "outputs": [
    {
     "name": "stdout",
     "output_type": "stream",
     "text": [
      "a large is $20, and toppings are about $3 each.\n",
      "very affordable and excellent ambient!\n",
      "still, any quibbles about the bill were off-set by the pour-your-own measures of liquers which were courtesey of the house...\n",
      "the drinks are amazing and half off till 8pm.\n",
      "$20 for all you can eat sushi cannot be beaten.\n",
      "not because you are \"the four seasons\"... – you are allowed to charge an arm and a leg for a romatic dinner.\n",
      "i do not think dinner in manhattan should cost $400.00 where i am not swept off my feet.\n",
      "and $11 for a plate of bland guacamole?\n",
      "we were offered water for the table but were not told the voss bottles of water were $8 a piece.\n",
      "what you are paying for is the environment and the name.\n",
      "however, our $14 drinks were were horrible!\n",
      "too bad i had paid an extra $2 for the stone bowl.\n",
      "i had the duck breast special on my last visit and it was incredible.\n",
      "i had never had edamame pureed before but i thought it was innovative and tasty (could've used a bit more salt).\n",
      "their sake list was extensive, but we were looking for purple haze, which wasn't listed but made for us upon request!\n",
      "ambiance- relaxed and stylish.\n",
      "the sushi seemed pretty fresh and was adequately proportioned.\n",
      "if you've ever been along the river in weehawken you have an idea of the top of view the chart house has to offer.\n",
      "the lava cake dessert was incredible and i recommend it.\n",
      "once you step into cosette, you're miraculously in a small, off-the-beaten path parisian bistro.\n",
      "the pizza was delivered cold and the cheese wasn't even fully melted!\n",
      "i think i've had some the best meals of my life at minnow.\n",
      "my wife had the fried shrimp which are huge and loved it.\n",
      "located at the end of a magnificent block.\n",
      "this is the best sushi in new york city - hands down.\n",
      "first went here to enjoy their garden terrace.\n",
      "i loved everythig about it-especially the shows and actors.\n",
      "the dining room is quietly elegant with no music to shout over -- how refreshing!\n",
      "delivery is fast too.\n",
      "zero ambiance to boot.\n",
      "the seats are uncomfortable if you are sitting against the wall on wooden benches.\n",
      "a gentleman, maybe the manager, came to our table, and without so much as a smile or greeting asked for our order.\n",
      "i asked for an open faced cheese sandwich and the manager basically told me to take my business elsewhere!\n",
      "the location is perfect.\n",
      "terrible, terrible management - deserves to be shut-down.\n",
      "when you're sitting in their main dining room (which has a spectacular, hand-painted high ceiling) you'd never know there was a world outside.\n",
      "toons has recently been redone, so it's now a very attractive space.\n",
      "we recently decided to try this location, and to our delight, they have outdoor seating, perfect since i had my yorkie with me.\n",
      "indoor was very cozy and cute.\n",
      "whoever the jazz duo was, they were on point.\n",
      "oh, and there's hookah.\n",
      "oh speaking of bathroom , the mens bathroom was disgusting.\n",
      "we were drawn into the belly dancing show that captivated the crowd.\n",
      "43\n"
     ]
    }
   ],
   "source": [
    "aspect_topic('plsa',list(dict.fromkeys(all_topics)))"
   ]
  },
  {
   "cell_type": "code",
   "execution_count": null,
   "metadata": {},
   "outputs": [],
   "source": []
  }
 ],
 "metadata": {
  "kernelspec": {
   "display_name": "Python 3",
   "language": "python",
   "name": "python3"
  },
  "language_info": {
   "codemirror_mode": {
    "name": "ipython",
    "version": 3
   },
   "file_extension": ".py",
   "mimetype": "text/x-python",
   "name": "python",
   "nbconvert_exporter": "python",
   "pygments_lexer": "ipython3",
   "version": "3.6.4"
  }
 },
 "nbformat": 4,
 "nbformat_minor": 2
}
