{
 "cells": [
  {
   "cell_type": "code",
   "execution_count": 1,
   "metadata": {},
   "outputs": [],
   "source": [
    "from pycorenlp import StanfordCoreNLP\n",
    "import json\n",
    "\n",
    "nlp = StanfordCoreNLP('http://localhost:9000')\n",
    "dependency_parser = nlp.annotate\n",
    "\n",
    "def get_ner(sentence):\n",
    "    result = dependency_parser(sentence, properties={\n",
    "        \"outputFormat\": \"json\",\n",
    "        \"annotators\": \"ner\"})\n",
    "    res = []\n",
    "    for obj in result['sentences'][0]['entitymentions']:\n",
    "        res.append((obj['text'], obj['ner']))\n",
    "    return res"
   ]
  },
  {
   "cell_type": "code",
   "execution_count": 2,
   "metadata": {},
   "outputs": [
    {
     "data": {
      "text/plain": [
       "[('$4', 'MONEY'), ('indonesia', 'COUNTRY')]"
      ]
     },
     "execution_count": 2,
     "metadata": {},
     "output_type": "execute_result"
    }
   ],
   "source": [
    "get_ner(\"you owe obama $4 in indonesia\")"
   ]
  },
  {
   "cell_type": "code",
   "execution_count": 14,
   "metadata": {},
   "outputs": [],
   "source": [
    "import pandas as pd\n",
    "from tqdm import  tqdm_notebook\n",
    "\n",
    "def run():\n",
    "    df = pd.read_csv(\"dataset/res16_baru.csv\")\n",
    "    sf = pd.DataFrame(columns = ['id','review','target','category','term'])\n",
    "    count = 0\n",
    "    all_ner = []\n",
    "    money_ner = []\n",
    "    title_ner = []\n",
    "    for index in tqdm_notebook(range(len(df))):\n",
    "        new_term = []\n",
    "        ner = get_ner(df['review'][index])\n",
    "        if len(ner):\n",
    "#             print(df['review'][index])\n",
    "#             print(ner)\n",
    "#             print()\n",
    "            for word, tipe in ner:\n",
    "                if tipe != 'TITLE' and tipe != 'MONEY':\n",
    "                    all_ner.append(word)\n",
    "                elif tipe == 'MONEY':\n",
    "                    money_ner.append(word)\n",
    "    return all_ner, money_ner, title_ner\n",
    "#         for nn in get_nouns(df['review'][index]):\n",
    "#             new_term.append(nn)\n",
    "#         if len(new_term) == 0:\n",
    "#             new_term = '|'.join(get_nouns(df['review'][index]))\n",
    "#             count += 1\n",
    "        \n",
    "#         sf = sf.append({'id': df['id'][index], \n",
    "#                     'review': df['review'][index],\n",
    "#                     'category': df['category'][index],\n",
    "#                     'term': '|'.join(new_term)\n",
    "#                    }, ignore_index=True)\n",
    "#     print(count)\n",
    "\n",
    "#     sf.to_csv(\"Results/add_noun/\"+ tipe +\".csv\")\n",
    "#     sf.to_excel(\"Results/add_noun/\"+ tipe +\".xlsx\")"
   ]
  },
  {
   "cell_type": "code",
   "execution_count": 15,
   "metadata": {
    "scrolled": true
   },
   "outputs": [
    {
     "data": {
      "application/vnd.jupyter.widget-view+json": {
       "model_id": "293c6bf634f1426891c797f891335860",
       "version_major": 2,
       "version_minor": 0
      },
      "text/html": [
       "<p>Failed to display Jupyter Widget of type <code>HBox</code>.</p>\n",
       "<p>\n",
       "  If you're reading this message in the Jupyter Notebook or JupyterLab Notebook, it may mean\n",
       "  that the widgets JavaScript is still loading. If this message persists, it\n",
       "  likely means that the widgets JavaScript library is either not installed or\n",
       "  not enabled. See the <a href=\"https://ipywidgets.readthedocs.io/en/stable/user_install.html\">Jupyter\n",
       "  Widgets Documentation</a> for setup instructions.\n",
       "</p>\n",
       "<p>\n",
       "  If you're reading this message in another frontend (for example, a static\n",
       "  rendering on GitHub or <a href=\"https://nbviewer.jupyter.org/\">NBViewer</a>),\n",
       "  it may mean that your frontend doesn't currently support widgets.\n",
       "</p>\n"
      ],
      "text/plain": [
       "HBox(children=(IntProgress(value=0, max=464), HTML(value='')))"
      ]
     },
     "metadata": {},
     "output_type": "display_data"
    }
   ],
   "source": [
    "new_ner, mon_ner, tit_ner = run()"
   ]
  },
  {
   "cell_type": "code",
   "execution_count": 16,
   "metadata": {},
   "outputs": [],
   "source": [
    "splitted_ner = []\n",
    "for ner in new_ner:\n",
    "    for word in ner.split(' '):\n",
    "        splitted_ner.append(word.lower())\n",
    "ner_ner = sorted(list(dict.fromkeys(splitted_ner)))"
   ]
  },
  {
   "cell_type": "code",
   "execution_count": 17,
   "metadata": {},
   "outputs": [],
   "source": [
    "splitted_ner = []\n",
    "for ner in mon_ner:\n",
    "    for word in ner.split(' '):\n",
    "        splitted_ner.append(word.lower())\n",
    "new_mon = sorted(list(dict.fromkeys(splitted_ner)))"
   ]
  },
  {
   "cell_type": "code",
   "execution_count": 11,
   "metadata": {},
   "outputs": [],
   "source": [
    "import pandas as pd\n",
    "\n",
    "def run_filter(tipe, where, ner):\n",
    "    df = pd.read_csv(\"Results/\" + where + tipe +\".csv\")\n",
    "    sf = pd.DataFrame(columns = ['id','review','target', 'category','term'])\n",
    "    for index, concat_terms in enumerate(df['term']):\n",
    "        new_terms = []\n",
    "        try:\n",
    "            terms = concat_terms.split('|')\n",
    "        except:\n",
    "            terms = []\n",
    "        for term in terms:\n",
    "            if term not in ner and len(term) > 3:\n",
    "                new_terms.append(term)\n",
    "        sentence = df['review'][index].lower()\n",
    "        sf = sf.append({'id': df['id'][index], \n",
    "                        'review': df['review'][index],\n",
    "                        'target': df['target'][index],\n",
    "                        'category': df['category'][index],\n",
    "                        'term': '|'.join(new_terms)\n",
    "                       }, ignore_index=True)\n",
    "\n",
    "    sf.to_csv(\"Results/Filter/\"+ tipe +\"-ner.csv\")\n",
    "    sf.to_excel(\"Results/Filter/\"+ tipe +\"-ner.xlsx\")"
   ]
  },
  {
   "cell_type": "code",
   "execution_count": 10,
   "metadata": {},
   "outputs": [],
   "source": [
    "run_filter(\"16_lda2vec-partial\", 'add_noun/', ner_ner)"
   ]
  },
  {
   "cell_type": "code",
   "execution_count": 12,
   "metadata": {},
   "outputs": [],
   "source": [
    "run_filter(\"16_lda2vec-op-partial\", 'add_noun/', ner_ner)"
   ]
  },
  {
   "cell_type": "code",
   "execution_count": null,
   "metadata": {},
   "outputs": [],
   "source": []
  },
  {
   "cell_type": "code",
   "execution_count": null,
   "metadata": {},
   "outputs": [],
   "source": []
  },
  {
   "cell_type": "code",
   "execution_count": 29,
   "metadata": {},
   "outputs": [],
   "source": [
    "import pandas as pd\n",
    "\n",
    "def run_price(tipe, where):\n",
    "    df = pd.read_csv(\"Results/\" + where + tipe +\".csv\")\n",
    "    sf = pd.DataFrame(columns = ['id','review','target', 'label','predict', 'terms'])\n",
    "    for index, reviews in enumerate(df['review']):\n",
    "        tokenized = reviews.lower().replace('  ', ' ').strip().split(' ')\n",
    "        predict = df['predict'][index]\n",
    "        for token in tokenized:\n",
    "            for money in mon_ner:\n",
    "                if money in token:\n",
    "                    if predict == '':\n",
    "                        predict += 'PRICES'\n",
    "                    else:\n",
    "                        predict += '|PRICES'\n",
    "        sentence = df['review'][index].lower()\n",
    "        sf = sf.append({'id': df['id'][index], \n",
    "                        'review': df['review'][index],\n",
    "                        'target': df['target'][index],\n",
    "                        'label': df['label'][index],\n",
    "                        'predict': predict,\n",
    "                        'terms': df['terms'][index]\n",
    "                       }, ignore_index=True)\n",
    "\n",
    "    sf.to_csv(\"Results/Categorization/\"+ tipe +\"-money.csv\")\n",
    "    sf.to_excel(\"Results/Categorization/\"+ tipe +\"-money.xlsx\")"
   ]
  },
  {
   "cell_type": "code",
   "execution_count": 30,
   "metadata": {},
   "outputs": [],
   "source": [
    "run_price('16_lda2vec-partial-ner', 'Categorization/')"
   ]
  },
  {
   "cell_type": "code",
   "execution_count": null,
   "metadata": {},
   "outputs": [],
   "source": []
  }
 ],
 "metadata": {
  "kernelspec": {
   "display_name": "Python 3",
   "language": "python",
   "name": "python3"
  },
  "language_info": {
   "codemirror_mode": {
    "name": "ipython",
    "version": 3
   },
   "file_extension": ".py",
   "mimetype": "text/x-python",
   "name": "python",
   "nbconvert_exporter": "python",
   "pygments_lexer": "ipython3",
   "version": "3.6.4"
  }
 },
 "nbformat": 4,
 "nbformat_minor": 2
}
