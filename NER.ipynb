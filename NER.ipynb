{
 "cells": [
  {
   "cell_type": "code",
   "execution_count": 1,
   "metadata": {},
   "outputs": [],
   "source": [
    "from pycorenlp import StanfordCoreNLP\n",
    "import json\n",
    "\n",
    "nlp = StanfordCoreNLP('http://localhost:9000')\n",
    "dependency_parser = nlp.annotate\n",
    "\n",
    "def get_ner(sentence):\n",
    "    result = dependency_parser(sentence, properties={\n",
    "        \"outputFormat\": \"json\",\n",
    "        \"annotators\": \"ner\"})\n",
    "    res = []\n",
    "    for obj in result['sentences'][0]['entitymentions']:\n",
    "        res.append((obj['text'], obj['ner']))\n",
    "    return res"
   ]
  },
  {
   "cell_type": "code",
   "execution_count": 2,
   "metadata": {},
   "outputs": [
    {
     "data": {
      "text/plain": [
       "[('$4', 'MONEY'), ('indonesia', 'COUNTRY')]"
      ]
     },
     "execution_count": 2,
     "metadata": {},
     "output_type": "execute_result"
    }
   ],
   "source": [
    "get_ner(\"you owe obama $4 in indonesia\")"
   ]
  },
  {
   "cell_type": "code",
   "execution_count": 4,
   "metadata": {},
   "outputs": [],
   "source": [
    "import pandas as pd\n",
    "from tqdm import  tqdm_notebook\n",
    "\n",
    "all_tipe = []\n",
    "def run(tipe):\n",
    "    df = pd.read_csv(\"Results/add_noun/\"+ tipe +\".csv\")\n",
    "    sf = pd.DataFrame(columns = ['id', 'review', 'target', 'category', 'term', 'polarity'])\n",
    "    count = 0\n",
    "    for index in tqdm_notebook(range(len(df))):\n",
    "        all_ner = []\n",
    "        ner = get_ner(df['review'][index])\n",
    "        if len(ner):\n",
    "            for word, t in ner:\n",
    "#                 if t != 'MONEY'and t != 'TITLE':\n",
    "                if t == 'MONEY':\n",
    "#                     print(t)\n",
    "                    if t not in all_tipe:\n",
    "                        all_tipe.append(t)\n",
    "                    all_ner.append(word)\n",
    "#                 if t == 'TITLE':\n",
    "#                     print(df['review'][index], word)\n",
    "#                     print(df['category'][index])\n",
    "        \n",
    "        terms = []\n",
    "        if type(df['term'][index]) != float:\n",
    "            terms = df['term'][index].split('|')\n",
    "            \n",
    "#         print()\n",
    "#         print(terms_dp)\n",
    "#         if len(all_ner):\n",
    "        new_term = []\n",
    "#         print(all_ner)\n",
    "        for kata in terms:\n",
    "            flag = True\n",
    "            for n in all_ner:\n",
    "                if kata in n.lower() and kata != '':\n",
    "                    print(df['review'][index])\n",
    "                    print(kata)\n",
    "                    print(terms)\n",
    "                    print(n)\n",
    "                    flag = False\n",
    "            if ('time' in kata or 'thing' in kata) and kata != '':\n",
    "#                 print(kata)\n",
    "                flag = False\n",
    "            if flag:\n",
    "                new_term.append(kata)\n",
    "#             else:\n",
    "#                 print('ooooooooooooooooooooooooooooooo')\n",
    "#         else:\n",
    "#             new_term = terms_dp\n",
    "        \n",
    "#         print(new_term)\n",
    "        sf = sf.append({'id': df['id'][index], \n",
    "                    'review': df['review'][index],\n",
    "                    'target': df['target'][index],\n",
    "                    'category': df['category'][index],\n",
    "                    'term': '|'.join(new_term),\n",
    "                    'polarity': df['polarity'][index]\n",
    "                   }, ignore_index=True)\n",
    "#     print(count)\n",
    "\n",
    "#     sf.to_csv(\"Results/Filter/\"+ tipe +\"-ner.csv\")\n",
    "#     sf.to_excel(\"Results/Filter/\"+ tipe +\"-ner.xlsx\")"
   ]
  },
  {
   "cell_type": "code",
   "execution_count": 5,
   "metadata": {},
   "outputs": [
    {
     "data": {
      "application/vnd.jupyter.widget-view+json": {
       "model_id": "d32e359dc9594bb79f02bb8eda2c4ed7",
       "version_major": 2,
       "version_minor": 0
      },
      "text/html": [
       "<p>Failed to display Jupyter Widget of type <code>HBox</code>.</p>\n",
       "<p>\n",
       "  If you're reading this message in the Jupyter Notebook or JupyterLab Notebook, it may mean\n",
       "  that the widgets JavaScript is still loading. If this message persists, it\n",
       "  likely means that the widgets JavaScript library is either not installed or\n",
       "  not enabled. See the <a href=\"https://ipywidgets.readthedocs.io/en/stable/user_install.html\">Jupyter\n",
       "  Widgets Documentation</a> for setup instructions.\n",
       "</p>\n",
       "<p>\n",
       "  If you're reading this message in another frontend (for example, a static\n",
       "  rendering on GitHub or <a href=\"https://nbviewer.jupyter.org/\">NBViewer</a>),\n",
       "  it may mean that your frontend doesn't currently support widgets.\n",
       "</p>\n"
      ],
      "text/plain": [
       "HBox(children=(IntProgress(value=0, max=462), HTML(value='')))"
      ]
     },
     "metadata": {},
     "output_type": "display_data"
    },
    {
     "name": "stdout",
     "output_type": "stream",
     "text": [
      "\n"
     ]
    },
    {
     "data": {
      "application/vnd.jupyter.widget-view+json": {
       "model_id": "d2dc94493cec49d389073d6246b22876",
       "version_major": 2,
       "version_minor": 0
      },
      "text/html": [
       "<p>Failed to display Jupyter Widget of type <code>HBox</code>.</p>\n",
       "<p>\n",
       "  If you're reading this message in the Jupyter Notebook or JupyterLab Notebook, it may mean\n",
       "  that the widgets JavaScript is still loading. If this message persists, it\n",
       "  likely means that the widgets JavaScript library is either not installed or\n",
       "  not enabled. See the <a href=\"https://ipywidgets.readthedocs.io/en/stable/user_install.html\">Jupyter\n",
       "  Widgets Documentation</a> for setup instructions.\n",
       "</p>\n",
       "<p>\n",
       "  If you're reading this message in another frontend (for example, a static\n",
       "  rendering on GitHub or <a href=\"https://nbviewer.jupyter.org/\">NBViewer</a>),\n",
       "  it may mean that your frontend doesn't currently support widgets.\n",
       "</p>\n"
      ],
      "text/plain": [
       "HBox(children=(IntProgress(value=0, max=462), HTML(value='')))"
      ]
     },
     "metadata": {},
     "output_type": "display_data"
    },
    {
     "name": "stdout",
     "output_type": "stream",
     "text": [
      "\n"
     ]
    },
    {
     "data": {
      "application/vnd.jupyter.widget-view+json": {
       "model_id": "ec295ec187b145d58da7d1d128f540ae",
       "version_major": 2,
       "version_minor": 0
      },
      "text/html": [
       "<p>Failed to display Jupyter Widget of type <code>HBox</code>.</p>\n",
       "<p>\n",
       "  If you're reading this message in the Jupyter Notebook or JupyterLab Notebook, it may mean\n",
       "  that the widgets JavaScript is still loading. If this message persists, it\n",
       "  likely means that the widgets JavaScript library is either not installed or\n",
       "  not enabled. See the <a href=\"https://ipywidgets.readthedocs.io/en/stable/user_install.html\">Jupyter\n",
       "  Widgets Documentation</a> for setup instructions.\n",
       "</p>\n",
       "<p>\n",
       "  If you're reading this message in another frontend (for example, a static\n",
       "  rendering on GitHub or <a href=\"https://nbviewer.jupyter.org/\">NBViewer</a>),\n",
       "  it may mean that your frontend doesn't currently support widgets.\n",
       "</p>\n"
      ],
      "text/plain": [
       "HBox(children=(IntProgress(value=0, max=462), HTML(value='')))"
      ]
     },
     "metadata": {},
     "output_type": "display_data"
    },
    {
     "name": "stdout",
     "output_type": "stream",
     "text": [
      "\n"
     ]
    },
    {
     "data": {
      "application/vnd.jupyter.widget-view+json": {
       "model_id": "ddf99f17a2034a2ea91bab53c98db842",
       "version_major": 2,
       "version_minor": 0
      },
      "text/html": [
       "<p>Failed to display Jupyter Widget of type <code>HBox</code>.</p>\n",
       "<p>\n",
       "  If you're reading this message in the Jupyter Notebook or JupyterLab Notebook, it may mean\n",
       "  that the widgets JavaScript is still loading. If this message persists, it\n",
       "  likely means that the widgets JavaScript library is either not installed or\n",
       "  not enabled. See the <a href=\"https://ipywidgets.readthedocs.io/en/stable/user_install.html\">Jupyter\n",
       "  Widgets Documentation</a> for setup instructions.\n",
       "</p>\n",
       "<p>\n",
       "  If you're reading this message in another frontend (for example, a static\n",
       "  rendering on GitHub or <a href=\"https://nbviewer.jupyter.org/\">NBViewer</a>),\n",
       "  it may mean that your frontend doesn't currently support widgets.\n",
       "</p>\n"
      ],
      "text/plain": [
       "HBox(children=(IntProgress(value=0, max=462), HTML(value='')))"
      ]
     },
     "metadata": {},
     "output_type": "display_data"
    },
    {
     "name": "stdout",
     "output_type": "stream",
     "text": [
      "\n"
     ]
    }
   ],
   "source": [
    "# run('dp-partial')\n",
    "ate = ['dp', 'lda', 'lda2vec', 'plsa']\n",
    "sim = ['glove', 'w2v', 'fasttext', 'elmo', 'elmo_ori']\n",
    "\n",
    "# ate = ['lda2vec']\n",
    "# sim = ['elmo']\n",
    "\n",
    "for a in ate:\n",
    "#     for s in sim:\n",
    "    run(a + '-partial')"
   ]
  },
  {
   "cell_type": "code",
   "execution_count": 108,
   "metadata": {},
   "outputs": [
    {
     "data": {
      "text/plain": [
       "['NUMBER',\n",
       " 'TIME',\n",
       " 'PERSON',\n",
       " 'NATIONALITY',\n",
       " 'DATE',\n",
       " 'DURATION',\n",
       " 'STATE_OR_PROVINCE',\n",
       " 'COUNTRY',\n",
       " 'ORDINAL',\n",
       " 'SET']"
      ]
     },
     "execution_count": 108,
     "metadata": {},
     "output_type": "execute_result"
    }
   ],
   "source": [
    "all_tipe"
   ]
  },
  {
   "cell_type": "code",
   "execution_count": 4,
   "metadata": {},
   "outputs": [
    {
     "data": {
      "text/plain": [
       "[]"
      ]
     },
     "execution_count": 4,
     "metadata": {},
     "output_type": "execute_result"
    }
   ],
   "source": [
    "sorted(list(dict.fromkeys(all_tipe)))"
   ]
  },
  {
   "cell_type": "code",
   "execution_count": 7,
   "metadata": {},
   "outputs": [],
   "source": [
    "import string\n",
    "def rem_punct(word):\n",
    "    return word.translate(str.maketrans('', '', string.punctuation))"
   ]
  },
  {
   "cell_type": "code",
   "execution_count": 8,
   "metadata": {},
   "outputs": [],
   "source": [
    "import pandas as pd\n",
    "from tqdm import  tqdm_notebook\n",
    "\n",
    "def run_price(tipe):\n",
    "    df = pd.read_csv(\"Results/Categorization/\"+ tipe +\".csv\")\n",
    "    sf = pd.DataFrame(columns = ['id', 'review', 'target', 'label', 'predict', 'term', 'polarity'])\n",
    "    count = 0\n",
    "    for index in tqdm_notebook(range(len(df))):\n",
    "        all_ner = []\n",
    "        ner = get_ner(df['review'][index])\n",
    "        if len(ner):\n",
    "            for word, t in ner:\n",
    "                if t == 'MONEY':\n",
    "                    all_ner.append(word)\n",
    "        terms_dp = []\n",
    "        if type(df['term'][index]) != float:\n",
    "            terms_dp = df['term'][index].split('|')\n",
    "        \n",
    "        predicts = []\n",
    "        if type(df['predict'][index]) != float:\n",
    "            predicts = df['predict'][index].split('|')\n",
    "            \n",
    "        new_term = []\n",
    "        if len(all_ner):\n",
    "            for t_dp in terms_dp:\n",
    "                new_term.append(t_dp)\n",
    "            for n in all_ner:\n",
    "                new_term.append(n)\n",
    "                predicts.append('PRICES')\n",
    "#                 print(n)\n",
    "        else:\n",
    "            new_term = terms_dp\n",
    "        \n",
    "        sf = sf.append({'id': df['id'][index], \n",
    "                    'review': df['review'][index],\n",
    "                    'target': df['target'][index],\n",
    "                    'label': df['label'][index],\n",
    "                    'predict': '|'.join(predicts),\n",
    "                    'term': '|'.join(new_term),\n",
    "                    'polarity': df['polarity'][index]\n",
    "                   }, ignore_index=True)\n",
    "    print(count)\n",
    "\n",
    "    sf.to_csv(\"Results/Categorization/\"+ tipe +\"-money.csv\")\n",
    "    sf.to_excel(\"Results/Categorization/\"+ tipe +\"-money.xlsx\")\n",
    "    print('sksk')"
   ]
  },
  {
   "cell_type": "code",
   "execution_count": 11,
   "metadata": {
    "scrolled": true
   },
   "outputs": [],
   "source": [
    "# run_price('output')"
   ]
  },
  {
   "cell_type": "code",
   "execution_count": 12,
   "metadata": {
    "scrolled": true
   },
   "outputs": [
    {
     "data": {
      "application/vnd.jupyter.widget-view+json": {
       "model_id": "398ca78a25a74cd6baf1d9823aab50de",
       "version_major": 2,
       "version_minor": 0
      },
      "text/html": [
       "<p>Failed to display Jupyter Widget of type <code>HBox</code>.</p>\n",
       "<p>\n",
       "  If you're reading this message in the Jupyter Notebook or JupyterLab Notebook, it may mean\n",
       "  that the widgets JavaScript is still loading. If this message persists, it\n",
       "  likely means that the widgets JavaScript library is either not installed or\n",
       "  not enabled. See the <a href=\"https://ipywidgets.readthedocs.io/en/stable/user_install.html\">Jupyter\n",
       "  Widgets Documentation</a> for setup instructions.\n",
       "</p>\n",
       "<p>\n",
       "  If you're reading this message in another frontend (for example, a static\n",
       "  rendering on GitHub or <a href=\"https://nbviewer.jupyter.org/\">NBViewer</a>),\n",
       "  it may mean that your frontend doesn't currently support widgets.\n",
       "</p>\n"
      ],
      "text/plain": [
       "HBox(children=(IntProgress(value=0, max=462), HTML(value='')))"
      ]
     },
     "metadata": {},
     "output_type": "display_data"
    },
    {
     "name": "stdout",
     "output_type": "stream",
     "text": [
      "\n",
      "0\n",
      "sksk\n"
     ]
    }
   ],
   "source": [
    "ate = ['dp', 'lda', 'lda2vec', 'plsa']\n",
    "sim = ['glove', 'w2v', 'fasttext', 'elmo', 'elmo_ori']\n",
    "\n",
    "ate = ['dp']\n",
    "sim = ['elmo_ori']\n",
    "\n",
    "for a in ate:\n",
    "    for s in sim:\n",
    "        run_price(a + '-partial-ner-' + s)"
   ]
  },
  {
   "cell_type": "code",
   "execution_count": null,
   "metadata": {},
   "outputs": [],
   "source": []
  },
  {
   "cell_type": "code",
   "execution_count": 12,
   "metadata": {},
   "outputs": [
    {
     "data": {
      "text/plain": [
       "'sd'"
      ]
     },
     "execution_count": 12,
     "metadata": {},
     "output_type": "execute_result"
    }
   ],
   "source": [
    "'|'.join(['sd'])"
   ]
  },
  {
   "cell_type": "code",
   "execution_count": null,
   "metadata": {},
   "outputs": [],
   "source": []
  }
 ],
 "metadata": {
  "kernelspec": {
   "display_name": "Python 3",
   "language": "python",
   "name": "python3"
  },
  "language_info": {
   "codemirror_mode": {
    "name": "ipython",
    "version": 3
   },
   "file_extension": ".py",
   "mimetype": "text/x-python",
   "name": "python",
   "nbconvert_exporter": "python",
   "pygments_lexer": "ipython3",
   "version": "3.6.4"
  }
 },
 "nbformat": 4,
 "nbformat_minor": 2
}
