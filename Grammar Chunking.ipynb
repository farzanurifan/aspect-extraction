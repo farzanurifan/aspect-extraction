{
 "cells": [
  {
   "cell_type": "code",
   "execution_count": 31,
   "metadata": {},
   "outputs": [],
   "source": [
    "import requests\n",
    "import re\n",
    "\n",
    "def get_tregex(text, pattern):\n",
    "    url = \"http://localhost:9001/tregex\"\n",
    "    request_params = {\"pattern\": pattern}\n",
    "    r = requests.post(url, data=text, params=request_params, timeout=120)\n",
    "    print(r)\n",
    "    try:\n",
    "        return r.json()['sentences'][0]\n",
    "    except:\n",
    "        return []\n",
    "    \n",
    "def sentence_from_tree(s):\n",
    "    pattern = r'(?<= )[a-zA-Z].*?(?=\\))'\n",
    "    replaced = s.replace('\\r\\n', '')\n",
    "    res = ' '.join(re.findall(pattern, replaced))\n",
    "    return res\n",
    "\n",
    "def get_chunk(sentences, pattern):\n",
    "    chunk = []\n",
    "    res = get_tregex(sentences, pattern)\n",
    "    print(res)\n",
    "    length = len(res)\n",
    "    for x in range(0, length):\n",
    "        chunk.append(sentence_from_tree(res[str(x)]['match']))\n",
    "    return chunk"
   ]
  },
  {
   "cell_type": "code",
   "execution_count": 58,
   "metadata": {},
   "outputs": [
    {
     "name": "stdout",
     "output_type": "stream",
     "text": [
      "<Response [200]>\n",
      "{'0': {'match': '(ROOT\\r\\n  (PP (IN On)\\r\\n    (NP\\r\\n      (NP (NNP sunday))\\r\\n      (SBAR\\r\\n        (S\\r\\n          (NP (FW i))\\r\\n          (VP (VB buy)\\r\\n            (NP (JJ instant) (NNS noodles))\\r\\n            (PP (IN in)\\r\\n              (NP (NN sakinah)))))))))\\r\\n', 'namedNodes': []}}\n"
     ]
    },
    {
     "data": {
      "text/plain": [
       "['On sunday i buy instant noodles in sakinah']"
      ]
     },
     "execution_count": 58,
     "metadata": {},
     "output_type": "execute_result"
    }
   ],
   "source": [
    "get_chunk(\"On sunday i buy instant noodles in sakinah\", \"ROOT\")"
   ]
  },
  {
   "cell_type": "code",
   "execution_count": 59,
   "metadata": {},
   "outputs": [
    {
     "name": "stdout",
     "output_type": "stream",
     "text": [
      "     ROOT                                             \n",
      "      |                                                \n",
      "      PP                                              \n",
      "  ____|_____                                           \n",
      " |          NP                                        \n",
      " |     _____|_________                                 \n",
      " |    |              SBAR                             \n",
      " |    |               |                                \n",
      " |    |               S                               \n",
      " |    |      _________|___________                     \n",
      " |    |     |                     VP                  \n",
      " |    |     |    _________________|_________           \n",
      " |    |     |   |           |               PP        \n",
      " |    |     |   |           |            ___|_____     \n",
      " |    NP    NP  |           NP          |         NP  \n",
      " |    |     |   |      _____|_____      |         |    \n",
      " IN  NNP    FW  VB    JJ         NNS    IN        NN  \n",
      " |    |     |   |     |           |     |         |    \n",
      " On sunday  i  buy instant     noodles  in     sakinah\n",
      "\n"
     ]
    }
   ],
   "source": [
    "from nltk import Tree\n",
    "t = Tree.fromstring(\"(ROOT\\r\\n  (PP (IN On)\\r\\n    (NP\\r\\n      (NP (NNP sunday))\\r\\n      (SBAR\\r\\n        (S\\r\\n          (NP (FW i))\\r\\n          (VP (VB buy)\\r\\n            (NP (JJ instant) (NNS noodles))\\r\\n            (PP (IN in)\\r\\n              (NP (NN sakinah)))))))))\\r\\n\")\n",
    "t.pretty_print()"
   ]
  },
  {
   "cell_type": "code",
   "execution_count": 57,
   "metadata": {},
   "outputs": [
    {
     "name": "stdout",
     "output_type": "stream",
     "text": [
      "tree\n",
      "tree\n",
      "tree\n",
      "tree\n",
      "tree\n",
      "tree\n",
      "tree\n",
      "tree\n",
      "tree\n",
      "tree\n",
      "tree\n",
      "tree\n",
      "tree\n",
      "tree\n",
      "tree\n",
      "tree\n"
     ]
    }
   ],
   "source": [
    "import nltk\n",
    "def traverse_tree(tree):\n",
    "    print(\"tree\")\n",
    "    stree = str(tree)\n",
    "    if stree[1] == \"S\":\n",
    "        for subtree in tree:\n",
    "            if type(subtree) == nltk.tree.Tree:\n",
    "                stree_2 = str(subtree)\n",
    "                if stree_2[1] == \"V\" and stree_2[2] == \"P\":\n",
    "                    print(subtree)\n",
    "    for subtree in tree:\n",
    "        if type(subtree) == nltk.tree.Tree:\n",
    "            traverse_tree(subtree)\n",
    "traverse_tree(t)"
   ]
  },
  {
   "cell_type": "code",
   "execution_count": null,
   "metadata": {},
   "outputs": [],
   "source": []
  }
 ],
 "metadata": {
  "kernelspec": {
   "display_name": "Python 3",
   "language": "python",
   "name": "python3"
  },
  "language_info": {
   "codemirror_mode": {
    "name": "ipython",
    "version": 3
   },
   "file_extension": ".py",
   "mimetype": "text/x-python",
   "name": "python",
   "nbconvert_exporter": "python",
   "pygments_lexer": "ipython3",
   "version": "3.6.4"
  }
 },
 "nbformat": 4,
 "nbformat_minor": 2
}
