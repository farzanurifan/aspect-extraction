{
 "cells": [
  {
   "cell_type": "code",
   "execution_count": 1,
   "metadata": {},
   "outputs": [
    {
     "name": "stderr",
     "output_type": "stream",
     "text": [
      "[nltk_data] Downloading package sentiwordnet to\n",
      "[nltk_data]     /Users/arifirmanto/nltk_data...\n",
      "[nltk_data]   Package sentiwordnet is already up-to-date!\n",
      "[nltk_data] Downloading package wordnet_ic to\n",
      "[nltk_data]     /Users/arifirmanto/nltk_data...\n",
      "[nltk_data]   Package wordnet_ic is already up-to-date!\n"
     ]
    }
   ],
   "source": [
    "import nltk\n",
    "from nltk.corpus import sentiwordnet as swn\n",
    "nltk.download('sentiwordnet')\n",
    "from pycorenlp import StanfordCoreNLP\n",
    "from nltk.corpus import wordnet as wn\n",
    "nltk.download('wordnet_ic')\n",
    "import requests\n",
    "\n"
   ]
  },
  {
   "cell_type": "code",
   "execution_count": 13,
   "metadata": {},
   "outputs": [],
   "source": [
    "breakdown = swn.senti_synset('exceptional.s.03')"
   ]
  },
  {
   "cell_type": "code",
   "execution_count": 14,
   "metadata": {},
   "outputs": [
    {
     "name": "stdout",
     "output_type": "stream",
     "text": [
      "<exceptional.s.03: PosScore=0.0 NegScore=0.375>\n"
     ]
    }
   ],
   "source": [
    "print(breakdown)"
   ]
  },
  {
   "cell_type": "code",
   "execution_count": 25,
   "metadata": {},
   "outputs": [],
   "source": [
    "sentence = 'The service is excellent but the price is expensive'\n",
    "def babelfy(sentence):\n",
    "    response = []\n",
    "    token_word = nltk.word_tokenize(sentence)\n",
    "    url = 'https://babelfy.io/v1/disambiguate?text='+sentence+'&annRes=WN&lang=en&key=76787a80-1771-41d6-8879-2e5064008923'\n",
    "    r = requests.get(url)\n",
    "    \n",
    "    res = r.json()\n",
    "    \n",
    "    for x in res:\n",
    "        tokenFragment = x['tokenFragment']\n",
    "        startTknFragment = tokenFragment['start']\n",
    "        endTknFragment = tokenFragment['end']\n",
    "        babelSynsetID = x['babelSynsetID'];\n",
    "        response.append((token_word[startTknFragment], babel_info(babelSynsetID)))\n",
    "    \n",
    "    return response"
   ]
  },
  {
   "cell_type": "code",
   "execution_count": 26,
   "metadata": {},
   "outputs": [],
   "source": [
    "def babel_info(synset_id):\n",
    "    url = 'https://babelnet.io/v5/getSynset?id='+synset_id+'&key=76787a80-1771-41d6-8879-2e5064008923'\n",
    "    r = requests.get(url)\n",
    "    res = r.json()\n",
    "    return '.'.join(res['mainSense'].split('#'))\n",
    "    "
   ]
  },
  {
   "cell_type": "code",
   "execution_count": 38,
   "metadata": {},
   "outputs": [],
   "source": [
    "def get_score(sentence):\n",
    "    resp = babelfy(sentence)\n",
    "    ss = []\n",
    "    for (w, sy) in resp:\n",
    "        swn_senti = swn.senti_synset(sy)\n",
    "        ss.append((w, swn_senti.pos_score(), swn_senti.neg_score() ))\n",
    "        \n",
    "    return ss"
   ]
  },
  {
   "cell_type": "code",
   "execution_count": 39,
   "metadata": {},
   "outputs": [],
   "source": [
    "all_scores = get_score(sentence)"
   ]
  },
  {
   "cell_type": "code",
   "execution_count": 40,
   "metadata": {},
   "outputs": [
    {
     "data": {
      "text/plain": [
       "[('service', 0.0, 0.0),\n",
       " ('excellent', 1.0, 0.0),\n",
       " ('price', 0.0, 0.0),\n",
       " ('expensive', 0.5, 0.0)]"
      ]
     },
     "execution_count": 40,
     "metadata": {},
     "output_type": "execute_result"
    }
   ],
   "source": [
    "all_scores"
   ]
  },
  {
   "cell_type": "code",
   "execution_count": null,
   "metadata": {},
   "outputs": [],
   "source": []
  }
 ],
 "metadata": {
  "kernelspec": {
   "display_name": "Python 3",
   "language": "python",
   "name": "python3"
  },
  "language_info": {
   "codemirror_mode": {
    "name": "ipython",
    "version": 3
   },
   "file_extension": ".py",
   "mimetype": "text/x-python",
   "name": "python",
   "nbconvert_exporter": "python",
   "pygments_lexer": "ipython3",
   "version": "3.7.2"
  }
 },
 "nbformat": 4,
 "nbformat_minor": 2
}
