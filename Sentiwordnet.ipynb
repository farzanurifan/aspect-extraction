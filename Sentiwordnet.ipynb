{
 "cells": [
  {
   "cell_type": "code",
   "execution_count": 251,
   "metadata": {},
   "outputs": [],
   "source": [
    "import nltk\n",
    "from nltk.corpus import sentiwordnet as swn\n",
    "from pycorenlp import StanfordCoreNLP\n",
    "from pywsd.lesk import adapted_lesk\n",
    "from pywsd.lesk import simple_lesk\n",
    "from pywsd.lesk import cosine_lesk\n",
    "from nltk.corpus import wordnet as wn\n",
    "import requests\n",
    "import sys, os\n",
    "import numpy as np\n",
    "import pandas as pd"
   ]
  },
  {
   "cell_type": "code",
   "execution_count": 252,
   "metadata": {},
   "outputs": [],
   "source": [
    "nlp = StanfordCoreNLP('http://localhost:9000')\n",
    "dependency_parser = nlp.annotate"
   ]
  },
  {
   "cell_type": "code",
   "execution_count": 253,
   "metadata": {},
   "outputs": [
    {
     "name": "stdout",
     "output_type": "stream",
     "text": [
      "0.5\n"
     ]
    }
   ],
   "source": [
    "breakdown = swn.senti_synset('good.n.01')\n",
    "print(breakdown.pos_score())"
   ]
  },
  {
   "cell_type": "code",
   "execution_count": 254,
   "metadata": {},
   "outputs": [
    {
     "data": {
      "text/plain": [
       "[Synset('love.n.01'),\n",
       " Synset('love.n.02'),\n",
       " Synset('beloved.n.01'),\n",
       " Synset('love.n.04'),\n",
       " Synset('love.n.05'),\n",
       " Synset('sexual_love.n.02'),\n",
       " Synset('love.v.01'),\n",
       " Synset('love.v.02'),\n",
       " Synset('love.v.03'),\n",
       " Synset('sleep_together.v.01')]"
      ]
     },
     "execution_count": 254,
     "metadata": {},
     "output_type": "execute_result"
    }
   ],
   "source": [
    "wn.synsets('love')"
   ]
  },
  {
   "cell_type": "code",
   "execution_count": 255,
   "metadata": {},
   "outputs": [],
   "source": [
    "positive_lexicon = []\n",
    "negative_lexicon = []\n",
    "\n",
    "def read_lexicon():\n",
    "    global positive_lexicon;\n",
    "    global negative_lexicon;\n",
    "    \n",
    "    with open(os.path.join(os.path.abspath('opinion-lexicon-English/') , 'positive-words.txt'), 'r') as file:\n",
    "        line = file.readline();\n",
    "        while \";\" in line:\n",
    "            line = file.readline();\n",
    "         \n",
    "        positive_lexicon = file.readlines()\n",
    "    \n",
    "    with open(os.path.join(os.path.abspath('opinion-lexicon-English/') , 'negative-words.txt'), 'r', encoding = \"ISO-8859-1\") as file:\n",
    "        line = file.readline();\n",
    "        while \";\" in line:\n",
    "            line = file.readline();\n",
    "        \n",
    "        negative_lexicon = file.readlines()\n",
    "        \n",
    "    positive_lexicon = list(map(lambda word: word.rstrip(\"\\n\\r\"), positive_lexicon))\n",
    "    negative_lexicon = list(map(lambda word: word.rstrip(\"\\n\\r\"), negative_lexicon))\n",
    "    \n",
    "        \n",
    "read_lexicon()\n",
    "op_set = positive_lexicon + negative_lexicon"
   ]
  },
  {
   "cell_type": "code",
   "execution_count": 256,
   "metadata": {},
   "outputs": [],
   "source": [
    "def pos_tag(sentence):\n",
    "    result = dependency_parser(sentence, properties={\"outputFormat\": \"json\", \"annotators\": \"pos\"})['sentences'][0]['tokens']\n",
    "    res = []\n",
    "    for pos in result:\n",
    "        res.append((pos['word'], pos['pos']))\n",
    "    return res\n",
    "    \n",
    "# def pos_tag(sentence):\n",
    "#     '''url = \"http://localhost:9000\"\n",
    "#     request_params = {\"annotators\": \"pos\"}\n",
    "#     r = requests.post(url, data=sentence, params=request_params, timeout=120)\n",
    "#     try:\n",
    "#         results = r.json()['sentences'][0]['tokens']\n",
    "#         res = []\n",
    "#         for pos in results:\n",
    "#             res.append((pos['word'], pos['pos']))\n",
    "#         return res\n",
    "#     except Exception as e:\n",
    "#         print(e)\n",
    "#         return []\n",
    "#     '''\n",
    "#     return nltk.pos_tag(nltk.word_tokenize(sentence))"
   ]
  },
  {
   "cell_type": "code",
   "execution_count": 320,
   "metadata": {},
   "outputs": [],
   "source": [
    "negation = [\n",
    "    \"afraid\",\n",
    "    \"can't\",\n",
    "    \"cannot\",\n",
    "    \"deny\",\n",
    "    \"mean\",\n",
    "    \"negate\",\n",
    "    \"negation\",\n",
    "    \"negative\",\n",
    "    \"neither\",\n",
    "    \"never\",\n",
    "    \"no\",\n",
    "    \"non\",\n",
    "    \"none\",\n",
    "    \"nor\",\n",
    "    \"not\",\n",
    "    \"nothing\",\n",
    "    \"refusal\",\n",
    "    \"refuse\",\n",
    "    \"reject\",\n",
    "    \"rejection\",\n",
    "#     \"don't\",\n",
    "#     \"shouldn't\",\n",
    "#     \"wouldn't\",\n",
    "#     \"didn't\",\n",
    "#     \"though\",\n",
    "#     \"although\",\n",
    "#     \"wasn't\",\n",
    "#     \"isn't\",\n",
    "#     \"but\"\n",
    "]\n",
    "\n",
    "from nltk.corpus import sentiwordnet as swn\n",
    "import string\n",
    "\n",
    "def predict_sentiwordnet(opinions, sent):\n",
    "    endscore = 0\n",
    "    for opinion in opinions:\n",
    "        if opinion in positive_lexicon:\n",
    "            endscore += 1\n",
    "        elif opinion in negative_lexicon:\n",
    "            endscore -= 1\n",
    "        break\n",
    "        try:\n",
    "            score = swn.senti_synset(opinion + '.a.1')\n",
    "            if score.pos_score() > score.neg_score():\n",
    "                endscore += score.pos_score()\n",
    "            else:\n",
    "                endscore += score.neg_score() * (-1)\n",
    "\n",
    "            words = sent.split(' ')\n",
    "            word_around = []\n",
    "            for x in range(0, len(words)):\n",
    "                if words[x] in string.punctuation:\n",
    "                    continue\n",
    "                try:\n",
    "                    if (words[x+1] == opinion) or (words[x+2] == opinion) or (words[x+3] == opinion) or (words[x+4] == opinion):\n",
    "                        word_around.append(words[x])\n",
    "                    elif (words[x-1] == opinion):\n",
    "                        word_around.append(words[x])\n",
    "                except:\n",
    "                    pass\n",
    "            for neg in negation:\n",
    "                if neg in word_around:\n",
    "                    endscore *= (-1)\n",
    "                    break\n",
    "        except:\n",
    "            pass\n",
    "    if endscore > 0:\n",
    "        polarity = 'positive'\n",
    "    else:\n",
    "        polarity = 'negative'\n",
    "           \n",
    "    return polarity\n",
    "\n",
    "def predict_sentiwordnet_lesk(opinions, sent):\n",
    "    endscore = 0\n",
    "    for opinion in opinions:\n",
    "        if opinion in positive_lexicon:\n",
    "            endscore += 1\n",
    "        elif opinion in negative_lexicon:\n",
    "            endscore -= 1\n",
    "#         break\n",
    "        try:\n",
    "            tagged_sentence = pos_tag(sent)\n",
    "            op_with_tag = ('','')\n",
    "            for word, tag in tagged_sentence:\n",
    "                if opinion == word:\n",
    "                    op_with_tag = (word, tag)\n",
    "                    break\n",
    "                    \n",
    "            pos = ''\n",
    "            if 'NN' in op_with_tag[1]:\n",
    "                pos = 'n'\n",
    "            elif 'JJ' in op_with_tag[1]:\n",
    "                pos = 'a'\n",
    "            elif 'VB' in op_with_tag[1]:\n",
    "                pos = 'v'\n",
    "            elif 'RB' in op_with_tag[1]:\n",
    "                pos = 'r'\n",
    "            else:\n",
    "                pos = 'a'\n",
    "            \n",
    "            score = swn.senti_synset(simple_lesk(sent, opinion, pos).name())\n",
    "            if score.pos_score() > score.neg_score():\n",
    "                endscore += score.pos_score()\n",
    "            else:\n",
    "                endscore += score.neg_score() * (-1)\n",
    "                \n",
    "            words = sent.split(' ')\n",
    "            word_around = []\n",
    "            for x in range(0, len(words)):\n",
    "                if words[x] in string.punctuation:\n",
    "                    continue\n",
    "                try:\n",
    "                    if (words[x+1] == opinion) or (words[x+2] == opinion) or (words[x+3] == opinion) or (words[x+4] == opinion):\n",
    "                        word_around.append(words[x])\n",
    "                    elif (words[x-1] == opinion):\n",
    "                        word_around.append(words[x])\n",
    "                except:\n",
    "                    pass\n",
    "            \n",
    "            for neg in negation:\n",
    "                if neg in word_around:\n",
    "                    endscore *= (-1)\n",
    "                    break\n",
    "           \n",
    "        except Exception as e:\n",
    "            print(e)\n",
    "            pass\n",
    "            \n",
    "    if endscore > 0:\n",
    "        polarity = 'positive'\n",
    "    else:\n",
    "        polarity = 'negative'\n",
    "           \n",
    "    return polarity"
   ]
  },
  {
   "cell_type": "code",
   "execution_count": 333,
   "metadata": {},
   "outputs": [],
   "source": [
    "def calculate(category, is_lesk):\n",
    "    xtra = ''\n",
    "    if is_lesk:\n",
    "        xtra = 'lesk_'\n",
    "    df = pd.read_csv('Results/Sentiwordnet/hasil_'+ xtra + category +'.csv')\n",
    "    tp, tn, fp, fn = 0, 0, 0, 0\n",
    "    p = 'positive'\n",
    "    n = 'negative'\n",
    "    for index in range(0, len(df)):\n",
    "        label = df['label'][index]\n",
    "        predict = df['predict'][index]\n",
    "        \n",
    "        if label == p and predict == p:\n",
    "            tp += 1\n",
    "        elif label == n and predict == n:\n",
    "            tn += 1\n",
    "        elif label == n and predict == p:\n",
    "            fp += 1\n",
    "        elif label == p and predict == n:\n",
    "            fn += 1\n",
    "    \n",
    "    precision = round(tp / (tp + fp), 3)\n",
    "    recall = round(tp / (tp + fn), 3)\n",
    "    f1 = round(2 * ((precision * recall) / (precision + recall)), 3)\n",
    "    accuracy = round((tp+tn)/(tp+tn+fp+fn), 3)\n",
    "    print(tp, '\\t', tn, '\\t', fp, '\\t', fn, '\\t', '\\t', precision, '\\t', recall, '\\t', f1, '\\t', '\\t', accuracy)\n",
    "    return tp, tn, fp, fn, precision, recall, f1, accuracy"
   ]
  },
  {
   "cell_type": "code",
   "execution_count": 322,
   "metadata": {},
   "outputs": [],
   "source": [
    "def preprocessing(sentence):\n",
    "    return sentence.lower()"
   ]
  },
  {
   "cell_type": "code",
   "execution_count": 323,
   "metadata": {},
   "outputs": [],
   "source": [
    "import numpy as np\n",
    "\n",
    "def print_hasil(is_lesk):\n",
    "    print('tp', '\\t', 'tn', '\\t', 'fp', '\\t', 'fn', '\\t', '\\t', 'prec', '\\t', 'rec', '\\t', 'f1', '\\t', '\\t', 'accuracy')\n",
    "    precision = []\n",
    "    recall = []\n",
    "    f1 = []\n",
    "    cat = ['AMBIENCE', 'FOOD', 'SERVICE', 'PRICES']\n",
    "    for c in cat:\n",
    "        a, b, c, d, e, f, g, h = calculate(c, is_lesk)\n",
    "        precision.append(e)\n",
    "        recall.append(f)\n",
    "        f1.append(g)\n",
    "    #     sf = sf.append({'TP':a, 'TN':b, 'FP':c, 'FN':d, 'precision':e, 'recall':f, 'f1':g, 'accuracy': h}, ignore_index=True)\n",
    "    #     sf.to_excel(\"Results/Calculation/\"+ tipe +\".xlsx\")\n",
    "    print('', '\\t', '', '\\t', '', '\\t', '', '\\t', '\\t', round(np.mean(precision),2), '\\t', round(np.mean(recall),2), '\\t', round(np.mean(f1),2), '\\t', '\\t')"
   ]
  },
  {
   "cell_type": "code",
   "execution_count": 324,
   "metadata": {},
   "outputs": [],
   "source": [
    "import pandas as pd\n",
    "def run(category):\n",
    "    df = pd.read_csv('Results/'+ category +'.csv')\n",
    "    sf = pd.DataFrame(columns = ['id','review', 'opinion', 'label', 'predict'])\n",
    "    for index in range(0, len(df)):\n",
    "        opinion = [df['opinion'][index]]\n",
    "        prediction = predict_sentiwordnet(opinion, preprocessing(df['review'][index]))\n",
    "        sf = sf.append({'id': df['id'][index], \n",
    "            'review': df['review'][index],\n",
    "            'opinion': df['opinion'][index],\n",
    "            'label': df['label'][index],\n",
    "            'predict': prediction\n",
    "           }, ignore_index=True)\n",
    "    \n",
    "    sf.to_csv(\"Results/Sentiwordnet/hasil_\"+ category +\".csv\")\n",
    "    sf.to_excel(\"Results/Sentiwordnet/hasil_\"+ category +\".xlsx\")"
   ]
  },
  {
   "cell_type": "code",
   "execution_count": 325,
   "metadata": {},
   "outputs": [],
   "source": [
    "import pandas as pd\n",
    "def run_lesk(category):\n",
    "    df = pd.read_csv('Results/'+ category +'.csv')\n",
    "    sf = pd.DataFrame(columns = ['id','review', 'opinion', 'label', 'predict'])\n",
    "    for index in range(0, len(df)):\n",
    "        opinion = [df['opinion'][index]]\n",
    "        prediction = predict_sentiwordnet_lesk(opinion, preprocessing(df['review'][index]))\n",
    "        sf = sf.append({'id': df['id'][index], \n",
    "            'review': df['review'][index],\n",
    "            'opinion': df['opinion'][index],\n",
    "            'label': df['label'][index],\n",
    "            'predict': prediction\n",
    "           }, ignore_index=True)\n",
    "    \n",
    "    sf.to_csv(\"Results/Sentiwordnet/hasil_lesk_\"+ category +\".csv\")\n",
    "    sf.to_excel(\"Results/Sentiwordnet/hasil_lesk_\"+ category +\".xlsx\")"
   ]
  },
  {
   "cell_type": "code",
   "execution_count": 326,
   "metadata": {},
   "outputs": [],
   "source": [
    "run('FOOD')\n",
    "run('AMBIENCE')\n",
    "run('SERVICE')\n",
    "run('PRICES')"
   ]
  },
  {
   "cell_type": "code",
   "execution_count": 327,
   "metadata": {
    "scrolled": true
   },
   "outputs": [
    {
     "name": "stdout",
     "output_type": "stream",
     "text": [
      "'float' object has no attribute 'endswith'\n",
      "'NoneType' object has no attribute 'name'\n",
      "'float' object has no attribute 'endswith'\n",
      "'float' object has no attribute 'endswith'\n",
      "'float' object has no attribute 'endswith'\n",
      "'NoneType' object has no attribute 'name'\n",
      "'NoneType' object has no attribute 'name'\n",
      "'NoneType' object has no attribute 'name'\n",
      "'NoneType' object has no attribute 'name'\n",
      "'NoneType' object has no attribute 'name'\n"
     ]
    }
   ],
   "source": [
    "run_lesk('FOOD')\n",
    "run_lesk('AMBIENCE')\n",
    "run_lesk('SERVICE')\n",
    "run_lesk('PRICES')"
   ]
  },
  {
   "cell_type": "code",
   "execution_count": 332,
   "metadata": {},
   "outputs": [
    {
     "name": "stdout",
     "output_type": "stream",
     "text": [
      "tp \t tn \t fp \t fn \t \t prec \t rec \t f1 \t \t accuracy\n",
      "76 \t 10 \t 10 \t 9 \t \t 0.88 \t 0.89 \t 0.88 \t \t 0.82\n",
      "107 \t 24 \t 12 \t 28 \t \t 0.9 \t 0.79 \t 0.84 \t \t 0.77\n",
      "63 \t 25 \t 16 \t 15 \t \t 0.8 \t 0.81 \t 0.8 \t \t 0.74\n",
      "37 \t 25 \t 11 \t 6 \t \t 0.77 \t 0.86 \t 0.81 \t \t 0.78\n",
      " \t  \t  \t  \t \t 0.84 \t 0.84 \t 0.83 \t \t\n"
     ]
    }
   ],
   "source": [
    "print_hasil(False)"
   ]
  },
  {
   "cell_type": "code",
   "execution_count": 331,
   "metadata": {},
   "outputs": [
    {
     "name": "stdout",
     "output_type": "stream",
     "text": [
      "tp \t tn \t fp \t fn \t \t prec \t rec \t f1 \t \t accuracy\n",
      "78 \t 10 \t 10 \t 7 \t \t 0.89 \t 0.92 \t 0.9 \t \t 0.84\n",
      "109 \t 25 \t 11 \t 26 \t \t 0.91 \t 0.81 \t 0.86 \t \t 0.78\n",
      "66 \t 24 \t 17 \t 12 \t \t 0.8 \t 0.85 \t 0.82 \t \t 0.76\n",
      "37 \t 24 \t 12 \t 6 \t \t 0.76 \t 0.86 \t 0.81 \t \t 0.77\n",
      " \t  \t  \t  \t \t 0.84 \t 0.86 \t 0.85 \t \t\n"
     ]
    }
   ],
   "source": [
    "print_hasil(True)"
   ]
  },
  {
   "cell_type": "code",
   "execution_count": null,
   "metadata": {},
   "outputs": [],
   "source": []
  }
 ],
 "metadata": {
  "kernelspec": {
   "display_name": "Python 3",
   "language": "python",
   "name": "python3"
  },
  "language_info": {
   "codemirror_mode": {
    "name": "ipython",
    "version": 3
   },
   "file_extension": ".py",
   "mimetype": "text/x-python",
   "name": "python",
   "nbconvert_exporter": "python",
   "pygments_lexer": "ipython3",
   "version": "3.6.4"
  }
 },
 "nbformat": 4,
 "nbformat_minor": 2
}
