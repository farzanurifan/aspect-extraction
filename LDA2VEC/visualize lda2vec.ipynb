{
 "cells": [
  {
   "cell_type": "code",
   "execution_count": 1,
   "metadata": {
    "collapsed": true
   },
   "outputs": [],
   "source": [
    "from lda2vec import preprocess, Corpus\n",
    "import matplotlib.pyplot as plt\n",
    "import numpy as np\n",
    "%matplotlib inline\n",
    "\n",
    "try:\n",
    "    import seaborn\n",
    "except:\n",
    "    pass"
   ]
  },
  {
   "cell_type": "markdown",
   "metadata": {},
   "source": [
    "# Run lda2vec before this:\n",
    "\n",
    "# Topic descriprtion and distribution of lda2vec"
   ]
  },
  {
   "cell_type": "code",
   "execution_count": 48,
   "metadata": {},
   "outputs": [],
   "source": [
    "npz = np.load(open('/Users/vijethlomada/Documents/6007/vagrant/p2/topics.pyldavis.npz', 'r'))\n",
    "dat = {k: v for (k, v) in npz.iteritems()}\n",
    "dat['vocab'] = dat['vocab'].tolist()"
   ]
  },
  {
   "cell_type": "code",
   "execution_count": 49,
   "metadata": {},
   "outputs": [
    {
     "name": "stdout",
     "output_type": "stream",
     "text": [
      "Topic 0 out_of_vocabulary motif windows string imake gcc colormap code widget openwindows\n",
      "Topic 1 out_of_vocabulary satellites ankara satellite hiv istanbul ve launch aerospace launches\n",
      "Topic 2 out_of_vocabulary secure rsa nsa clipper morality atheists escrow denning cryptography\n",
      "Topic 3 out_of_vocabulary atheists morality god atheism moral doctrines eternal morals islam\n",
      "Topic 4 out_of_vocabulary dog he him she her i watching playing was\n",
      "Topic 5 out_of_vocabulary atheists morality god atheism moral eternal religious doctrines religions\n",
      "Topic 6 out_of_vocabulary agencies escrow secure escrowed rsa nsa clipper government encryption\n",
      "Topic 7 ankara out_of_vocabulary istanbul armenian ottoman turkish turkey azerbaijan kurds villages\n",
      "Topic 8 out_of_vocabulary windows motif string <SKIP> { os mac 3.1 beta\n",
      "Topic 9 out_of_vocabulary quadra scsi cable simms drive <SKIP> accelerator mac backup\n",
      "Topic 10 out_of_vocabulary rangers teams hockey game quebec coach keenan players hitter\n",
      "Topic 11 out_of_vocabulary satellite astronomical ve planetary jpl satellites orbital launch aerospace\n",
      "Topic 12 out_of_vocabulary game teams games puck hockey $ bruins bike player\n",
      "Topic 13 out_of_vocabulary rsa ciphers cipher satellite anonymity cryptography protocols commercial launch\n",
      "Topic 14 out_of_vocabulary scsi quadra <SKIP> simms circuits windows cable i mac\n",
      "Topic 15 out_of_vocabulary father spirit god jesus holy son lord sy turkey\n",
      "Topic 16 out_of_vocabulary motif string imake toolkit widget gcc widgets x11 code\n",
      "Topic 17 out_of_vocabulary stephanopoulos economy jobs arena dole deficit senators q president\n",
      "Topic 18 out_of_vocabulary sale $ cable <SKIP> shipping prices mhz scsi floppy\n",
      "Topic 19 out_of_vocabulary god spirit islam religious holy lebanon father hitler jesus\n"
     ]
    }
   ],
   "source": [
    "top_n = 10\n",
    "topic_to_topwords = {}\n",
    "for j, topic_to_word in enumerate(dat['topic_term_dists']):\n",
    "    top = np.argsort(topic_to_word)[::-1][:top_n]\n",
    "    msg = 'Topic %i '  % j\n",
    "    top_words = [dat['vocab'][i].strip()[:35] for i in top]\n",
    "    msg += ' '.join(top_words)\n",
    "    print msg\n",
    "    topic_to_topwords[j] = top_words"
   ]
  },
  {
   "cell_type": "markdown",
   "metadata": {},
   "source": [
    "## Using topic distribution as features for classification"
   ]
  },
  {
   "cell_type": "code",
   "execution_count": 24,
   "metadata": {},
   "outputs": [],
   "source": [
    "from sklearn.cross_validation import train_test_split\n",
    "from sklearn.datasets import fetch_20newsgroups\n",
    "from sklearn.preprocessing import scale\n",
    "from sklearn.metrics import accuracy_score\n",
    "from sklearn.ensemble import RandomForestClassifier\n",
    "remove = ('headers', 'footers', 'quotes')\n",
    "X = dat[\"doc_topic_dists\"]\n",
    "y = fetch_20newsgroups(subset='train', remove=remove).target\n",
    "\n",
    "X_train, X_test, y_train, y_test = train_test_split(X,y)\n",
    "\n"
   ]
  },
  {
   "cell_type": "code",
   "execution_count": 25,
   "metadata": {},
   "outputs": [
    {
     "data": {
      "text/plain": [
       "0.46836337928596677"
      ]
     },
     "execution_count": 25,
     "metadata": {},
     "output_type": "execute_result"
    }
   ],
   "source": [
    "\n",
    "rf = RandomForestClassifier(n_estimators=1000)\n",
    "\n",
    "rf.fit(X_train, y_train)\n",
    "\n",
    "y_pred = rf.predict(X_test)\n",
    "\n",
    "\n",
    "accuracy_score(y_test, y_pred)"
   ]
  },
  {
   "cell_type": "code",
   "execution_count": 26,
   "metadata": {
    "collapsed": true
   },
   "outputs": [],
   "source": [
    "from sklearn.cross_validation import cross_val_score\n",
    "\n",
    "scores = cross_val_score(rf, X, y, cv=5)"
   ]
  },
  {
   "cell_type": "markdown",
   "metadata": {},
   "source": [
    "# Accuracy lda2vec:"
   ]
  },
  {
   "cell_type": "code",
   "execution_count": 28,
   "metadata": {},
   "outputs": [
    {
     "data": {
      "text/plain": [
       "0.46411938475298153"
      ]
     },
     "execution_count": 28,
     "metadata": {},
     "output_type": "execute_result"
    }
   ],
   "source": [
    "sum(scores)/5"
   ]
  },
  {
   "cell_type": "markdown",
   "metadata": {},
   "source": [
    "-------------"
   ]
  },
  {
   "cell_type": "markdown",
   "metadata": {},
   "source": [
    "# Topic distribution and description for LDA"
   ]
  },
  {
   "cell_type": "code",
   "execution_count": 1,
   "metadata": {
    "collapsed": true
   },
   "outputs": [],
   "source": [
    "from gensim import corpora, models\n",
    "from sklearn.datasets import fetch_20newsgroups\n",
    "import numpy as np\n",
    "import logging\n",
    "import stop_words\n",
    "from string import punctuation, digits\n",
    "stop_w = stop_words.get_stop_words(\"english\")\n",
    "import logging\n",
    "\n",
    "stop_w  = stop_w + [\"say\",\"we're\",\"said\",\"things\",\"becae\",\"jt\",\"it's\",'one','like','people','going','know',\"that's\",'think','see','really',\"get\",\"would\",\"i'm\",\"don't\",\"us\",\"actually\",\"may\",\"always\",\"found\",\"fact\",\"lost\",\"you've\",\"end\"]\\\n",
    " + [\"sided\",\"something\",\"thing\",\"got\",\"also\",\"we've\",\"there's\",\"time\",\"well\",\"way\",\"want\",\"could\",\"first\",\"two\",\"new\",\"they're\",\"you're\",\"take\",\"back\",\"need\",\"many\",\"kind\",\"ever\",\"four\",\"five\",\"used\",\"maybe\",\"start\"]\\\n",
    "+ [\"you\",\"it\",\"will\",\"can\",\"0\",\"1\",\"2\",\"3\",\"4\",\"5\",\"6\",\"7\",\"8\",\"9\",\"just\",\"them\",\"now\",\"me\",\"MAXAXAXAXAXAXAXAXAXAXAXAXAXAXAX\", \"MG9VG9VG9VG9VG9VG9VG9VG9VG9VG9VG9VG9VG9VG9VG9V\", \"Q\", \"o\", \"R\", \"L\",\"said\",\"M\" ]"
   ]
  },
  {
   "cell_type": "markdown",
   "metadata": {},
   "source": [
    "## Data loading and preprocessing"
   ]
  },
  {
   "cell_type": "code",
   "execution_count": 2,
   "metadata": {
    "collapsed": true
   },
   "outputs": [],
   "source": [
    "logging.basicConfig()\n",
    "\n",
    "# Fetch data\n",
    "remove = ('headers', 'footers', 'quotes')\n",
    "texts = fetch_20newsgroups(subset='train', remove=remove).data\n",
    "\n",
    "def clean(line):\n",
    "    txt = ' '.join(w for w in line.split() if w.lower() not in stop_w)\n",
    "    return \"\".join(char for char in txt if char not in punctuation+digits)\n",
    "# Preprocess data\n",
    "max_length = 10000   # Limit of 10k words per document\n",
    "# Convert to unicode (spaCy only works with unicode)\n",
    "documents = [unicode(clean(d)) for d in texts]"
   ]
  },
  {
   "cell_type": "markdown",
   "metadata": {},
   "source": [
    "# Count vectorizer"
   ]
  },
  {
   "cell_type": "code",
   "execution_count": 44,
   "metadata": {
    "collapsed": true
   },
   "outputs": [],
   "source": [
    "from sklearn.feature_extraction.text import CountVectorizer\n",
    "\n",
    "no_features = 1000\n",
    "\n",
    "tf_vectorizer = CountVectorizer(max_df=0.95, min_df=2, max_features=no_features, stop_words='english')\n",
    "tf = tf_vectorizer.fit_transform(documents)\n",
    "tf_feature_names = tf_vectorizer.get_feature_names()"
   ]
  },
  {
   "cell_type": "markdown",
   "metadata": {},
   "source": [
    "# LDA"
   ]
  },
  {
   "cell_type": "code",
   "execution_count": 45,
   "metadata": {},
   "outputs": [
    {
     "name": "stdout",
     "output_type": "stream",
     "text": [
      "Topic 0: government law gun public use states state right encryption rights\n",
      "Topic 1: space data research program technology center nasa launch earth science\n",
      "Topic 2: year team game season hockey win players league la vs\n",
      "Topic 3: test st south posting miles fit search american west th\n",
      "Topic 4: believe question point israel argument law different answer claim mean\n",
      "Topic 5: problem sale offer problems condition keyboard driver best works work\n",
      "Topic 6: information available list software package email university mail send computer\n",
      "Topic 7: drive card disk scsi db mac hard video drives monitor\n",
      "Topic 8: key chip bit window using keys use memory mhz chips\n",
      "Topic 9: god jesus church christian religion christ world life bible gods\n",
      "Topic 10: thanks email help post anybody looking advance hi bike send\n",
      "Topic 11: car price buy ground cars work power pay cost wire\n",
      "Topic 12: ago power game play water pts games hot baseball dave\n",
      "Topic 13: maxaxaxaxaxaxaxaxaxaxaxaxaxaxax john dod according bob worked rd ask drives comes\n",
      "Topic 14: stephanopoulos read cause yes evidence health person men medical course\n",
      "Topic 15: true man example word truth bible david assume moral wrong\n",
      "Topic 16: dos windows mb ms black os period ram pp appears\n",
      "Topic 17: file use program files image server code set display using\n",
      "Topic 18: good right better little sure make probably lot look bad\n",
      "Topic 19: mr armenian war armenians turkish jews said went president children\n"
     ]
    }
   ],
   "source": [
    "\n",
    "from sklearn.decomposition import LatentDirichletAllocation\n",
    "\n",
    "no_topics = 20\n",
    "\n",
    "lda = LatentDirichletAllocation(n_topics=no_topics, max_iter=5, learning_method='online', learning_offset=50.,random_state=0).fit(tf)\n",
    "\n",
    "\n",
    "def display_topics(model, feature_names, no_top_words):\n",
    "    for topic_idx, topic in enumerate(model.components_):\n",
    "\n",
    "        print \"Topic %d:\" % (topic_idx),\" \".join([feature_names[i]\n",
    "                        for i in topic.argsort()[:-no_top_words - 1:-1]])\n",
    "\n",
    "no_top_words = 10\n",
    "display_topics(lda, tf_feature_names, no_top_words)"
   ]
  },
  {
   "cell_type": "markdown",
   "metadata": {},
   "source": [
    "## Using Gensim's implementation"
   ]
  },
  {
   "cell_type": "code",
   "execution_count": 6,
   "metadata": {},
   "outputs": [],
   "source": [
    "\n",
    "docs = [text.split() for text in documents]\n",
    "dictionary = corpora.Dictionary(docs)\n",
    "corpus = [dictionary.doc2bow(text) for text in docs]\n",
    "ldamodel = models.ldamodel.LdaModel(corpus, num_topics=20, id2word = dictionary, passes=20)"
   ]
  },
  {
   "cell_type": "code",
   "execution_count": 7,
   "metadata": {
    "collapsed": true
   },
   "outputs": [],
   "source": [
    "X = np.zeros((len(documents),20))\n",
    "for i,d in enumerate(corpus):\n",
    "\n",
    "    topic_vec = ldamodel[d]\n",
    "\n",
    "    for j,weight in topic_vec:\n",
    "        X[i,j] = weight\n"
   ]
  },
  {
   "cell_type": "code",
   "execution_count": 9,
   "metadata": {},
   "outputs": [],
   "source": [
    "from sklearn.cross_validation import train_test_split\n",
    "from sklearn.preprocessing import scale\n",
    "from sklearn.cross_validation import cross_val_score\n",
    "from sklearn.ensemble import RandomForestClassifier\n",
    "\n",
    "y = fetch_20newsgroups(subset='train', remove=remove).target\n",
    "\n",
    "rf = RandomForestClassifier(n_estimators=1000)\n",
    "\n",
    "scores = cross_val_score(rf, X, y, cv=5)"
   ]
  },
  {
   "cell_type": "code",
   "execution_count": null,
   "metadata": {
    "collapsed": true
   },
   "outputs": [],
   "source": []
  }
 ],
 "metadata": {
  "kernelspec": {
   "display_name": "Python [conda env:dsci6007]",
   "language": "python",
   "name": "conda-env-dsci6007-py"
  },
  "language_info": {
   "codemirror_mode": {
    "name": "ipython",
    "version": 2
   },
   "file_extension": ".py",
   "mimetype": "text/x-python",
   "name": "python",
   "nbconvert_exporter": "python",
   "pygments_lexer": "ipython2",
   "version": "2.7.12"
  }
 },
 "nbformat": 4,
 "nbformat_minor": 2
}
