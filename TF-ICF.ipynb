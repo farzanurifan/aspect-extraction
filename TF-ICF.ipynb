{
 "cells": [
  {
   "cell_type": "code",
   "execution_count": 141,
   "metadata": {},
   "outputs": [],
   "source": [
    "import nltk\n",
    "import math\n",
    "\n",
    "def generate_tficf(reviews, n_cluster = 5):\n",
    "    tf_word_freq = {}\n",
    "    for n in range(n_cluster):\n",
    "        tf_word_freq[n] = {}\n",
    "   \n",
    "    tf = []\n",
    "    for index, review in enumerate(reviews):\n",
    "        for sentence in nltk.sent_tokenize(review):\n",
    "            for word in nltk.word_tokenize(sentence):\n",
    "                if word in tf_word_freq[index]:\n",
    "                    tf_word_freq[index][word] += 1\n",
    "                else:\n",
    "                    tf_word_freq[index][word] = 1\n",
    "\n",
    "                if word not in tf:\n",
    "                    tf.append(word)\n",
    "                    \n",
    "                    \n",
    "    tf_icf = []\n",
    "    for term in tf:\n",
    "        tf_in_c = {}\n",
    "        c_i = 0\n",
    "\n",
    "\n",
    "        for n in range(n_cluster):\n",
    "            tf_in_c[n] = 0\n",
    "            \n",
    "            if term in tf_word_freq[n]:\n",
    "                tf_in_c[n] = tf_word_freq[n][term]\n",
    "                c_i += 1\n",
    "\n",
    "\n",
    "        icf = 1 + math.log(6/c_i)\n",
    "        t = ()\n",
    "        t += (term,)\n",
    "        for n in range(n_cluster):\n",
    "            t += (tf_in_c[n]*icf, )\n",
    "        tf_icf.append(t)\n",
    "    \n",
    "    return tf_icf"
   ]
  },
  {
   "cell_type": "code",
   "execution_count": 142,
   "metadata": {},
   "outputs": [],
   "source": [
    "import re\n",
    "import nltk\n",
    "import string\n",
    "from nltk.stem import WordNetLemmatizer \n",
    "\n",
    "lemmatizer = WordNetLemmatizer() \n",
    "\n",
    "nltk_words = set(nltk.corpus.stopwords.words('english'))\n",
    "stop_words = []\n",
    "for word in nltk_words:\n",
    "    stop_words.append(word.translate(str.maketrans('', '', string.punctuation)))\n",
    "\n",
    "def preprocess(sentence):\n",
    "    res = sentence.lower()\n",
    "    res = res.translate(str.maketrans('', '', string.punctuation))\n",
    "    tokenized_words = nltk.word_tokenize(res)\n",
    "    res = [word for word in tokenized_words if word not in stop_words]\n",
    "    res = [lemmatizer.lemmatize(r) for r in res]\n",
    "    res = [re.sub(r\"[^A-Za-z]+\", '', r) for r in res]\n",
    "    res = [r for r in res if len(r) > 3]\n",
    "    return ' '.join(res)"
   ]
  },
  {
   "cell_type": "code",
   "execution_count": 143,
   "metadata": {},
   "outputs": [],
   "source": [
    "def open_file(kategori):\n",
    "    f = open('wiki/source/' + kategori + '-sentence.txt', 'r', encoding='utf-8')\n",
    "    all_sentences = []\n",
    "    for line in f:\n",
    "        all_sentences.append(preprocess(str(line).replace('\\n','')))\n",
    "    return ' '.join(all_sentences)"
   ]
  },
  {
   "cell_type": "code",
   "execution_count": 144,
   "metadata": {},
   "outputs": [],
   "source": [
    "def gabung_file(daftar):\n",
    "    res = []\n",
    "    for judul in daftar:\n",
    "        res.append(open_file(judul))\n",
    "    return ' '.join(res)"
   ]
  },
  {
   "cell_type": "code",
   "execution_count": 145,
   "metadata": {},
   "outputs": [],
   "source": [
    "ambience = gabung_file(['Theme restaurant', 'Atmosphere (architecture and spatial design)', 'Ambience (sound recording)'])\n",
    "\n",
    "food = gabung_file(['Food', 'Drink', 'Meal'])\n",
    "\n",
    "service = gabung_file(['Customer service', \"Waiting staff\"])\n",
    "\n",
    "price = gabung_file(['Price', 'Pricing'])"
   ]
  },
  {
   "cell_type": "code",
   "execution_count": 146,
   "metadata": {},
   "outputs": [],
   "source": [
    "d = generate_tficf([ambience, food, service, price], 4)\n",
    "\n",
    "def get_keyword(index):\n",
    "    sorted_word = sorted(d, key=lambda value: value[index], reverse=True)\n",
    "    keyword = sorted_word[0:10]\n",
    "    max_k = keyword[0][index]\n",
    "    min_k = keyword[9][index]\n",
    "    keyword = list(map(lambda value: (value[0], (value[1] - min_k) / (max_k - min_k)), keyword))\n",
    "    return keyword"
   ]
  },
  {
   "cell_type": "code",
   "execution_count": 153,
   "metadata": {},
   "outputs": [],
   "source": [
    "import pickle\n",
    "def run(name, index):\n",
    "    all_keyword = []\n",
    "    for a, b in get_keyword(index):\n",
    "        all_keyword.append(a)\n",
    "    pickle_out = open(\"term/\" + name + \".pickle\",\"wb\")\n",
    "    pickle.dump(all_keyword, pickle_out)\n",
    "    pickle_out.close()"
   ]
  },
  {
   "cell_type": "code",
   "execution_count": 154,
   "metadata": {},
   "outputs": [],
   "source": [
    "data = [('ambience', 1), ('food', 2), ('service', 3), ('price', 4)]"
   ]
  },
  {
   "cell_type": "code",
   "execution_count": 155,
   "metadata": {},
   "outputs": [],
   "source": [
    "for name, index in data:\n",
    "    run(name, index)"
   ]
  },
  {
   "cell_type": "code",
   "execution_count": null,
   "metadata": {},
   "outputs": [],
   "source": []
  }
 ],
 "metadata": {
  "kernelspec": {
   "display_name": "Python 3",
   "language": "python",
   "name": "python3"
  },
  "language_info": {
   "codemirror_mode": {
    "name": "ipython",
    "version": 3
   },
   "file_extension": ".py",
   "mimetype": "text/x-python",
   "name": "python",
   "nbconvert_exporter": "python",
   "pygments_lexer": "ipython3",
   "version": "3.6.4"
  }
 },
 "nbformat": 4,
 "nbformat_minor": 2
}
