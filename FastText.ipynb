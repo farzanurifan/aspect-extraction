{
 "cells": [
  {
   "cell_type": "code",
   "execution_count": 8,
   "metadata": {},
   "outputs": [
    {
     "ename": "KeyboardInterrupt",
     "evalue": "",
     "output_type": "error",
     "traceback": [
      "\u001b[1;31m---------------------------------------------------------------------------\u001b[0m",
      "\u001b[1;31mKeyboardInterrupt\u001b[0m                         Traceback (most recent call last)",
      "\u001b[1;32m<ipython-input-8-ce9d8114d718>\u001b[0m in \u001b[0;36m<module>\u001b[1;34m()\u001b[0m\n\u001b[0;32m      7\u001b[0m         \u001b[1;32mfor\u001b[0m \u001b[0mline\u001b[0m \u001b[1;32min\u001b[0m \u001b[0mf\u001b[0m\u001b[1;33m:\u001b[0m\u001b[1;33m\u001b[0m\u001b[0m\n\u001b[0;32m      8\u001b[0m             \u001b[0mtext\u001b[0m \u001b[1;33m=\u001b[0m \u001b[0mjson\u001b[0m\u001b[1;33m.\u001b[0m\u001b[0mloads\u001b[0m\u001b[1;33m(\u001b[0m\u001b[0mline\u001b[0m\u001b[1;33m)\u001b[0m\u001b[1;33m[\u001b[0m\u001b[1;34m'reviewText'\u001b[0m\u001b[1;33m]\u001b[0m\u001b[1;33m\u001b[0m\u001b[0m\n\u001b[1;32m----> 9\u001b[1;33m             \u001b[0mmyfile\u001b[0m\u001b[1;33m.\u001b[0m\u001b[0mwrite\u001b[0m\u001b[1;33m(\u001b[0m\u001b[0mtext\u001b[0m\u001b[1;33m)\u001b[0m\u001b[1;33m\u001b[0m\u001b[0m\n\u001b[0m",
      "\u001b[1;31mKeyboardInterrupt\u001b[0m: "
     ]
    }
   ],
   "source": [
    "from gensim.models import FastText\n",
    "import json\n",
    "import nltk\n",
    "\n",
    "with open('Apps_for_Android_5.json') as f:\n",
    "    for line in f:\n",
    "        tokens = nltk.word_tokenize(json.loads(line)['reviewText'])\n",
    "        data.append(tokens)"
   ]
  },
  {
   "cell_type": "code",
   "execution_count": null,
   "metadata": {},
   "outputs": [],
   "source": [
    "myModel = FastText(sentences=data, size=100, window=5, min_count=10, workers=4, sg=1)\n",
    "myModel.save('model-all')"
   ]
  },
  {
   "cell_type": "code",
   "execution_count": 18,
   "metadata": {},
   "outputs": [],
   "source": [
    "myModel = FastText.load('model-saya')"
   ]
  },
  {
   "cell_type": "code",
   "execution_count": 19,
   "metadata": {},
   "outputs": [
    {
     "name": "stdout",
     "output_type": "stream",
     "text": [
      "[-0.19582663]\n"
     ]
    },
    {
     "name": "stderr",
     "output_type": "stream",
     "text": [
      "C:\\ProgramData\\Anaconda3\\lib\\site-packages\\ipykernel_launcher.py:1: DeprecationWarning: Call to deprecated `__getitem__` (Method will be removed in 4.0.0, use self.wv.__getitem__() instead).\n",
      "  \"\"\"Entry point for launching an IPython kernel.\n"
     ]
    }
   ],
   "source": [
    "print(myModel['farza'])"
   ]
  },
  {
   "cell_type": "code",
   "execution_count": 17,
   "metadata": {},
   "outputs": [
    {
     "name": "stdout",
     "output_type": "stream",
     "text": [
      "['This', 'game', 'was', 'fun', 'to', 'play', 'but', 'was', 'not', 'as', 'good', 'as', '1', '&', '2', '.', 'I', 'would', 'still', 'highly', 'recommend', 'it', '.']\n"
     ]
    }
   ],
   "source": [
    "print(data[752936])"
   ]
  },
  {
   "cell_type": "code",
   "execution_count": 11,
   "metadata": {},
   "outputs": [
    {
     "data": {
      "text/plain": [
       "752937"
      ]
     },
     "execution_count": 11,
     "metadata": {},
     "output_type": "execute_result"
    }
   ],
   "source": [
    "len(data)"
   ]
  },
  {
   "cell_type": "code",
   "execution_count": null,
   "metadata": {},
   "outputs": [],
   "source": [
    "from gensim.models import FastText\n",
    "import json\n",
    "import nltk\n",
    "\n",
    "path_list = ['Apps_for_Android_5.json']\n",
    "\n",
    "data = []\n",
    "\n",
    "for path in path_list:\n",
    "    with open(path) as f:\n",
    "        for line in f:\n",
    "            tokens = nltk.word_tokenize(json.loads(line)['reviewText'])\n",
    "            data.append(tokens)\n",
    "        "
   ]
  },
  {
   "cell_type": "code",
   "execution_count": 17,
   "metadata": {},
   "outputs": [],
   "source": [
    "from gensim.utils import tokenize\n",
    "import smart_open\n",
    "\n",
    "path_list = ['Apps_for_Android_5.json']\n",
    "\n",
    "class MyIter(object):\n",
    "    def __iter__(self):\n",
    "        for path in path_list:\n",
    "            with open(path) as f:\n",
    "                for line in f:\n",
    "                    yield list(tokenize(json.loads(line)['reviewText']))\n",
    "                    \n",
    "model4 = FastText(size=100, window=5, min_count=10)\n",
    "model4.build_vocab(sentences=MyIter())\n",
    "total_examples = model4.corpus_count"
   ]
  },
  {
   "cell_type": "code",
   "execution_count": 14,
   "metadata": {},
   "outputs": [],
   "source": [
    "model4.train(sentences=MyIter(), total_examples=total_examples, epochs=1)"
   ]
  },
  {
   "cell_type": "code",
   "execution_count": 18,
   "metadata": {},
   "outputs": [
    {
     "name": "stdout",
     "output_type": "stream",
     "text": [
      "[-3.5804205e-03  4.6545458e-03 -2.6460704e-03  3.5034642e-03\n",
      " -2.8669271e-03 -1.1891780e-05 -4.6746158e-03  3.6815191e-03\n",
      "  1.6148100e-03 -3.4895318e-03  2.6898086e-03  1.8740332e-03\n",
      " -4.1288505e-03  2.7265723e-03  3.0977658e-03 -7.1079185e-04\n",
      " -2.3413547e-03 -2.4974726e-05  3.6188983e-03  2.3608638e-03\n",
      " -7.6447614e-04 -4.6099238e-03  4.0627664e-04 -1.4264666e-03\n",
      "  6.2376959e-04 -2.6043991e-03 -4.2950111e-03  4.9824063e-03\n",
      " -3.9202250e-03 -4.8774695e-03  1.2217894e-03  1.6693718e-04\n",
      "  3.7399828e-03  2.5718058e-03  4.0859347e-03  3.1876430e-04\n",
      "  3.9385119e-03  2.3642809e-03 -3.1900317e-03  3.4434295e-03\n",
      " -2.8189309e-03 -1.9515940e-03  2.7516207e-03 -7.8114780e-04\n",
      " -2.2430115e-03 -4.6989359e-03 -3.5189274e-03 -1.5876704e-03\n",
      "  3.1762379e-03  3.9449250e-03 -4.6562487e-03 -3.4338993e-03\n",
      "  1.5635717e-03  3.5862739e-03 -2.1900982e-03 -3.9322502e-03\n",
      "  2.7640567e-03  4.3681352e-03 -3.9894646e-03  1.4492760e-03\n",
      "  3.3368128e-03 -1.7088661e-03 -1.2900542e-03  2.3342629e-03\n",
      "  1.4759926e-03  4.7858795e-03 -4.6924897e-03 -4.9789781e-03\n",
      "  1.9120959e-03  3.1302425e-03  4.5599202e-03  2.9220325e-03\n",
      " -4.8810719e-03 -6.2051450e-04  1.5936660e-03 -4.9558235e-03\n",
      " -2.5704987e-03  2.2335749e-03  1.8108685e-03  4.6004201e-04\n",
      "  2.1222821e-03  4.3174298e-03  4.9224477e-03 -2.2599055e-03\n",
      "  4.7971560e-03 -7.6261227e-04  4.4051092e-03 -4.1453252e-03\n",
      "  1.7425087e-03  1.3357425e-03  1.5049237e-03 -3.8071692e-03\n",
      " -3.6045373e-03  3.3415840e-03 -2.9969434e-03  4.0749623e-03\n",
      "  1.5586581e-04 -3.3801168e-03  1.8894278e-04  1.2950918e-03]\n"
     ]
    },
    {
     "name": "stderr",
     "output_type": "stream",
     "text": [
      "C:\\ProgramData\\Anaconda3\\lib\\site-packages\\ipykernel_launcher.py:1: DeprecationWarning: Call to deprecated `__getitem__` (Method will be removed in 4.0.0, use self.wv.__getitem__() instead).\n",
      "  \"\"\"Entry point for launching an IPython kernel.\n"
     ]
    }
   ],
   "source": [
    "print(model4['app'])"
   ]
  },
  {
   "cell_type": "code",
   "execution_count": null,
   "metadata": {},
   "outputs": [],
   "source": []
  }
 ],
 "metadata": {
  "kernelspec": {
   "display_name": "Python 3",
   "language": "python",
   "name": "python3"
  },
  "language_info": {
   "codemirror_mode": {
    "name": "ipython",
    "version": 3
   },
   "file_extension": ".py",
   "mimetype": "text/x-python",
   "name": "python",
   "nbconvert_exporter": "python",
   "pygments_lexer": "ipython3",
   "version": "3.6.4"
  }
 },
 "nbformat": 4,
 "nbformat_minor": 2
}
